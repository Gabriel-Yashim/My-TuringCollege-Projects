{
 "cells": [
  {
   "cell_type": "markdown",
   "metadata": {},
   "source": [
    "# Introduction\n",
    "\n",
    "This Exploratory Data Analysis (EDA) focuses on Spotify's top hits, with the goal of quantifying the elements that contribute to a hit song. As part of the content analysis team, our objective this quarter is to dive deep into Spotify's top tracks and uncover the characteristics that define popular music. Our product manager has outlined a comprehensive list of questions that need to be addressed—over 20 in total—requiring an extensive examination of the data. While the task initially seemed daunting, a fortunate development came our way: an experienced data scientist on our team recently compiled data on the top 50 tracks for a machine learning project and agreed to share it. This dataset will prove invaluable, especially as navigating the data warehouse and writing complex SQL queries is still a developing skill for some team members. With this data, we're confident we can thoroughly answer our product manager’s questions—and perhaps even uncover additional insights she hadn’t considered.\n",
    "\n",
    "## Goal\n",
    "The gaol of this analysis is to determine factors that influence music popularity."
   ]
  },
  {
   "cell_type": "markdown",
   "metadata": {},
   "source": [
    "# 1. Load the data using Pandas"
   ]
  },
  {
   "cell_type": "code",
   "execution_count": 1,
   "metadata": {},
   "outputs": [],
   "source": [
    "import pandas as pd\n",
    "import seaborn as sns\n",
    "import matplotlib.pyplot as plt\n",
    "%matplotlib inline"
   ]
  },
  {
   "cell_type": "code",
   "execution_count": 2,
   "metadata": {},
   "outputs": [
    {
     "data": {
      "text/html": [
       "<div>\n",
       "<style scoped>\n",
       "    .dataframe tbody tr th:only-of-type {\n",
       "        vertical-align: middle;\n",
       "    }\n",
       "\n",
       "    .dataframe tbody tr th {\n",
       "        vertical-align: top;\n",
       "    }\n",
       "\n",
       "    .dataframe thead th {\n",
       "        text-align: right;\n",
       "    }\n",
       "</style>\n",
       "<table border=\"1\" class=\"dataframe\">\n",
       "  <thead>\n",
       "    <tr style=\"text-align: right;\">\n",
       "      <th></th>\n",
       "      <th>artist</th>\n",
       "      <th>album</th>\n",
       "      <th>track_name</th>\n",
       "      <th>track_id</th>\n",
       "      <th>energy</th>\n",
       "      <th>danceability</th>\n",
       "      <th>key</th>\n",
       "      <th>loudness</th>\n",
       "      <th>acousticness</th>\n",
       "      <th>speechiness</th>\n",
       "      <th>instrumentalness</th>\n",
       "      <th>liveness</th>\n",
       "      <th>valence</th>\n",
       "      <th>tempo</th>\n",
       "      <th>duration_ms</th>\n",
       "      <th>genre</th>\n",
       "    </tr>\n",
       "  </thead>\n",
       "  <tbody>\n",
       "    <tr>\n",
       "      <th>0</th>\n",
       "      <td>The Weeknd</td>\n",
       "      <td>After Hours</td>\n",
       "      <td>Blinding Lights</td>\n",
       "      <td>0VjIjW4GlUZAMYd2vXMi3b</td>\n",
       "      <td>0.730</td>\n",
       "      <td>0.514</td>\n",
       "      <td>1</td>\n",
       "      <td>-5.934</td>\n",
       "      <td>0.00146</td>\n",
       "      <td>0.0598</td>\n",
       "      <td>0.000095</td>\n",
       "      <td>0.0897</td>\n",
       "      <td>0.334</td>\n",
       "      <td>171.005</td>\n",
       "      <td>200040</td>\n",
       "      <td>R&amp;B/Soul</td>\n",
       "    </tr>\n",
       "    <tr>\n",
       "      <th>1</th>\n",
       "      <td>Tones And I</td>\n",
       "      <td>Dance Monkey</td>\n",
       "      <td>Dance Monkey</td>\n",
       "      <td>1rgnBhdG2JDFTbYkYRZAku</td>\n",
       "      <td>0.593</td>\n",
       "      <td>0.825</td>\n",
       "      <td>6</td>\n",
       "      <td>-6.401</td>\n",
       "      <td>0.68800</td>\n",
       "      <td>0.0988</td>\n",
       "      <td>0.000161</td>\n",
       "      <td>0.1700</td>\n",
       "      <td>0.540</td>\n",
       "      <td>98.078</td>\n",
       "      <td>209755</td>\n",
       "      <td>Alternative/Indie</td>\n",
       "    </tr>\n",
       "    <tr>\n",
       "      <th>2</th>\n",
       "      <td>Roddy Ricch</td>\n",
       "      <td>Please Excuse Me For Being Antisocial</td>\n",
       "      <td>The Box</td>\n",
       "      <td>0nbXyq5TXYPCO7pr3N8S4I</td>\n",
       "      <td>0.586</td>\n",
       "      <td>0.896</td>\n",
       "      <td>10</td>\n",
       "      <td>-6.687</td>\n",
       "      <td>0.10400</td>\n",
       "      <td>0.0559</td>\n",
       "      <td>0.000000</td>\n",
       "      <td>0.7900</td>\n",
       "      <td>0.642</td>\n",
       "      <td>116.971</td>\n",
       "      <td>196653</td>\n",
       "      <td>Hip-Hop/Rap</td>\n",
       "    </tr>\n",
       "    <tr>\n",
       "      <th>3</th>\n",
       "      <td>SAINt JHN</td>\n",
       "      <td>Roses (Imanbek Remix)</td>\n",
       "      <td>Roses - Imanbek Remix</td>\n",
       "      <td>2Wo6QQD1KMDWeFkkjLqwx5</td>\n",
       "      <td>0.721</td>\n",
       "      <td>0.785</td>\n",
       "      <td>8</td>\n",
       "      <td>-5.457</td>\n",
       "      <td>0.01490</td>\n",
       "      <td>0.0506</td>\n",
       "      <td>0.004320</td>\n",
       "      <td>0.2850</td>\n",
       "      <td>0.894</td>\n",
       "      <td>121.962</td>\n",
       "      <td>176219</td>\n",
       "      <td>Dance/Electronic</td>\n",
       "    </tr>\n",
       "    <tr>\n",
       "      <th>4</th>\n",
       "      <td>Dua Lipa</td>\n",
       "      <td>Future Nostalgia</td>\n",
       "      <td>Don't Start Now</td>\n",
       "      <td>3PfIrDoz19wz7qK7tYeu62</td>\n",
       "      <td>0.793</td>\n",
       "      <td>0.793</td>\n",
       "      <td>11</td>\n",
       "      <td>-4.521</td>\n",
       "      <td>0.01230</td>\n",
       "      <td>0.0830</td>\n",
       "      <td>0.000000</td>\n",
       "      <td>0.0951</td>\n",
       "      <td>0.679</td>\n",
       "      <td>123.950</td>\n",
       "      <td>183290</td>\n",
       "      <td>Nu-disco</td>\n",
       "    </tr>\n",
       "  </tbody>\n",
       "</table>\n",
       "</div>"
      ],
      "text/plain": [
       "        artist                                  album             track_name  \\\n",
       "0   The Weeknd                            After Hours        Blinding Lights   \n",
       "1  Tones And I                           Dance Monkey           Dance Monkey   \n",
       "2  Roddy Ricch  Please Excuse Me For Being Antisocial                The Box   \n",
       "3    SAINt JHN                  Roses (Imanbek Remix)  Roses - Imanbek Remix   \n",
       "4     Dua Lipa                       Future Nostalgia        Don't Start Now   \n",
       "\n",
       "                 track_id  energy  danceability  key  loudness  acousticness  \\\n",
       "0  0VjIjW4GlUZAMYd2vXMi3b   0.730         0.514    1    -5.934       0.00146   \n",
       "1  1rgnBhdG2JDFTbYkYRZAku   0.593         0.825    6    -6.401       0.68800   \n",
       "2  0nbXyq5TXYPCO7pr3N8S4I   0.586         0.896   10    -6.687       0.10400   \n",
       "3  2Wo6QQD1KMDWeFkkjLqwx5   0.721         0.785    8    -5.457       0.01490   \n",
       "4  3PfIrDoz19wz7qK7tYeu62   0.793         0.793   11    -4.521       0.01230   \n",
       "\n",
       "   speechiness  instrumentalness  liveness  valence    tempo  duration_ms  \\\n",
       "0       0.0598          0.000095    0.0897    0.334  171.005       200040   \n",
       "1       0.0988          0.000161    0.1700    0.540   98.078       209755   \n",
       "2       0.0559          0.000000    0.7900    0.642  116.971       196653   \n",
       "3       0.0506          0.004320    0.2850    0.894  121.962       176219   \n",
       "4       0.0830          0.000000    0.0951    0.679  123.950       183290   \n",
       "\n",
       "               genre  \n",
       "0           R&B/Soul  \n",
       "1  Alternative/Indie  \n",
       "2        Hip-Hop/Rap  \n",
       "3   Dance/Electronic  \n",
       "4           Nu-disco  "
      ]
     },
     "execution_count": 2,
     "metadata": {},
     "output_type": "execute_result"
    }
   ],
   "source": [
    "data = pd.read_csv('spotifytoptracks.csv', index_col=0)\n",
    "data.head()"
   ]
  },
  {
   "cell_type": "code",
   "execution_count": 3,
   "metadata": {},
   "outputs": [
    {
     "name": "stdout",
     "output_type": "stream",
     "text": [
      "<class 'pandas.core.frame.DataFrame'>\n",
      "Index: 50 entries, 0 to 49\n",
      "Data columns (total 16 columns):\n",
      " #   Column            Non-Null Count  Dtype  \n",
      "---  ------            --------------  -----  \n",
      " 0   artist            50 non-null     object \n",
      " 1   album             50 non-null     object \n",
      " 2   track_name        50 non-null     object \n",
      " 3   track_id          50 non-null     object \n",
      " 4   energy            50 non-null     float64\n",
      " 5   danceability      50 non-null     float64\n",
      " 6   key               50 non-null     int64  \n",
      " 7   loudness          50 non-null     float64\n",
      " 8   acousticness      50 non-null     float64\n",
      " 9   speechiness       50 non-null     float64\n",
      " 10  instrumentalness  50 non-null     float64\n",
      " 11  liveness          50 non-null     float64\n",
      " 12  valence           50 non-null     float64\n",
      " 13  tempo             50 non-null     float64\n",
      " 14  duration_ms       50 non-null     int64  \n",
      " 15  genre             50 non-null     object \n",
      "dtypes: float64(9), int64(2), object(5)\n",
      "memory usage: 6.6+ KB\n"
     ]
    }
   ],
   "source": [
    "data.info()"
   ]
  },
  {
   "cell_type": "markdown",
   "metadata": {},
   "source": [
    "# 2. Perform data cleaning\n",
    "***\n",
    "### Handling missing values"
   ]
  },
  {
   "cell_type": "code",
   "execution_count": 4,
   "metadata": {},
   "outputs": [
    {
     "data": {
      "text/plain": [
       "artist              0\n",
       "album               0\n",
       "track_name          0\n",
       "track_id            0\n",
       "energy              0\n",
       "danceability        0\n",
       "key                 0\n",
       "loudness            0\n",
       "acousticness        0\n",
       "speechiness         0\n",
       "instrumentalness    0\n",
       "liveness            0\n",
       "valence             0\n",
       "tempo               0\n",
       "duration_ms         0\n",
       "genre               0\n",
       "dtype: int64"
      ]
     },
     "execution_count": 4,
     "metadata": {},
     "output_type": "execute_result"
    }
   ],
   "source": [
    "data.isnull().sum()"
   ]
  },
  {
   "cell_type": "markdown",
   "metadata": {},
   "source": [
    "From the look of things, there are no missing values in our data.\n",
    "**Next,**\n",
    "\n",
    "### Removing duplicate samples and features"
   ]
  },
  {
   "cell_type": "code",
   "execution_count": 5,
   "metadata": {},
   "outputs": [
    {
     "data": {
      "text/plain": [
       "0"
      ]
     },
     "execution_count": 5,
     "metadata": {},
     "output_type": "execute_result"
    }
   ],
   "source": [
    "data.duplicated().sum()"
   ]
  },
  {
   "cell_type": "markdown",
   "metadata": {},
   "source": [
    "There are no duplicated rows either. **Next,**\n",
    "\n",
    "### Treating the outliers"
   ]
  },
  {
   "cell_type": "code",
   "execution_count": 6,
   "metadata": {},
   "outputs": [
    {
     "data": {
      "image/png": "[encoded data removed]",
      "text/plain": [
       "<Figure size 2000x1500 with 12 Axes>"
      ]
     },
     "metadata": {},
     "output_type": "display_data"
    }
   ],
   "source": [
    "numeric_columns = [col for col in data.columns if data[col].dtype in ['float64', 'int64']]\n",
    "\n",
    "n_cols = (len(numeric_columns) + 2) // 3\n",
    "\n",
    "fig, axes = plt.subplots(nrows=3, ncols=n_cols, figsize=(5 * n_cols, 15), constrained_layout=True)\n",
    "\n",
    "axes = axes.flatten()\n",
    "\n",
    "for i, col in enumerate(numeric_columns):\n",
    "    axes[i].boxplot(data[col].dropna())\n",
    "    axes[i].set_title(f'Boxplot of {col}')\n",
    "    axes[i].set_xlabel(col)\n",
    "\n",
    "for j in range(len(numeric_columns), len(axes)):\n",
    "    axes[j].set_visible(False)\n",
    "\n",
    "plt.show()"
   ]
  },
  {
   "cell_type": "code",
   "execution_count": 7,
   "metadata": {},
   "outputs": [
    {
     "data": {
      "text/plain": [
       "Index(['artist', 'album', 'track_name', 'track_id', 'energy', 'danceability',\n",
       "       'key', 'loudness', 'acousticness', 'speechiness', 'instrumentalness',\n",
       "       'liveness', 'valence', 'tempo', 'duration_ms', 'genre'],\n",
       "      dtype='object')"
      ]
     },
     "execution_count": 7,
     "metadata": {},
     "output_type": "execute_result"
    }
   ],
   "source": [
    "data.columns"
   ]
  },
  {
   "cell_type": "markdown",
   "metadata": {},
   "source": [
    "Findings: 7 (`'danceability', 'loudness', 'acousticness', 'speechiness', 'instrumentalness', 'liveness', 'duration_ms'`) out of the 11 numerical columns have outliers.\n",
    "\n",
    "To handle outliers, I will nothing, because that in itself is a way to handle outliers and in this case, they are genuine but extreme values as we are dealing with Spotify's top 50 tracks.\n",
    "Another reason is, we have just 50 rows of data, can't afford to loose any."
   ]
  },
  {
   "cell_type": "markdown",
   "metadata": {},
   "source": [
    "The data looks good now"
   ]
  },
  {
   "cell_type": "markdown",
   "metadata": {},
   "source": [
    "# 3. Exploratory Data Analysis (EDA)"
   ]
  },
  {
   "cell_type": "code",
   "execution_count": 8,
   "metadata": {},
   "outputs": [
    {
     "data": {
      "text/html": [
       "<div>\n",
       "<style scoped>\n",
       "    .dataframe tbody tr th:only-of-type {\n",
       "        vertical-align: middle;\n",
       "    }\n",
       "\n",
       "    .dataframe tbody tr th {\n",
       "        vertical-align: top;\n",
       "    }\n",
       "\n",
       "    .dataframe thead th {\n",
       "        text-align: right;\n",
       "    }\n",
       "</style>\n",
       "<table border=\"1\" class=\"dataframe\">\n",
       "  <thead>\n",
       "    <tr style=\"text-align: right;\">\n",
       "      <th></th>\n",
       "      <th>energy</th>\n",
       "      <th>danceability</th>\n",
       "      <th>key</th>\n",
       "      <th>loudness</th>\n",
       "      <th>acousticness</th>\n",
       "      <th>speechiness</th>\n",
       "      <th>instrumentalness</th>\n",
       "      <th>liveness</th>\n",
       "      <th>valence</th>\n",
       "      <th>tempo</th>\n",
       "      <th>duration_ms</th>\n",
       "    </tr>\n",
       "  </thead>\n",
       "  <tbody>\n",
       "    <tr>\n",
       "      <th>count</th>\n",
       "      <td>50.000000</td>\n",
       "      <td>50.000000</td>\n",
       "      <td>50.000000</td>\n",
       "      <td>50.000000</td>\n",
       "      <td>50.000000</td>\n",
       "      <td>50.000000</td>\n",
       "      <td>50.000000</td>\n",
       "      <td>50.000000</td>\n",
       "      <td>50.000000</td>\n",
       "      <td>50.000000</td>\n",
       "      <td>50.000000</td>\n",
       "    </tr>\n",
       "    <tr>\n",
       "      <th>mean</th>\n",
       "      <td>0.609300</td>\n",
       "      <td>0.716720</td>\n",
       "      <td>5.720000</td>\n",
       "      <td>-6.225900</td>\n",
       "      <td>0.256206</td>\n",
       "      <td>0.124158</td>\n",
       "      <td>0.015962</td>\n",
       "      <td>0.196552</td>\n",
       "      <td>0.555710</td>\n",
       "      <td>119.690460</td>\n",
       "      <td>199955.360000</td>\n",
       "    </tr>\n",
       "    <tr>\n",
       "      <th>std</th>\n",
       "      <td>0.154348</td>\n",
       "      <td>0.124975</td>\n",
       "      <td>3.709007</td>\n",
       "      <td>2.349744</td>\n",
       "      <td>0.265250</td>\n",
       "      <td>0.116836</td>\n",
       "      <td>0.094312</td>\n",
       "      <td>0.176610</td>\n",
       "      <td>0.216386</td>\n",
       "      <td>25.414778</td>\n",
       "      <td>33996.122488</td>\n",
       "    </tr>\n",
       "    <tr>\n",
       "      <th>min</th>\n",
       "      <td>0.225000</td>\n",
       "      <td>0.351000</td>\n",
       "      <td>0.000000</td>\n",
       "      <td>-14.454000</td>\n",
       "      <td>0.001460</td>\n",
       "      <td>0.029000</td>\n",
       "      <td>0.000000</td>\n",
       "      <td>0.057400</td>\n",
       "      <td>0.060500</td>\n",
       "      <td>75.801000</td>\n",
       "      <td>140526.000000</td>\n",
       "    </tr>\n",
       "    <tr>\n",
       "      <th>25%</th>\n",
       "      <td>0.494000</td>\n",
       "      <td>0.672500</td>\n",
       "      <td>2.000000</td>\n",
       "      <td>-7.552500</td>\n",
       "      <td>0.052800</td>\n",
       "      <td>0.048325</td>\n",
       "      <td>0.000000</td>\n",
       "      <td>0.093950</td>\n",
       "      <td>0.434000</td>\n",
       "      <td>99.557250</td>\n",
       "      <td>175845.500000</td>\n",
       "    </tr>\n",
       "    <tr>\n",
       "      <th>50%</th>\n",
       "      <td>0.597000</td>\n",
       "      <td>0.746000</td>\n",
       "      <td>6.500000</td>\n",
       "      <td>-5.991500</td>\n",
       "      <td>0.188500</td>\n",
       "      <td>0.070050</td>\n",
       "      <td>0.000000</td>\n",
       "      <td>0.111000</td>\n",
       "      <td>0.560000</td>\n",
       "      <td>116.969000</td>\n",
       "      <td>197853.500000</td>\n",
       "    </tr>\n",
       "    <tr>\n",
       "      <th>75%</th>\n",
       "      <td>0.729750</td>\n",
       "      <td>0.794500</td>\n",
       "      <td>8.750000</td>\n",
       "      <td>-4.285500</td>\n",
       "      <td>0.298750</td>\n",
       "      <td>0.155500</td>\n",
       "      <td>0.000020</td>\n",
       "      <td>0.271250</td>\n",
       "      <td>0.726250</td>\n",
       "      <td>132.317000</td>\n",
       "      <td>215064.000000</td>\n",
       "    </tr>\n",
       "    <tr>\n",
       "      <th>max</th>\n",
       "      <td>0.855000</td>\n",
       "      <td>0.935000</td>\n",
       "      <td>11.000000</td>\n",
       "      <td>-3.280000</td>\n",
       "      <td>0.934000</td>\n",
       "      <td>0.487000</td>\n",
       "      <td>0.657000</td>\n",
       "      <td>0.792000</td>\n",
       "      <td>0.925000</td>\n",
       "      <td>180.067000</td>\n",
       "      <td>312820.000000</td>\n",
       "    </tr>\n",
       "  </tbody>\n",
       "</table>\n",
       "</div>"
      ],
      "text/plain": [
       "          energy  danceability        key   loudness  acousticness  \\\n",
       "count  50.000000     50.000000  50.000000  50.000000     50.000000   \n",
       "mean    0.609300      0.716720   5.720000  -6.225900      0.256206   \n",
       "std     0.154348      0.124975   3.709007   2.349744      0.265250   \n",
       "min     0.225000      0.351000   0.000000 -14.454000      0.001460   \n",
       "25%     0.494000      0.672500   2.000000  -7.552500      0.052800   \n",
       "50%     0.597000      0.746000   6.500000  -5.991500      0.188500   \n",
       "75%     0.729750      0.794500   8.750000  -4.285500      0.298750   \n",
       "max     0.855000      0.935000  11.000000  -3.280000      0.934000   \n",
       "\n",
       "       speechiness  instrumentalness   liveness    valence       tempo  \\\n",
       "count    50.000000         50.000000  50.000000  50.000000   50.000000   \n",
       "mean      0.124158          0.015962   0.196552   0.555710  119.690460   \n",
       "std       0.116836          0.094312   0.176610   0.216386   25.414778   \n",
       "min       0.029000          0.000000   0.057400   0.060500   75.801000   \n",
       "25%       0.048325          0.000000   0.093950   0.434000   99.557250   \n",
       "50%       0.070050          0.000000   0.111000   0.560000  116.969000   \n",
       "75%       0.155500          0.000020   0.271250   0.726250  132.317000   \n",
       "max       0.487000          0.657000   0.792000   0.925000  180.067000   \n",
       "\n",
       "         duration_ms  \n",
       "count      50.000000  \n",
       "mean   199955.360000  \n",
       "std     33996.122488  \n",
       "min    140526.000000  \n",
       "25%    175845.500000  \n",
       "50%    197853.500000  \n",
       "75%    215064.000000  \n",
       "max    312820.000000  "
      ]
     },
     "execution_count": 8,
     "metadata": {},
     "output_type": "execute_result"
    }
   ],
   "source": [
    "data.describe()"
   ]
  },
  {
   "cell_type": "markdown",
   "metadata": {},
   "source": [
    "### How many observations are there in this dataset?"
   ]
  },
  {
   "cell_type": "code",
   "execution_count": 9,
   "metadata": {},
   "outputs": [
    {
     "name": "stdout",
     "output_type": "stream",
     "text": [
      "This dataset has 50 observations\n"
     ]
    }
   ],
   "source": [
    "print(f'This dataset has {data.shape[0]} observations')"
   ]
  },
  {
   "cell_type": "markdown",
   "metadata": {},
   "source": [
    "### How many features this dataset has?\n"
   ]
  },
  {
   "cell_type": "code",
   "execution_count": 10,
   "metadata": {},
   "outputs": [
    {
     "name": "stdout",
     "output_type": "stream",
     "text": [
      "This dataset has 16 features\n"
     ]
    }
   ],
   "source": [
    "print(f'This dataset has {data.shape[1]} features')"
   ]
  },
  {
   "cell_type": "markdown",
   "metadata": {},
   "source": [
    "### Which of the features are categorical?\n"
   ]
  },
  {
   "cell_type": "code",
   "execution_count": 11,
   "metadata": {},
   "outputs": [
    {
     "name": "stdout",
     "output_type": "stream",
     "text": [
      "These are the categorical features:\n",
      "1. artist\n",
      "2. album\n",
      "3. track_name\n",
      "4. track_id\n",
      "5. genre\n"
     ]
    }
   ],
   "source": [
    "counter = 1\n",
    "print('These are the categorical features:')\n",
    "for col in data.select_dtypes(exclude='number'):\n",
    "    print(f'{counter}. {col}')\n",
    "    counter += 1"
   ]
  },
  {
   "cell_type": "markdown",
   "metadata": {},
   "source": [
    "### Which of the features are numeric?"
   ]
  },
  {
   "cell_type": "code",
   "execution_count": 12,
   "metadata": {},
   "outputs": [
    {
     "name": "stdout",
     "output_type": "stream",
     "text": [
      "These are the numeric features:\n",
      "1. energy\n",
      "2. danceability\n",
      "3. key\n",
      "4. loudness\n",
      "5. acousticness\n",
      "6. speechiness\n",
      "7. instrumentalness\n",
      "8. liveness\n",
      "9. valence\n",
      "10. tempo\n",
      "11. duration_ms\n"
     ]
    }
   ],
   "source": [
    "counter = 1\n",
    "print('These are the numeric features:')\n",
    "for col in data.select_dtypes(include='number'):\n",
    "    print(f'{counter}. {col}')\n",
    "    counter += 1"
   ]
  },
  {
   "cell_type": "markdown",
   "metadata": {},
   "source": [
    "### Are there any artists that have more than 1 popular track? If yes, which and how many?"
   ]
  },
  {
   "cell_type": "code",
   "execution_count": 13,
   "metadata": {},
   "outputs": [
    {
     "data": {
      "text/plain": [
       "artist\n",
       "Billie Eilish    3\n",
       "Dua Lipa         3\n",
       "Travis Scott     3\n",
       "Justin Bieber    2\n",
       "Harry Styles     2\n",
       "Lewis Capaldi    2\n",
       "Post Malone      2\n",
       "Name: count, dtype: int64"
      ]
     },
     "execution_count": 13,
     "metadata": {},
     "output_type": "execute_result"
    }
   ],
   "source": [
    "artist_count = data.artist.value_counts()\n",
    "artist_count[artist_count > 1]"
   ]
  },
  {
   "cell_type": "markdown",
   "metadata": {},
   "source": [
    "### Who was the most popular artist?\n",
    "\n",
    "We can't categorical tell from this data because going by the number of popular tracks, 3 artists have 3 popular tracks (a tie)\n"
   ]
  },
  {
   "cell_type": "code",
   "execution_count": 14,
   "metadata": {},
   "outputs": [
    {
     "data": {
      "text/plain": [
       "artist\n",
       "Billie Eilish    3\n",
       "Dua Lipa         3\n",
       "Travis Scott     3\n",
       "Name: count, dtype: int64"
      ]
     },
     "execution_count": 14,
     "metadata": {},
     "output_type": "execute_result"
    }
   ],
   "source": [
    "artist_count[artist_count == artist_count.max()]"
   ]
  },
  {
   "cell_type": "markdown",
   "metadata": {},
   "source": [
    "### How many artists in total have their songs in the top 50?"
   ]
  },
  {
   "cell_type": "code",
   "execution_count": 15,
   "metadata": {},
   "outputs": [
    {
     "name": "stdout",
     "output_type": "stream",
     "text": [
      "40 artists have their songs on top 50\n"
     ]
    },
    {
     "data": {
      "text/plain": [
       "array(['The Weeknd', 'Tones And I', 'Roddy Ricch', 'SAINt JHN',\n",
       "       'Dua Lipa', 'DaBaby', 'Harry Styles', 'Powfu', 'Trevor Daniel',\n",
       "       'Lewis Capaldi', 'KAROL G', 'Arizona Zervas', 'Post Malone',\n",
       "       'Lil Mosey', 'Justin Bieber', 'Drake', 'Doja Cat', 'Maroon 5',\n",
       "       'Future', 'Jawsh 685', 'Topic', '24kGoldn', 'Billie Eilish',\n",
       "       'Shawn Mendes', 'Cardi B', 'Surfaces', 'Eminem', 'BTS', 'BENEE',\n",
       "       'Surf Mesa', 'Lady Gaga', 'Travis Scott', 'Maluma', 'Regard',\n",
       "       'Black Eyed Peas', 'THE SCOTTS', 'Bad Bunny', 'Juice WRLD',\n",
       "       'Ariana Grande', 'JP Saxe'], dtype=object)"
      ]
     },
     "execution_count": 15,
     "metadata": {},
     "output_type": "execute_result"
    }
   ],
   "source": [
    "print(f'{len(data.artist.unique())} artists have their songs on top 50')\n",
    "data.artist.unique()"
   ]
  },
  {
   "cell_type": "markdown",
   "metadata": {},
   "source": [
    "### Are there any albums that have more than 1 popular track? If yes, which and how many?"
   ]
  },
  {
   "cell_type": "code",
   "execution_count": 16,
   "metadata": {},
   "outputs": [
    {
     "data": {
      "text/plain": [
       "album\n",
       "Future Nostalgia        3\n",
       "Hollywood's Bleeding    2\n",
       "Fine Line               2\n",
       "Changes                 2\n",
       "Name: count, dtype: int64"
      ]
     },
     "execution_count": 16,
     "metadata": {},
     "output_type": "execute_result"
    }
   ],
   "source": [
    "album_count = data.album.value_counts()\n",
    "album_count[album_count > 1]"
   ]
  },
  {
   "cell_type": "markdown",
   "metadata": {},
   "source": [
    "### How many albums in total have their songs in the top 50?"
   ]
  },
  {
   "cell_type": "code",
   "execution_count": 17,
   "metadata": {},
   "outputs": [
    {
     "name": "stdout",
     "output_type": "stream",
     "text": [
      "45 albums have their songs on top 50\n"
     ]
    },
    {
     "data": {
      "text/plain": [
       "array(['After Hours', 'Dance Monkey',\n",
       "       'Please Excuse Me For Being Antisocial', 'Roses (Imanbek Remix)',\n",
       "       'Future Nostalgia', 'BLAME IT ON BABY', 'Fine Line',\n",
       "       'death bed (coffee for your head)', 'Nicotine',\n",
       "       'Divinely Uninspired To A Hellish Extent', 'Tusa', 'ROXANNE',\n",
       "       \"Hollywood's Bleeding\", 'Certified Hitmaker', 'Changes',\n",
       "       'Dark Lane Demo Tapes',\n",
       "       'Divinely Uninspired To A Hellish Extent (Extended Edition)',\n",
       "       'Hot Pink', 'Memories', 'High Off Life',\n",
       "       'Savage Love (Laxed - Siren Beat)', 'Breaking Me',\n",
       "       'Mood (feat. iann dior)', 'everything i wanted',\n",
       "       'Shawn Mendes (Deluxe)',\n",
       "       'WHEN WE ALL FALL ASLEEP, WHERE DO WE GO?',\n",
       "       'WAP (feat. Megan Thee Stallion)', 'Where the Light Is',\n",
       "       'Music To Be Murdered By', 'Dynamite (DayTime Version)', 'Hey u x',\n",
       "       'ily (i love you baby) (feat. Emilee)', 'Chromatica',\n",
       "       'HIGHEST IN THE ROOM', 'PAPI JUANCHO', 'Ride It',\n",
       "       'Birds In The Trap Sing McKnight', 'Translation', 'THE SCOTTS',\n",
       "       'YHLQMDLG', 'lovely (with Khalid)', 'Goodbye & Good Riddance',\n",
       "       'Stuck with U', 'If the World Was Ending (feat. Julia Michaels)',\n",
       "       'ASTROWORLD'], dtype=object)"
      ]
     },
     "execution_count": 17,
     "metadata": {},
     "output_type": "execute_result"
    }
   ],
   "source": [
    "print(f'{len(data.album.unique())} albums have their songs on top 50')\n",
    "data.album.unique()"
   ]
  },
  {
   "cell_type": "markdown",
   "metadata": {},
   "source": [
    "### Which tracks have a danceability score above 0.7?"
   ]
  },
  {
   "cell_type": "code",
   "execution_count": 18,
   "metadata": {},
   "outputs": [
    {
     "data": {
      "text/html": [
       "<div>\n",
       "<style scoped>\n",
       "    .dataframe tbody tr th:only-of-type {\n",
       "        vertical-align: middle;\n",
       "    }\n",
       "\n",
       "    .dataframe tbody tr th {\n",
       "        vertical-align: top;\n",
       "    }\n",
       "\n",
       "    .dataframe thead th {\n",
       "        text-align: right;\n",
       "    }\n",
       "</style>\n",
       "<table border=\"1\" class=\"dataframe\">\n",
       "  <thead>\n",
       "    <tr style=\"text-align: right;\">\n",
       "      <th></th>\n",
       "      <th>track_name</th>\n",
       "      <th>genre</th>\n",
       "      <th>danceability</th>\n",
       "    </tr>\n",
       "  </thead>\n",
       "  <tbody>\n",
       "    <tr>\n",
       "      <th>1</th>\n",
       "      <td>Dance Monkey</td>\n",
       "      <td>Alternative/Indie</td>\n",
       "      <td>0.825</td>\n",
       "    </tr>\n",
       "    <tr>\n",
       "      <th>2</th>\n",
       "      <td>The Box</td>\n",
       "      <td>Hip-Hop/Rap</td>\n",
       "      <td>0.896</td>\n",
       "    </tr>\n",
       "    <tr>\n",
       "      <th>3</th>\n",
       "      <td>Roses - Imanbek Remix</td>\n",
       "      <td>Dance/Electronic</td>\n",
       "      <td>0.785</td>\n",
       "    </tr>\n",
       "    <tr>\n",
       "      <th>4</th>\n",
       "      <td>Don't Start Now</td>\n",
       "      <td>Nu-disco</td>\n",
       "      <td>0.793</td>\n",
       "    </tr>\n",
       "    <tr>\n",
       "      <th>5</th>\n",
       "      <td>ROCKSTAR (feat. Roddy Ricch)</td>\n",
       "      <td>Hip-Hop/Rap</td>\n",
       "      <td>0.746</td>\n",
       "    </tr>\n",
       "    <tr>\n",
       "      <th>7</th>\n",
       "      <td>death bed (coffee for your head)</td>\n",
       "      <td>Hip-Hop/Rap</td>\n",
       "      <td>0.726</td>\n",
       "    </tr>\n",
       "    <tr>\n",
       "      <th>8</th>\n",
       "      <td>Falling</td>\n",
       "      <td>R&amp;B/Hip-Hop alternative</td>\n",
       "      <td>0.784</td>\n",
       "    </tr>\n",
       "    <tr>\n",
       "      <th>10</th>\n",
       "      <td>Tusa</td>\n",
       "      <td>Pop</td>\n",
       "      <td>0.803</td>\n",
       "    </tr>\n",
       "    <tr>\n",
       "      <th>13</th>\n",
       "      <td>Blueberry Faygo</td>\n",
       "      <td>Hip-Hop/Rap</td>\n",
       "      <td>0.774</td>\n",
       "    </tr>\n",
       "    <tr>\n",
       "      <th>14</th>\n",
       "      <td>Intentions (feat. Quavo)</td>\n",
       "      <td>Pop</td>\n",
       "      <td>0.806</td>\n",
       "    </tr>\n",
       "    <tr>\n",
       "      <th>15</th>\n",
       "      <td>Toosie Slide</td>\n",
       "      <td>Hip-Hop/Rap</td>\n",
       "      <td>0.830</td>\n",
       "    </tr>\n",
       "    <tr>\n",
       "      <th>17</th>\n",
       "      <td>Say So</td>\n",
       "      <td>R&amp;B/Soul</td>\n",
       "      <td>0.787</td>\n",
       "    </tr>\n",
       "    <tr>\n",
       "      <th>18</th>\n",
       "      <td>Memories</td>\n",
       "      <td>Pop</td>\n",
       "      <td>0.764</td>\n",
       "    </tr>\n",
       "    <tr>\n",
       "      <th>19</th>\n",
       "      <td>Life Is Good (feat. Drake)</td>\n",
       "      <td>Hip-Hop/Rap</td>\n",
       "      <td>0.795</td>\n",
       "    </tr>\n",
       "    <tr>\n",
       "      <th>20</th>\n",
       "      <td>Savage Love (Laxed - Siren Beat)</td>\n",
       "      <td>Hip-Hop/Rap</td>\n",
       "      <td>0.767</td>\n",
       "    </tr>\n",
       "    <tr>\n",
       "      <th>22</th>\n",
       "      <td>Breaking Me</td>\n",
       "      <td>Dance/Electronic</td>\n",
       "      <td>0.789</td>\n",
       "    </tr>\n",
       "    <tr>\n",
       "      <th>24</th>\n",
       "      <td>everything i wanted</td>\n",
       "      <td>Pop</td>\n",
       "      <td>0.704</td>\n",
       "    </tr>\n",
       "    <tr>\n",
       "      <th>25</th>\n",
       "      <td>Señorita</td>\n",
       "      <td>Pop</td>\n",
       "      <td>0.759</td>\n",
       "    </tr>\n",
       "    <tr>\n",
       "      <th>26</th>\n",
       "      <td>bad guy</td>\n",
       "      <td>Electro-pop</td>\n",
       "      <td>0.701</td>\n",
       "    </tr>\n",
       "    <tr>\n",
       "      <th>27</th>\n",
       "      <td>WAP (feat. Megan Thee Stallion)</td>\n",
       "      <td>Hip-Hop/Trap</td>\n",
       "      <td>0.935</td>\n",
       "    </tr>\n",
       "    <tr>\n",
       "      <th>28</th>\n",
       "      <td>Sunday Best</td>\n",
       "      <td>Electro-pop</td>\n",
       "      <td>0.878</td>\n",
       "    </tr>\n",
       "    <tr>\n",
       "      <th>29</th>\n",
       "      <td>Godzilla (feat. Juice WRLD)</td>\n",
       "      <td>Hip-Hop/Rap</td>\n",
       "      <td>0.808</td>\n",
       "    </tr>\n",
       "    <tr>\n",
       "      <th>31</th>\n",
       "      <td>Break My Heart</td>\n",
       "      <td>Dance-pop/Disco</td>\n",
       "      <td>0.730</td>\n",
       "    </tr>\n",
       "    <tr>\n",
       "      <th>32</th>\n",
       "      <td>Dynamite</td>\n",
       "      <td>Disco-pop</td>\n",
       "      <td>0.746</td>\n",
       "    </tr>\n",
       "    <tr>\n",
       "      <th>33</th>\n",
       "      <td>Supalonely (feat. Gus Dapperton)</td>\n",
       "      <td>Alternative/Indie</td>\n",
       "      <td>0.862</td>\n",
       "    </tr>\n",
       "    <tr>\n",
       "      <th>37</th>\n",
       "      <td>Sunflower - Spider-Man: Into the Spider-Verse</td>\n",
       "      <td>Dreampop/Hip-Hop/R&amp;B</td>\n",
       "      <td>0.755</td>\n",
       "    </tr>\n",
       "    <tr>\n",
       "      <th>38</th>\n",
       "      <td>Hawái</td>\n",
       "      <td>Pop</td>\n",
       "      <td>0.783</td>\n",
       "    </tr>\n",
       "    <tr>\n",
       "      <th>39</th>\n",
       "      <td>Ride It</td>\n",
       "      <td>Dance/Electronic</td>\n",
       "      <td>0.880</td>\n",
       "    </tr>\n",
       "    <tr>\n",
       "      <th>40</th>\n",
       "      <td>goosebumps</td>\n",
       "      <td>Hip-Hop/Rap</td>\n",
       "      <td>0.841</td>\n",
       "    </tr>\n",
       "    <tr>\n",
       "      <th>41</th>\n",
       "      <td>RITMO (Bad Boys For Life)</td>\n",
       "      <td>Pop</td>\n",
       "      <td>0.723</td>\n",
       "    </tr>\n",
       "    <tr>\n",
       "      <th>42</th>\n",
       "      <td>THE SCOTTS</td>\n",
       "      <td>Hip-Hop/Rap</td>\n",
       "      <td>0.716</td>\n",
       "    </tr>\n",
       "    <tr>\n",
       "      <th>49</th>\n",
       "      <td>SICKO MODE</td>\n",
       "      <td>Hip-Hop/Rap</td>\n",
       "      <td>0.834</td>\n",
       "    </tr>\n",
       "  </tbody>\n",
       "</table>\n",
       "</div>"
      ],
      "text/plain": [
       "                                       track_name                    genre  \\\n",
       "1                                    Dance Monkey        Alternative/Indie   \n",
       "2                                         The Box              Hip-Hop/Rap   \n",
       "3                           Roses - Imanbek Remix         Dance/Electronic   \n",
       "4                                 Don't Start Now                 Nu-disco   \n",
       "5                    ROCKSTAR (feat. Roddy Ricch)              Hip-Hop/Rap   \n",
       "7                death bed (coffee for your head)              Hip-Hop/Rap   \n",
       "8                                         Falling  R&B/Hip-Hop alternative   \n",
       "10                                           Tusa                      Pop   \n",
       "13                                Blueberry Faygo              Hip-Hop/Rap   \n",
       "14                       Intentions (feat. Quavo)                      Pop   \n",
       "15                                   Toosie Slide              Hip-Hop/Rap   \n",
       "17                                         Say So                 R&B/Soul   \n",
       "18                                       Memories                      Pop   \n",
       "19                     Life Is Good (feat. Drake)              Hip-Hop/Rap   \n",
       "20               Savage Love (Laxed - Siren Beat)              Hip-Hop/Rap   \n",
       "22                                    Breaking Me         Dance/Electronic   \n",
       "24                            everything i wanted                      Pop   \n",
       "25                                       Señorita                      Pop   \n",
       "26                                        bad guy              Electro-pop   \n",
       "27                WAP (feat. Megan Thee Stallion)             Hip-Hop/Trap   \n",
       "28                                    Sunday Best              Electro-pop   \n",
       "29                    Godzilla (feat. Juice WRLD)              Hip-Hop/Rap   \n",
       "31                                 Break My Heart          Dance-pop/Disco   \n",
       "32                                       Dynamite                Disco-pop   \n",
       "33               Supalonely (feat. Gus Dapperton)        Alternative/Indie   \n",
       "37  Sunflower - Spider-Man: Into the Spider-Verse     Dreampop/Hip-Hop/R&B   \n",
       "38                                          Hawái                      Pop   \n",
       "39                                        Ride It         Dance/Electronic   \n",
       "40                                     goosebumps              Hip-Hop/Rap   \n",
       "41                      RITMO (Bad Boys For Life)                      Pop   \n",
       "42                                     THE SCOTTS              Hip-Hop/Rap   \n",
       "49                                     SICKO MODE              Hip-Hop/Rap   \n",
       "\n",
       "    danceability  \n",
       "1          0.825  \n",
       "2          0.896  \n",
       "3          0.785  \n",
       "4          0.793  \n",
       "5          0.746  \n",
       "7          0.726  \n",
       "8          0.784  \n",
       "10         0.803  \n",
       "13         0.774  \n",
       "14         0.806  \n",
       "15         0.830  \n",
       "17         0.787  \n",
       "18         0.764  \n",
       "19         0.795  \n",
       "20         0.767  \n",
       "22         0.789  \n",
       "24         0.704  \n",
       "25         0.759  \n",
       "26         0.701  \n",
       "27         0.935  \n",
       "28         0.878  \n",
       "29         0.808  \n",
       "31         0.730  \n",
       "32         0.746  \n",
       "33         0.862  \n",
       "37         0.755  \n",
       "38         0.783  \n",
       "39         0.880  \n",
       "40         0.841  \n",
       "41         0.723  \n",
       "42         0.716  \n",
       "49         0.834  "
      ]
     },
     "execution_count": 18,
     "metadata": {},
     "output_type": "execute_result"
    }
   ],
   "source": [
    "high_danceables = data.loc[data.danceability > 0.7]\n",
    "high_danceables[['track_name', 'genre','danceability']]\n"
   ]
  },
  {
   "cell_type": "markdown",
   "metadata": {},
   "source": [
    "### Which tracks have a danceability score below 0.4?\n"
   ]
  },
  {
   "cell_type": "code",
   "execution_count": 19,
   "metadata": {},
   "outputs": [
    {
     "data": {
      "text/html": [
       "<div>\n",
       "<style scoped>\n",
       "    .dataframe tbody tr th:only-of-type {\n",
       "        vertical-align: middle;\n",
       "    }\n",
       "\n",
       "    .dataframe tbody tr th {\n",
       "        vertical-align: top;\n",
       "    }\n",
       "\n",
       "    .dataframe thead th {\n",
       "        text-align: right;\n",
       "    }\n",
       "</style>\n",
       "<table border=\"1\" class=\"dataframe\">\n",
       "  <thead>\n",
       "    <tr style=\"text-align: right;\">\n",
       "      <th></th>\n",
       "      <th>track_name</th>\n",
       "      <th>genre</th>\n",
       "      <th>danceability</th>\n",
       "    </tr>\n",
       "  </thead>\n",
       "  <tbody>\n",
       "    <tr>\n",
       "      <th>44</th>\n",
       "      <td>lovely (with Khalid)</td>\n",
       "      <td>Chamber pop</td>\n",
       "      <td>0.351</td>\n",
       "    </tr>\n",
       "  </tbody>\n",
       "</table>\n",
       "</div>"
      ],
      "text/plain": [
       "              track_name        genre  danceability\n",
       "44  lovely (with Khalid)  Chamber pop         0.351"
      ]
     },
     "execution_count": 19,
     "metadata": {},
     "output_type": "execute_result"
    }
   ],
   "source": [
    "low_danceables = data.loc[data.danceability < 0.4]\n",
    "low_danceables[['track_name', 'genre', 'danceability']]"
   ]
  },
  {
   "cell_type": "markdown",
   "metadata": {},
   "source": [
    "### Which tracks have their loudness above -5?\n"
   ]
  },
  {
   "cell_type": "code",
   "execution_count": 20,
   "metadata": {},
   "outputs": [
    {
     "data": {
      "text/html": [
       "<div>\n",
       "<style scoped>\n",
       "    .dataframe tbody tr th:only-of-type {\n",
       "        vertical-align: middle;\n",
       "    }\n",
       "\n",
       "    .dataframe tbody tr th {\n",
       "        vertical-align: top;\n",
       "    }\n",
       "\n",
       "    .dataframe thead th {\n",
       "        text-align: right;\n",
       "    }\n",
       "</style>\n",
       "<table border=\"1\" class=\"dataframe\">\n",
       "  <thead>\n",
       "    <tr style=\"text-align: right;\">\n",
       "      <th></th>\n",
       "      <th>track_name</th>\n",
       "      <th>genre</th>\n",
       "      <th>loudness</th>\n",
       "    </tr>\n",
       "  </thead>\n",
       "  <tbody>\n",
       "    <tr>\n",
       "      <th>4</th>\n",
       "      <td>Don't Start Now</td>\n",
       "      <td>Nu-disco</td>\n",
       "      <td>-4.521</td>\n",
       "    </tr>\n",
       "    <tr>\n",
       "      <th>6</th>\n",
       "      <td>Watermelon Sugar</td>\n",
       "      <td>Pop</td>\n",
       "      <td>-4.209</td>\n",
       "    </tr>\n",
       "    <tr>\n",
       "      <th>10</th>\n",
       "      <td>Tusa</td>\n",
       "      <td>Pop</td>\n",
       "      <td>-3.280</td>\n",
       "    </tr>\n",
       "    <tr>\n",
       "      <th>12</th>\n",
       "      <td>Circles</td>\n",
       "      <td>Pop/Soft Rock</td>\n",
       "      <td>-3.497</td>\n",
       "    </tr>\n",
       "    <tr>\n",
       "      <th>16</th>\n",
       "      <td>Before You Go</td>\n",
       "      <td>Alternative/Indie</td>\n",
       "      <td>-4.858</td>\n",
       "    </tr>\n",
       "    <tr>\n",
       "      <th>17</th>\n",
       "      <td>Say So</td>\n",
       "      <td>R&amp;B/Soul</td>\n",
       "      <td>-4.577</td>\n",
       "    </tr>\n",
       "    <tr>\n",
       "      <th>21</th>\n",
       "      <td>Adore You</td>\n",
       "      <td>Pop</td>\n",
       "      <td>-3.675</td>\n",
       "    </tr>\n",
       "    <tr>\n",
       "      <th>23</th>\n",
       "      <td>Mood (feat. iann dior)</td>\n",
       "      <td>Pop rap</td>\n",
       "      <td>-3.558</td>\n",
       "    </tr>\n",
       "    <tr>\n",
       "      <th>31</th>\n",
       "      <td>Break My Heart</td>\n",
       "      <td>Dance-pop/Disco</td>\n",
       "      <td>-3.434</td>\n",
       "    </tr>\n",
       "    <tr>\n",
       "      <th>32</th>\n",
       "      <td>Dynamite</td>\n",
       "      <td>Disco-pop</td>\n",
       "      <td>-4.410</td>\n",
       "    </tr>\n",
       "    <tr>\n",
       "      <th>33</th>\n",
       "      <td>Supalonely (feat. Gus Dapperton)</td>\n",
       "      <td>Alternative/Indie</td>\n",
       "      <td>-4.746</td>\n",
       "    </tr>\n",
       "    <tr>\n",
       "      <th>35</th>\n",
       "      <td>Rain On Me (with Ariana Grande)</td>\n",
       "      <td>Pop</td>\n",
       "      <td>-3.764</td>\n",
       "    </tr>\n",
       "    <tr>\n",
       "      <th>37</th>\n",
       "      <td>Sunflower - Spider-Man: Into the Spider-Verse</td>\n",
       "      <td>Dreampop/Hip-Hop/R&amp;B</td>\n",
       "      <td>-4.368</td>\n",
       "    </tr>\n",
       "    <tr>\n",
       "      <th>38</th>\n",
       "      <td>Hawái</td>\n",
       "      <td>Pop</td>\n",
       "      <td>-3.454</td>\n",
       "    </tr>\n",
       "    <tr>\n",
       "      <th>39</th>\n",
       "      <td>Ride It</td>\n",
       "      <td>Dance/Electronic</td>\n",
       "      <td>-4.258</td>\n",
       "    </tr>\n",
       "    <tr>\n",
       "      <th>40</th>\n",
       "      <td>goosebumps</td>\n",
       "      <td>Hip-Hop/Rap</td>\n",
       "      <td>-3.370</td>\n",
       "    </tr>\n",
       "    <tr>\n",
       "      <th>43</th>\n",
       "      <td>Safaera</td>\n",
       "      <td>Alternative/reggaeton/experimental</td>\n",
       "      <td>-4.074</td>\n",
       "    </tr>\n",
       "    <tr>\n",
       "      <th>48</th>\n",
       "      <td>Physical</td>\n",
       "      <td>Dance/Electronic</td>\n",
       "      <td>-3.756</td>\n",
       "    </tr>\n",
       "    <tr>\n",
       "      <th>49</th>\n",
       "      <td>SICKO MODE</td>\n",
       "      <td>Hip-Hop/Rap</td>\n",
       "      <td>-3.714</td>\n",
       "    </tr>\n",
       "  </tbody>\n",
       "</table>\n",
       "</div>"
      ],
      "text/plain": [
       "                                       track_name  \\\n",
       "4                                 Don't Start Now   \n",
       "6                                Watermelon Sugar   \n",
       "10                                           Tusa   \n",
       "12                                        Circles   \n",
       "16                                  Before You Go   \n",
       "17                                         Say So   \n",
       "21                                      Adore You   \n",
       "23                         Mood (feat. iann dior)   \n",
       "31                                 Break My Heart   \n",
       "32                                       Dynamite   \n",
       "33               Supalonely (feat. Gus Dapperton)   \n",
       "35                Rain On Me (with Ariana Grande)   \n",
       "37  Sunflower - Spider-Man: Into the Spider-Verse   \n",
       "38                                          Hawái   \n",
       "39                                        Ride It   \n",
       "40                                     goosebumps   \n",
       "43                                        Safaera   \n",
       "48                                       Physical   \n",
       "49                                     SICKO MODE   \n",
       "\n",
       "                                 genre  loudness  \n",
       "4                             Nu-disco    -4.521  \n",
       "6                                  Pop    -4.209  \n",
       "10                                 Pop    -3.280  \n",
       "12                       Pop/Soft Rock    -3.497  \n",
       "16                   Alternative/Indie    -4.858  \n",
       "17                            R&B/Soul    -4.577  \n",
       "21                                 Pop    -3.675  \n",
       "23                             Pop rap    -3.558  \n",
       "31                     Dance-pop/Disco    -3.434  \n",
       "32                           Disco-pop    -4.410  \n",
       "33                   Alternative/Indie    -4.746  \n",
       "35                                 Pop    -3.764  \n",
       "37                Dreampop/Hip-Hop/R&B    -4.368  \n",
       "38                                 Pop    -3.454  \n",
       "39                    Dance/Electronic    -4.258  \n",
       "40                         Hip-Hop/Rap    -3.370  \n",
       "43  Alternative/reggaeton/experimental    -4.074  \n",
       "48                    Dance/Electronic    -3.756  \n",
       "49                         Hip-Hop/Rap    -3.714  "
      ]
     },
     "execution_count": 20,
     "metadata": {},
     "output_type": "execute_result"
    }
   ],
   "source": [
    "high_loudnes = data.loc[data.loudness > -5]\n",
    "high_loudnes[['track_name', 'genre', 'loudness']]"
   ]
  },
  {
   "cell_type": "markdown",
   "metadata": {},
   "source": [
    "### Which tracks have their loudness below -8?"
   ]
  },
  {
   "cell_type": "code",
   "execution_count": 21,
   "metadata": {},
   "outputs": [
    {
     "data": {
      "text/html": [
       "<div>\n",
       "<style scoped>\n",
       "    .dataframe tbody tr th:only-of-type {\n",
       "        vertical-align: middle;\n",
       "    }\n",
       "\n",
       "    .dataframe tbody tr th {\n",
       "        vertical-align: top;\n",
       "    }\n",
       "\n",
       "    .dataframe thead th {\n",
       "        text-align: right;\n",
       "    }\n",
       "</style>\n",
       "<table border=\"1\" class=\"dataframe\">\n",
       "  <thead>\n",
       "    <tr style=\"text-align: right;\">\n",
       "      <th></th>\n",
       "      <th>track_name</th>\n",
       "      <th>genre</th>\n",
       "      <th>loudness</th>\n",
       "    </tr>\n",
       "  </thead>\n",
       "  <tbody>\n",
       "    <tr>\n",
       "      <th>7</th>\n",
       "      <td>death bed (coffee for your head)</td>\n",
       "      <td>Hip-Hop/Rap</td>\n",
       "      <td>-8.765</td>\n",
       "    </tr>\n",
       "    <tr>\n",
       "      <th>8</th>\n",
       "      <td>Falling</td>\n",
       "      <td>R&amp;B/Hip-Hop alternative</td>\n",
       "      <td>-8.756</td>\n",
       "    </tr>\n",
       "    <tr>\n",
       "      <th>15</th>\n",
       "      <td>Toosie Slide</td>\n",
       "      <td>Hip-Hop/Rap</td>\n",
       "      <td>-8.820</td>\n",
       "    </tr>\n",
       "    <tr>\n",
       "      <th>20</th>\n",
       "      <td>Savage Love (Laxed - Siren Beat)</td>\n",
       "      <td>Hip-Hop/Rap</td>\n",
       "      <td>-8.520</td>\n",
       "    </tr>\n",
       "    <tr>\n",
       "      <th>24</th>\n",
       "      <td>everything i wanted</td>\n",
       "      <td>Pop</td>\n",
       "      <td>-14.454</td>\n",
       "    </tr>\n",
       "    <tr>\n",
       "      <th>26</th>\n",
       "      <td>bad guy</td>\n",
       "      <td>Electro-pop</td>\n",
       "      <td>-10.965</td>\n",
       "    </tr>\n",
       "    <tr>\n",
       "      <th>36</th>\n",
       "      <td>HIGHEST IN THE ROOM</td>\n",
       "      <td>Hip-Hop/Rap</td>\n",
       "      <td>-8.764</td>\n",
       "    </tr>\n",
       "    <tr>\n",
       "      <th>44</th>\n",
       "      <td>lovely (with Khalid)</td>\n",
       "      <td>Chamber pop</td>\n",
       "      <td>-10.109</td>\n",
       "    </tr>\n",
       "    <tr>\n",
       "      <th>47</th>\n",
       "      <td>If the World Was Ending - feat. Julia Michaels</td>\n",
       "      <td>Pop</td>\n",
       "      <td>-10.086</td>\n",
       "    </tr>\n",
       "  </tbody>\n",
       "</table>\n",
       "</div>"
      ],
      "text/plain": [
       "                                        track_name                    genre  \\\n",
       "7                 death bed (coffee for your head)              Hip-Hop/Rap   \n",
       "8                                          Falling  R&B/Hip-Hop alternative   \n",
       "15                                    Toosie Slide              Hip-Hop/Rap   \n",
       "20                Savage Love (Laxed - Siren Beat)              Hip-Hop/Rap   \n",
       "24                             everything i wanted                      Pop   \n",
       "26                                         bad guy              Electro-pop   \n",
       "36                             HIGHEST IN THE ROOM              Hip-Hop/Rap   \n",
       "44                            lovely (with Khalid)              Chamber pop   \n",
       "47  If the World Was Ending - feat. Julia Michaels                      Pop   \n",
       "\n",
       "    loudness  \n",
       "7     -8.765  \n",
       "8     -8.756  \n",
       "15    -8.820  \n",
       "20    -8.520  \n",
       "24   -14.454  \n",
       "26   -10.965  \n",
       "36    -8.764  \n",
       "44   -10.109  \n",
       "47   -10.086  "
      ]
     },
     "execution_count": 21,
     "metadata": {},
     "output_type": "execute_result"
    }
   ],
   "source": [
    "low_loudnes = data.loc[data.loudness < -8]\n",
    "low_loudnes[['track_name', 'genre', 'loudness']]"
   ]
  },
  {
   "cell_type": "markdown",
   "metadata": {},
   "source": [
    "### Which track is the longest?"
   ]
  },
  {
   "cell_type": "code",
   "execution_count": 22,
   "metadata": {},
   "outputs": [
    {
     "data": {
      "text/html": [
       "<div>\n",
       "<style scoped>\n",
       "    .dataframe tbody tr th:only-of-type {\n",
       "        vertical-align: middle;\n",
       "    }\n",
       "\n",
       "    .dataframe tbody tr th {\n",
       "        vertical-align: top;\n",
       "    }\n",
       "\n",
       "    .dataframe thead th {\n",
       "        text-align: right;\n",
       "    }\n",
       "</style>\n",
       "<table border=\"1\" class=\"dataframe\">\n",
       "  <thead>\n",
       "    <tr style=\"text-align: right;\">\n",
       "      <th></th>\n",
       "      <th>track_name</th>\n",
       "      <th>duration_ms</th>\n",
       "    </tr>\n",
       "  </thead>\n",
       "  <tbody>\n",
       "    <tr>\n",
       "      <th>49</th>\n",
       "      <td>SICKO MODE</td>\n",
       "      <td>312820</td>\n",
       "    </tr>\n",
       "  </tbody>\n",
       "</table>\n",
       "</div>"
      ],
      "text/plain": [
       "    track_name  duration_ms\n",
       "49  SICKO MODE       312820"
      ]
     },
     "execution_count": 22,
     "metadata": {},
     "output_type": "execute_result"
    }
   ],
   "source": [
    "longest_tracks = data.loc[data.duration_ms == data.duration_ms.max()]\n",
    "\n",
    "longest_tracks[['track_name', 'duration_ms']]"
   ]
  },
  {
   "cell_type": "markdown",
   "metadata": {},
   "source": [
    "### Which track is the shortest?"
   ]
  },
  {
   "cell_type": "code",
   "execution_count": 23,
   "metadata": {},
   "outputs": [
    {
     "data": {
      "text/html": [
       "<div>\n",
       "<style scoped>\n",
       "    .dataframe tbody tr th:only-of-type {\n",
       "        vertical-align: middle;\n",
       "    }\n",
       "\n",
       "    .dataframe tbody tr th {\n",
       "        vertical-align: top;\n",
       "    }\n",
       "\n",
       "    .dataframe thead th {\n",
       "        text-align: right;\n",
       "    }\n",
       "</style>\n",
       "<table border=\"1\" class=\"dataframe\">\n",
       "  <thead>\n",
       "    <tr style=\"text-align: right;\">\n",
       "      <th></th>\n",
       "      <th>track_name</th>\n",
       "      <th>duration_ms</th>\n",
       "    </tr>\n",
       "  </thead>\n",
       "  <tbody>\n",
       "    <tr>\n",
       "      <th>23</th>\n",
       "      <td>Mood (feat. iann dior)</td>\n",
       "      <td>140526</td>\n",
       "    </tr>\n",
       "  </tbody>\n",
       "</table>\n",
       "</div>"
      ],
      "text/plain": [
       "                track_name  duration_ms\n",
       "23  Mood (feat. iann dior)       140526"
      ]
     },
     "execution_count": 23,
     "metadata": {},
     "output_type": "execute_result"
    }
   ],
   "source": [
    "shortest_tracks = data.loc[data.duration_ms == data.duration_ms.min()]\n",
    "\n",
    "shortest_tracks[['track_name', 'duration_ms']]"
   ]
  },
  {
   "cell_type": "markdown",
   "metadata": {},
   "source": [
    "### Which genre is the most popular?\n"
   ]
  },
  {
   "cell_type": "code",
   "execution_count": 24,
   "metadata": {},
   "outputs": [
    {
     "data": {
      "text/plain": [
       "'Pop'"
      ]
     },
     "execution_count": 24,
     "metadata": {},
     "output_type": "execute_result"
    }
   ],
   "source": [
    "genre_count = data.genre.value_counts()\n",
    "genre_count.idxmax()"
   ]
  },
  {
   "cell_type": "code",
   "execution_count": 25,
   "metadata": {},
   "outputs": [
    {
     "data": {
      "text/plain": [
       "genre\n",
       "Hip-Hop                15\n",
       "Pop                    15\n",
       "Rap                    13\n",
       "Alternative             5\n",
       "Dance                   5\n",
       "Electronic              5\n",
       "R&B                     4\n",
       "Indie                   4\n",
       "Soul                    2\n",
       " Electro-pop            2\n",
       "Disco                   1\n",
       "experimental            1\n",
       "reggaeton               1\n",
       "Dreampop                1\n",
       "Disco-pop               1\n",
       "Soft Rock               1\n",
       "Dance-pop               1\n",
       "Trap                    1\n",
       "Pop rap                 1\n",
       "Hip-Hop alternative     1\n",
       "Nu-disco                1\n",
       "Chamber pop             1\n",
       "Name: count, dtype: int64"
      ]
     },
     "execution_count": 25,
     "metadata": {},
     "output_type": "execute_result"
    }
   ],
   "source": [
    "track_genre = data.genre.str.split(\"/\")\n",
    "track_genre.explode('genre').value_counts()"
   ]
  },
  {
   "cell_type": "markdown",
   "metadata": {},
   "source": [
    "### Which genres have just one song on the top 50?"
   ]
  },
  {
   "cell_type": "code",
   "execution_count": 26,
   "metadata": {},
   "outputs": [
    {
     "data": {
      "text/plain": [
       "genre\n",
       "Nu-disco                              1\n",
       "R&B/Hip-Hop alternative               1\n",
       "Pop/Soft Rock                         1\n",
       "Pop rap                               1\n",
       "Hip-Hop/Trap                          1\n",
       "Dance-pop/Disco                       1\n",
       "Disco-pop                             1\n",
       "Dreampop/Hip-Hop/R&B                  1\n",
       "Alternative/reggaeton/experimental    1\n",
       "Chamber pop                           1\n",
       "Name: count, dtype: int64"
      ]
     },
     "execution_count": 26,
     "metadata": {},
     "output_type": "execute_result"
    }
   ],
   "source": [
    "genre_count[genre_count == 1]"
   ]
  },
  {
   "cell_type": "markdown",
   "metadata": {},
   "source": [
    "### How many genres in total are represented in the top 50?"
   ]
  },
  {
   "cell_type": "code",
   "execution_count": 27,
   "metadata": {},
   "outputs": [
    {
     "name": "stdout",
     "output_type": "stream",
     "text": [
      "There are 16 genres represented in the top 50\n"
     ]
    },
    {
     "data": {
      "text/plain": [
       "array(['R&B/Soul', 'Alternative/Indie', 'Hip-Hop/Rap', 'Dance/Electronic',\n",
       "       'Nu-disco', 'Pop', 'R&B/Hip-Hop alternative', 'Pop/Soft Rock',\n",
       "       'Pop rap', ' Electro-pop', 'Hip-Hop/Trap', 'Dance-pop/Disco',\n",
       "       'Disco-pop', 'Dreampop/Hip-Hop/R&B',\n",
       "       'Alternative/reggaeton/experimental', 'Chamber pop'], dtype=object)"
      ]
     },
     "execution_count": 27,
     "metadata": {},
     "output_type": "execute_result"
    }
   ],
   "source": [
    "print(f'There are {len(data.genre.unique())} genres represented in the top 50')\n",
    "data.genre.unique()"
   ]
  },
  {
   "cell_type": "markdown",
   "metadata": {},
   "source": [
    "### Which features are strongly positively correlated?\n"
   ]
  },
  {
   "cell_type": "code",
   "execution_count": 28,
   "metadata": {},
   "outputs": [
    {
     "data": {
      "image/png": "[encoded data removed]",
      "text/plain": [
       "<Figure size 1200x800 with 2 Axes>"
      ]
     },
     "metadata": {},
     "output_type": "display_data"
    }
   ],
   "source": [
    "import numpy as np\n",
    "corr_data = data.select_dtypes(include='number')\n",
    "\n",
    "corr_matrix = corr_data.corr()\n",
    "\n",
    "plt.figure(figsize=(12, 8))\n",
    "sns.heatmap(corr_matrix, mask = np.triu(corr_matrix), annot=True, cmap=\"viridis\", vmax=1.0, vmin=-1.0)\n",
    "plt.title(\"Correlation Heatmap\")\n",
    "plt.show()"
   ]
  },
  {
   "cell_type": "code",
   "execution_count": 29,
   "metadata": {},
   "outputs": [],
   "source": [
    "strong_positive_threshold = 0.7\n",
    "\n",
    "\n",
    "strong_positive_corr = corr_matrix[(corr_matrix >= strong_positive_threshold) & (corr_matrix < 1)]\n",
    "positive_corr_pairs = strong_positive_corr.stack().index.tolist()"
   ]
  },
  {
   "cell_type": "code",
   "execution_count": 30,
   "metadata": {},
   "outputs": [
    {
     "data": {
      "text/plain": [
       "[('energy', 'loudness'), ('loudness', 'energy')]"
      ]
     },
     "execution_count": 30,
     "metadata": {},
     "output_type": "execute_result"
    }
   ],
   "source": [
    "positive_corr_pairs"
   ]
  },
  {
   "cell_type": "markdown",
   "metadata": {},
   "source": [
    "### Which features are strongly negatively correlated?\n"
   ]
  },
  {
   "cell_type": "code",
   "execution_count": 31,
   "metadata": {},
   "outputs": [],
   "source": [
    "strong_negative_threshold = -0.7\n",
    "\n",
    "strong_negative_corr = corr_matrix[(corr_matrix <= strong_negative_threshold) & (corr_matrix > -1)]\n",
    "negative_corr_pairs = strong_negative_corr.stack().index.tolist()"
   ]
  },
  {
   "cell_type": "code",
   "execution_count": 32,
   "metadata": {},
   "outputs": [
    {
     "data": {
      "text/plain": [
       "[]"
      ]
     },
     "execution_count": 32,
     "metadata": {},
     "output_type": "execute_result"
    }
   ],
   "source": [
    "negative_corr_pairs"
   ]
  },
  {
   "cell_type": "markdown",
   "metadata": {},
   "source": [
    "### Which features are not correlated?"
   ]
  },
  {
   "cell_type": "code",
   "execution_count": 33,
   "metadata": {},
   "outputs": [
    {
     "name": "stdout",
     "output_type": "stream",
     "text": [
      "[]\n"
     ]
    }
   ],
   "source": [
    "uncorrelated_features = corr_matrix[(corr_matrix == 0.0)]\n",
    "uncorrelated_pairs = uncorrelated_features.stack().index.tolist()\n",
    "\n",
    "print(uncorrelated_pairs)"
   ]
  },
  {
   "cell_type": "markdown",
   "metadata": {},
   "source": [
    "### How does the danceability score compare between Pop, Hip-Hop/Rap, Dance/Electronic, and Alternative/Indie genres?"
   ]
  },
  {
   "cell_type": "code",
   "execution_count": 34,
   "metadata": {},
   "outputs": [
    {
     "data": {
      "text/html": [
       "<div>\n",
       "<style scoped>\n",
       "    .dataframe tbody tr th:only-of-type {\n",
       "        vertical-align: middle;\n",
       "    }\n",
       "\n",
       "    .dataframe tbody tr th {\n",
       "        vertical-align: top;\n",
       "    }\n",
       "\n",
       "    .dataframe thead th {\n",
       "        text-align: right;\n",
       "    }\n",
       "</style>\n",
       "<table border=\"1\" class=\"dataframe\">\n",
       "  <thead>\n",
       "    <tr style=\"text-align: right;\">\n",
       "      <th></th>\n",
       "      <th>danceability</th>\n",
       "      <th>loudness</th>\n",
       "      <th>acousticness</th>\n",
       "    </tr>\n",
       "    <tr>\n",
       "      <th>genre</th>\n",
       "      <th></th>\n",
       "      <th></th>\n",
       "      <th></th>\n",
       "    </tr>\n",
       "  </thead>\n",
       "  <tbody>\n",
       "    <tr>\n",
       "      <th>Alternative/Indie</th>\n",
       "      <td>0.663</td>\n",
       "      <td>-5.2685</td>\n",
       "      <td>0.6460</td>\n",
       "    </tr>\n",
       "    <tr>\n",
       "      <th>Dance/Electronic</th>\n",
       "      <td>0.785</td>\n",
       "      <td>-5.4570</td>\n",
       "      <td>0.0686</td>\n",
       "    </tr>\n",
       "    <tr>\n",
       "      <th>Hip-Hop/Rap</th>\n",
       "      <td>0.774</td>\n",
       "      <td>-7.6480</td>\n",
       "      <td>0.1450</td>\n",
       "    </tr>\n",
       "    <tr>\n",
       "      <th>Pop</th>\n",
       "      <td>0.690</td>\n",
       "      <td>-6.6445</td>\n",
       "      <td>0.2590</td>\n",
       "    </tr>\n",
       "  </tbody>\n",
       "</table>\n",
       "</div>"
      ],
      "text/plain": [
       "                   danceability  loudness  acousticness\n",
       "genre                                                  \n",
       "Alternative/Indie         0.663   -5.2685        0.6460\n",
       "Dance/Electronic          0.785   -5.4570        0.0686\n",
       "Hip-Hop/Rap               0.774   -7.6480        0.1450\n",
       "Pop                       0.690   -6.6445        0.2590"
      ]
     },
     "execution_count": 34,
     "metadata": {},
     "output_type": "execute_result"
    }
   ],
   "source": [
    "\n",
    "genres = ['Pop', 'Hip-Hop/Rap', 'Dance/Electronic', 'Alternative/Indie']\n",
    "\n",
    "genre_df = data[data.genre.isin(genres)]\n",
    "\n",
    "mean_genre_df = genre_df.groupby('genre')[['danceability', 'loudness', 'acousticness']].median()\n",
    "\n",
    "mean_genre_df\n"
   ]
  },
  {
   "cell_type": "code",
   "execution_count": 35,
   "metadata": {},
   "outputs": [
    {
     "data": {
      "text/plain": [
       "Index(['Alternative/Indie', 'Dance/Electronic', 'Hip-Hop/Rap', 'Pop'], dtype='object', name='genre')"
      ]
     },
     "execution_count": 35,
     "metadata": {},
     "output_type": "execute_result"
    }
   ],
   "source": [
    "mean_genre_df.index"
   ]
  },
  {
   "cell_type": "code",
   "execution_count": 36,
   "metadata": {},
   "outputs": [],
   "source": [
    "def create_plot(data, metric, category):\n",
    "    plt.figure(figsize=(10, 6))\n",
    "    plt.bar(x = data.index, height=data[metric], color='skyblue') \n",
    "    plt.title(f'{metric} Score Comparison by {category}')\n",
    "    plt.ylabel(f'{metric} Score')\n",
    "    plt.xlabel(f'{category}')\n",
    "    plt.xticks(rotation=45)\n",
    "    plt.show()"
   ]
  },
  {
   "cell_type": "code",
   "execution_count": 37,
   "metadata": {},
   "outputs": [
    {
     "data": {
      "image/png": "[encoded data removed]",
      "text/plain": [
       "<Figure size 1000x600 with 1 Axes>"
      ]
     },
     "metadata": {},
     "output_type": "display_data"
    }
   ],
   "source": [
    "create_plot(mean_genre_df, 'danceability', 'genre')"
   ]
  },
  {
   "cell_type": "markdown",
   "metadata": {},
   "source": [
    "We see here that the `Dance/Electronic` genre has the highest median danceability closely followed by `Hip-Hop/Rap` genre. This goes a long way to tell us about the nature of these kinds of music. The `Alternative/Indie` genre has the least meadian danceability showing that tracks in this genre are least danceable.\n",
    "\n",
    "***\n",
    "### How does the loudness score compare between Pop, Hip-Hop/Rap, Dance/Electronic, and Alternative/Indie genres?"
   ]
  },
  {
   "cell_type": "code",
   "execution_count": 38,
   "metadata": {},
   "outputs": [
    {
     "data": {
      "image/png": "[encoded data removed]",
      "text/plain": [
       "<Figure size 1000x600 with 1 Axes>"
      ]
     },
     "metadata": {},
     "output_type": "display_data"
    }
   ],
   "source": [
    "\n",
    "create_plot(mean_genre_df, 'loudness', 'genre')"
   ]
  },
  {
   "cell_type": "markdown",
   "metadata": {},
   "source": [
    "From the plot above, the `Hip-Hop/Rap` genre is the least in terms of loudness based on the median value, followed by the `Pop` genre. The `Alternative/Indie` genre is the loudest genre\n",
    "***\n",
    "### How does the acousticness score compare between Pop, Hip-Hop/Rap, Dance/Electronic, and Alternative/Indie genres?"
   ]
  },
  {
   "cell_type": "code",
   "execution_count": 39,
   "metadata": {},
   "outputs": [
    {
     "data": {
      "image/png": "[encoded data removed]",
      "text/plain": [
       "<Figure size 1000x600 with 1 Axes>"
      ]
     },
     "metadata": {},
     "output_type": "display_data"
    }
   ],
   "source": [
    "create_plot(mean_genre_df, 'acousticness', 'genre')"
   ]
  },
  {
   "cell_type": "markdown",
   "metadata": {},
   "source": [
    "The `Alternative/Indie` genre has the highest acousticness and in reality this is actually true because most of the music in this genre a produced with non-electric instrument. The `Dance/Electric` genre has the least acousticness because most of the sounds in this type music are produced with electronic instruments.\n",
    "\n",
    "***\n",
    "# Findings\n",
    "\n",
    "From this analysis, we can conclude that factors in this order: `loudness`, `acousticness`, `eneregy` and `danceability` respectively, influence the popularity of a song. From the analysis we discovered that Artists and Genre that feature high loudness and acousticness appear to be more popular, a typical example is the `Alternative/Indie` genre.\n",
    "\n",
    "\n",
    "# Improvements\n",
    "More data is reuired to carry out a more detailed analysis and to drill down and perform more granular analysis.\n",
    "\n",
    "\n",
    "\n"
   ]
  },
  {
   "cell_type": "code",
   "execution_count": null,
   "metadata": {},
   "outputs": [],
   "source": []
  }
 ],
 "metadata": {
  "kernelspec": {
   "display_name": "base",
   "language": "python",
   "name": "python3"
  },
  "language_info": {
   "codemirror_mode": {
    "name": "ipython",
    "version": 3
   },
   "file_extension": ".py",
   "mimetype": "text/x-python",
   "name": "python",
   "nbconvert_exporter": "python",
   "pygments_lexer": "ipython3",
   "version": "3.9.13"
  }
 },
 "nbformat": 4,
 "nbformat_minor": 2
}
