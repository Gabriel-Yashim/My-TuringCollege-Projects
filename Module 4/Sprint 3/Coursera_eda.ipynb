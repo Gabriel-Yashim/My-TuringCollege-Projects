{
 "cells": [
  {
   "cell_type": "markdown",
   "metadata": {},
   "source": [
    "\n",
    "# Exploring the Dynamics of Online Learning: Insights from Coursera Courses Data\n",
    "\n",
    "## Project\n",
    "\n",
    "Online learning platforms like Coursera have revolutionized the education landscape, offering diverse courses catering to various interests, skill levels, and professional goals. This dataset provides a rich source of information about courses, their providers, difficulty levels, certifications, and popularity metrics like ratings and enrollment. By conducting an Exploratory Data Analysis (EDA) on this dataset, we aim to uncover trends and patterns that can help new learners make informed decisions about their educational journey.\n",
    "\n",
    "\n",
    "## Goal\n",
    "The goal of this project is to analyze and interpret the Coursera courses dataset to provide actionable insights about the availability, quality, and accessibility of online courses."
   ]
  },
  {
   "cell_type": "markdown",
   "metadata": {},
   "source": [
    "### First, let's start by importing the necessary libraries and the dataset"
   ]
  },
  {
   "cell_type": "code",
   "execution_count": 1,
   "metadata": {},
   "outputs": [],
   "source": [
    "import pandas as pd\n",
    "import seaborn as sns\n",
    "import matplotlib.pyplot as plt\n",
    "import plotly.express as px\n",
    "\n",
    "from collections import Counter\n",
    "import nltk\n",
    "from nltk.corpus import stopwords\n",
    "import re"
   ]
  },
  {
   "cell_type": "code",
   "execution_count": 2,
   "metadata": {},
   "outputs": [
    {
     "data": {
      "text/html": [
       "<div>\n",
       "<style scoped>\n",
       "    .dataframe tbody tr th:only-of-type {\n",
       "        vertical-align: middle;\n",
       "    }\n",
       "\n",
       "    .dataframe tbody tr th {\n",
       "        vertical-align: top;\n",
       "    }\n",
       "\n",
       "    .dataframe thead th {\n",
       "        text-align: right;\n",
       "    }\n",
       "</style>\n",
       "<table border=\"1\" class=\"dataframe\">\n",
       "  <thead>\n",
       "    <tr style=\"text-align: right;\">\n",
       "      <th></th>\n",
       "      <th>course_title</th>\n",
       "      <th>course_organization</th>\n",
       "      <th>course_Certificate_type</th>\n",
       "      <th>course_rating</th>\n",
       "      <th>course_difficulty</th>\n",
       "      <th>course_students_enrolled</th>\n",
       "    </tr>\n",
       "  </thead>\n",
       "  <tbody>\n",
       "    <tr>\n",
       "      <th>134</th>\n",
       "      <td>(ISC)² Systems Security Certified Practitioner...</td>\n",
       "      <td>(ISC)²</td>\n",
       "      <td>SPECIALIZATION</td>\n",
       "      <td>4.7</td>\n",
       "      <td>Beginner</td>\n",
       "      <td>5.3k</td>\n",
       "    </tr>\n",
       "    <tr>\n",
       "      <th>743</th>\n",
       "      <td>A Crash Course in Causality:  Inferring Causal...</td>\n",
       "      <td>University of Pennsylvania</td>\n",
       "      <td>COURSE</td>\n",
       "      <td>4.7</td>\n",
       "      <td>Intermediate</td>\n",
       "      <td>17k</td>\n",
       "    </tr>\n",
       "    <tr>\n",
       "      <th>874</th>\n",
       "      <td>A Crash Course in Data Science</td>\n",
       "      <td>Johns Hopkins University</td>\n",
       "      <td>COURSE</td>\n",
       "      <td>4.5</td>\n",
       "      <td>Mixed</td>\n",
       "      <td>130k</td>\n",
       "    </tr>\n",
       "    <tr>\n",
       "      <th>413</th>\n",
       "      <td>A Law Student's Toolkit</td>\n",
       "      <td>Yale University</td>\n",
       "      <td>COURSE</td>\n",
       "      <td>4.7</td>\n",
       "      <td>Mixed</td>\n",
       "      <td>91k</td>\n",
       "    </tr>\n",
       "    <tr>\n",
       "      <th>635</th>\n",
       "      <td>A Life of Happiness and Fulfillment</td>\n",
       "      <td>Indian School of Business</td>\n",
       "      <td>COURSE</td>\n",
       "      <td>4.8</td>\n",
       "      <td>Mixed</td>\n",
       "      <td>320k</td>\n",
       "    </tr>\n",
       "  </tbody>\n",
       "</table>\n",
       "</div>"
      ],
      "text/plain": [
       "                                          course_title  \\\n",
       "134  (ISC)² Systems Security Certified Practitioner...   \n",
       "743  A Crash Course in Causality:  Inferring Causal...   \n",
       "874                     A Crash Course in Data Science   \n",
       "413                            A Law Student's Toolkit   \n",
       "635                A Life of Happiness and Fulfillment   \n",
       "\n",
       "            course_organization course_Certificate_type  course_rating  \\\n",
       "134                      (ISC)²          SPECIALIZATION            4.7   \n",
       "743  University of Pennsylvania                  COURSE            4.7   \n",
       "874    Johns Hopkins University                  COURSE            4.5   \n",
       "413             Yale University                  COURSE            4.7   \n",
       "635   Indian School of Business                  COURSE            4.8   \n",
       "\n",
       "    course_difficulty course_students_enrolled  \n",
       "134          Beginner                     5.3k  \n",
       "743      Intermediate                      17k  \n",
       "874             Mixed                     130k  \n",
       "413             Mixed                      91k  \n",
       "635             Mixed                     320k  "
      ]
     },
     "execution_count": 2,
     "metadata": {},
     "output_type": "execute_result"
    }
   ],
   "source": [
    "data = pd.read_csv('coursea_data.csv', index_col=0)\n",
    "data.head()"
   ]
  },
  {
   "cell_type": "code",
   "execution_count": 3,
   "metadata": {},
   "outputs": [],
   "source": [
    "data = data.rename(columns={'course_title':'title', 'course_organization':'organization', 'course_Certificate_type':'certificate_type',\n",
    "       'course_rating':'rating', 'course_difficulty':'difficulty', 'course_students_enrolled':'students_enrolled'})"
   ]
  },
  {
   "cell_type": "code",
   "execution_count": 4,
   "metadata": {},
   "outputs": [
    {
     "data": {
      "text/plain": [
       "(891, 6)"
      ]
     },
     "execution_count": 4,
     "metadata": {},
     "output_type": "execute_result"
    }
   ],
   "source": [
    "data.shape"
   ]
  },
  {
   "cell_type": "code",
   "execution_count": 5,
   "metadata": {},
   "outputs": [
    {
     "name": "stdout",
     "output_type": "stream",
     "text": [
      "<class 'pandas.core.frame.DataFrame'>\n",
      "Index: 891 entries, 134 to 163\n",
      "Data columns (total 6 columns):\n",
      " #   Column             Non-Null Count  Dtype  \n",
      "---  ------             --------------  -----  \n",
      " 0   title              891 non-null    object \n",
      " 1   organization       891 non-null    object \n",
      " 2   certificate_type   891 non-null    object \n",
      " 3   rating             891 non-null    float64\n",
      " 4   difficulty         891 non-null    object \n",
      " 5   students_enrolled  891 non-null    object \n",
      "dtypes: float64(1), object(5)\n",
      "memory usage: 48.7+ KB\n"
     ]
    }
   ],
   "source": [
    "data.info()"
   ]
  },
  {
   "cell_type": "code",
   "execution_count": 6,
   "metadata": {},
   "outputs": [
    {
     "data": {
      "text/plain": [
       "title                0\n",
       "organization         0\n",
       "certificate_type     0\n",
       "rating               0\n",
       "difficulty           0\n",
       "students_enrolled    0\n",
       "dtype: int64"
      ]
     },
     "execution_count": 6,
     "metadata": {},
     "output_type": "execute_result"
    }
   ],
   "source": [
    "data.isnull().sum()"
   ]
  },
  {
   "cell_type": "code",
   "execution_count": 7,
   "metadata": {},
   "outputs": [
    {
     "data": {
      "text/plain": [
       "0"
      ]
     },
     "execution_count": 7,
     "metadata": {},
     "output_type": "execute_result"
    }
   ],
   "source": [
    "data.duplicated().sum()"
   ]
  },
  {
   "cell_type": "code",
   "execution_count": 8,
   "metadata": {},
   "outputs": [
    {
     "data": {
      "text/plain": [
       "Index(['title', 'organization', 'certificate_type', 'rating', 'difficulty',\n",
       "       'students_enrolled'],\n",
       "      dtype='object')"
      ]
     },
     "execution_count": 8,
     "metadata": {},
     "output_type": "execute_result"
    }
   ],
   "source": [
    "data.columns"
   ]
  },
  {
   "cell_type": "code",
   "execution_count": 9,
   "metadata": {},
   "outputs": [
    {
     "data": {
      "text/plain": [
       "['(ISC)²',\n",
       " 'University of Pennsylvania',\n",
       " 'Johns Hopkins University',\n",
       " 'Yale University',\n",
       " 'Indian School of Business',\n",
       " 'University at Buffalo',\n",
       " 'deeplearning.ai',\n",
       " 'IBM',\n",
       " 'Amazon Web Services',\n",
       " 'University of Toronto',\n",
       " 'University of California, Irvine',\n",
       " 'University of Illinois at Urbana-Champaign',\n",
       " 'University of Michigan',\n",
       " 'Universidad Nacional Autónoma de México',\n",
       " 'University of Colorado Boulder',\n",
       " 'National Research University Higher School of Economics',\n",
       " 'Google Cloud',\n",
       " 'Erasmus University Rotterdam',\n",
       " 'Duke University',\n",
       " 'University of Virginia',\n",
       " 'Atlassian',\n",
       " 'ScrumTrek',\n",
       " 'University of California San Diego',\n",
       " 'Stanford University',\n",
       " 'University of Colorado System',\n",
       " 'Copenhagen Business School',\n",
       " 'Macquarie University',\n",
       " 'Vanderbilt University',\n",
       " 'The University of Edinburgh',\n",
       " 'Technical University of Denmark (DTU)',\n",
       " 'Universidad Austral',\n",
       " 'Arizona State University',\n",
       " 'The Museum of Modern Art',\n",
       " 'National Arts Strategies',\n",
       " 'Università Bocconi',\n",
       " 'Pontificia Universidad Católica de Chile',\n",
       " 'University of California, Davis',\n",
       " 'Autodesk',\n",
       " 'National Taiwan University',\n",
       " 'University of Amsterdam',\n",
       " 'University of California, Santa Cruz',\n",
       " 'Google - Spectrum Sharing',\n",
       " 'Michigan State University',\n",
       " 'Case Western Reserve University',\n",
       " 'University of Cape Town',\n",
       " 'Universitat Autònoma de Barcelona',\n",
       " 'Emory University',\n",
       " 'INSEAD',\n",
       " 'ConsenSys Academy',\n",
       " 'HEC Paris',\n",
       " 'London Business School',\n",
       " 'IE Business School',\n",
       " 'University of Alberta',\n",
       " 'Hebrew University of Jerusalem',\n",
       " 'University of Washington',\n",
       " 'Rice University',\n",
       " 'Osmosis',\n",
       " 'University of Lausanne',\n",
       " 'Peking University',\n",
       " 'Cisco',\n",
       " 'IESE Business School',\n",
       " 'University of Pittsburgh',\n",
       " 'LearnQuest',\n",
       " 'Ludwig-Maximilians-Universität München (LMU)',\n",
       " 'Columbia University',\n",
       " 'Northwestern University',\n",
       " 'Georgia Institute of Technology',\n",
       " 'UCL School of Management',\n",
       " 'Universidad de Chile',\n",
       " 'Google',\n",
       " 'University of Minnesota',\n",
       " 'Wesleyan University',\n",
       " 'University of New Mexico',\n",
       " 'University of Maryland, College Park',\n",
       " 'University System of Georgia',\n",
       " 'The Pennsylvania State University',\n",
       " 'PwC',\n",
       " 'Universiteit Leiden',\n",
       " 'Novosibirsk State University ',\n",
       " 'The University of Sydney',\n",
       " 'Berklee College of Music',\n",
       " 'Ticket for Change',\n",
       " 'Lund University',\n",
       " 'The University of Melbourne',\n",
       " 'Tecnológico de Monterrey',\n",
       " 'American Museum of Natural History',\n",
       " 'University of Geneva',\n",
       " 'Yonsei University',\n",
       " 'New York University',\n",
       " 'Moscow Institute of Physics and Technology',\n",
       " 'Peter the Great St. Petersburg Polytechnic University',\n",
       " 'Imperial College London',\n",
       " 'The University of North Carolina at Chapel Hill',\n",
       " 'The George Washington University',\n",
       " 'The Hong Kong University of Science and Technology',\n",
       " 'West Virginia University',\n",
       " 'Universidad de los Andes',\n",
       " 'The University of Tokyo',\n",
       " 'École Polytechnique Fédérale de Lausanne',\n",
       " 'California Institute of the Arts',\n",
       " 'Institute for the Future',\n",
       " 'Sciences Po',\n",
       " 'ESADE Business and Law School',\n",
       " 'Bloomsbury Learning Exchange',\n",
       " 'SAS',\n",
       " 'SOAS University of London',\n",
       " 'EDHEC Business School',\n",
       " 'University of Florida',\n",
       " 'Rutgers the State University of New Jersey',\n",
       " 'ESSEC Business School',\n",
       " 'The State University of New York',\n",
       " 'Automation Anywhere',\n",
       " 'Luther College at the University of Regina',\n",
       " 'Royal Holloway, University of London',\n",
       " 'ESCP Business School',\n",
       " 'University of London',\n",
       " 'Kalshoven-Gieskes Forum',\n",
       " 'The University of Chicago',\n",
       " 'Goldsmiths, University of London',\n",
       " 'Nanyang Technological University, Singapore',\n",
       " 'UNSW Sydney (The University of New South Wales)',\n",
       " 'New York Institute of Finance',\n",
       " 'Universidade de São Paulo',\n",
       " 'Saint Petersburg State University',\n",
       " 'JetBrains',\n",
       " 'Tsinghua University',\n",
       " 'Shanghai Jiao Tong University',\n",
       " 'Universitat de Barcelona',\n",
       " 'IE School of Architecture & Design',\n",
       " 'McMaster University',\n",
       " 'Cloudera',\n",
       " 'VMware',\n",
       " 'The Linux Foundation',\n",
       " 'Palo Alto Networks',\n",
       " 'MathWorks',\n",
       " 'E-Learning Development Fund',\n",
       " 'BCG',\n",
       " 'Eindhoven University of Technology',\n",
       " 'Universidade Estadual de Campinas',\n",
       " 'HubSpot Academy',\n",
       " 'Crece con Google',\n",
       " 'Fundação Instituto de Administração',\n",
       " 'UCL Institute of Education',\n",
       " 'University of Copenhagen',\n",
       " 'Icahn School of Medicine at Mount Sinai',\n",
       " 'Relay Graduate School of Education',\n",
       " 'Birkbeck, University of London',\n",
       " 'École des Ponts ParisTech',\n",
       " 'American Institute of Business and Economics',\n",
       " 'Tel Aviv University',\n",
       " 'Unity',\n",
       " 'The University of Hong Kong',\n",
       " 'École Polytechnique',\n",
       " 'Mail.Ru Group']"
      ]
     },
     "execution_count": 9,
     "metadata": {},
     "output_type": "execute_result"
    }
   ],
   "source": [
    "\n",
    "organizarions = data.organization.unique().tolist()\n",
    "organizarions"
   ]
  },
  {
   "cell_type": "code",
   "execution_count": 10,
   "metadata": {},
   "outputs": [
    {
     "data": {
      "text/plain": [
       "organization\n",
       "University of Pennsylvania                     59\n",
       "University of Michigan                         41\n",
       "Google Cloud                                   34\n",
       "Johns Hopkins University                       28\n",
       "Duke University                                28\n",
       "                                               ..\n",
       "Nanyang Technological University, Singapore     1\n",
       "ScrumTrek                                       1\n",
       "JetBrains                                       1\n",
       "Tsinghua University                             1\n",
       "Mail.Ru Group                                   1\n",
       "Name: count, Length: 154, dtype: int64"
      ]
     },
     "execution_count": 10,
     "metadata": {},
     "output_type": "execute_result"
    }
   ],
   "source": [
    "data.organization.value_counts()"
   ]
  },
  {
   "cell_type": "code",
   "execution_count": 11,
   "metadata": {},
   "outputs": [
    {
     "data": {
      "text/plain": [
       "certificate_type\n",
       "COURSE                      582\n",
       "SPECIALIZATION              297\n",
       "PROFESSIONAL CERTIFICATE     12\n",
       "Name: count, dtype: int64"
      ]
     },
     "execution_count": 11,
     "metadata": {},
     "output_type": "execute_result"
    }
   ],
   "source": [
    "data.certificate_type.value_counts()"
   ]
  },
  {
   "cell_type": "code",
   "execution_count": 12,
   "metadata": {},
   "outputs": [
    {
     "data": {
      "text/plain": [
       "difficulty\n",
       "Beginner        487\n",
       "Intermediate    198\n",
       "Mixed           187\n",
       "Advanced         19\n",
       "Name: count, dtype: int64"
      ]
     },
     "execution_count": 12,
     "metadata": {},
     "output_type": "execute_result"
    }
   ],
   "source": [
    "data.difficulty.value_counts()"
   ]
  },
  {
   "cell_type": "markdown",
   "metadata": {},
   "source": [
    "From the our little inspection we can see that this data has no missing values or duplicates. We also notice the following:\n",
    "- There are 154 unique organizations serving as course providers in the dataset with `University of Pennsylvania`, `University of Michigan`, and `Google Cloud` being the top 3 organization respectively.\n",
    "\n",
    "- There are three certificate types `COURSE`, `SPECIALIZATION`, and `PROFESSIONAL CERTIFICATE`\n",
    "\n",
    "- There are 4 difficulty level, with the `Beginner` courses taking  over 50% of the entire dataset.\n",
    "***\n",
    "### Data Cleaning\n",
    "We need to clean the `course_students_enrolled`column. It is supposed to be an integer column but it is viewed as an object column by pandas because the values are recorded in k, as in `25k` and `2.3k` for `25000` and `2500` respectfully. To handle that, we create a function to clean the 'course_students_enrolled' column, by remove 'k', convert to float, and multiply by 1,000.\n"
   ]
  },
  {
   "cell_type": "code",
   "execution_count": 13,
   "metadata": {},
   "outputs": [
    {
     "data": {
      "text/html": [
       "<div>\n",
       "<style scoped>\n",
       "    .dataframe tbody tr th:only-of-type {\n",
       "        vertical-align: middle;\n",
       "    }\n",
       "\n",
       "    .dataframe tbody tr th {\n",
       "        vertical-align: top;\n",
       "    }\n",
       "\n",
       "    .dataframe thead th {\n",
       "        text-align: right;\n",
       "    }\n",
       "</style>\n",
       "<table border=\"1\" class=\"dataframe\">\n",
       "  <thead>\n",
       "    <tr style=\"text-align: right;\">\n",
       "      <th></th>\n",
       "      <th>title</th>\n",
       "      <th>organization</th>\n",
       "      <th>certificate_type</th>\n",
       "      <th>rating</th>\n",
       "      <th>difficulty</th>\n",
       "      <th>students_enrolled</th>\n",
       "    </tr>\n",
       "  </thead>\n",
       "  <tbody>\n",
       "    <tr>\n",
       "      <th>134</th>\n",
       "      <td>(ISC)² Systems Security Certified Practitioner...</td>\n",
       "      <td>(ISC)²</td>\n",
       "      <td>SPECIALIZATION</td>\n",
       "      <td>4.7</td>\n",
       "      <td>Beginner</td>\n",
       "      <td>5300</td>\n",
       "    </tr>\n",
       "    <tr>\n",
       "      <th>743</th>\n",
       "      <td>A Crash Course in Causality:  Inferring Causal...</td>\n",
       "      <td>University of Pennsylvania</td>\n",
       "      <td>COURSE</td>\n",
       "      <td>4.7</td>\n",
       "      <td>Intermediate</td>\n",
       "      <td>17000</td>\n",
       "    </tr>\n",
       "    <tr>\n",
       "      <th>874</th>\n",
       "      <td>A Crash Course in Data Science</td>\n",
       "      <td>Johns Hopkins University</td>\n",
       "      <td>COURSE</td>\n",
       "      <td>4.5</td>\n",
       "      <td>Mixed</td>\n",
       "      <td>130000</td>\n",
       "    </tr>\n",
       "    <tr>\n",
       "      <th>413</th>\n",
       "      <td>A Law Student's Toolkit</td>\n",
       "      <td>Yale University</td>\n",
       "      <td>COURSE</td>\n",
       "      <td>4.7</td>\n",
       "      <td>Mixed</td>\n",
       "      <td>91000</td>\n",
       "    </tr>\n",
       "    <tr>\n",
       "      <th>635</th>\n",
       "      <td>A Life of Happiness and Fulfillment</td>\n",
       "      <td>Indian School of Business</td>\n",
       "      <td>COURSE</td>\n",
       "      <td>4.8</td>\n",
       "      <td>Mixed</td>\n",
       "      <td>320000</td>\n",
       "    </tr>\n",
       "  </tbody>\n",
       "</table>\n",
       "</div>"
      ],
      "text/plain": [
       "                                                 title  \\\n",
       "134  (ISC)² Systems Security Certified Practitioner...   \n",
       "743  A Crash Course in Causality:  Inferring Causal...   \n",
       "874                     A Crash Course in Data Science   \n",
       "413                            A Law Student's Toolkit   \n",
       "635                A Life of Happiness and Fulfillment   \n",
       "\n",
       "                   organization certificate_type  rating    difficulty  \\\n",
       "134                      (ISC)²   SPECIALIZATION     4.7      Beginner   \n",
       "743  University of Pennsylvania           COURSE     4.7  Intermediate   \n",
       "874    Johns Hopkins University           COURSE     4.5         Mixed   \n",
       "413             Yale University           COURSE     4.7         Mixed   \n",
       "635   Indian School of Business           COURSE     4.8         Mixed   \n",
       "\n",
       "     students_enrolled  \n",
       "134               5300  \n",
       "743              17000  \n",
       "874             130000  \n",
       "413              91000  \n",
       "635             320000  "
      ]
     },
     "execution_count": 13,
     "metadata": {},
     "output_type": "execute_result"
    }
   ],
   "source": [
    "def clean_students_enrolled(value):\n",
    "    if 'k' in value:\n",
    "        return int(float(value.replace('k', '')) * 1000)\n",
    "    elif 'm' in value:\n",
    "        return int(float(value.replace('m', '')) * 1000000)\n",
    "    else:\n",
    "        return int(value) \n",
    "\n",
    "data['students_enrolled'] = data['students_enrolled'].apply(clean_students_enrolled)\n",
    "\n",
    "data['students_enrolled'] = data['students_enrolled'].astype('int64')\n",
    "data.head()\n",
    "\n",
    "# abbrev_num= {k: 1000, m: 1000000} \n",
    "# data[students_enrolled]= data[students_enrolled].apply( lambda x: int(float(x[:-1])* abbrev_num.get(x[-1], 1)))"
   ]
  },
  {
   "cell_type": "code",
   "execution_count": 14,
   "metadata": {},
   "outputs": [
    {
     "data": {
      "text/plain": [
       "dtype('int64')"
      ]
     },
     "execution_count": 14,
     "metadata": {},
     "output_type": "execute_result"
    }
   ],
   "source": [
    "data['students_enrolled'].dtype"
   ]
  },
  {
   "cell_type": "markdown",
   "metadata": {},
   "source": [
    "With that problem out of the way, let's get a summary statistic of the numerical columns in the data"
   ]
  },
  {
   "cell_type": "code",
   "execution_count": 15,
   "metadata": {},
   "outputs": [
    {
     "name": "stdout",
     "output_type": "stream",
     "text": [
      "<class 'pandas.core.frame.DataFrame'>\n",
      "Index: 891 entries, 134 to 163\n",
      "Data columns (total 6 columns):\n",
      " #   Column             Non-Null Count  Dtype  \n",
      "---  ------             --------------  -----  \n",
      " 0   title              891 non-null    object \n",
      " 1   organization       891 non-null    object \n",
      " 2   certificate_type   891 non-null    object \n",
      " 3   rating             891 non-null    float64\n",
      " 4   difficulty         891 non-null    object \n",
      " 5   students_enrolled  891 non-null    int64  \n",
      "dtypes: float64(1), int64(1), object(4)\n",
      "memory usage: 48.7+ KB\n"
     ]
    }
   ],
   "source": [
    "data.info()"
   ]
  },
  {
   "cell_type": "code",
   "execution_count": 16,
   "metadata": {},
   "outputs": [
    {
     "data": {
      "text/html": [
       "<div>\n",
       "<style scoped>\n",
       "    .dataframe tbody tr th:only-of-type {\n",
       "        vertical-align: middle;\n",
       "    }\n",
       "\n",
       "    .dataframe tbody tr th {\n",
       "        vertical-align: top;\n",
       "    }\n",
       "\n",
       "    .dataframe thead th {\n",
       "        text-align: right;\n",
       "    }\n",
       "</style>\n",
       "<table border=\"1\" class=\"dataframe\">\n",
       "  <thead>\n",
       "    <tr style=\"text-align: right;\">\n",
       "      <th></th>\n",
       "      <th>rating</th>\n",
       "      <th>students_enrolled</th>\n",
       "    </tr>\n",
       "  </thead>\n",
       "  <tbody>\n",
       "    <tr>\n",
       "      <th>count</th>\n",
       "      <td>891.000000</td>\n",
       "      <td>8.910000e+02</td>\n",
       "    </tr>\n",
       "    <tr>\n",
       "      <th>mean</th>\n",
       "      <td>4.677329</td>\n",
       "      <td>9.055208e+04</td>\n",
       "    </tr>\n",
       "    <tr>\n",
       "      <th>std</th>\n",
       "      <td>0.162225</td>\n",
       "      <td>1.819365e+05</td>\n",
       "    </tr>\n",
       "    <tr>\n",
       "      <th>min</th>\n",
       "      <td>3.300000</td>\n",
       "      <td>1.500000e+03</td>\n",
       "    </tr>\n",
       "    <tr>\n",
       "      <th>25%</th>\n",
       "      <td>4.600000</td>\n",
       "      <td>1.750000e+04</td>\n",
       "    </tr>\n",
       "    <tr>\n",
       "      <th>50%</th>\n",
       "      <td>4.700000</td>\n",
       "      <td>4.200000e+04</td>\n",
       "    </tr>\n",
       "    <tr>\n",
       "      <th>75%</th>\n",
       "      <td>4.800000</td>\n",
       "      <td>9.950000e+04</td>\n",
       "    </tr>\n",
       "    <tr>\n",
       "      <th>max</th>\n",
       "      <td>5.000000</td>\n",
       "      <td>3.200000e+06</td>\n",
       "    </tr>\n",
       "  </tbody>\n",
       "</table>\n",
       "</div>"
      ],
      "text/plain": [
       "           rating  students_enrolled\n",
       "count  891.000000       8.910000e+02\n",
       "mean     4.677329       9.055208e+04\n",
       "std      0.162225       1.819365e+05\n",
       "min      3.300000       1.500000e+03\n",
       "25%      4.600000       1.750000e+04\n",
       "50%      4.700000       4.200000e+04\n",
       "75%      4.800000       9.950000e+04\n",
       "max      5.000000       3.200000e+06"
      ]
     },
     "execution_count": 16,
     "metadata": {},
     "output_type": "execute_result"
    }
   ],
   "source": [
    "data.describe()"
   ]
  },
  {
   "cell_type": "markdown",
   "metadata": {},
   "source": [
    "#### The summary statistics reveal key insights into the numerical columns of the dataset. \n",
    "- Both columns have a count of 891 data points, further confirming that there are no missing values in these columns.\n",
    "\n",
    "- `course_rating` shows an average rating of 4.68 (mean), with a standard deviation of 0.16, indicating that most ratings are clustered around the mean and relatively high. \n",
    "\n",
    "- Ratings range from a minimum of 3.3 to a perfect 5.0, with 50% of courses scoring 4.7 or higher. \n",
    "\n",
    "- The `course_students_enrolled` column exhibits greater variability, with an average enrollment of 90,552 students and a standard deviation of 181,936. \n",
    "\n",
    "- Enrollment numbers range from 1,500 to a staggering 3,200,000, showing a wide disparity in course popularity. The median enrollment is 42,000, indicating that while a few courses attract very large audiences, most enrollments are lower, with 75% of courses having fewer than 99,500 students.\n",
    "\n",
    "***\n",
    "### Next, let's check for outliers"
   ]
  },
  {
   "cell_type": "code",
   "execution_count": 17,
   "metadata": {},
   "outputs": [
    {
     "data": {
      "image/png": "[encoded data removed]",
      "text/plain": [
       "<Figure size 1000x500 with 2 Axes>"
      ]
     },
     "metadata": {},
     "output_type": "display_data"
    }
   ],
   "source": [
    "num_col = data.select_dtypes(include='number')\n",
    "\n",
    "fig, axes = plt.subplots(nrows=1, ncols=2, figsize=(5 * 2, 5), constrained_layout=True)\n",
    "\n",
    "axes = axes.flatten()\n",
    "\n",
    "for i, col in enumerate(num_col):\n",
    "    axes[i].boxplot(data[col].dropna())\n",
    "    axes[i].set_title(f'Boxplot of {col}')\n",
    "    axes[i].set_xlabel(col)\n",
    "\n",
    "for j in range(len(num_col), len(axes)):\n",
    "    axes[j].set_visible(False)\n",
    "\n",
    "plt.show()"
   ]
  },
  {
   "cell_type": "markdown",
   "metadata": {},
   "source": [
    "As seen in the plots above, the `course_rating` has lower-bound outliers while the `course_students_enrolled` have upper-bound\n",
    "\n",
    "To handle outliers, I will do nothing, because that in itself is a way to handle outliers and in this case, they are genuine but extreme values as we are dealing with data scrapped from coursera website.\n",
    "Another reason is, we have just 891 rows of data, can't afford to loose any.\n",
    "***\n",
    "## Exploratory Data Analysis (EDA)\n",
    "With the data inspection and cleaning out of the way, we can move into the EDA proper. The approach we will be taking in this case is asking some questions and answering them with plot.\n",
    "\n",
    "### 1. Which organizations conduct the most courses, and how does their offering align with learners' preferences?"
   ]
  },
  {
   "cell_type": "code",
   "execution_count": 18,
   "metadata": {},
   "outputs": [
    {
     "data": {
      "image/png": "[encoded data removed]",
      "text/plain": [
       "<Figure size 1000x600 with 1 Axes>"
      ]
     },
     "metadata": {},
     "output_type": "display_data"
    },
    {
     "data": {
      "application/vnd.plotly.v1+json": {
       "config": {
        "plotlyServerURL": "https://plot.ly"
       },
       "data": [
        {
         "customdata": [
          [
           "(ISC)² Systems Security Certified Practitioner (SSCP)"
          ],
          [
           "Access Controls"
          ],
          [
           "Identifying, Monitoring, and Analyzing Risk and Incident Response and Recovery"
          ]
         ],
         "hovertemplate": "organization=(ISC)²<br>Rating=%{x}<br>Enrollments=%{marker.size}<br>title=%{customdata[0]}<extra></extra>",
         "legendgroup": "(ISC)²",
         "marker": {
          "color": "#636efa",
          "size": [
           5300,
           2900,
           1700
          ],
          "sizemode": "area",
          "sizeref": 8000,
          "symbol": "circle"
         },
         "mode": "markers",
         "name": "(ISC)²",
         "orientation": "v",
         "showlegend": true,
         "type": "scatter",
         "x": [
          4.7,
          4.6,
          4.9
         ],
         "xaxis": "x",
         "y": [
          5300,
          2900,
          1700
         ],
         "yaxis": "y"
        },
        {
         "customdata": [
          [
           "A Crash Course in Causality:  Inferring Causal Effects from Observational Data"
          ],
          [
           "Accounting Analytics"
          ],
          [
           "Achieving Personal and Professional Success"
          ],
          [
           "An Introduction to American Law"
          ],
          [
           "Ancient Philosophy: Aristotle and His Successors"
          ],
          [
           "Business Analytics"
          ],
          [
           "Business Foundations"
          ],
          [
           "Business Strategies for A Better World"
          ],
          [
           "Business and Financial Modeling"
          ],
          [
           "Computational Thinking for Problem Solving"
          ],
          [
           "Culture-Driven Team Building"
          ],
          [
           "Decision-Making and Scenarios"
          ],
          [
           "Effective Compliance Programs"
          ],
          [
           "English for Business and Entrepreneurship"
          ],
          [
           "English for Career Development"
          ],
          [
           "English for Journalism"
          ],
          [
           "English for Science, Technology, Engineering, and Mathematics"
          ],
          [
           "Entrepreneurship"
          ],
          [
           "Entrepreneurship 1: Developing the Opportunity"
          ],
          [
           "Entrepreneurship 2: Launching your Start-Up"
          ],
          [
           "Entrepreneurship 3: Growth Strategies"
          ],
          [
           "FinTech: Foundations, Payments, and Regulations"
          ],
          [
           "Finance & Quantitative Modeling for Analysts"
          ],
          [
           "Financial Acumen for Non-Financial Managers"
          ],
          [
           "Fintech: Foundations & Applications of Financial Technology"
          ],
          [
           "Foundations of Positive Psychology"
          ],
          [
           "Fundamentals of Quantitative Modeling"
          ],
          [
           "Fundamentos Empresariales"
          ],
          [
           "Gamification"
          ],
          [
           "Global Trends for Business and Society"
          ],
          [
           "Greek and Roman Mythology"
          ],
          [
           "Healthcare Law"
          ],
          [
           "Intellectual Property Law"
          ],
          [
           "Introduction to Corporate Finance"
          ],
          [
           "Introduction to Dental Medicine"
          ],
          [
           "Introduction to Financial Accounting"
          ],
          [
           "Introduction to Intellectual Property"
          ],
          [
           "Introduction to Marketing"
          ],
          [
           "Introduction to Operations Management"
          ],
          [
           "Introduction to Spreadsheets and Models"
          ],
          [
           "Managing Social and Human Capital"
          ],
          [
           "Microeconomics: The Power of Markets"
          ],
          [
           "Modeling Risk and Realities"
          ],
          [
           "More Introduction to Financial Accounting"
          ],
          [
           "Operations Analytics"
          ],
          [
           "People Analytics"
          ],
          [
           "Positive Psychology: Applications and Interventions"
          ],
          [
           "Positive Psychology: Martin E. P. Seligman’s Visionary Science"
          ],
          [
           "Positive Psychology: Resilience Skills"
          ],
          [
           "Robotics"
          ],
          [
           "Social Norms, Social Change I"
          ],
          [
           "Success"
          ],
          [
           "The Business of Health Care"
          ],
          [
           "The Economics of Health Care Delivery"
          ],
          [
           "The Oral Cavity: Portal to Health and Disease"
          ],
          [
           "Viral Marketing and How to Craft Contagious Content"
          ],
          [
           "Vital Signs: Understanding What the Body Is Telling Us"
          ],
          [
           "What is Compliance?"
          ],
          [
           "Wonders of Ancient Egypt"
          ]
         ],
         "hovertemplate": "organization=University of Pennsylvania<br>Rating=%{x}<br>Enrollments=%{marker.size}<br>title=%{customdata[0]}<extra></extra>",
         "legendgroup": "University of Pennsylvania",
         "marker": {
          "color": "#EF553B",
          "size": [
           17000,
           80000,
           110000,
           23000,
           8100,
           280000,
           510000,
           24000,
           160000,
           33000,
           17000,
           31000,
           3400,
           230000,
           760000,
           130000,
           110000,
           110000,
           86000,
           38000,
           31000,
           12000,
           260000,
           10000,
           20000,
           89000,
           110000,
           25000,
           110000,
           7600,
           260000,
           1700,
           8700,
           130000,
           25000,
           200000,
           6000,
           220000,
           87000,
           76000,
           27000,
           34000,
           36000,
           40000,
           80000,
           84000,
           23000,
           50000,
           40000,
           120000,
           78000,
           38000,
           22000,
           7200,
           9400,
           150000,
           190000,
           6200,
           17000
          ],
          "sizemode": "area",
          "sizeref": 8000,
          "symbol": "circle"
         },
         "mode": "markers",
         "name": "University of Pennsylvania",
         "orientation": "v",
         "showlegend": true,
         "type": "scatter",
         "x": [
          4.7,
          4.5,
          4.7,
          4.8,
          4.8,
          4.6,
          4.7,
          4.7,
          4.5,
          4.8,
          4.6,
          4.6,
          4.9,
          4.8,
          4.8,
          4.8,
          4.8,
          4.8,
          4.8,
          4.8,
          4.7,
          4.7,
          4.5,
          4.5,
          4.6,
          4.8,
          4.6,
          4.6,
          4.8,
          4.8,
          4.8,
          4.7,
          4.8,
          4.6,
          4.8,
          4.7,
          4.8,
          4.8,
          4.5,
          4.2,
          4.5,
          4.7,
          4.6,
          4.9,
          4.7,
          4.5,
          4.8,
          4.8,
          4.6,
          4.4,
          4.6,
          4.8,
          4.6,
          4.8,
          4.9,
          4.7,
          4.8,
          4.8,
          4.8
         ],
         "xaxis": "x",
         "y": [
          17000,
          80000,
          110000,
          23000,
          8100,
          280000,
          510000,
          24000,
          160000,
          33000,
          17000,
          31000,
          3400,
          230000,
          760000,
          130000,
          110000,
          110000,
          86000,
          38000,
          31000,
          12000,
          260000,
          10000,
          20000,
          89000,
          110000,
          25000,
          110000,
          7600,
          260000,
          1700,
          8700,
          130000,
          25000,
          200000,
          6000,
          220000,
          87000,
          76000,
          27000,
          34000,
          36000,
          40000,
          80000,
          84000,
          23000,
          50000,
          40000,
          120000,
          78000,
          38000,
          22000,
          7200,
          9400,
          150000,
          190000,
          6200,
          17000
         ],
         "yaxis": "y"
        },
        {
         "customdata": [
          [
           "A Crash Course in Data Science"
          ],
          [
           "Biostatistics in Public Health"
          ],
          [
           "COVID-19 Contact Tracing"
          ],
          [
           "Chemicals and Health"
          ],
          [
           "Data Science"
          ],
          [
           "Data Science: Foundations using R"
          ],
          [
           "Data Science: Statistics and Machine Learning"
          ],
          [
           "Data and Health Indicators in Public Health Practice"
          ],
          [
           "Design and Interpretation of Clinical Trials"
          ],
          [
           "Epidemiology in Public Health Practice"
          ],
          [
           "Essential Epidemiologic Tools for Public Health Practice"
          ],
          [
           "Executive Data Science"
          ],
          [
           "Foundations of Global Health"
          ],
          [
           "Fundamental Neuroscience for Neuroimaging"
          ],
          [
           "Genomic Data Science"
          ],
          [
           "HTML, CSS, and Javascript for Web Developers"
          ],
          [
           "Health Informatics"
          ],
          [
           "Introduction to Genomic Technologies"
          ],
          [
           "Introduction to Systematic Review and Meta-Analysis"
          ],
          [
           "Introduction to the Biology of Cancer"
          ],
          [
           "Mastering Software Development in R"
          ],
          [
           "Patient Safety"
          ],
          [
           "Psychological First Aid"
          ],
          [
           "R Programming"
          ],
          [
           "Summary Statistics in Public Health"
          ],
          [
           "Systems Thinking In Public Health"
          ],
          [
           "The Data Scientist’s Toolbox"
          ],
          [
           "Understanding Cancer Metastasis"
          ]
         ],
         "hovertemplate": "organization=Johns Hopkins University<br>Rating=%{x}<br>Enrollments=%{marker.size}<br>title=%{customdata[0]}<extra></extra>",
         "legendgroup": "Johns Hopkins University",
         "marker": {
          "color": "#00cc96",
          "size": [
           130000,
           14000,
           220000,
           23000,
           830000,
           740000,
           210000,
           18000,
           67000,
           31000,
           14000,
           170000,
           31000,
           30000,
           80000,
           240000,
           8100,
           42000,
           67000,
           110000,
           52000,
           8800,
           190000,
           480000,
           11000,
           33000,
           420000,
           29000
          ],
          "sizemode": "area",
          "sizeref": 8000,
          "symbol": "circle"
         },
         "mode": "markers",
         "name": "Johns Hopkins University",
         "orientation": "v",
         "showlegend": true,
         "type": "scatter",
         "x": [
          4.5,
          4.8,
          4.9,
          4.7,
          4.5,
          4.6,
          4.4,
          4.7,
          4.7,
          4.7,
          4.7,
          4.5,
          4.7,
          4.6,
          4.4,
          4.8,
          4.5,
          4.6,
          4.8,
          4.8,
          4.3,
          4.8,
          4.8,
          4.6,
          4.8,
          4.9,
          4.6,
          4.8
         ],
         "xaxis": "x",
         "y": [
          130000,
          14000,
          220000,
          23000,
          830000,
          740000,
          210000,
          18000,
          67000,
          31000,
          14000,
          170000,
          31000,
          30000,
          80000,
          240000,
          8100,
          42000,
          67000,
          110000,
          52000,
          8800,
          190000,
          480000,
          11000,
          33000,
          420000,
          29000
         ],
         "yaxis": "y"
        },
        {
         "customdata": [
          [
           "A Law Student's Toolkit"
          ],
          [
           "Addiction Treatment: Clinical Skills for Healthcare Providers"
          ],
          [
           "Age of Cathedrals"
          ],
          [
           "American Contract Law I"
          ],
          [
           "Anatomy of the Chest, Abdomen, and Pelvis"
          ],
          [
           "Climate Change and Health: From Science to Action"
          ],
          [
           "Essentials of Global Health"
          ],
          [
           "Everyday Parenting: The ABCs of Child Rearing"
          ],
          [
           "Financial Markets"
          ],
          [
           "Introduction to Breast Cancer"
          ],
          [
           "Introduction to Classical Music"
          ],
          [
           "Introduction to Psychology"
          ],
          [
           "Moral Foundations of Politics"
          ],
          [
           "Roman Architecture"
          ],
          [
           "The Global Financial Crisis"
          ],
          [
           "The Science of Well-Being"
          ],
          [
           "Understanding Medical Research: Your Facebook Friend is Wrong"
          ]
         ],
         "hovertemplate": "organization=Yale University<br>Rating=%{x}<br>Enrollments=%{marker.size}<br>title=%{customdata[0]}<extra></extra>",
         "legendgroup": "Yale University",
         "marker": {
          "color": "#ab63fa",
          "size": [
           91000,
           9200,
           21000,
           18000,
           36000,
           4800,
           31000,
           86000,
           470000,
           27000,
           150000,
           270000,
           100000,
           30000,
           84000,
           2500000,
           24000
          ],
          "sizemode": "area",
          "sizeref": 8000,
          "symbol": "circle"
         },
         "mode": "markers",
         "name": "Yale University",
         "orientation": "v",
         "showlegend": true,
         "type": "scatter",
         "x": [
          4.7,
          4.8,
          4.7,
          4.9,
          4.8,
          4.6,
          4.8,
          4.9,
          4.8,
          4.9,
          4.9,
          4.9,
          4.8,
          4.9,
          4.8,
          4.9,
          4.8
         ],
         "xaxis": "x",
         "y": [
          91000,
          9200,
          21000,
          18000,
          36000,
          4800,
          31000,
          86000,
          470000,
          27000,
          150000,
          270000,
          100000,
          30000,
          84000,
          2500000,
          24000
         ],
         "yaxis": "y"
        },
        {
         "customdata": [
          [
           "A Life of Happiness and Fulfillment"
          ],
          [
           "Business Technology Management"
          ],
          [
           "Financial Markets and Investment Strategy"
          ],
          [
           "Trading Strategies in Emerging Markets"
          ]
         ],
         "hovertemplate": "organization=Indian School of Business<br>Rating=%{x}<br>Enrollments=%{marker.size}<br>title=%{customdata[0]}<extra></extra>",
         "legendgroup": "Indian School of Business",
         "marker": {
          "color": "#FFA15A",
          "size": [
           320000,
           67000,
           60000,
           68000
          ],
          "sizemode": "area",
          "sizeref": 8000,
          "symbol": "circle"
         },
         "mode": "markers",
         "name": "Indian School of Business",
         "orientation": "v",
         "showlegend": true,
         "type": "scatter",
         "x": [
          4.8,
          4.5,
          4.5,
          4.3
         ],
         "xaxis": "x",
         "y": [
          320000,
          67000,
          60000,
          68000
         ],
         "yaxis": "y"
        },
        {
         "customdata": [
          [
           "ADHD: Everyday Strategies for Elementary Students"
          ],
          [
           "Blockchain"
          ],
          [
           "Digital Manufacturing & Design Technology"
          ],
          [
           "Energy Production, Distribution & Safety"
          ]
         ],
         "hovertemplate": "organization=University at Buffalo<br>Rating=%{x}<br>Enrollments=%{marker.size}<br>title=%{customdata[0]}<extra></extra>",
         "legendgroup": "University at Buffalo",
         "marker": {
          "color": "#19d3f3",
          "size": [
           39000,
           68000,
           37000,
           37000
          ],
          "sizemode": "area",
          "sizeref": 8000,
          "symbol": "circle"
         },
         "mode": "markers",
         "name": "University at Buffalo",
         "orientation": "v",
         "showlegend": true,
         "type": "scatter",
         "x": [
          4.7,
          4.6,
          4.6,
          4.7
         ],
         "xaxis": "x",
         "y": [
          39000,
          68000,
          37000,
          37000
         ],
         "yaxis": "y"
        },
        {
         "customdata": [
          [
           "AI For Everyone"
          ],
          [
           "AI For Medical Treatment"
          ],
          [
           "AI for Medical Diagnosis"
          ],
          [
           "AI for Medical Prognosis"
          ],
          [
           "AI for Medicine"
          ],
          [
           "Convolutional Neural Networks"
          ],
          [
           "Convolutional Neural Networks in TensorFlow"
          ],
          [
           "Deep Learning"
          ],
          [
           "Improving Deep Neural Networks: Hyperparameter tuning, Regularization and Optimization"
          ],
          [
           "Introduction to TensorFlow for Artificial Intelligence, Machine Learning, and Deep Learning"
          ],
          [
           "Natural Language Processing in TensorFlow"
          ],
          [
           "Neural Networks and Deep Learning"
          ],
          [
           "Sequence Models"
          ],
          [
           "Structuring Machine Learning Projects"
          ],
          [
           "TensorFlow in Practice"
          ],
          [
           "TensorFlow: Data and Deployment"
          ]
         ],
         "hovertemplate": "organization=deeplearning.ai<br>Rating=%{x}<br>Enrollments=%{marker.size}<br>title=%{customdata[0]}<extra></extra>",
         "legendgroup": "deeplearning.ai",
         "marker": {
          "color": "#FF6692",
          "size": [
           350000,
           2400,
           12000,
           4000,
           13000,
           240000,
           46000,
           690000,
           270000,
           150000,
           40000,
           630000,
           14000,
           220000,
           170000,
           12000
          ],
          "sizemode": "area",
          "sizeref": 8000,
          "symbol": "circle"
         },
         "mode": "markers",
         "name": "deeplearning.ai",
         "orientation": "v",
         "showlegend": true,
         "type": "scatter",
         "x": [
          4.8,
          4.8,
          4.7,
          4.6,
          4.7,
          4.9,
          4.7,
          4.8,
          4.9,
          4.7,
          4.6,
          4.9,
          4.8,
          4.8,
          4.7,
          4.5
         ],
         "xaxis": "x",
         "y": [
          350000,
          2400,
          12000,
          4000,
          13000,
          240000,
          46000,
          690000,
          270000,
          150000,
          40000,
          630000,
          14000,
          220000,
          170000,
          12000
         ],
         "yaxis": "y"
        },
        {
         "customdata": [
          [
           "AI Foundations for Everyone"
          ],
          [
           "Advanced Data Science with IBM"
          ],
          [
           "Applied Data Science"
          ],
          [
           "Applied Data Science Capstone"
          ],
          [
           "Data Analysis with Python"
          ],
          [
           "Data Science Methodology"
          ],
          [
           "Data Visualization with Python"
          ],
          [
           "Databases and SQL for Data Science"
          ],
          [
           "IBM AI Engineering"
          ],
          [
           "IBM AI Enterprise Workflow"
          ],
          [
           "IBM Applied AI"
          ],
          [
           "IBM Customer Engagement Specialist Professional Certificate"
          ],
          [
           "IBM Data Science"
          ],
          [
           "IT Fundamentals for Cybersecurity"
          ],
          [
           "Introduction to Artificial Intelligence (AI)"
          ],
          [
           "Introduction to Cloud Computing"
          ],
          [
           "Introduction to Cybersecurity Tools & Cyber Attacks"
          ],
          [
           "Introduction to Data Science"
          ],
          [
           "Machine Learning with Python"
          ],
          [
           "Python for Data Science and AI"
          ],
          [
           "Tools for Data Science"
          ],
          [
           "What is Data Science?"
          ]
         ],
         "hovertemplate": "organization=IBM<br>Rating=%{x}<br>Enrollments=%{marker.size}<br>title=%{customdata[0]}<extra></extra>",
         "legendgroup": "IBM",
         "marker": {
          "color": "#B6E880",
          "size": [
           61000,
           320000,
           220000,
           42000,
           110000,
           89000,
           66000,
           110000,
           140000,
           3500,
           220000,
           3300,
           480000,
           35000,
           44000,
           2600,
           30000,
           310000,
           120000,
           170000,
           120000,
           260000
          ],
          "sizemode": "area",
          "sizeref": 8000,
          "symbol": "circle"
         },
         "mode": "markers",
         "name": "IBM",
         "orientation": "v",
         "showlegend": true,
         "type": "scatter",
         "x": [
          4.7,
          4.4,
          4.6,
          4.7,
          4.7,
          4.6,
          4.6,
          4.7,
          4.6,
          4.4,
          4.6,
          4.8,
          4.6,
          4.5,
          4.7,
          4.6,
          4.5,
          4.6,
          4.7,
          4.6,
          4.6,
          4.7
         ],
         "xaxis": "x",
         "y": [
          61000,
          320000,
          220000,
          42000,
          110000,
          89000,
          66000,
          110000,
          140000,
          3500,
          220000,
          3300,
          480000,
          35000,
          44000,
          2600,
          30000,
          310000,
          120000,
          170000,
          120000,
          260000
         ],
         "yaxis": "y"
        },
        {
         "customdata": [
          [
           "AWS Fundamentals"
          ],
          [
           "AWS Fundamentals: Addressing Security Risk"
          ],
          [
           "AWS Fundamentals: Building Serverless Applications"
          ],
          [
           "AWS Fundamentals: Going Cloud-Native"
          ],
          [
           "AWS Fundamentals: Migrating to the Cloud"
          ],
          [
           "Getting Started with AWS Machine Learning"
          ]
         ],
         "hovertemplate": "organization=Amazon Web Services<br>Rating=%{x}<br>Enrollments=%{marker.size}<br>title=%{customdata[0]}<extra></extra>",
         "legendgroup": "Amazon Web Services",
         "marker": {
          "color": "#FF97FF",
          "size": [
           130000,
           11000,
           27000,
           110000,
           13000,
           73000
          ],
          "sizemode": "area",
          "sizeref": 8000,
          "symbol": "circle"
         },
         "mode": "markers",
         "name": "Amazon Web Services",
         "orientation": "v",
         "showlegend": true,
         "type": "scatter",
         "x": [
          4.6,
          4.3,
          4.7,
          4.7,
          4.5,
          4.5
         ],
         "xaxis": "x",
         "y": [
          130000,
          11000,
          27000,
          110000,
          13000,
          73000
         ],
         "yaxis": "y"
        },
        {
         "customdata": [
          [
           "Aboriginal Worldviews and Education"
          ],
          [
           "Communication Strategies for a Virtual Age"
          ],
          [
           "GIS, Mapping, and Spatial Analysis"
          ],
          [
           "Introduction to Self-Driving Cars"
          ],
          [
           "Learn to Program: The Fundamentals"
          ],
          [
           "Managing Your Health: The Role of Physical Therapy and Exercise"
          ],
          [
           "Plant Bioinformatic Methods"
          ],
          [
           "Self-Driving Cars"
          ],
          [
           "The Arts and Science of Relationships: Understanding Human Needs"
          ],
          [
           "The Social Context of Mental Health and Illness"
          ],
          [
           "iOS App Development with Swift"
          ]
         ],
         "hovertemplate": "organization=University of Toronto<br>Rating=%{x}<br>Enrollments=%{marker.size}<br>title=%{customdata[0]}<extra></extra>",
         "legendgroup": "University of Toronto",
         "marker": {
          "color": "#FECB52",
          "size": [
           6600,
           43000,
           140000,
           39000,
           180000,
           47000,
           83000,
           39000,
           73000,
           19000,
           76000
          ],
          "sizemode": "area",
          "sizeref": 8000,
          "symbol": "circle"
         },
         "mode": "markers",
         "name": "University of Toronto",
         "orientation": "v",
         "showlegend": true,
         "type": "scatter",
         "x": [
          4.7,
          4.8,
          4.8,
          4.8,
          4.8,
          4.6,
          4.7,
          4.7,
          4.5,
          4.6,
          3.9
         ],
         "xaxis": "x",
         "y": [
          6600,
          43000,
          140000,
          39000,
          180000,
          47000,
          83000,
          39000,
          73000,
          19000,
          76000
         ],
         "yaxis": "y"
        },
        {
         "customdata": [
          [
           "Academic English: Writing"
          ],
          [
           "An Introduction to Programming the Internet of Things (IOT)"
          ],
          [
           "Budgeting and Scheduling Projects"
          ],
          [
           "Career Success"
          ],
          [
           "Conflict Management"
          ],
          [
           "Esports"
          ],
          [
           "Getting Started with Go"
          ],
          [
           "Grammar and Punctuation"
          ],
          [
           "Initiating and Planning Projects"
          ],
          [
           "Learn English: Advanced Academic Speaking and Listening"
          ],
          [
           "Learn English: Advanced Grammar and Punctuation"
          ],
          [
           "Learn English: Intermediate Grammar"
          ],
          [
           "Managing Project Risks and Changes"
          ],
          [
           "Perfect Tenses and Modals"
          ],
          [
           "Programming with Google Go"
          ],
          [
           "Project Execution"
          ],
          [
           "Project Launch"
          ],
          [
           "Project Management & Other Tools for Career Development"
          ],
          [
           "Project Management Principles and Practices"
          ],
          [
           "Strategic Business Management - Microeconomics"
          ],
          [
           "The Power of Macroeconomics: Economic Principles in the Real World"
          ],
          [
           "The Power of Microeconomics: Economic Principles in the Real World"
          ],
          [
           "The Pronunciation of American English"
          ],
          [
           "Tricky American English Pronunciation"
          ],
          [
           "UCI Project Management"
          ],
          [
           "Virtual Teacher"
          ],
          [
           "Éxito Profesional"
          ]
         ],
         "hovertemplate": "organization=University of California, Irvine<br>Rating=%{x}<br>Enrollments=%{marker.size}<br>title=%{customdata[0]}<extra></extra>",
         "legendgroup": "University of California, Irvine",
         "marker": {
          "color": "#636efa",
          "size": [
           540000,
           270000,
           84000,
           790000,
           66000,
           1800,
           59000,
           430000,
           180000,
           78000,
           52000,
           120000,
           71000,
           79000,
           18000,
           70000,
           190000,
           440000,
           230000,
           9500,
           180000,
           120000,
           1700,
           110000,
           44000,
           23000,
           69000
          ],
          "sizemode": "area",
          "sizeref": 8000,
          "symbol": "circle"
         },
         "mode": "markers",
         "name": "University of California, Irvine",
         "orientation": "v",
         "showlegend": true,
         "type": "scatter",
         "x": [
          4.7,
          4.6,
          4.7,
          4.4,
          4.3,
          4.5,
          4.6,
          4.7,
          4.7,
          4.5,
          4.8,
          4.7,
          4.7,
          4.7,
          4.6,
          4.2,
          4.7,
          4.6,
          4.7,
          4.7,
          4.6,
          4.7,
          4.6,
          4.7,
          4.6,
          4.3,
          4.5
         ],
         "xaxis": "x",
         "y": [
          540000,
          270000,
          84000,
          790000,
          66000,
          1800,
          59000,
          430000,
          180000,
          78000,
          52000,
          120000,
          71000,
          79000,
          18000,
          70000,
          190000,
          440000,
          230000,
          9500,
          180000,
          120000,
          1700,
          110000,
          44000,
          23000,
          69000
         ],
         "yaxis": "y"
        },
        {
         "customdata": [
          [
           "Accelerated Computer Science Fundamentals"
          ],
          [
           "Cloud Computing"
          ],
          [
           "Corporate & Commercial Law I: Contracts & Employment Law"
          ],
          [
           "Data Mining"
          ],
          [
           "Digital Marketing"
          ],
          [
           "Digital Media and Marketing Strategies"
          ],
          [
           "Financial Management"
          ],
          [
           "Financial Reporting"
          ],
          [
           "Foundations of Everyday Leadership"
          ],
          [
           "Fundamentals of Accounting"
          ],
          [
           "Innovation: From Creativity to Entrepreneurship"
          ],
          [
           "Instructional Design Foundations and Applications"
          ],
          [
           "Introduction to Business Analytics: Communicating with Data"
          ],
          [
           "Introduction to Sustainability"
          ],
          [
           "Managerial Economics and Business Analysis"
          ],
          [
           "Marketing in a Digital World"
          ],
          [
           "Microeconomics Principles"
          ],
          [
           "Object-Oriented Data Structures in C++"
          ],
          [
           "Strategic Leadership and Management"
          ],
          [
           "U.S. Federal Taxation"
          ],
          [
           "Value Chain Management"
          ],
          [
           "e-Learning Ecologies: Innovative Approaches to Teaching and Learning for the Digital Age"
          ]
         ],
         "hovertemplate": "organization=University of Illinois at Urbana-Champaign<br>Rating=%{x}<br>Enrollments=%{marker.size}<br>title=%{customdata[0]}<extra></extra>",
         "legendgroup": "University of Illinois at Urbana-Champaign",
         "marker": {
          "color": "#EF553B",
          "size": [
           22000,
           110000,
           10000,
           140000,
           380000,
           57000,
           76000,
           12000,
           62000,
           39000,
           25000,
           12000,
           14000,
           69000,
           55000,
           310000,
           73000,
           21000,
           100000,
           12000,
           63000,
           17000
          ],
          "sizemode": "area",
          "sizeref": 8000,
          "symbol": "circle"
         },
         "mode": "markers",
         "name": "University of Illinois at Urbana-Champaign",
         "orientation": "v",
         "showlegend": true,
         "type": "scatter",
         "x": [
          4.7,
          4.4,
          4.8,
          4.4,
          4.6,
          4.4,
          4.7,
          4.8,
          4.8,
          4.6,
          4.8,
          4.2,
          4.7,
          4.8,
          4.7,
          4.7,
          4.9,
          4.7,
          4.7,
          4.8,
          4.7,
          4.5
         ],
         "xaxis": "x",
         "y": [
          22000,
          110000,
          10000,
          140000,
          380000,
          57000,
          76000,
          12000,
          62000,
          39000,
          25000,
          12000,
          14000,
          69000,
          55000,
          310000,
          73000,
          21000,
          100000,
          12000,
          63000,
          17000
         ],
         "yaxis": "y"
        },
        {
         "customdata": [
          [
           "Accounting for Decision Making"
          ],
          [
           "Anatomy"
          ],
          [
           "Anatomy: Musculoskeletal and Integumentary Systems"
          ],
          [
           "Applied Data Science with Python"
          ],
          [
           "Applied Machine Learning in Python"
          ],
          [
           "Applied Plotting, Charting & Data Representation in Python"
          ],
          [
           "Beyond the Sustainable Development Goals (SDGs): Addressing Sustainability and Development"
          ],
          [
           "Capstone: Retrieving, Processing, and Visualizing Data with Python"
          ],
          [
           "Data Collection and Processing with Python"
          ],
          [
           "Dentistry 101"
          ],
          [
           "Financial Technology (Fintech) Innovations"
          ],
          [
           "Finding Purpose and Meaning In Life: Living for What Matters Most"
          ],
          [
           "Foundational Finance for Strategic Decision Making"
          ],
          [
           "Good with Words: Writing and Editing"
          ],
          [
           "Inspiring and Motivating Individuals"
          ],
          [
           "Instructional Methods in Health Professions Education"
          ],
          [
           "Introduction to CSS3"
          ],
          [
           "Introduction to Data Science in Python"
          ],
          [
           "Introduction to HTML5"
          ],
          [
           "Introduction to Thermodynamics: Transferring Energy from Here to There"
          ],
          [
           "Introduction to User Experience Principles and Processes"
          ],
          [
           "Leading People and Teams"
          ],
          [
           "Leading for Equity, Diversity and Inclusion in Higher Education"
          ],
          [
           "Model Thinking"
          ],
          [
           "Negociación exitosa: Estrategias y habilidades esenciales (en español)"
          ],
          [
           "Programming for Everybody (Getting Started with Python)"
          ],
          [
           "Python Basics"
          ],
          [
           "Python Classes and Inheritance"
          ],
          [
           "Python Data Structures"
          ],
          [
           "Python Functions, Files, and Dictionaries"
          ],
          [
           "Python for Everybody"
          ],
          [
           "Sleep: Neurobiology, Medicine, and Society"
          ],
          [
           "Statistics with Python"
          ],
          [
           "Successful Negotiation: Essential Strategies and Skills"
          ],
          [
           "The Science of Success: What Researchers Know that You Should Know"
          ],
          [
           "Understanding and Visualizing Data with Python"
          ],
          [
           "User Experience Research and Design"
          ],
          [
           "Using Databases with Python"
          ],
          [
           "Using Python to Access Web Data"
          ],
          [
           "Web Applications for Everybody"
          ],
          [
           "Web Design for Everybody: Basics of Web Development & Coding"
          ]
         ],
         "hovertemplate": "organization=University of Michigan<br>Rating=%{x}<br>Enrollments=%{marker.size}<br>title=%{customdata[0]}<extra></extra>",
         "legendgroup": "University of Michigan",
         "marker": {
          "color": "#00cc96",
          "size": [
           9900,
           30000,
           20000,
           480000,
           150000,
           97000,
           2300,
           82000,
           19000,
           4500,
           6500,
           36000,
           14000,
           3800,
           85000,
           9700,
           84000,
           390000,
           220000,
           4100,
           16000,
           220000,
           5900,
           130000,
           95000,
           1300000,
           110000,
           21000,
           420000,
           26000,
           1500000,
           20000,
           34000,
           750000,
           59000,
           30000,
           23000,
           220000,
           310000,
           120000,
           280000
          ],
          "sizemode": "area",
          "sizeref": 8000,
          "symbol": "circle"
         },
         "mode": "markers",
         "name": "University of Michigan",
         "orientation": "v",
         "showlegend": true,
         "type": "scatter",
         "x": [
          4.8,
          4.8,
          4.8,
          4.5,
          4.6,
          4.6,
          4.6,
          4.6,
          4.7,
          4.7,
          4.7,
          4.7,
          4.8,
          4.6,
          4.8,
          4.6,
          4.8,
          4.5,
          4.7,
          4.8,
          4.8,
          4.7,
          4.7,
          4.8,
          4.8,
          4.8,
          4.8,
          4.7,
          4.9,
          4.8,
          4.8,
          4.8,
          4.6,
          4.8,
          4.8,
          4.7,
          4.8,
          4.8,
          4.8,
          4.8,
          4.7
         ],
         "xaxis": "x",
         "y": [
          9900,
          30000,
          20000,
          480000,
          150000,
          97000,
          2300,
          82000,
          19000,
          4500,
          6500,
          36000,
          14000,
          3800,
          85000,
          9700,
          84000,
          390000,
          220000,
          4100,
          16000,
          220000,
          5900,
          130000,
          95000,
          1300000,
          110000,
          21000,
          420000,
          26000,
          1500000,
          20000,
          34000,
          750000,
          59000,
          30000,
          23000,
          220000,
          310000,
          120000,
          280000
         ],
         "yaxis": "y"
        },
        {
         "customdata": [
          [
           "Actualización en el manejo del paciente con diabetes mellitus tipo 2"
          ],
          [
           "Anticorrupción: Introducción a conceptos y perspectiva práctica"
          ],
          [
           "Aprender"
          ],
          [
           "Contabilidad para no contadores"
          ],
          [
           "Cuidado de heridas en el ámbito hospitalario"
          ],
          [
           "Estadística y probabilidad"
          ],
          [
           "Evaluación educativa"
          ],
          [
           "Finanzas corporativas"
          ],
          [
           "Finanzas personales"
          ],
          [
           "Fundamentos Estratégicos Empresariales"
          ],
          [
           "Habilidades Gerenciales"
          ],
          [
           "Introducción a Data Science: Programación Estadística con R"
          ],
          [
           "Nutrición y obesidad: control de sobrepeso"
          ],
          [
           "Periodismo digital y combate a las fake news"
          ]
         ],
         "hovertemplate": "organization=Universidad Nacional Autónoma de México<br>Rating=%{x}<br>Enrollments=%{marker.size}<br>title=%{customdata[0]}<extra></extra>",
         "legendgroup": "Universidad Nacional Autónoma de México",
         "marker": {
          "color": "#ab63fa",
          "size": [
           23000,
           11000,
           200000,
           220000,
           26000,
           27000,
           13000,
           30000,
           310000,
           56000,
           43000,
           140000,
           100000,
           8900
          ],
          "sizemode": "area",
          "sizeref": 8000,
          "symbol": "circle"
         },
         "mode": "markers",
         "name": "Universidad Nacional Autónoma de México",
         "orientation": "v",
         "showlegend": true,
         "type": "scatter",
         "x": [
          4.8,
          4.8,
          4.8,
          4.7,
          4.8,
          4.7,
          4.8,
          4.6,
          4.8,
          4.6,
          4.7,
          4.7,
          4.8,
          4.9
         ],
         "xaxis": "x",
         "y": [
          23000,
          11000,
          200000,
          220000,
          26000,
          27000,
          13000,
          30000,
          310000,
          56000,
          43000,
          140000,
          100000,
          8900
         ],
         "yaxis": "y"
        },
        {
         "customdata": [
          [
           "Advanced Business Analytics"
          ],
          [
           "Blended Language Learning: Design and Practice for Teachers"
          ],
          [
           "Business Writing"
          ],
          [
           "Compassionate Leadership Through Service Learning with Jane Goodall and Roots & Shoots"
          ],
          [
           "Developing Industrial Internet of Things"
          ],
          [
           "Digital Advertising Strategy"
          ],
          [
           "Everyday Excel, Part 1"
          ],
          [
           "Excel/VBA for Creative Problem Solving"
          ],
          [
           "Excel/VBA for Creative Problem Solving, Part 1"
          ],
          [
           "Graphic Design Elements for Non-Designers"
          ],
          [
           "Hardware Description Languages for FPGA Design"
          ],
          [
           "Introduction to Embedded Systems Software and Development Environments"
          ],
          [
           "Medical Cannabis: The Health Effects of THC and CBD"
          ],
          [
           "Optical Engineering"
          ],
          [
           "Power Electronics"
          ],
          [
           "Science of Exercise"
          ],
          [
           "Spacecraft Dynamics and Control"
          ],
          [
           "Teamwork Skills: Communicating Effectively in Groups"
          ],
          [
           "The Teacher and Social and Emotional Learning (SEL)"
          ]
         ],
         "hovertemplate": "organization=University of Colorado Boulder<br>Rating=%{x}<br>Enrollments=%{marker.size}<br>title=%{customdata[0]}<extra></extra>",
         "legendgroup": "University of Colorado Boulder",
         "marker": {
          "color": "#FFA15A",
          "size": [
           78000,
           1900,
           48000,
           6400,
           8000,
           9000,
           11000,
           56000,
           54000,
           10000,
           7400,
           41000,
           4800,
           6200,
           67000,
           140000,
           12000,
           49000,
           5200
          ],
          "sizemode": "area",
          "sizeref": 8000,
          "symbol": "circle"
         },
         "mode": "markers",
         "name": "University of Colorado Boulder",
         "orientation": "v",
         "showlegend": true,
         "type": "scatter",
         "x": [
          4.5,
          4.8,
          4.8,
          4.9,
          4.6,
          4.4,
          4.8,
          4.8,
          4.8,
          4.7,
          4.2,
          4.5,
          4.8,
          4.2,
          4.8,
          4.8,
          4.8,
          4.8,
          4.7
         ],
         "xaxis": "x",
         "y": [
          78000,
          1900,
          48000,
          6400,
          8000,
          9000,
          11000,
          56000,
          54000,
          10000,
          7400,
          41000,
          4800,
          6200,
          67000,
          140000,
          12000,
          49000,
          5200
         ],
         "yaxis": "y"
        },
        {
         "customdata": [
          [
           "Advanced Machine Learning"
          ],
          [
           "Introduction to Discrete Mathematics for Computer Science"
          ],
          [
           "Mathematics for Data Science"
          ],
          [
           "Корпоративные финансы и стоимость компании"
          ],
          [
           "Основы Digital Маркетинга"
          ],
          [
           "Основы программирования на Python"
          ],
          [
           "Финансовые инструменты для частного инвестора"
          ]
         ],
         "hovertemplate": "organization=National Research University Higher School of Economics<br>Rating=%{x}<br>Enrollments=%{marker.size}<br>title=%{customdata[0]}<extra></extra>",
         "legendgroup": "National Research University Higher School of Economics",
         "marker": {
          "color": "#19d3f3",
          "size": [
           190000,
           75000,
           12000,
           16000,
           19000,
           83000,
           38000
          ],
          "sizemode": "area",
          "sizeref": 8000,
          "symbol": "circle"
         },
         "mode": "markers",
         "name": "National Research University Higher School of Economics",
         "orientation": "v",
         "showlegend": true,
         "type": "scatter",
         "x": [
          4.5,
          4.4,
          4.5,
          4.5,
          4.5,
          4.6,
          4.7
         ],
         "xaxis": "x",
         "y": [
          190000,
          75000,
          12000,
          16000,
          19000,
          83000,
          38000
         ],
         "yaxis": "y"
        },
        {
         "customdata": [
          [
           "Advanced Machine Learning with TensorFlow on Google Cloud Platform"
          ],
          [
           "Architecting with Google Cloud Platform 日本語版"
          ],
          [
           "Architecting with Google Compute Engine"
          ],
          [
           "Architecting with Google Kubernetes Engine 日本語版"
          ],
          [
           "Building Batch Data Pipelines on GCP"
          ],
          [
           "Building Conversational Experiences with Dialogflow"
          ],
          [
           "Building Resilient Streaming Analytics Systems on GCP"
          ],
          [
           "Building Scalable Java Microservices with Spring Boot and Spring Cloud"
          ],
          [
           "Business Transformation with Google Cloud"
          ],
          [
           "Cloud Engineering with Google Cloud"
          ],
          [
           "Data Engineering on Google Cloud Platform 日本語版"
          ],
          [
           "Data Engineering with Google Cloud"
          ],
          [
           "Data Engineering, Big Data, and Machine Learning on GCP"
          ],
          [
           "Developing APIs with Google Cloud's Apigee API Platform"
          ],
          [
           "Developing Applications with Google Cloud Platform"
          ],
          [
           "Developing Applications with Google Cloud Platform 日本語版"
          ],
          [
           "Elastic Google Cloud Infrastructure: Scaling and Automation"
          ],
          [
           "Essential Google Cloud Infrastructure: Core Services"
          ],
          [
           "Essential Google Cloud Infrastructure: Foundation"
          ],
          [
           "From Data to Insights with Google Cloud Platform"
          ],
          [
           "G Suite Administration"
          ],
          [
           "Getting Started with Google Kubernetes Engine"
          ],
          [
           "Getting Started with Google Sheets"
          ],
          [
           "Google Cloud Platform Big Data and Machine Learning Fundamentals"
          ],
          [
           "Google Cloud Platform Fundamentals for AWS Professionals"
          ],
          [
           "Industrial IoT on Google Cloud Platform"
          ],
          [
           "Machine Learning for Business Professionals"
          ],
          [
           "Machine Learning for Trading"
          ],
          [
           "Machine Learning with TensorFlow on Google Cloud Platform"
          ],
          [
           "Modernizing Data Lakes and Data Warehouses with GCP"
          ],
          [
           "Networking in Google Cloud"
          ],
          [
           "Preparing for the Google Cloud Associate Cloud Engineer Exam"
          ],
          [
           "Security in Google Cloud Platform"
          ],
          [
           "Site Reliability Engineering: Measuring and Managing Reliability"
          ]
         ],
         "hovertemplate": "organization=Google Cloud<br>Rating=%{x}<br>Enrollments=%{marker.size}<br>title=%{customdata[0]}<extra></extra>",
         "legendgroup": "Google Cloud",
         "marker": {
          "color": "#FF6692",
          "size": [
           35000,
           4200,
           310000,
           3900,
           7300,
           22000,
           5800,
           24000,
           10000,
           310000,
           3000,
           120000,
           120000,
           16000,
           300000,
           4000,
           57000,
           68000,
           83000,
           26000,
           10000,
           75000,
           18000,
           120000,
           36000,
           34000,
           58000,
           15000,
           72000,
           9100,
           290000,
           22000,
           300000,
           16000
          ],
          "sizemode": "area",
          "sizeref": 8000,
          "symbol": "circle"
         },
         "mode": "markers",
         "name": "Google Cloud",
         "orientation": "v",
         "showlegend": true,
         "type": "scatter",
         "x": [
          4.5,
          4.5,
          4.7,
          4.5,
          4.5,
          4.5,
          4.6,
          4.3,
          4.7,
          4.7,
          4.4,
          4.6,
          4.6,
          4.6,
          4.7,
          4.8,
          4.7,
          4.7,
          4.7,
          4.6,
          4.7,
          4.5,
          4.6,
          4.6,
          4.7,
          4.5,
          4.6,
          3.9,
          4.5,
          4.7,
          4.7,
          4.7,
          4.7,
          4.5
         ],
         "xaxis": "x",
         "y": [
          35000,
          4200,
          310000,
          3900,
          7300,
          22000,
          5800,
          24000,
          10000,
          310000,
          3000,
          120000,
          120000,
          16000,
          300000,
          4000,
          57000,
          68000,
          83000,
          26000,
          10000,
          75000,
          18000,
          120000,
          36000,
          34000,
          58000,
          15000,
          72000,
          9100,
          290000,
          22000,
          300000,
          16000
         ],
         "yaxis": "y"
        },
        {
         "customdata": [
          [
           "Advanced Valuation and Strategy - M&A, Private Equity, and Venture Capital"
          ],
          [
           "Driving business towards the Sustainable Development Goals"
          ],
          [
           "Econometrics: Methods and Applications"
          ],
          [
           "Innovation Management"
          ],
          [
           "International Security Management"
          ]
         ],
         "hovertemplate": "organization=Erasmus University Rotterdam<br>Rating=%{x}<br>Enrollments=%{marker.size}<br>title=%{customdata[0]}<extra></extra>",
         "legendgroup": "Erasmus University Rotterdam",
         "marker": {
          "color": "#B6E880",
          "size": [
           29000,
           5600,
           110000,
           40000,
           2200
          ],
          "sizemode": "area",
          "sizeref": 8000,
          "symbol": "circle"
         },
         "mode": "markers",
         "name": "Erasmus University Rotterdam",
         "orientation": "v",
         "showlegend": true,
         "type": "scatter",
         "x": [
          4.7,
          4.8,
          4.7,
          4.6,
          4.5
         ],
         "xaxis": "x",
         "y": [
          29000,
          5600,
          110000,
          40000,
          2200
         ],
         "yaxis": "y"
        },
        {
         "customdata": [
          [
           "Advertising and Society"
          ],
          [
           "Behavioral Finance"
          ],
          [
           "Data Science Math Skills"
          ],
          [
           "Data Visualization and Communication with Tableau"
          ],
          [
           "Dog Emotion and Cognition"
          ],
          [
           "Electric Industry Operations and Markets"
          ],
          [
           "English Composition I"
          ],
          [
           "Entrepreneurial Finance: Strategy and Innovation"
          ],
          [
           "Excel to MySQL: Analytic Techniques for Business"
          ],
          [
           "FinTech Law and Policy"
          ],
          [
           "Introduction to Chemistry:  Reactions and Ratios"
          ],
          [
           "Introduction to Genetics and Evolution"
          ],
          [
           "Introduction to Probability and Data"
          ],
          [
           "Introduction to Programming in C"
          ],
          [
           "Introductory Human Physiology"
          ],
          [
           "Java Programming and Software Engineering Fundamentals"
          ],
          [
           "Java Programming: Solving Problems with Software"
          ],
          [
           "Mastering Data Analysis in Excel"
          ],
          [
           "Medical Neuroscience"
          ],
          [
           "Nanotechnology: A Maker’s Course"
          ],
          [
           "Object Oriented Programming in Java"
          ],
          [
           "Oil & Gas Industry Operations and Markets"
          ],
          [
           "Programming Foundations with JavaScript, HTML and CSS"
          ],
          [
           "Programming Fundamentals"
          ],
          [
           "Renewable Energy and Green Building Entrepreneurship"
          ],
          [
           "Sports and Society"
          ],
          [
           "Statistics with R"
          ],
          [
           "Think Again I: How to Understand Arguments"
          ]
         ],
         "hovertemplate": "organization=Duke University<br>Rating=%{x}<br>Enrollments=%{marker.size}<br>title=%{customdata[0]}<extra></extra>",
         "legendgroup": "Duke University",
         "marker": {
          "color": "#FF97FF",
          "size": [
           14000,
           55000,
           140000,
           130000,
           150000,
           12000,
           200000,
           7900,
           490000,
           9700,
           46000,
           74000,
           160000,
           82000,
           270000,
           380000,
           160000,
           280000,
           170000,
           21000,
           330000,
           57000,
           250000,
           19000,
           24000,
           16000,
           220000,
           200000
          ],
          "sizemode": "area",
          "sizeref": 8000,
          "symbol": "circle"
         },
         "mode": "markers",
         "name": "Duke University",
         "orientation": "v",
         "showlegend": true,
         "type": "scatter",
         "x": [
          4.8,
          4.4,
          4.5,
          4.7,
          4.6,
          4.8,
          4.6,
          4.5,
          4.6,
          4.8,
          4.8,
          4.8,
          4.7,
          4.7,
          4.7,
          4.6,
          4.6,
          4.2,
          4.9,
          4.8,
          4.6,
          4.8,
          4.6,
          4.7,
          4.7,
          4.8,
          4.7,
          4.6
         ],
         "xaxis": "x",
         "y": [
          14000,
          55000,
          140000,
          130000,
          150000,
          12000,
          200000,
          7900,
          490000,
          9700,
          46000,
          74000,
          160000,
          82000,
          270000,
          380000,
          160000,
          280000,
          170000,
          21000,
          330000,
          57000,
          250000,
          19000,
          24000,
          16000,
          220000,
          200000
         ],
         "yaxis": "y"
        },
        {
         "customdata": [
          [
           "Agile Development"
          ],
          [
           "Agile Meets Design Thinking"
          ],
          [
           "Aspectos básicos de la planificación y la gestión de proyectos"
          ],
          [
           "Business Strategy"
          ],
          [
           "Continuous Delivery & DevOps"
          ],
          [
           "Cost and Economics in Pricing Strategy"
          ],
          [
           "Design Thinking for Innovation"
          ],
          [
           "Design Thinking for the Greater Good: Innovation in the Social Sector"
          ],
          [
           "Digital Product Management"
          ],
          [
           "Digital Product Management: Modern Fundamentals"
          ],
          [
           "Financial Accounting Fundamentals"
          ],
          [
           "Foundations of Business Strategy"
          ],
          [
           "Fundamentals of Project Planning and Management"
          ],
          [
           "How Things Work: An Introduction to Physics"
          ],
          [
           "Introduction to Personal Branding"
          ],
          [
           "Managerial Accounting Fundamentals"
          ],
          [
           "Public Policy Challenges of the 21st Century"
          ],
          [
           "The Modern World, Part One: Global History from 1760 to 1910"
          ],
          [
           "The Modern World, Part Two: Global History since 1910"
          ]
         ],
         "hovertemplate": "organization=University of Virginia<br>Rating=%{x}<br>Enrollments=%{marker.size}<br>title=%{customdata[0]}<extra></extra>",
         "legendgroup": "University of Virginia",
         "marker": {
          "color": "#FECB52",
          "size": [
           94000,
           69000,
           10000,
           89000,
           26000,
           15000,
           240000,
           17000,
           140000,
           58000,
           65000,
           63000,
           120000,
           170000,
           140000,
           11000,
           52000,
           130000,
           47000
          ],
          "sizemode": "area",
          "sizeref": 8000,
          "symbol": "circle"
         },
         "mode": "markers",
         "name": "University of Virginia",
         "orientation": "v",
         "showlegend": true,
         "type": "scatter",
         "x": [
          4.7,
          4.7,
          4.9,
          4.7,
          4.6,
          4.8,
          4.6,
          4.6,
          4.7,
          4.7,
          4.8,
          4.8,
          4.7,
          4.8,
          4.4,
          4.9,
          4.6,
          4.8,
          4.8
         ],
         "xaxis": "x",
         "y": [
          94000,
          69000,
          10000,
          89000,
          26000,
          15000,
          240000,
          17000,
          140000,
          58000,
          65000,
          63000,
          120000,
          170000,
          140000,
          11000,
          52000,
          130000,
          47000
         ],
         "yaxis": "y"
        },
        {
         "customdata": [
          [
           "Agile with Atlassian Jira"
          ],
          [
           "Version Control with Git"
          ]
         ],
         "hovertemplate": "organization=Atlassian<br>Rating=%{x}<br>Enrollments=%{marker.size}<br>title=%{customdata[0]}<extra></extra>",
         "legendgroup": "Atlassian",
         "marker": {
          "color": "#636efa",
          "size": [
           40000,
           40000
          ],
          "sizemode": "area",
          "sizeref": 8000,
          "symbol": "circle"
         },
         "mode": "markers",
         "name": "Atlassian",
         "orientation": "v",
         "showlegend": true,
         "type": "scatter",
         "x": [
          4.7,
          4.8
         ],
         "xaxis": "x",
         "y": [
          40000,
          40000
         ],
         "yaxis": "y"
        },
        {
         "customdata": [
          [
           "Agile и Scrum в работе над проектами и продуктами"
          ]
         ],
         "hovertemplate": "organization=ScrumTrek<br>Rating=%{x}<br>Enrollments=%{marker.size}<br>title=%{customdata[0]}<extra></extra>",
         "legendgroup": "ScrumTrek",
         "marker": {
          "color": "#EF553B",
          "size": [
           12000
          ],
          "sizemode": "area",
          "sizeref": 8000,
          "symbol": "circle"
         },
         "mode": "markers",
         "name": "ScrumTrek",
         "orientation": "v",
         "showlegend": true,
         "type": "scatter",
         "x": [
          4.9
         ],
         "xaxis": "x",
         "y": [
          12000
         ],
         "yaxis": "y"
        },
        {
         "customdata": [
          [
           "Algorithmic Toolbox"
          ],
          [
           "Aprendiendo a aprender: Poderosas herramientas mentales con las que podrás dominar temas difíciles (Learning How to Learn)"
          ],
          [
           "Biology Meets Programming: Bioinformatics for Beginners"
          ],
          [
           "Drug Commercialization"
          ],
          [
           "Drug Discovery"
          ],
          [
           "Gut Check: Exploring Your Microbiome"
          ],
          [
           "Interaction Design"
          ],
          [
           "Introduction to Big Data"
          ],
          [
           "Object Oriented Java Programming: Data Structures and Beyond"
          ]
         ],
         "hovertemplate": "organization=University of California San Diego<br>Rating=%{x}<br>Enrollments=%{marker.size}<br>title=%{customdata[0]}<extra></extra>",
         "legendgroup": "University of California San Diego",
         "marker": {
          "color": "#00cc96",
          "size": [
           220000,
           180000,
           88000,
           17000,
           39000,
           62000,
           150000,
           160000,
           250000
          ],
          "sizemode": "area",
          "sizeref": 8000,
          "symbol": "circle"
         },
         "mode": "markers",
         "name": "University of California San Diego",
         "orientation": "v",
         "showlegend": true,
         "type": "scatter",
         "x": [
          4.7,
          4.9,
          4.4,
          4.7,
          4.6,
          4.7,
          4.5,
          4.6,
          4.7
         ],
         "xaxis": "x",
         "y": [
          220000,
          180000,
          88000,
          17000,
          39000,
          62000,
          150000,
          160000,
          250000
         ],
         "yaxis": "y"
        },
        {
         "customdata": [
          [
           "Algorithms"
          ],
          [
           "Antibiotic Stewardship"
          ],
          [
           "Child Nutrition and Cooking"
          ],
          [
           "Divide and Conquer, Sorting and Searching, and Randomized Algorithms"
          ],
          [
           "Game Theory"
          ],
          [
           "International Women's Health and Human Rights"
          ],
          [
           "Introduction to Mathematical Thinking"
          ],
          [
           "Love as a Force for Social Justice"
          ],
          [
           "Machine Learning"
          ],
          [
           "Probabilistic Graphical Models 1: Representation"
          ],
          [
           "Social and Economic Networks:  Models and Analysis"
          ],
          [
           "Stanford Introduction to Food and Health"
          ],
          [
           "Stanford's Short Course on Breastfeeding"
          ],
          [
           "Stories of Infection"
          ],
          [
           "Understanding Einstein: The Special Theory of Relativity"
          ],
          [
           "Writing in the Sciences"
          ]
         ],
         "hovertemplate": "organization=Stanford University<br>Rating=%{x}<br>Enrollments=%{marker.size}<br>title=%{customdata[0]}<extra></extra>",
         "legendgroup": "Stanford University",
         "marker": {
          "color": "#ab63fa",
          "size": [
           150000,
           11000,
           30000,
           130000,
           260000,
           35000,
           270000,
           14000,
           3200000,
           68000,
           42000,
           370000,
           17000,
           28000,
           89000,
           140000
          ],
          "sizemode": "area",
          "sizeref": 8000,
          "symbol": "circle"
         },
         "mode": "markers",
         "name": "Stanford University",
         "orientation": "v",
         "showlegend": true,
         "type": "scatter",
         "x": [
          4.8,
          4.5,
          4.7,
          4.8,
          4.6,
          4.9,
          4.8,
          4.7,
          4.9,
          4.7,
          4.8,
          4.7,
          4.7,
          4.9,
          4.9,
          4.9
         ],
         "xaxis": "x",
         "y": [
          150000,
          11000,
          30000,
          130000,
          260000,
          35000,
          270000,
          14000,
          3200000,
          68000,
          42000,
          370000,
          17000,
          28000,
          89000,
          140000
         ],
         "yaxis": "y"
        },
        {
         "customdata": [
          [
           "Algorithms for Battery Management Systems"
          ],
          [
           "Become a Sustainable Business Change Agent"
          ],
          [
           "C# Programming for Unity Game Development"
          ],
          [
           "Computer Security and Systems Management"
          ],
          [
           "Cybersecurity for Business"
          ],
          [
           "Data Warehousing for Business Intelligence"
          ],
          [
           "EMT Foundations"
          ],
          [
           "Homeland Security and Cybersecurity"
          ],
          [
           "Newborn Baby Care"
          ],
          [
           "Palliative Care: It's Not Just Hospice Anymore"
          ],
          [
           "Queering Identities: LGBTQ+ Sexuality and Gender Identity"
          ],
          [
           "Requirements Engineering: Secure Software  Specifications"
          ],
          [
           "School Health for Children and Adolescents"
          ]
         ],
         "hovertemplate": "organization=University of Colorado System<br>Rating=%{x}<br>Enrollments=%{marker.size}<br>title=%{customdata[0]}<extra></extra>",
         "legendgroup": "University of Colorado System",
         "marker": {
          "color": "#FFA15A",
          "size": [
           14000,
           4200,
           36000,
           27000,
           23000,
           140000,
           7100,
           5500,
           5300,
           3200,
           3000,
           7200,
           9100
          ],
          "sizemode": "area",
          "sizeref": 8000,
          "symbol": "circle"
         },
         "mode": "markers",
         "name": "University of Colorado System",
         "orientation": "v",
         "showlegend": true,
         "type": "scatter",
         "x": [
          4.8,
          4.7,
          4.7,
          4.6,
          4.6,
          4.5,
          4.8,
          4.7,
          4.8,
          4.8,
          4.9,
          4.6,
          4.8
         ],
         "xaxis": "x",
         "y": [
          14000,
          4200,
          36000,
          27000,
          23000,
          140000,
          7100,
          5500,
          5300,
          3200,
          3000,
          7200,
          9100
         ],
         "yaxis": "y"
        },
        {
         "customdata": [
          [
           "An Introduction to Consumer Neuroscience & Neuromarketing"
          ],
          [
           "Leadership in 21st Century Organizations"
          ],
          [
           "Social Entrepreneurship"
          ],
          [
           "Strategic Management"
          ],
          [
           "Strategic Management and Innovation"
          ]
         ],
         "hovertemplate": "organization=Copenhagen Business School<br>Rating=%{x}<br>Enrollments=%{marker.size}<br>title=%{customdata[0]}<extra></extra>",
         "legendgroup": "Copenhagen Business School",
         "marker": {
          "color": "#19d3f3",
          "size": [
           69000,
           34000,
           13000,
           58000,
           68000
          ],
          "sizemode": "area",
          "sizeref": 8000,
          "symbol": "circle"
         },
         "mode": "markers",
         "name": "Copenhagen Business School",
         "orientation": "v",
         "showlegend": true,
         "type": "scatter",
         "x": [
          4.7,
          4.7,
          4.6,
          4.7,
          4.7
         ],
         "xaxis": "x",
         "y": [
          69000,
          34000,
          13000,
          58000,
          68000
         ],
         "yaxis": "y"
        },
        {
         "customdata": [
          [
           "Analysing: Numeric and digital literacies"
          ],
          [
           "Excel Skills for Business"
          ],
          [
           "Excel Skills for Business: Advanced"
          ],
          [
           "Excel Skills for Business: Essentials"
          ],
          [
           "Excel Skills for Business: Intermediate I"
          ],
          [
           "Excel Skills for Business: Intermediate II"
          ],
          [
           "Influencing: Storytelling, Change Management and Governance"
          ],
          [
           "Leading: Human Resource Management and Leadership"
          ],
          [
           "Strategising: Management for Global Competitive Advantage"
          ]
         ],
         "hovertemplate": "organization=Macquarie University<br>Rating=%{x}<br>Enrollments=%{marker.size}<br>title=%{customdata[0]}<extra></extra>",
         "legendgroup": "Macquarie University",
         "marker": {
          "color": "#FF6692",
          "size": [
           7900,
           240000,
           39000,
           200000,
           76000,
           39000,
           22000,
           16000,
           30000
          ],
          "sizemode": "area",
          "sizeref": 8000,
          "symbol": "circle"
         },
         "mode": "markers",
         "name": "Macquarie University",
         "orientation": "v",
         "showlegend": true,
         "type": "scatter",
         "x": [
          4.6,
          4.9,
          4.7,
          4.9,
          4.9,
          4.8,
          4.8,
          4.8,
          4.8
         ],
         "xaxis": "x",
         "y": [
          7900,
          240000,
          39000,
          200000,
          76000,
          39000,
          22000,
          16000,
          30000
         ],
         "yaxis": "y"
        },
        {
         "customdata": [
          [
           "Android App Development"
          ],
          [
           "Data Management for Clinical Research"
          ],
          [
           "Introduction to Programming with MATLAB"
          ]
         ],
         "hovertemplate": "organization=Vanderbilt University<br>Rating=%{x}<br>Enrollments=%{marker.size}<br>title=%{customdata[0]}<extra></extra>",
         "legendgroup": "Vanderbilt University",
         "marker": {
          "color": "#B6E880",
          "size": [
           120000,
           42000,
           270000
          ],
          "sizemode": "area",
          "sizeref": 8000,
          "symbol": "circle"
         },
         "mode": "markers",
         "name": "Vanderbilt University",
         "orientation": "v",
         "showlegend": true,
         "type": "scatter",
         "x": [
          4.5,
          4.7,
          4.8
         ],
         "xaxis": "x",
         "y": [
          120000,
          42000,
          270000
         ],
         "yaxis": "y"
        },
        {
         "customdata": [
          [
           "Animal Behaviour and Welfare"
          ],
          [
           "Astrobiology and the Search for Extraterrestrial Life"
          ],
          [
           "Chicken Behaviour and Welfare"
          ],
          [
           "Code Yourself! An Introduction to Programming"
          ],
          [
           "Fundamentals of Music Theory"
          ],
          [
           "Introduction to Philosophy"
          ],
          [
           "Research Data Management and Sharing"
          ],
          [
           "The Truth About Cats and Dogs"
          ]
         ],
         "hovertemplate": "organization=The University of Edinburgh<br>Rating=%{x}<br>Enrollments=%{marker.size}<br>title=%{customdata[0]}<extra></extra>",
         "legendgroup": "The University of Edinburgh",
         "marker": {
          "color": "#FF97FF",
          "size": [
           71000,
           66000,
           19000,
           120000,
           180000,
           370000,
           16000,
           33000
          ],
          "sizemode": "area",
          "sizeref": 8000,
          "symbol": "circle"
         },
         "mode": "markers",
         "name": "The University of Edinburgh",
         "orientation": "v",
         "showlegend": true,
         "type": "scatter",
         "x": [
          4.8,
          4.7,
          4.7,
          4.7,
          4.6,
          4.6,
          4.6,
          4.7
         ],
         "xaxis": "x",
         "y": [
          71000,
          66000,
          19000,
          120000,
          180000,
          370000,
          16000,
          33000
         ],
         "yaxis": "y"
        },
        {
         "customdata": [
          [
           "Antimicrobial resistance - theory and methods"
          ],
          [
           "Global Environmental Management"
          ]
         ],
         "hovertemplate": "organization=Technical University of Denmark (DTU)<br>Rating=%{x}<br>Enrollments=%{marker.size}<br>title=%{customdata[0]}<extra></extra>",
         "legendgroup": "Technical University of Denmark (DTU)",
         "marker": {
          "color": "#FECB52",
          "size": [
           63000,
           22000
          ],
          "sizemode": "area",
          "sizeref": 8000,
          "symbol": "circle"
         },
         "mode": "markers",
         "name": "Technical University of Denmark (DTU)",
         "orientation": "v",
         "showlegend": true,
         "type": "scatter",
         "x": [
          4.6,
          4.6
         ],
         "xaxis": "x",
         "y": [
          63000,
          22000
         ],
         "yaxis": "y"
        },
        {
         "customdata": [
          [
           "Aprende a programar con Python"
          ],
          [
           "El Abogado del Futuro: Legaltech y la Transformación Digital del Derecho"
          ],
          [
           "Fundamentos de Excel para Negocios"
          ],
          [
           "Marketing Digital"
          ]
         ],
         "hovertemplate": "organization=Universidad Austral<br>Rating=%{x}<br>Enrollments=%{marker.size}<br>title=%{customdata[0]}<extra></extra>",
         "legendgroup": "Universidad Austral",
         "marker": {
          "color": "#636efa",
          "size": [
           6600,
           1500,
           150000,
           39000
          ],
          "sizemode": "area",
          "sizeref": 8000,
          "symbol": "circle"
         },
         "mode": "markers",
         "name": "Universidad Austral",
         "orientation": "v",
         "showlegend": true,
         "type": "scatter",
         "x": [
          4.2,
          5,
          4.7,
          4.7
         ],
         "xaxis": "x",
         "y": [
          6600,
          1500,
          150000,
          39000
         ],
         "yaxis": "y"
        },
        {
         "customdata": [
          [
           "Arizona State University TESOL"
          ],
          [
           "Business English"
          ],
          [
           "Creatividad, diseño e innovación: Técnicas y herramientas"
          ],
          [
           "TESOL Certificate, Part 1: Teach English Now!"
          ],
          [
           "TESOL Certificate, Part 2: Teach English Now!"
          ],
          [
           "Teach English Now! Foundational Principles"
          ],
          [
           "Teach English Now! Teaching Language Online"
          ]
         ],
         "hovertemplate": "organization=Arizona State University<br>Rating=%{x}<br>Enrollments=%{marker.size}<br>title=%{customdata[0]}<extra></extra>",
         "legendgroup": "Arizona State University",
         "marker": {
          "color": "#EF553B",
          "size": [
           150000,
           38000,
           150000,
           100000,
           62000,
           81000,
           8500
          ],
          "sizemode": "area",
          "sizeref": 8000,
          "symbol": "circle"
         },
         "mode": "markers",
         "name": "Arizona State University",
         "orientation": "v",
         "showlegend": true,
         "type": "scatter",
         "x": [
          4.9,
          4.7,
          4.7,
          4.9,
          4.9,
          4.9,
          4.4
         ],
         "xaxis": "x",
         "y": [
          150000,
          38000,
          150000,
          100000,
          62000,
          81000,
          8500
         ],
         "yaxis": "y"
        },
        {
         "customdata": [
          [
           "Art & Activity: Interactive Strategies for Engaging with Art"
          ],
          [
           "Art & Ideas: Teaching with Themes"
          ],
          [
           "Fashion as Design"
          ],
          [
           "In the Studio: Postwar Abstract Painting"
          ],
          [
           "Modern Art & Ideas"
          ],
          [
           "What Is Contemporary Art?"
          ]
         ],
         "hovertemplate": "organization=The Museum of Modern Art<br>Rating=%{x}<br>Enrollments=%{marker.size}<br>title=%{customdata[0]}<extra></extra>",
         "legendgroup": "The Museum of Modern Art",
         "marker": {
          "color": "#00cc96",
          "size": [
           79000,
           31000,
           180000,
           79000,
           310000,
           120000
          ],
          "sizemode": "area",
          "sizeref": 8000,
          "symbol": "circle"
         },
         "mode": "markers",
         "name": "The Museum of Modern Art",
         "orientation": "v",
         "showlegend": true,
         "type": "scatter",
         "x": [
          4.8,
          4.8,
          4.8,
          4.9,
          4.7,
          4.7
         ],
         "xaxis": "x",
         "y": [
          79000,
          31000,
          180000,
          79000,
          310000,
          120000
         ],
         "yaxis": "y"
        },
        {
         "customdata": [
          [
           "Arts and Culture Strategy"
          ]
         ],
         "hovertemplate": "organization=National Arts Strategies<br>Rating=%{x}<br>Enrollments=%{marker.size}<br>title=%{customdata[0]}<extra></extra>",
         "legendgroup": "National Arts Strategies",
         "marker": {
          "color": "#ab63fa",
          "size": [
           15000
          ],
          "sizemode": "area",
          "sizeref": 8000,
          "symbol": "circle"
         },
         "mode": "markers",
         "name": "National Arts Strategies",
         "orientation": "v",
         "showlegend": true,
         "type": "scatter",
         "x": [
          4.6
         ],
         "xaxis": "x",
         "y": [
          15000
         ],
         "yaxis": "y"
        },
        {
         "customdata": [
          [
           "Arts and Heritage Management"
          ],
          [
           "Corporate Sustainability. Understanding and Seizing the Strategic Opportunity"
          ],
          [
           "Financing and Investing in Infrastructure"
          ],
          [
           "Food & Beverage Management"
          ],
          [
           "International Leadership and Organizational Behavior"
          ],
          [
           "Management of Fashion and Luxury Companies"
          ],
          [
           "Private Equity and Venture Capital"
          ]
         ],
         "hovertemplate": "organization=Università Bocconi<br>Rating=%{x}<br>Enrollments=%{marker.size}<br>title=%{customdata[0]}<extra></extra>",
         "legendgroup": "Università Bocconi",
         "marker": {
          "color": "#FFA15A",
          "size": [
           15000,
           10000,
           24000,
           57000,
           41000,
           120000,
           79000
          ],
          "sizemode": "area",
          "sizeref": 8000,
          "symbol": "circle"
         },
         "mode": "markers",
         "name": "Università Bocconi",
         "orientation": "v",
         "showlegend": true,
         "type": "scatter",
         "x": [
          4.8,
          4.6,
          4.8,
          4.8,
          4.8,
          4.7,
          4.8
         ],
         "xaxis": "x",
         "y": [
          15000,
          10000,
          24000,
          57000,
          41000,
          120000,
          79000
         ],
         "yaxis": "y"
        },
        {
         "customdata": [
          [
           "Atención Primaria en Salud: El desafío de las Enfermedades no Transmisibles"
          ],
          [
           "Camino a la Excelencia en Gestión de Proyectos"
          ],
          [
           "Diseño y Creación de un Emprendimiento Social"
          ],
          [
           "Explorando la Energía Sustentable"
          ],
          [
           "Gestión de organizaciones efectivas"
          ],
          [
           "Hacia una práctica constructivista en el aula"
          ],
          [
           "Introducción a la programación en Python I: Aprendiendo a programar con Python"
          ]
         ],
         "hovertemplate": "organization=Pontificia Universidad Católica de Chile<br>Rating=%{x}<br>Enrollments=%{marker.size}<br>title=%{customdata[0]}<extra></extra>",
         "legendgroup": "Pontificia Universidad Católica de Chile",
         "marker": {
          "color": "#19d3f3",
          "size": [
           33000,
           340000,
           21000,
           28000,
           47000,
           62000,
           100000
          ],
          "sizemode": "area",
          "sizeref": 8000,
          "symbol": "circle"
         },
         "mode": "markers",
         "name": "Pontificia Universidad Católica de Chile",
         "orientation": "v",
         "showlegend": true,
         "type": "scatter",
         "x": [
          4.8,
          4.7,
          4.9,
          4.8,
          4.7,
          4.8,
          4.4
         ],
         "xaxis": "x",
         "y": [
          33000,
          340000,
          21000,
          28000,
          47000,
          62000,
          100000
         ],
         "yaxis": "y"
        },
        {
         "customdata": [
          [
           "Autism Spectrum Disorder"
          ],
          [
           "Coaching Skills for Managers"
          ],
          [
           "Computational Social Science"
          ],
          [
           "Data Visualization with Tableau"
          ],
          [
           "Equine Welfare and Management"
          ],
          [
           "Fundamentals of GIS"
          ],
          [
           "Fundamentals of Visualization with Tableau"
          ],
          [
           "Fundraising and Development"
          ],
          [
           "Geographic Information Systems  (GIS)"
          ],
          [
           "Health Information Literacy for Data Analytics"
          ],
          [
           "Introduction to Web Development"
          ],
          [
           "Learn SQL Basics for Data Science"
          ],
          [
           "Learn Spanish: Basic Spanish Vocabulary"
          ],
          [
           "Market Research"
          ],
          [
           "Materials Science: 10 Things Every Engineer Should Know"
          ],
          [
           "SQL for Data Science"
          ],
          [
           "Search Engine Optimization Fundamentals"
          ],
          [
           "Secure Coding Practices"
          ],
          [
           "Spanish Vocabulary: Meeting People"
          ],
          [
           "The Strategy of Content Marketing"
          ],
          [
           "Wine Tasting: Sensory Techniques for Wine Analysis"
          ]
         ],
         "hovertemplate": "organization=University of California, Davis<br>Rating=%{x}<br>Enrollments=%{marker.size}<br>title=%{customdata[0]}<extra></extra>",
         "legendgroup": "University of California, Davis",
         "marker": {
          "color": "#FF6692",
          "size": [
           56000,
           37000,
           5800,
           96000,
           7200,
           86000,
           81000,
           4900,
           97000,
           5400,
           76000,
           160000,
           80000,
           22000,
           48000,
           160000,
           47000,
           6400,
           71000,
           100000,
           32000
          ],
          "sizemode": "area",
          "sizeref": 8000,
          "symbol": "circle"
         },
         "mode": "markers",
         "name": "University of California, Davis",
         "orientation": "v",
         "showlegend": true,
         "type": "scatter",
         "x": [
          4.6,
          4.7,
          4.6,
          4.5,
          4.8,
          4.8,
          4.5,
          4.6,
          4.8,
          4.5,
          4.7,
          4.6,
          4.6,
          4.5,
          4.7,
          4.6,
          4.7,
          4.4,
          4.6,
          4.5,
          4.7
         ],
         "xaxis": "x",
         "y": [
          56000,
          37000,
          5800,
          96000,
          7200,
          86000,
          81000,
          4900,
          97000,
          5400,
          76000,
          160000,
          80000,
          22000,
          48000,
          160000,
          47000,
          6400,
          71000,
          100000,
          32000
         ],
         "yaxis": "y"
        },
        {
         "customdata": [
          [
           "Autodesk CAD/CAM for Manufacturing"
          ],
          [
           "Autodesk CAD/CAM/CAE for Mechanical Engineering"
          ],
          [
           "Autodesk Certified Professional: AutoCAD for Design and Drafting Exam Prep"
          ],
          [
           "Autodesk Certified Professional: Revit for Architectural Design Exam Prep"
          ]
         ],
         "hovertemplate": "organization=Autodesk<br>Rating=%{x}<br>Enrollments=%{marker.size}<br>title=%{customdata[0]}<extra></extra>",
         "legendgroup": "Autodesk",
         "marker": {
          "color": "#B6E880",
          "size": [
           7300,
           9200,
           22000,
           9700
          ],
          "sizemode": "area",
          "sizeref": 8000,
          "symbol": "circle"
         },
         "mode": "markers",
         "name": "Autodesk",
         "orientation": "v",
         "showlegend": true,
         "type": "scatter",
         "x": [
          4.8,
          4.8,
          4.7,
          4.7
         ],
         "xaxis": "x",
         "y": [
          7300,
          9200,
          22000,
          9700
         ],
         "yaxis": "y"
        },
        {
         "customdata": [
          [
           "BIM Fundamentals for Engineers"
          ]
         ],
         "hovertemplate": "organization=National Taiwan University<br>Rating=%{x}<br>Enrollments=%{marker.size}<br>title=%{customdata[0]}<extra></extra>",
         "legendgroup": "National Taiwan University",
         "marker": {
          "color": "#FF97FF",
          "size": [
           13000
          ],
          "sizemode": "area",
          "sizeref": 8000,
          "symbol": "circle"
         },
         "mode": "markers",
         "name": "National Taiwan University",
         "orientation": "v",
         "showlegend": true,
         "type": "scatter",
         "x": [
          4.6
         ],
         "xaxis": "x",
         "y": [
          13000
         ],
         "yaxis": "y"
        },
        {
         "customdata": [
          [
           "Basic Statistics"
          ],
          [
           "Classical Sociological Theory"
          ],
          [
           "Data Analytics for Lean Six Sigma"
          ],
          [
           "Methods and Statistics in Social Sciences"
          ],
          [
           "Quantitative Methods"
          ],
          [
           "Unraveling the Cycling City"
          ]
         ],
         "hovertemplate": "organization=University of Amsterdam<br>Rating=%{x}<br>Enrollments=%{marker.size}<br>title=%{customdata[0]}<extra></extra>",
         "legendgroup": "University of Amsterdam",
         "marker": {
          "color": "#FECB52",
          "size": [
           180000,
           51000,
           24000,
           260000,
           69000,
           3900
          ],
          "sizemode": "area",
          "sizeref": 8000,
          "symbol": "circle"
         },
         "mode": "markers",
         "name": "University of Amsterdam",
         "orientation": "v",
         "showlegend": true,
         "type": "scatter",
         "x": [
          4.6,
          4.8,
          4.8,
          4.6,
          4.7,
          4.9
         ],
         "xaxis": "x",
         "y": [
          180000,
          51000,
          24000,
          260000,
          69000,
          3900
         ],
         "yaxis": "y"
        },
        {
         "customdata": [
          [
           "Bayesian Statistics: From Concept to Data Analysis"
          ],
          [
           "Bayesian Statistics: Techniques and Models"
          ],
          [
           "C for Everyone: Programming Fundamentals"
          ],
          [
           "Feminism and Social Justice"
          ]
         ],
         "hovertemplate": "organization=University of California, Santa Cruz<br>Rating=%{x}<br>Enrollments=%{marker.size}<br>title=%{customdata[0]}<extra></extra>",
         "legendgroup": "University of California, Santa Cruz",
         "marker": {
          "color": "#636efa",
          "size": [
           91000,
           29000,
           31000,
           18000
          ],
          "sizemode": "area",
          "sizeref": 8000,
          "symbol": "circle"
         },
         "mode": "markers",
         "name": "University of California, Santa Cruz",
         "orientation": "v",
         "showlegend": true,
         "type": "scatter",
         "x": [
          4.8,
          4.8,
          4.5,
          4.8
         ],
         "xaxis": "x",
         "y": [
          91000,
          29000,
          31000,
          18000
         ],
         "yaxis": "y"
        },
        {
         "customdata": [
          [
           "Become a CBRS Certified Professional Installer by Google"
          ]
         ],
         "hovertemplate": "organization=Google - Spectrum Sharing<br>Rating=%{x}<br>Enrollments=%{marker.size}<br>title=%{customdata[0]}<extra></extra>",
         "legendgroup": "Google - Spectrum Sharing",
         "marker": {
          "color": "#EF553B",
          "size": [
           210000
          ],
          "sizemode": "area",
          "sizeref": 8000,
          "symbol": "circle"
         },
         "mode": "markers",
         "name": "Google - Spectrum Sharing",
         "orientation": "v",
         "showlegend": true,
         "type": "scatter",
         "x": [
          4.9
         ],
         "xaxis": "x",
         "y": [
          210000
         ],
         "yaxis": "y"
        },
        {
         "customdata": [
          [
           "Become a Journalist: Report the News!"
          ],
          [
           "Cameras, Exposure, and Photography"
          ],
          [
           "Design and Make Infographics (Project-Centered Course)"
          ],
          [
           "Game Design and Development"
          ],
          [
           "Getting Started With Music Theory"
          ],
          [
           "How to Start Your Own Business"
          ],
          [
           "Introduction to Game Development"
          ],
          [
           "Photography Basics and Beyond: From Smartphone to DSLR"
          ],
          [
           "Write A Feature Length Screenplay For Film Or Television"
          ],
          [
           "Write Your First Novel"
          ]
         ],
         "hovertemplate": "organization=Michigan State University<br>Rating=%{x}<br>Enrollments=%{marker.size}<br>title=%{customdata[0]}<extra></extra>",
         "legendgroup": "Michigan State University",
         "marker": {
          "color": "#00cc96",
          "size": [
           28000,
           130000,
           97000,
           100000,
           59000,
           34000,
           79000,
           160000,
           12000,
           18000
          ],
          "sizemode": "area",
          "sizeref": 8000,
          "symbol": "circle"
         },
         "mode": "markers",
         "name": "Michigan State University",
         "orientation": "v",
         "showlegend": true,
         "type": "scatter",
         "x": [
          4.7,
          4.7,
          4.7,
          4.7,
          4.5,
          4.1,
          4.8,
          4.7,
          4.9,
          4.4
         ],
         "xaxis": "x",
         "y": [
          28000,
          130000,
          97000,
          100000,
          59000,
          34000,
          79000,
          160000,
          12000,
          18000
         ],
         "yaxis": "y"
        },
        {
         "customdata": [
          [
           "Becoming a Sports Agent"
          ],
          [
           "Inspired Leadership"
          ],
          [
           "Introduction to International Criminal Law"
          ]
         ],
         "hovertemplate": "organization=Case Western Reserve University<br>Rating=%{x}<br>Enrollments=%{marker.size}<br>title=%{customdata[0]}<extra></extra>",
         "legendgroup": "Case Western Reserve University",
         "marker": {
          "color": "#ab63fa",
          "size": [
           6500,
           97000,
           82000
          ],
          "sizemode": "area",
          "sizeref": 8000,
          "symbol": "circle"
         },
         "mode": "markers",
         "name": "Case Western Reserve University",
         "orientation": "v",
         "showlegend": true,
         "type": "scatter",
         "x": [
          4.7,
          4.7,
          4.8
         ],
         "xaxis": "x",
         "y": [
          6500,
          97000,
          82000
         ],
         "yaxis": "y"
        },
        {
         "customdata": [
          [
           "Becoming a changemaker: Introduction to Social Innovation"
          ],
          [
           "Julia Scientific Programming"
          ],
          [
           "Understanding Clinical Research: Behind the Statistics"
          ]
         ],
         "hovertemplate": "organization=University of Cape Town<br>Rating=%{x}<br>Enrollments=%{marker.size}<br>title=%{customdata[0]}<extra></extra>",
         "legendgroup": "University of Cape Town",
         "marker": {
          "color": "#FFA15A",
          "size": [
           61000,
           22000,
           78000
          ],
          "sizemode": "area",
          "sizeref": 8000,
          "symbol": "circle"
         },
         "mode": "markers",
         "name": "University of Cape Town",
         "orientation": "v",
         "showlegend": true,
         "type": "scatter",
         "x": [
          4.8,
          4.5,
          4.8
         ],
         "xaxis": "x",
         "y": [
          61000,
          22000,
          78000
         ],
         "yaxis": "y"
        },
        {
         "customdata": [
          [
           "Big Data – Introducción al uso práctico de datos masivos"
          ],
          [
           "Competencias digitales. Herramientas de ofimática (Microsoft Word, Excel, Power Point)"
          ],
          [
           "Corrección, estilo y  variaciones de la lengua española"
          ],
          [
           "Cómo hablar bien en público"
          ],
          [
           "Democracia y decisiones públicas. Introducción al análisis de políticas públicas"
          ],
          [
           "Egiptología (Egyptology)"
          ],
          [
           "Patrocinio Deportivo"
          ],
          [
           "Primeros Auxilios Psicológicos (PAP)"
          ]
         ],
         "hovertemplate": "organization=Universitat Autònoma de Barcelona<br>Rating=%{x}<br>Enrollments=%{marker.size}<br>title=%{customdata[0]}<extra></extra>",
         "legendgroup": "Universitat Autònoma de Barcelona",
         "marker": {
          "color": "#19d3f3",
          "size": [
           8800,
           43000,
           75000,
           55000,
           44000,
           46000,
           12000,
           280000
          ],
          "sizemode": "area",
          "sizeref": 8000,
          "symbol": "circle"
         },
         "mode": "markers",
         "name": "Universitat Autònoma de Barcelona",
         "orientation": "v",
         "showlegend": true,
         "type": "scatter",
         "x": [
          4.5,
          4.7,
          4.6,
          4.8,
          4.8,
          4.9,
          4.6,
          4.8
         ],
         "xaxis": "x",
         "y": [
          8800,
          43000,
          75000,
          55000,
          44000,
          46000,
          12000,
          280000
         ],
         "yaxis": "y"
        },
        {
         "customdata": [
          [
           "Biohacking Your Brain's Health"
          ],
          [
           "Finance for Non-Financial Managers"
          ],
          [
           "Foundations of Marketing Analytics"
          ],
          [
           "The Addicted Brain"
          ],
          [
           "Weight Management: Beyond Balancing Calories"
          ]
         ],
         "hovertemplate": "organization=Emory University<br>Rating=%{x}<br>Enrollments=%{marker.size}<br>title=%{customdata[0]}<extra></extra>",
         "legendgroup": "Emory University",
         "marker": {
          "color": "#FF6692",
          "size": [
           35000,
           12000,
           27000,
           130000,
           34000
          ],
          "sizemode": "area",
          "sizeref": 8000,
          "symbol": "circle"
         },
         "mode": "markers",
         "name": "Emory University",
         "orientation": "v",
         "showlegend": true,
         "type": "scatter",
         "x": [
          4.6,
          4.4,
          4.2,
          4.6,
          4.7
         ],
         "xaxis": "x",
         "y": [
          35000,
          12000,
          27000,
          130000,
          34000
         ],
         "yaxis": "y"
        },
        {
         "customdata": [
          [
           "Blockchain Revolution"
          ],
          [
           "Blockchain Revolution in Financial Services"
          ],
          [
           "Introduction to Blockchain Technologies"
          ]
         ],
         "hovertemplate": "organization=INSEAD<br>Rating=%{x}<br>Enrollments=%{marker.size}<br>title=%{customdata[0]}<extra></extra>",
         "legendgroup": "INSEAD",
         "marker": {
          "color": "#B6E880",
          "size": [
           21000,
           1600,
           16000
          ],
          "sizemode": "area",
          "sizeref": 8000,
          "symbol": "circle"
         },
         "mode": "markers",
         "name": "INSEAD",
         "orientation": "v",
         "showlegend": true,
         "type": "scatter",
         "x": [
          4.7,
          4.6,
          4.7
         ],
         "xaxis": "x",
         "y": [
          21000,
          1600,
          16000
         ],
         "yaxis": "y"
        },
        {
         "customdata": [
          [
           "Blockchain: Foundations and Use Cases"
          ]
         ],
         "hovertemplate": "organization=ConsenSys Academy<br>Rating=%{x}<br>Enrollments=%{marker.size}<br>title=%{customdata[0]}<extra></extra>",
         "legendgroup": "ConsenSys Academy",
         "marker": {
          "color": "#FF97FF",
          "size": [
           31000
          ],
          "sizemode": "area",
          "sizeref": 8000,
          "symbol": "circle"
         },
         "mode": "markers",
         "name": "ConsenSys Academy",
         "orientation": "v",
         "showlegend": true,
         "type": "scatter",
         "x": [
          4.7
         ],
         "xaxis": "x",
         "y": [
          31000
         ],
         "yaxis": "y"
        },
        {
         "customdata": [
          [
           "Boosting Creativity for Innovation"
          ],
          [
           "Building Your Leadership Skills"
          ],
          [
           "Business Model Innovation"
          ],
          [
           "Entrepreneurship Strategy: From Ideation to Exit"
          ],
          [
           "Inspirational Leadership: Leading with Sense"
          ],
          [
           "Managing Innovation and Design Thinking"
          ]
         ],
         "hovertemplate": "organization=HEC Paris<br>Rating=%{x}<br>Enrollments=%{marker.size}<br>title=%{customdata[0]}<extra></extra>",
         "legendgroup": "HEC Paris",
         "marker": {
          "color": "#FECB52",
          "size": [
           9500,
           67000,
           13000,
           20000,
           72000,
           23000
          ],
          "sizemode": "area",
          "sizeref": 8000,
          "symbol": "circle"
         },
         "mode": "markers",
         "name": "HEC Paris",
         "orientation": "v",
         "showlegend": true,
         "type": "scatter",
         "x": [
          4.9,
          4.5,
          4.7,
          4.8,
          4.5,
          4.7
         ],
         "xaxis": "x",
         "y": [
          9500,
          67000,
          13000,
          20000,
          72000,
          23000
         ],
         "yaxis": "y"
        },
        {
         "customdata": [
          [
           "Brand Management: Aligning Business, Brand and Behaviour"
          ]
         ],
         "hovertemplate": "organization=London Business School<br>Rating=%{x}<br>Enrollments=%{marker.size}<br>title=%{customdata[0]}<extra></extra>",
         "legendgroup": "London Business School",
         "marker": {
          "color": "#636efa",
          "size": [
           57000
          ],
          "sizemode": "area",
          "sizeref": 8000,
          "symbol": "circle"
         },
         "mode": "markers",
         "name": "London Business School",
         "orientation": "v",
         "showlegend": true,
         "type": "scatter",
         "x": [
          4.9
         ],
         "xaxis": "x",
         "y": [
          57000
         ],
         "yaxis": "y"
        },
        {
         "customdata": [
          [
           "Branding: The Creative Journey"
          ],
          [
           "Globalization, Economic Growth and Stability"
          ],
          [
           "Implementación del Marketing Mix"
          ],
          [
           "Legal Tech & Startups"
          ],
          [
           "Marketing Mix Implementation"
          ],
          [
           "Marketing Strategy"
          ]
         ],
         "hovertemplate": "organization=IE Business School<br>Rating=%{x}<br>Enrollments=%{marker.size}<br>title=%{customdata[0]}<extra></extra>",
         "legendgroup": "IE Business School",
         "marker": {
          "color": "#EF553B",
          "size": [
           26000,
           44000,
           23000,
           7200,
           93000,
           57000
          ],
          "sizemode": "area",
          "sizeref": 8000,
          "symbol": "circle"
         },
         "mode": "markers",
         "name": "IE Business School",
         "orientation": "v",
         "showlegend": true,
         "type": "scatter",
         "x": [
          4.6,
          4.8,
          4.7,
          4.5,
          4.6,
          4.4
         ],
         "xaxis": "x",
         "y": [
          26000,
          44000,
          23000,
          7200,
          93000,
          57000
         ],
         "yaxis": "y"
        },
        {
         "customdata": [
          [
           "Bugs 101: Insect-Human Interactions"
          ],
          [
           "Dino 101: Dinosaur Paleobiology"
          ],
          [
           "Fundamentals of Reinforcement Learning"
          ],
          [
           "Indigenous Canada"
          ],
          [
           "Mountains 101"
          ],
          [
           "Object-Oriented Design"
          ],
          [
           "Reinforcement Learning"
          ],
          [
           "Sample-based Learning Methods"
          ],
          [
           "Software Design and Architecture"
          ],
          [
           "Software Processes and Agile Practices"
          ],
          [
           "Software Product Management"
          ]
         ],
         "hovertemplate": "organization=University of Alberta<br>Rating=%{x}<br>Enrollments=%{marker.size}<br>title=%{customdata[0]}<extra></extra>",
         "legendgroup": "University of Alberta",
         "marker": {
          "color": "#00cc96",
          "size": [
           15000,
           35000,
           22000,
           51000,
           44000,
           33000,
           23000,
           6800,
           60000,
           60000,
           110000
          ],
          "sizemode": "area",
          "sizeref": 8000,
          "symbol": "circle"
         },
         "mode": "markers",
         "name": "University of Alberta",
         "orientation": "v",
         "showlegend": true,
         "type": "scatter",
         "x": [
          4.9,
          4.5,
          4.8,
          4.8,
          4.9,
          4.7,
          4.7,
          4.8,
          4.6,
          4.7,
          4.6
         ],
         "xaxis": "x",
         "y": [
          15000,
          35000,
          22000,
          51000,
          44000,
          33000,
          23000,
          6800,
          60000,
          60000,
          110000
         ],
         "yaxis": "y"
        },
        {
         "customdata": [
          [
           "Build a Modern Computer from First Principles: From Nand to Tetris (Project-Centered Course)"
          ]
         ],
         "hovertemplate": "organization=Hebrew University of Jerusalem<br>Rating=%{x}<br>Enrollments=%{marker.size}<br>title=%{customdata[0]}<extra></extra>",
         "legendgroup": "Hebrew University of Jerusalem",
         "marker": {
          "color": "#ab63fa",
          "size": [
           95000
          ],
          "sizemode": "area",
          "sizeref": 8000,
          "symbol": "circle"
         },
         "mode": "markers",
         "name": "Hebrew University of Jerusalem",
         "orientation": "v",
         "showlegend": true,
         "type": "scatter",
         "x": [
          4.9
         ],
         "xaxis": "x",
         "y": [
          95000
         ],
         "yaxis": "y"
        },
        {
         "customdata": [
          [
           "Business English Communication Skills"
          ],
          [
           "Business English: Networking"
          ],
          [
           "Dynamic Public Speaking"
          ],
          [
           "Machine Learning"
          ],
          [
           "Machine Learning Foundations: A Case Study Approach"
          ]
         ],
         "hovertemplate": "organization=University of Washington<br>Rating=%{x}<br>Enrollments=%{marker.size}<br>title=%{customdata[0]}<extra></extra>",
         "legendgroup": "University of Washington",
         "marker": {
          "color": "#FFA15A",
          "size": [
           120000,
           77000,
           110000,
           290000,
           240000
          ],
          "sizemode": "area",
          "sizeref": 8000,
          "symbol": "circle"
         },
         "mode": "markers",
         "name": "University of Washington",
         "orientation": "v",
         "showlegend": true,
         "type": "scatter",
         "x": [
          4.7,
          4.7,
          4.7,
          4.6,
          4.6
         ],
         "xaxis": "x",
         "y": [
          120000,
          77000,
          110000,
          290000,
          240000
         ],
         "yaxis": "y"
        },
        {
         "customdata": [
          [
           "Business Statistics and Analysis"
          ],
          [
           "Communication Skills for Engineers"
          ],
          [
           "Engineering Project Management: Initiating and Planning"
          ],
          [
           "Finance for Non-Finance Professionals"
          ],
          [
           "Fundamentals of Computing"
          ],
          [
           "Fundamentals of Immunology"
          ],
          [
           "Fundamentals of Immunology: Innate Immunity and B-Cell Function"
          ],
          [
           "Global Financial Markets and Instruments"
          ],
          [
           "Introduction to Data Analysis Using Excel"
          ],
          [
           "Introduction to Scripting in Python"
          ],
          [
           "Investment and Portfolio Management"
          ],
          [
           "Leadership Development for Engineers"
          ],
          [
           "Parallel, Concurrent, and Distributed Programming in Java"
          ]
         ],
         "hovertemplate": "organization=Rice University<br>Rating=%{x}<br>Enrollments=%{marker.size}<br>title=%{customdata[0]}<extra></extra>",
         "legendgroup": "Rice University",
         "marker": {
          "color": "#19d3f3",
          "size": [
           110000,
           15000,
           23000,
           69000,
           200000,
           20000,
           18000,
           37000,
           99000,
           49000,
           49000,
           17000,
           30000
          ],
          "sizemode": "area",
          "sizeref": 8000,
          "symbol": "circle"
         },
         "mode": "markers",
         "name": "Rice University",
         "orientation": "v",
         "showlegend": true,
         "type": "scatter",
         "x": [
          4.7,
          4.7,
          4.7,
          4.8,
          4.8,
          4.7,
          4.7,
          4.6,
          4.7,
          4.7,
          4.5,
          4.7,
          4.5
         ],
         "xaxis": "x",
         "y": [
          110000,
          15000,
          23000,
          69000,
          200000,
          20000,
          18000,
          37000,
          99000,
          49000,
          49000,
          17000,
          30000
         ],
         "yaxis": "y"
        },
        {
         "customdata": [
          [
           "COVID-19: What You Need to Know (CME Eligible)"
          ]
         ],
         "hovertemplate": "organization=Osmosis<br>Rating=%{x}<br>Enrollments=%{marker.size}<br>title=%{customdata[0]}<extra></extra>",
         "legendgroup": "Osmosis",
         "marker": {
          "color": "#FF6692",
          "size": [
           32000
          ],
          "sizemode": "area",
          "sizeref": 8000,
          "symbol": "circle"
         },
         "mode": "markers",
         "name": "Osmosis",
         "orientation": "v",
         "showlegend": true,
         "type": "scatter",
         "x": [
          4.8
         ],
         "xaxis": "x",
         "y": [
          32000
         ],
         "yaxis": "y"
        },
        {
         "customdata": [
          [
           "Challenging Forensic Science: How Science Should Speak to Court"
          ]
         ],
         "hovertemplate": "organization=University of Lausanne<br>Rating=%{x}<br>Enrollments=%{marker.size}<br>title=%{customdata[0]}<extra></extra>",
         "legendgroup": "University of Lausanne",
         "marker": {
          "color": "#B6E880",
          "size": [
           31000
          ],
          "sizemode": "area",
          "sizeref": 8000,
          "symbol": "circle"
         },
         "mode": "markers",
         "name": "University of Lausanne",
         "orientation": "v",
         "showlegend": true,
         "type": "scatter",
         "x": [
          4.8
         ],
         "xaxis": "x",
         "y": [
          31000
         ],
         "yaxis": "y"
        },
        {
         "customdata": [
          [
           "Chinese for HSK 1"
          ],
          [
           "Learn Chinese: HSK Test Preparation"
          ]
         ],
         "hovertemplate": "organization=Peking University<br>Rating=%{x}<br>Enrollments=%{marker.size}<br>title=%{customdata[0]}<extra></extra>",
         "legendgroup": "Peking University",
         "marker": {
          "color": "#FF97FF",
          "size": [
           22000,
           43000
          ],
          "sizemode": "area",
          "sizeref": 8000,
          "symbol": "circle"
         },
         "mode": "markers",
         "name": "Peking University",
         "orientation": "v",
         "showlegend": true,
         "type": "scatter",
         "x": [
          4.8,
          4.8
         ],
         "xaxis": "x",
         "y": [
          22000,
          43000
         ],
         "yaxis": "y"
        },
        {
         "customdata": [
          [
           "Cisco Networking Basics"
          ],
          [
           "Internet Connection: How to Get Online?"
          ]
         ],
         "hovertemplate": "organization=Cisco<br>Rating=%{x}<br>Enrollments=%{marker.size}<br>title=%{customdata[0]}<extra></extra>",
         "legendgroup": "Cisco",
         "marker": {
          "color": "#FECB52",
          "size": [
           57000,
           36000
          ],
          "sizemode": "area",
          "sizeref": 8000,
          "symbol": "circle"
         },
         "mode": "markers",
         "name": "Cisco",
         "orientation": "v",
         "showlegend": true,
         "type": "scatter",
         "x": [
          4.7,
          4.7
         ],
         "xaxis": "x",
         "y": [
          57000,
          36000
         ],
         "yaxis": "y"
        },
        {
         "customdata": [
          [
           "Claves de la Dirección de Empresas"
          ],
          [
           "Corporate Finance Essentials"
          ],
          [
           "Foundations of Management"
          ],
          [
           "Strategy and Sustainability"
          ],
          [
           "¿Qué hacen los buenos directivos? Prioridades de la Alta Dirección"
          ]
         ],
         "hovertemplate": "organization=IESE Business School<br>Rating=%{x}<br>Enrollments=%{marker.size}<br>title=%{customdata[0]}<extra></extra>",
         "legendgroup": "IESE Business School",
         "marker": {
          "color": "#636efa",
          "size": [
           51000,
           56000,
           64000,
           11000,
           25000
          ],
          "sizemode": "area",
          "sizeref": 8000,
          "symbol": "circle"
         },
         "mode": "markers",
         "name": "IESE Business School",
         "orientation": "v",
         "showlegend": true,
         "type": "scatter",
         "x": [
          4.8,
          4.8,
          4.8,
          4.6,
          4.7
         ],
         "xaxis": "x",
         "y": [
          51000,
          56000,
          64000,
          11000,
          25000
         ],
         "yaxis": "y"
        },
        {
         "customdata": [
          [
           "Clinical Terminology for International and U.S. Students"
          ],
          [
           "Epidemics, Pandemics and Outbreaks"
          ],
          [
           "Gender and Sexuality: Diversity and Inclusion in the Workplace"
          ]
         ],
         "hovertemplate": "organization=University of Pittsburgh<br>Rating=%{x}<br>Enrollments=%{marker.size}<br>title=%{customdata[0]}<extra></extra>",
         "legendgroup": "University of Pittsburgh",
         "marker": {
          "color": "#EF553B",
          "size": [
           32000,
           23000,
           14000
          ],
          "sizemode": "area",
          "sizeref": 8000,
          "symbol": "circle"
         },
         "mode": "markers",
         "name": "University of Pittsburgh",
         "orientation": "v",
         "showlegend": true,
         "type": "scatter",
         "x": [
          4.8,
          4.7,
          4.7
         ],
         "xaxis": "x",
         "y": [
          32000,
          23000,
          14000
         ],
         "yaxis": "y"
        },
        {
         "customdata": [
          [
           "Cloud Computing Basics (Cloud 101)"
          ],
          [
           "Mastering Final Cut Pro"
          ],
          [
           "Swift 5 iOS Application Developer"
          ]
         ],
         "hovertemplate": "organization=LearnQuest<br>Rating=%{x}<br>Enrollments=%{marker.size}<br>title=%{customdata[0]}<extra></extra>",
         "legendgroup": "LearnQuest",
         "marker": {
          "color": "#00cc96",
          "size": [
           37000,
           8400,
           3900
          ],
          "sizemode": "area",
          "sizeref": 8000,
          "symbol": "circle"
         },
         "mode": "markers",
         "name": "LearnQuest",
         "orientation": "v",
         "showlegend": true,
         "type": "scatter",
         "x": [
          4.5,
          4.6,
          4.5
         ],
         "xaxis": "x",
         "y": [
          37000,
          8400,
          3900
         ],
         "yaxis": "y"
        },
        {
         "customdata": [
          [
           "Competitive Strategy and Organization Design"
          ],
          [
           "Nutrition and Lifestyle in Pregnancy"
          ]
         ],
         "hovertemplate": "organization=Ludwig-Maximilians-Universität München (LMU)<br>Rating=%{x}<br>Enrollments=%{marker.size}<br>title=%{customdata[0]}<extra></extra>",
         "legendgroup": "Ludwig-Maximilians-Universität München (LMU)",
         "marker": {
          "color": "#ab63fa",
          "size": [
           350000,
           35000
          ],
          "sizemode": "area",
          "sizeref": 8000,
          "symbol": "circle"
         },
         "mode": "markers",
         "name": "Ludwig-Maximilians-Universität München (LMU)",
         "orientation": "v",
         "showlegend": true,
         "type": "scatter",
         "x": [
          4.7,
          4.8
         ],
         "xaxis": "x",
         "y": [
          350000,
          35000
         ],
         "yaxis": "y"
        },
        {
         "customdata": [
          [
           "Construction Cost Estimating and Cost Control"
          ],
          [
           "Construction Management"
          ],
          [
           "Construction Project Management"
          ],
          [
           "Construction Scheduling"
          ],
          [
           "Economics of Money and Banking"
          ],
          [
           "Financial Engineering and Risk Management Part I"
          ],
          [
           "Social Policy for Social Services & Health Practitioners"
          ]
         ],
         "hovertemplate": "organization=Columbia University<br>Rating=%{x}<br>Enrollments=%{marker.size}<br>title=%{customdata[0]}<extra></extra>",
         "legendgroup": "Columbia University",
         "marker": {
          "color": "#FFA15A",
          "size": [
           19000,
           61000,
           43000,
           15000,
           83000,
           100000,
           4200
          ],
          "sizemode": "area",
          "sizeref": 8000,
          "symbol": "circle"
         },
         "mode": "markers",
         "name": "Columbia University",
         "orientation": "v",
         "showlegend": true,
         "type": "scatter",
         "x": [
          4.7,
          4.7,
          4.8,
          4.8,
          4.9,
          4.6,
          4.8
         ],
         "xaxis": "x",
         "y": [
          19000,
          61000,
          43000,
          15000,
          83000,
          100000,
          4200
         ],
         "yaxis": "y"
        },
        {
         "customdata": [
          [
           "Content Strategy for Professionals"
          ],
          [
           "Customer Segmentation and Prospecting"
          ],
          [
           "High Performance Collaboration: Leadership, Teamwork, and Negotiation"
          ],
          [
           "Modern Robotics:  Mechanics, Planning, and Control"
          ],
          [
           "Organizational Leadership"
          ],
          [
           "Scaling Operations: Linking Strategy and Execution"
          ],
          [
           "Social Media Marketing"
          ],
          [
           "Sports Marketing"
          ],
          [
           "The Art of Sales: Mastering the Selling Process"
          ],
          [
           "What is Social?"
          ]
         ],
         "hovertemplate": "organization=Northwestern University<br>Rating=%{x}<br>Enrollments=%{marker.size}<br>title=%{customdata[0]}<extra></extra>",
         "legendgroup": "Northwestern University",
         "marker": {
          "color": "#19d3f3",
          "size": [
           27000,
           18000,
           46000,
           21000,
           92000,
           12000,
           130000,
           12000,
           23000,
           94000
          ],
          "sizemode": "area",
          "sizeref": 8000,
          "symbol": "circle"
         },
         "mode": "markers",
         "name": "Northwestern University",
         "orientation": "v",
         "showlegend": true,
         "type": "scatter",
         "x": [
          4.5,
          4.7,
          4.8,
          4.7,
          4.7,
          4.5,
          4.6,
          4.7,
          4.7,
          4.6
         ],
         "xaxis": "x",
         "y": [
          27000,
          18000,
          46000,
          21000,
          92000,
          12000,
          130000,
          12000,
          23000,
          94000
         ],
         "yaxis": "y"
        },
        {
         "customdata": [
          [
           "Control of Mobile Robots"
          ],
          [
           "Fundamentals of Engineering Exam Review"
          ],
          [
           "Improve Your English Communication Skills"
          ],
          [
           "Introduction to Electronics"
          ],
          [
           "Introduction to Engineering Mechanics"
          ],
          [
           "Introduction to User Experience Design"
          ],
          [
           "Linear Circuits 1: DC Analysis"
          ],
          [
           "Speak English Professionally: In Person, Online & On the Phone"
          ],
          [
           "Supply Chain Principles"
          ],
          [
           "Write Professional Emails in English"
          ]
         ],
         "hovertemplate": "organization=Georgia Institute of Technology<br>Rating=%{x}<br>Enrollments=%{marker.size}<br>title=%{customdata[0]}<extra></extra>",
         "legendgroup": "Georgia Institute of Technology",
         "marker": {
          "color": "#FF6692",
          "size": [
           49000,
           49000,
           610000,
           110000,
           150000,
           87000,
           29000,
           430000,
           29000,
           270000
          ],
          "sizemode": "area",
          "sizeref": 8000,
          "symbol": "circle"
         },
         "mode": "markers",
         "name": "Georgia Institute of Technology",
         "orientation": "v",
         "showlegend": true,
         "type": "scatter",
         "x": [
          4.8,
          4.7,
          4.7,
          4.7,
          4.7,
          4.5,
          4.6,
          4.6,
          4.6,
          4.7
         ],
         "xaxis": "x",
         "y": [
          49000,
          49000,
          610000,
          110000,
          150000,
          87000,
          29000,
          430000,
          29000,
          270000
         ],
         "yaxis": "y"
        },
        {
         "customdata": [
          [
           "Corporate Strategy"
          ]
         ],
         "hovertemplate": "organization=UCL School of Management<br>Rating=%{x}<br>Enrollments=%{marker.size}<br>title=%{customdata[0]}<extra></extra>",
         "legendgroup": "UCL School of Management",
         "marker": {
          "color": "#B6E880",
          "size": [
           7800
          ],
          "sizemode": "area",
          "sizeref": 8000,
          "symbol": "circle"
         },
         "mode": "markers",
         "name": "UCL School of Management",
         "orientation": "v",
         "showlegend": true,
         "type": "scatter",
         "x": [
          4.8
         ],
         "xaxis": "x",
         "y": [
          7800
         ],
         "yaxis": "y"
        },
        {
         "customdata": [
          [
           "Costos para los Negocios"
          ],
          [
           "Cuidados y procedimientos generales en la atención del recién nacido"
          ],
          [
           "Marketing Gerencial"
          ]
         ],
         "hovertemplate": "organization=Universidad de Chile<br>Rating=%{x}<br>Enrollments=%{marker.size}<br>title=%{customdata[0]}<extra></extra>",
         "legendgroup": "Universidad de Chile",
         "marker": {
          "color": "#FF97FF",
          "size": [
           43000,
           22000,
           49000
          ],
          "sizemode": "area",
          "sizeref": 8000,
          "symbol": "circle"
         },
         "mode": "markers",
         "name": "Universidad de Chile",
         "orientation": "v",
         "showlegend": true,
         "type": "scatter",
         "x": [
          4.8,
          4.8,
          4.7
         ],
         "xaxis": "x",
         "y": [
          43000,
          22000,
          49000
         ],
         "yaxis": "y"
        },
        {
         "customdata": [
          [
           "Crash Course on Python"
          ],
          [
           "Google IT Automation with Python"
          ],
          [
           "Google IT Support"
          ],
          [
           "IT Security: Defense against the digital dark arts"
          ],
          [
           "Operating Systems and You: Becoming a Power User"
          ],
          [
           "System Administration and IT Infrastructure Services"
          ],
          [
           "Technical Support Fundamentals"
          ],
          [
           "The Bits and Bytes of Computer Networking"
          ],
          [
           "Using Python to Interact with the Operating System"
          ]
         ],
         "hovertemplate": "organization=Google<br>Rating=%{x}<br>Enrollments=%{marker.size}<br>title=%{customdata[0]}<extra></extra>",
         "legendgroup": "Google",
         "marker": {
          "color": "#FECB52",
          "size": [
           81000,
           93000,
           350000,
           62000,
           76000,
           62000,
           280000,
           130000,
           19000
          ],
          "sizemode": "area",
          "sizeref": 8000,
          "symbol": "circle"
         },
         "mode": "markers",
         "name": "Google",
         "orientation": "v",
         "showlegend": true,
         "type": "scatter",
         "x": [
          4.8,
          4.7,
          4.8,
          4.8,
          4.6,
          4.7,
          4.8,
          4.7,
          4.7
         ],
         "xaxis": "x",
         "y": [
          81000,
          93000,
          350000,
          62000,
          76000,
          62000,
          280000,
          130000,
          19000
         ],
         "yaxis": "y"
        },
        {
         "customdata": [
          [
           "Creative Problem Solving"
          ],
          [
           "Healthcare Marketplace"
          ],
          [
           "Human Resource Management: HR for People Managers"
          ],
          [
           "Information​ ​Systems"
          ],
          [
           "Integrative Health and Medicine"
          ],
          [
           "Preparing to Manage Human Resources"
          ],
          [
           "Recommender Systems"
          ],
          [
           "Recruiting, Hiring, and Onboarding Employees"
          ],
          [
           "Resilience in Children Exposed to Trauma, Disaster and War: Global Perspectives"
          ],
          [
           "Software Development Lifecycle"
          ],
          [
           "User Interface Design"
          ]
         ],
         "hovertemplate": "organization=University of Minnesota<br>Rating=%{x}<br>Enrollments=%{marker.size}<br>title=%{customdata[0]}<extra></extra>",
         "legendgroup": "University of Minnesota",
         "marker": {
          "color": "#636efa",
          "size": [
           140000,
           36000,
           98000,
           16000,
           14000,
           68000,
           29000,
           35000,
           15000,
           34000,
           43000
          ],
          "sizemode": "area",
          "sizeref": 8000,
          "symbol": "circle"
         },
         "mode": "markers",
         "name": "University of Minnesota",
         "orientation": "v",
         "showlegend": true,
         "type": "scatter",
         "x": [
          4.3,
          4.4,
          4.7,
          4.7,
          4.8,
          4.8,
          4.3,
          4.7,
          4.8,
          4.6,
          4.6
         ],
         "xaxis": "x",
         "y": [
          140000,
          36000,
          98000,
          16000,
          14000,
          68000,
          29000,
          35000,
          15000,
          34000,
          43000
         ],
         "yaxis": "y"
        },
        {
         "customdata": [
          [
           "Creative Writing"
          ],
          [
           "Creative Writing: The Craft of Plot"
          ],
          [
           "Data Analysis and Interpretation"
          ],
          [
           "Memoir and Personal Essay: Write About Yourself"
          ],
          [
           "Social Psychology"
          ]
         ],
         "hovertemplate": "organization=Wesleyan University<br>Rating=%{x}<br>Enrollments=%{marker.size}<br>title=%{customdata[0]}<extra></extra>",
         "legendgroup": "Wesleyan University",
         "marker": {
          "color": "#EF553B",
          "size": [
           140000,
           120000,
           100000,
           13000,
           220000
          ],
          "sizemode": "area",
          "sizeref": 8000,
          "symbol": "circle"
         },
         "mode": "markers",
         "name": "Wesleyan University",
         "orientation": "v",
         "showlegend": true,
         "type": "scatter",
         "x": [
          4.6,
          4.7,
          4.4,
          4.3,
          4.7
         ],
         "xaxis": "x",
         "y": [
          140000,
          120000,
          100000,
          13000,
          220000
         ],
         "yaxis": "y"
        },
        {
         "customdata": [
          [
           "Curanderismo: Traditional Healing Using Plants"
          ]
         ],
         "hovertemplate": "organization=University of New Mexico<br>Rating=%{x}<br>Enrollments=%{marker.size}<br>title=%{customdata[0]}<extra></extra>",
         "legendgroup": "University of New Mexico",
         "marker": {
          "color": "#00cc96",
          "size": [
           5500
          ],
          "sizemode": "area",
          "sizeref": 8000,
          "symbol": "circle"
         },
         "mode": "markers",
         "name": "University of New Mexico",
         "orientation": "v",
         "showlegend": true,
         "type": "scatter",
         "x": [
          4.6
         ],
         "xaxis": "x",
         "y": [
          5500
         ],
         "yaxis": "y"
        },
        {
         "customdata": [
          [
           "Cybersecurity"
          ],
          [
           "Entrepreneurship: Launching an Innovative Business"
          ],
          [
           "Interviewing and Resume Writing in English"
          ],
          [
           "New Approaches to Countering Terror: Countering Violent Extremism"
          ],
          [
           "Survey Data Collection and Analytics"
          ],
          [
           "The Cycle: Management of Successful Arts and Cultural Organizations"
          ]
         ],
         "hovertemplate": "organization=University of Maryland, College Park<br>Rating=%{x}<br>Enrollments=%{marker.size}<br>title=%{customdata[0]}<extra></extra>",
         "legendgroup": "University of Maryland, College Park",
         "marker": {
          "color": "#ab63fa",
          "size": [
           99000,
           69000,
           66000,
           12000,
           45000,
           11000
          ],
          "sizemode": "area",
          "sizeref": 8000,
          "symbol": "circle"
         },
         "mode": "markers",
         "name": "University of Maryland, College Park",
         "orientation": "v",
         "showlegend": true,
         "type": "scatter",
         "x": [
          4.5,
          4.6,
          4.6,
          4.7,
          4.3,
          4.8
         ],
         "xaxis": "x",
         "y": [
          99000,
          69000,
          66000,
          12000,
          45000,
          11000
         ],
         "yaxis": "y"
        },
        {
         "customdata": [
          [
           "Cybersecurity and Its Ten Domains"
          ],
          [
           "Six Sigma Green Belt"
          ],
          [
           "Six Sigma and the Organization (Advanced)"
          ]
         ],
         "hovertemplate": "organization=University System of Georgia<br>Rating=%{x}<br>Enrollments=%{marker.size}<br>title=%{customdata[0]}<extra></extra>",
         "legendgroup": "University System of Georgia",
         "marker": {
          "color": "#FFA15A",
          "size": [
           140000,
           18000,
           15000
          ],
          "sizemode": "area",
          "sizeref": 8000,
          "symbol": "circle"
         },
         "mode": "markers",
         "name": "University System of Georgia",
         "orientation": "v",
         "showlegend": true,
         "type": "scatter",
         "x": [
          4.2,
          4.7,
          4.7
         ],
         "xaxis": "x",
         "y": [
          140000,
          18000,
          15000
         ],
         "yaxis": "y"
        },
        {
         "customdata": [
          [
           "Dairy Production and Management"
          ],
          [
           "Epidemics - the Dynamics of Infectious Diseases"
          ]
         ],
         "hovertemplate": "organization=The Pennsylvania State University<br>Rating=%{x}<br>Enrollments=%{marker.size}<br>title=%{customdata[0]}<extra></extra>",
         "legendgroup": "The Pennsylvania State University",
         "marker": {
          "color": "#19d3f3",
          "size": [
           23000,
           45000
          ],
          "sizemode": "area",
          "sizeref": 8000,
          "symbol": "circle"
         },
         "mode": "markers",
         "name": "The Pennsylvania State University",
         "orientation": "v",
         "showlegend": true,
         "type": "scatter",
         "x": [
          4.8,
          4.8
         ],
         "xaxis": "x",
         "y": [
          23000,
          45000
         ],
         "yaxis": "y"
        },
        {
         "customdata": [
          [
           "Data Analysis and Presentation Skills: the PwC Approach"
          ],
          [
           "Data Visualization with Advanced Excel"
          ],
          [
           "Data-driven Decision Making"
          ]
         ],
         "hovertemplate": "organization=PwC<br>Rating=%{x}<br>Enrollments=%{marker.size}<br>title=%{customdata[0]}<extra></extra>",
         "legendgroup": "PwC",
         "marker": {
          "color": "#FF6692",
          "size": [
           220000,
           60000,
           120000
          ],
          "sizemode": "area",
          "sizeref": 8000,
          "symbol": "circle"
         },
         "mode": "markers",
         "name": "PwC",
         "orientation": "v",
         "showlegend": true,
         "type": "scatter",
         "x": [
          4.6,
          4.8,
          4.6
         ],
         "xaxis": "x",
         "y": [
          220000,
          60000,
          120000
         ],
         "yaxis": "y"
        },
        {
         "customdata": [
          [
           "De-Mystifying Mindfulness"
          ],
          [
           "International Law in Action: A Guide to the International Courts and Tribunals in The Hague"
          ],
          [
           "International Law in Action: the Arbitration of International Disputes"
          ],
          [
           "Miracles of Human Language: An Introduction to Linguistics"
          ],
          [
           "Osteoarchaeology: The Truth in Our Bones"
          ],
          [
           "Rethinking International Tax Law"
          ],
          [
           "Security & Safety Challenges in a Globalized World"
          ],
          [
           "Terrorism and Counterterrorism: Comparing Theory and Practice"
          ],
          [
           "The Changing Global Order"
          ]
         ],
         "hovertemplate": "organization=Universiteit Leiden<br>Rating=%{x}<br>Enrollments=%{marker.size}<br>title=%{customdata[0]}<extra></extra>",
         "legendgroup": "Universiteit Leiden",
         "marker": {
          "color": "#B6E880",
          "size": [
           150000,
           36000,
           19000,
           120000,
           22000,
           36000,
           14000,
           90000,
           23000
          ],
          "sizemode": "area",
          "sizeref": 8000,
          "symbol": "circle"
         },
         "mode": "markers",
         "name": "Universiteit Leiden",
         "orientation": "v",
         "showlegend": true,
         "type": "scatter",
         "x": [
          4.8,
          4.8,
          4.8,
          4.7,
          4.7,
          4.9,
          4.7,
          4.8,
          4.7
         ],
         "xaxis": "x",
         "y": [
          150000,
          36000,
          19000,
          120000,
          22000,
          36000,
          14000,
          90000,
          23000
         ],
         "yaxis": "y"
        },
        {
         "customdata": [
          [
           "Dermatology: Trip to skin"
          ]
         ],
         "hovertemplate": "organization=Novosibirsk State University <br>Rating=%{x}<br>Enrollments=%{marker.size}<br>title=%{customdata[0]}<extra></extra>",
         "legendgroup": "Novosibirsk State University ",
         "marker": {
          "color": "#FF97FF",
          "size": [
           8200
          ],
          "sizemode": "area",
          "sizeref": 8000,
          "symbol": "circle"
         },
         "mode": "markers",
         "name": "Novosibirsk State University ",
         "orientation": "v",
         "showlegend": true,
         "type": "scatter",
         "x": [
          4.4
         ],
         "xaxis": "x",
         "y": [
          8200
         ],
         "yaxis": "y"
        },
        {
         "customdata": [
          [
           "Design-Led Strategy: Design thinking for business strategy and entrepreneurship"
          ],
          [
           "Innovation Through Design: Think, Make, Break, Repeat"
          ],
          [
           "Introduction to Calculus"
          ],
          [
           "Positive Psychiatry and Mental Health"
          ]
         ],
         "hovertemplate": "organization=The University of Sydney<br>Rating=%{x}<br>Enrollments=%{marker.size}<br>title=%{customdata[0]}<extra></extra>",
         "legendgroup": "The University of Sydney",
         "marker": {
          "color": "#FECB52",
          "size": [
           19000,
           10000,
           53000,
           72000
          ],
          "sizemode": "area",
          "sizeref": 8000,
          "symbol": "circle"
         },
         "mode": "markers",
         "name": "The University of Sydney",
         "orientation": "v",
         "showlegend": true,
         "type": "scatter",
         "x": [
          4.6,
          4.8,
          4.8,
          4.8
         ],
         "xaxis": "x",
         "y": [
          19000,
          10000,
          53000,
          72000
         ],
         "yaxis": "y"
        },
        {
         "customdata": [
          [
           "Developing Your Musicianship"
          ],
          [
           "Developing Your Musicianship"
          ],
          [
           "Electronic Music Production"
          ],
          [
           "Guitar for Beginners"
          ],
          [
           "Introduction to Ableton Live"
          ],
          [
           "Music Business"
          ],
          [
           "Music Business Foundations"
          ],
          [
           "Music Production"
          ],
          [
           "Songwriting: Writing the Lyrics"
          ],
          [
           "The Art of Music Production"
          ],
          [
           "The Business of Music Production"
          ],
          [
           "The DIY Musician"
          ],
          [
           "The Singer Songwriter"
          ],
          [
           "The Technology of Music Production"
          ]
         ],
         "hovertemplate": "organization=Berklee College of Music<br>Rating=%{x}<br>Enrollments=%{marker.size}<br>title=%{customdata[0]}<extra></extra>",
         "legendgroup": "Berklee College of Music",
         "marker": {
          "color": "#636efa",
          "size": [
           41000,
           54000,
           110000,
           210000,
           60000,
           42000,
           34000,
           70000,
           68000,
           47000,
           84000,
           120000,
           320000,
           28000
          ],
          "sizemode": "area",
          "sizeref": 8000,
          "symbol": "circle"
         },
         "mode": "markers",
         "name": "Berklee College of Music",
         "orientation": "v",
         "showlegend": true,
         "type": "scatter",
         "x": [
          4.8,
          4.8,
          4.8,
          4.8,
          4.8,
          4.8,
          4.9,
          4.8,
          4.8,
          4.8,
          4.8,
          4.8,
          4.8,
          4.8
         ],
         "xaxis": "x",
         "y": [
          41000,
          54000,
          110000,
          210000,
          60000,
          42000,
          34000,
          70000,
          68000,
          47000,
          84000,
          120000,
          320000,
          28000
         ],
         "yaxis": "y"
        },
        {
         "customdata": [
          [
           "Devenir entrepreneur du changement"
          ]
         ],
         "hovertemplate": "organization=Ticket for Change<br>Rating=%{x}<br>Enrollments=%{marker.size}<br>title=%{customdata[0]}<extra></extra>",
         "legendgroup": "Ticket for Change",
         "marker": {
          "color": "#EF553B",
          "size": [
           54000
          ],
          "sizemode": "area",
          "sizeref": 8000,
          "symbol": "circle"
         },
         "mode": "markers",
         "name": "Ticket for Change",
         "orientation": "v",
         "showlegend": true,
         "type": "scatter",
         "x": [
          4.7
         ],
         "xaxis": "x",
         "y": [
          54000
         ],
         "yaxis": "y"
        },
        {
         "customdata": [
          [
           "Digital Business Models"
          ],
          [
           "Greening the Economy: Sustainable Cities"
          ]
         ],
         "hovertemplate": "organization=Lund University<br>Rating=%{x}<br>Enrollments=%{marker.size}<br>title=%{customdata[0]}<extra></extra>",
         "legendgroup": "Lund University",
         "marker": {
          "color": "#00cc96",
          "size": [
           21000,
           56000
          ],
          "sizemode": "area",
          "sizeref": 8000,
          "symbol": "circle"
         },
         "mode": "markers",
         "name": "Lund University",
         "orientation": "v",
         "showlegend": true,
         "type": "scatter",
         "x": [
          4.5,
          4.6
         ],
         "xaxis": "x",
         "y": [
          21000,
          56000
         ],
         "yaxis": "y"
        },
        {
         "customdata": [
          [
           "Discrete Optimization"
          ],
          [
           "Epigenetic Control of Gene Expression"
          ],
          [
           "Essentials of Corporate Finance"
          ]
         ],
         "hovertemplate": "organization=The University of Melbourne<br>Rating=%{x}<br>Enrollments=%{marker.size}<br>title=%{customdata[0]}<extra></extra>",
         "legendgroup": "The University of Melbourne",
         "marker": {
          "color": "#ab63fa",
          "size": [
           40000,
           35000,
           54000
          ],
          "sizemode": "area",
          "sizeref": 8000,
          "symbol": "circle"
         },
         "mode": "markers",
         "name": "The University of Melbourne",
         "orientation": "v",
         "showlegend": true,
         "type": "scatter",
         "x": [
          4.9,
          4.8,
          4.6
         ],
         "xaxis": "x",
         "y": [
          40000,
          35000,
          54000
         ],
         "yaxis": "y"
        },
        {
         "customdata": [
          [
           "Diseño Instruccional: Aprendizaje activo y Pedagogía digital"
          ],
          [
           "Fundamentos de la escritura"
          ],
          [
           "Marketing con Redes Sociales"
          ]
         ],
         "hovertemplate": "organization=Tecnológico de Monterrey<br>Rating=%{x}<br>Enrollments=%{marker.size}<br>title=%{customdata[0]}<extra></extra>",
         "legendgroup": "Tecnológico de Monterrey",
         "marker": {
          "color": "#FFA15A",
          "size": [
           4000,
           47000,
           60000
          ],
          "sizemode": "area",
          "sizeref": 8000,
          "symbol": "circle"
         },
         "mode": "markers",
         "name": "Tecnológico de Monterrey",
         "orientation": "v",
         "showlegend": true,
         "type": "scatter",
         "x": [
          4.6,
          4.6,
          4.4
         ],
         "xaxis": "x",
         "y": [
          4000,
          47000,
          60000
         ],
         "yaxis": "y"
        },
        {
         "customdata": [
          [
           "Ecology: Ecosystem Dynamics and Conservation"
          ],
          [
           "The Science of Stem Cells"
          ]
         ],
         "hovertemplate": "organization=American Museum of Natural History<br>Rating=%{x}<br>Enrollments=%{marker.size}<br>title=%{customdata[0]}<extra></extra>",
         "legendgroup": "American Museum of Natural History",
         "marker": {
          "color": "#19d3f3",
          "size": [
           18000,
           12000
          ],
          "sizemode": "area",
          "sizeref": 8000,
          "symbol": "circle"
         },
         "mode": "markers",
         "name": "American Museum of Natural History",
         "orientation": "v",
         "showlegend": true,
         "type": "scatter",
         "x": [
          4.8,
          4.7
         ],
         "xaxis": "x",
         "y": [
          18000,
          12000
         ],
         "yaxis": "y"
        },
        {
         "customdata": [
          [
           "Ecosystem Services: a Method for Sustainable Development"
          ],
          [
           "International Organizations Management"
          ],
          [
           "Introduction aux Droits de l’Homme"
          ],
          [
           "Investment Management"
          ],
          [
           "Particle Physics: an Introduction"
          ],
          [
           "Troubles du spectre de l'autisme : diagnostic"
          ]
         ],
         "hovertemplate": "organization=University of Geneva<br>Rating=%{x}<br>Enrollments=%{marker.size}<br>title=%{customdata[0]}<extra></extra>",
         "legendgroup": "University of Geneva",
         "marker": {
          "color": "#FF6692",
          "size": [
           16000,
           20000,
           46000,
           99000,
           42000,
           5400
          ],
          "sizemode": "area",
          "sizeref": 8000,
          "symbol": "circle"
         },
         "mode": "markers",
         "name": "University of Geneva",
         "orientation": "v",
         "showlegend": true,
         "type": "scatter",
         "x": [
          4.7,
          4.8,
          4.8,
          4.7,
          4.5,
          4.9
         ],
         "xaxis": "x",
         "y": [
          16000,
          20000,
          46000,
          99000,
          42000,
          5400
         ],
         "yaxis": "y"
        },
        {
         "customdata": [
          [
           "Emerging Technologies: From Smartphones to IoT to Big Data"
          ],
          [
           "First Step Korean"
          ],
          [
           "International Marketing & Cross Industry Growth"
          ],
          [
           "Learn to Speak Korean 1"
          ]
         ],
         "hovertemplate": "organization=Yonsei University<br>Rating=%{x}<br>Enrollments=%{marker.size}<br>title=%{customdata[0]}<extra></extra>",
         "legendgroup": "Yonsei University",
         "marker": {
          "color": "#B6E880",
          "size": [
           17000,
           400000,
           26000,
           120000
          ],
          "sizemode": "area",
          "sizeref": 8000,
          "symbol": "circle"
         },
         "mode": "markers",
         "name": "Yonsei University",
         "orientation": "v",
         "showlegend": true,
         "type": "scatter",
         "x": [
          4.6,
          4.9,
          4.6,
          4.9
         ],
         "xaxis": "x",
         "y": [
          17000,
          400000,
          26000,
          120000
         ],
         "yaxis": "y"
        },
        {
         "customdata": [
          [
           "Engineering Health: Introduction to Yoga and Physiology"
          ],
          [
           "Information Visualization"
          ],
          [
           "Introduction to Cyber Attacks"
          ],
          [
           "Introduction to Cyber Security"
          ],
          [
           "Machine Learning and Reinforcement Learning in Finance"
          ]
         ],
         "hovertemplate": "organization=New York University<br>Rating=%{x}<br>Enrollments=%{marker.size}<br>title=%{customdata[0]}<extra></extra>",
         "legendgroup": "New York University",
         "marker": {
          "color": "#FF97FF",
          "size": [
           14000,
           10000,
           27000,
           32000,
           29000
          ],
          "sizemode": "area",
          "sizeref": 8000,
          "symbol": "circle"
         },
         "mode": "markers",
         "name": "New York University",
         "orientation": "v",
         "showlegend": true,
         "type": "scatter",
         "x": [
          4.8,
          4.6,
          4.7,
          4.7,
          3.7
         ],
         "xaxis": "x",
         "y": [
          14000,
          10000,
          27000,
          32000,
          29000
         ],
         "yaxis": "y"
        },
        {
         "customdata": [
          [
           "English for Research Publication Purposes"
          ],
          [
           "Погружение в Python"
          ]
         ],
         "hovertemplate": "organization=Moscow Institute of Physics and Technology<br>Rating=%{x}<br>Enrollments=%{marker.size}<br>title=%{customdata[0]}<extra></extra>",
         "legendgroup": "Moscow Institute of Physics and Technology",
         "marker": {
          "color": "#FECB52",
          "size": [
           42000,
           45000
          ],
          "sizemode": "area",
          "sizeref": 8000,
          "symbol": "circle"
         },
         "mode": "markers",
         "name": "Moscow Institute of Physics and Technology",
         "orientation": "v",
         "showlegend": true,
         "type": "scatter",
         "x": [
          4.6,
          4.7
         ],
         "xaxis": "x",
         "y": [
          42000,
          45000
         ],
         "yaxis": "y"
        },
        {
         "customdata": [
          [
           "Enterprise Architecture"
          ]
         ],
         "hovertemplate": "organization=Peter the Great St. Petersburg Polytechnic University<br>Rating=%{x}<br>Enrollments=%{marker.size}<br>title=%{customdata[0]}<extra></extra>",
         "legendgroup": "Peter the Great St. Petersburg Polytechnic University",
         "marker": {
          "color": "#636efa",
          "size": [
           2400
          ],
          "sizemode": "area",
          "sizeref": 8000,
          "symbol": "circle"
         },
         "mode": "markers",
         "name": "Peter the Great St. Petersburg Polytechnic University",
         "orientation": "v",
         "showlegend": true,
         "type": "scatter",
         "x": [
          4.4
         ],
         "xaxis": "x",
         "y": [
          2400
         ],
         "yaxis": "y"
        },
        {
         "customdata": [
          [
           "Epidemiology for Public Health"
          ],
          [
           "Foundations of Public Health Practice"
          ],
          [
           "Infectious Disease Modelling"
          ],
          [
           "Introduction to Statistics & Data Analysis in Public Health"
          ],
          [
           "Mathematics for Machine Learning"
          ],
          [
           "Mathematics for Machine Learning: Linear Algebra"
          ],
          [
           "Mathematics for Machine Learning: Multivariate Calculus"
          ],
          [
           "Mathematics for Machine Learning: PCA"
          ],
          [
           "Statistical Analysis with R for Public Health"
          ]
         ],
         "hovertemplate": "organization=Imperial College London<br>Rating=%{x}<br>Enrollments=%{marker.size}<br>title=%{customdata[0]}<extra></extra>",
         "legendgroup": "Imperial College London",
         "marker": {
          "color": "#EF553B",
          "size": [
           6400,
           3200,
           1600,
           12000,
           150000,
           140000,
           51000,
           33000,
           16000
          ],
          "sizemode": "area",
          "sizeref": 8000,
          "symbol": "circle"
         },
         "mode": "markers",
         "name": "Imperial College London",
         "orientation": "v",
         "showlegend": true,
         "type": "scatter",
         "x": [
          4.7,
          4.8,
          5,
          4.7,
          4.6,
          4.7,
          4.7,
          4,
          4.7
         ],
         "xaxis": "x",
         "y": [
          6400,
          3200,
          1600,
          12000,
          150000,
          140000,
          51000,
          33000,
          16000
         ],
         "yaxis": "y"
        },
        {
         "customdata": [
          [
           "Epidemiology: The Basic Science of Public Health"
          ],
          [
           "Introduction to Environmental Law and Policy"
          ],
          [
           "Positive Psychology"
          ]
         ],
         "hovertemplate": "organization=The University of North Carolina at Chapel Hill<br>Rating=%{x}<br>Enrollments=%{marker.size}<br>title=%{customdata[0]}<extra></extra>",
         "legendgroup": "The University of North Carolina at Chapel Hill",
         "marker": {
          "color": "#00cc96",
          "size": [
           130000,
           34000,
           180000
          ],
          "sizemode": "area",
          "sizeref": 8000,
          "symbol": "circle"
         },
         "mode": "markers",
         "name": "The University of North Carolina at Chapel Hill",
         "orientation": "v",
         "showlegend": true,
         "type": "scatter",
         "x": [
          4.6,
          4.8,
          4.7
         ],
         "xaxis": "x",
         "y": [
          130000,
          34000,
          180000
         ],
         "yaxis": "y"
        },
        {
         "customdata": [
          [
           "Essentials in Clinical Simulations Across the Health Professions"
          ],
          [
           "Leading Healthcare Quality and Safety"
          ]
         ],
         "hovertemplate": "organization=The George Washington University<br>Rating=%{x}<br>Enrollments=%{marker.size}<br>title=%{customdata[0]}<extra></extra>",
         "legendgroup": "The George Washington University",
         "marker": {
          "color": "#ab63fa",
          "size": [
           4100,
           16000
          ],
          "sizemode": "area",
          "sizeref": 8000,
          "symbol": "circle"
         },
         "mode": "markers",
         "name": "The George Washington University",
         "orientation": "v",
         "showlegend": true,
         "type": "scatter",
         "x": [
          4.8,
          4.8
         ],
         "xaxis": "x",
         "y": [
          4100,
          16000
         ],
         "yaxis": "y"
        },
        {
         "customdata": [
          [
           "FinTech: Finance Industry Transformation and Regulation"
          ],
          [
           "Front-End Web Development with React"
          ],
          [
           "Front-End Web UI Frameworks and Tools: Bootstrap 4"
          ],
          [
           "Full Stack Web and Multiplatform Mobile App Development"
          ],
          [
           "Full-Stack Web Development with React"
          ],
          [
           "Python and Statistics for Financial Analysis"
          ],
          [
           "The Science of Gastronomy"
          ]
         ],
         "hovertemplate": "organization=The Hong Kong University of Science and Technology<br>Rating=%{x}<br>Enrollments=%{marker.size}<br>title=%{customdata[0]}<extra></extra>",
         "legendgroup": "The Hong Kong University of Science and Technology",
         "marker": {
          "color": "#FFA15A",
          "size": [
           13000,
           45000,
           89000,
           150000,
           140000,
           41000,
           50000
          ],
          "sizemode": "area",
          "sizeref": 8000,
          "symbol": "circle"
         },
         "mode": "markers",
         "name": "The Hong Kong University of Science and Technology",
         "orientation": "v",
         "showlegend": true,
         "type": "scatter",
         "x": [
          4.6,
          4.7,
          4.8,
          4.7,
          4.7,
          4.4,
          4.6
         ],
         "xaxis": "x",
         "y": [
          13000,
          45000,
          89000,
          150000,
          140000,
          41000,
          50000
         ],
         "yaxis": "y"
        },
        {
         "customdata": [
          [
           "Forensic Accounting and Fraud Examination"
          ],
          [
           "Sales Operations/Management"
          ]
         ],
         "hovertemplate": "organization=West Virginia University<br>Rating=%{x}<br>Enrollments=%{marker.size}<br>title=%{customdata[0]}<extra></extra>",
         "legendgroup": "West Virginia University",
         "marker": {
          "color": "#19d3f3",
          "size": [
           42000,
           5600
          ],
          "sizemode": "area",
          "sizeref": 8000,
          "symbol": "circle"
         },
         "mode": "markers",
         "name": "West Virginia University",
         "orientation": "v",
         "showlegend": true,
         "type": "scatter",
         "x": [
          4.7,
          4.4
         ],
         "xaxis": "x",
         "y": [
          42000,
          5600
         ],
         "yaxis": "y"
        },
        {
         "customdata": [
          [
           "Formulación y evaluación de proyectos complejos"
          ],
          [
           "Fundamentos de Finanzas Empresariales"
          ],
          [
           "Liderazgo efectivo para el siglo XXI"
          ],
          [
           "Marketing Verde"
          ],
          [
           "Sexualidad...mucho más que sexo"
          ]
         ],
         "hovertemplate": "organization=Universidad de los Andes<br>Rating=%{x}<br>Enrollments=%{marker.size}<br>title=%{customdata[0]}<extra></extra>",
         "legendgroup": "Universidad de los Andes",
         "marker": {
          "color": "#FF6692",
          "size": [
           4400,
           110000,
           23000,
           58000,
           110000
          ],
          "sizemode": "area",
          "sizeref": 8000,
          "symbol": "circle"
         },
         "mode": "markers",
         "name": "Universidad de los Andes",
         "orientation": "v",
         "showlegend": true,
         "type": "scatter",
         "x": [
          4.9,
          4.8,
          4.8,
          4.8,
          4.8
         ],
         "xaxis": "x",
         "y": [
          4400,
          110000,
          23000,
          58000,
          110000
         ],
         "yaxis": "y"
        },
        {
         "customdata": [
          [
           "From the Big Bang to Dark Energy"
          ]
         ],
         "hovertemplate": "organization=The University of Tokyo<br>Rating=%{x}<br>Enrollments=%{marker.size}<br>title=%{customdata[0]}<extra></extra>",
         "legendgroup": "The University of Tokyo",
         "marker": {
          "color": "#B6E880",
          "size": [
           52000
          ],
          "sizemode": "area",
          "sizeref": 8000,
          "symbol": "circle"
         },
         "mode": "markers",
         "name": "The University of Tokyo",
         "orientation": "v",
         "showlegend": true,
         "type": "scatter",
         "x": [
          4.8
         ],
         "xaxis": "x",
         "y": [
          52000
         ],
         "yaxis": "y"
        },
        {
         "customdata": [
          [
           "Functional Programming Principles in Scala"
          ],
          [
           "Functional Programming in Scala"
          ],
          [
           "Municipal Solid Waste Management in Developing Countries"
          ],
          [
           "Smart Cities – Management of Smart Urban Infrastructures"
          ]
         ],
         "hovertemplate": "organization=École Polytechnique Fédérale de Lausanne<br>Rating=%{x}<br>Enrollments=%{marker.size}<br>title=%{customdata[0]}<extra></extra>",
         "legendgroup": "École Polytechnique Fédérale de Lausanne",
         "marker": {
          "color": "#FF97FF",
          "size": [
           170000,
           220000,
           59000,
           22000
          ],
          "sizemode": "area",
          "sizeref": 8000,
          "symbol": "circle"
         },
         "mode": "markers",
         "name": "École Polytechnique Fédérale de Lausanne",
         "orientation": "v",
         "showlegend": true,
         "type": "scatter",
         "x": [
          4.8,
          4.7,
          4.8,
          4.6
         ],
         "xaxis": "x",
         "y": [
          170000,
          220000,
          59000,
          22000
         ],
         "yaxis": "y"
        },
        {
         "customdata": [
          [
           "Fundamentals of Graphic Design"
          ],
          [
           "Introduction to Imagemaking"
          ],
          [
           "Introduction to Typography"
          ],
          [
           "Sharpened Visions: A Poetry Workshop"
          ],
          [
           "UI / UX Design"
          ],
          [
           "UX Design Fundamentals"
          ]
         ],
         "hovertemplate": "organization=California Institute of the Arts<br>Rating=%{x}<br>Enrollments=%{marker.size}<br>title=%{customdata[0]}<extra></extra>",
         "legendgroup": "California Institute of the Arts",
         "marker": {
          "color": "#FECB52",
          "size": [
           290000,
           54000,
           72000,
           61000,
           68000,
           25000
          ],
          "sizemode": "area",
          "sizeref": 8000,
          "symbol": "circle"
         },
         "mode": "markers",
         "name": "California Institute of the Arts",
         "orientation": "v",
         "showlegend": true,
         "type": "scatter",
         "x": [
          4.8,
          4.5,
          4.8,
          4.7,
          4.7,
          4.8
         ],
         "xaxis": "x",
         "y": [
          290000,
          54000,
          72000,
          61000,
          68000,
          25000
         ],
         "yaxis": "y"
        },
        {
         "customdata": [
          [
           "Futures Thinking"
          ],
          [
           "Ready, Set, Future! Introduction to Futures Thinking"
          ]
         ],
         "hovertemplate": "organization=Institute for the Future<br>Rating=%{x}<br>Enrollments=%{marker.size}<br>title=%{customdata[0]}<extra></extra>",
         "legendgroup": "Institute for the Future",
         "marker": {
          "color": "#636efa",
          "size": [
           9400,
           7700
          ],
          "sizemode": "area",
          "sizeref": 8000,
          "symbol": "circle"
         },
         "mode": "markers",
         "name": "Institute for the Future",
         "orientation": "v",
         "showlegend": true,
         "type": "scatter",
         "x": [
          4.8,
          4.8
         ],
         "xaxis": "x",
         "y": [
          9400,
          7700
         ],
         "yaxis": "y"
        },
        {
         "customdata": [
          [
           "Geopolitics of Europe"
          ],
          [
           "International migrations: a global issue"
          ],
          [
           "Politics and Economics of International Energy"
          ]
         ],
         "hovertemplate": "organization=Sciences Po<br>Rating=%{x}<br>Enrollments=%{marker.size}<br>title=%{customdata[0]}<extra></extra>",
         "legendgroup": "Sciences Po",
         "marker": {
          "color": "#EF553B",
          "size": [
           19000,
           11000,
           34000
          ],
          "sizemode": "area",
          "sizeref": 8000,
          "symbol": "circle"
         },
         "mode": "markers",
         "name": "Sciences Po",
         "orientation": "v",
         "showlegend": true,
         "type": "scatter",
         "x": [
          4.3,
          4.6,
          4.7
         ],
         "xaxis": "x",
         "y": [
          19000,
          11000,
          34000
         ],
         "yaxis": "y"
        },
        {
         "customdata": [
          [
           "Geopolítica y gobernanza global: riesgos y oportunidades"
          ]
         ],
         "hovertemplate": "organization=ESADE Business and Law School<br>Rating=%{x}<br>Enrollments=%{marker.size}<br>title=%{customdata[0]}<extra></extra>",
         "legendgroup": "ESADE Business and Law School",
         "marker": {
          "color": "#00cc96",
          "size": [
           34000
          ],
          "sizemode": "area",
          "sizeref": 8000,
          "symbol": "circle"
         },
         "mode": "markers",
         "name": "ESADE Business and Law School",
         "orientation": "v",
         "showlegend": true,
         "type": "scatter",
         "x": [
          4.8
         ],
         "xaxis": "x",
         "y": [
          34000
         ],
         "yaxis": "y"
        },
        {
         "customdata": [
          [
           "Get Interactive: Practical Teaching with Technology"
          ]
         ],
         "hovertemplate": "organization=Bloomsbury Learning Exchange<br>Rating=%{x}<br>Enrollments=%{marker.size}<br>title=%{customdata[0]}<extra></extra>",
         "legendgroup": "Bloomsbury Learning Exchange",
         "marker": {
          "color": "#ab63fa",
          "size": [
           14000
          ],
          "sizemode": "area",
          "sizeref": 8000,
          "symbol": "circle"
         },
         "mode": "markers",
         "name": "Bloomsbury Learning Exchange",
         "orientation": "v",
         "showlegend": true,
         "type": "scatter",
         "x": [
          4.7
         ],
         "xaxis": "x",
         "y": [
          14000
         ],
         "yaxis": "y"
        },
        {
         "customdata": [
          [
           "Getting Started with SAS Programming"
          ],
          [
           "SAS Programmer"
          ],
          [
           "SAS Visual Business Analytics"
          ]
         ],
         "hovertemplate": "organization=SAS<br>Rating=%{x}<br>Enrollments=%{marker.size}<br>title=%{customdata[0]}<extra></extra>",
         "legendgroup": "SAS",
         "marker": {
          "color": "#FFA15A",
          "size": [
           22000,
           370000,
           2600
          ],
          "sizemode": "area",
          "sizeref": 8000,
          "symbol": "circle"
         },
         "mode": "markers",
         "name": "SAS",
         "orientation": "v",
         "showlegend": true,
         "type": "scatter",
         "x": [
          4.9,
          4.8,
          4.6
         ],
         "xaxis": "x",
         "y": [
          22000,
          370000,
          2600
         ],
         "yaxis": "y"
        },
        {
         "customdata": [
          [
           "Global Diplomacy – Diplomacy in the Modern World"
          ],
          [
           "Global Diplomacy: the United Nations in the World"
          ],
          [
           "Global Energy and Climate Policy"
          ],
          [
           "Understanding Research Methods"
          ]
         ],
         "hovertemplate": "organization=SOAS University of London<br>Rating=%{x}<br>Enrollments=%{marker.size}<br>title=%{customdata[0]}<extra></extra>",
         "legendgroup": "SOAS University of London",
         "marker": {
          "color": "#19d3f3",
          "size": [
           79000,
           29000,
           10000,
           120000
          ],
          "sizemode": "area",
          "sizeref": 8000,
          "symbol": "circle"
         },
         "mode": "markers",
         "name": "SOAS University of London",
         "orientation": "v",
         "showlegend": true,
         "type": "scatter",
         "x": [
          4.6,
          4.7,
          4.5,
          4.5
         ],
         "xaxis": "x",
         "y": [
          79000,
          29000,
          10000,
          120000
         ],
         "yaxis": "y"
        },
        {
         "customdata": [
          [
           "Global Financing Solutions  (by EDHEC and Société Générale)"
          ],
          [
           "Introduction to Portfolio Construction and Analysis with Python"
          ],
          [
           "Investment Management with Python and Machine Learning"
          ]
         ],
         "hovertemplate": "organization=EDHEC Business School<br>Rating=%{x}<br>Enrollments=%{marker.size}<br>title=%{customdata[0]}<extra></extra>",
         "legendgroup": "EDHEC Business School",
         "marker": {
          "color": "#FF6692",
          "size": [
           3600,
           11000,
           14000
          ],
          "sizemode": "area",
          "sizeref": 8000,
          "symbol": "circle"
         },
         "mode": "markers",
         "name": "EDHEC Business School",
         "orientation": "v",
         "showlegend": true,
         "type": "scatter",
         "x": [
          4.6,
          4.8,
          4.6
         ],
         "xaxis": "x",
         "y": [
          3600,
          11000,
          14000
         ],
         "yaxis": "y"
        },
        {
         "customdata": [
          [
           "Healing with the Arts"
          ],
          [
           "The Horse Course: Introduction to Basic Care and Management"
          ],
          [
           "The Science of Training Young Athletes"
          ]
         ],
         "hovertemplate": "organization=University of Florida<br>Rating=%{x}<br>Enrollments=%{marker.size}<br>title=%{customdata[0]}<extra></extra>",
         "legendgroup": "University of Florida",
         "marker": {
          "color": "#B6E880",
          "size": [
           39000,
           29000,
           13000
          ],
          "sizemode": "area",
          "sizeref": 8000,
          "symbol": "circle"
         },
         "mode": "markers",
         "name": "University of Florida",
         "orientation": "v",
         "showlegend": true,
         "type": "scatter",
         "x": [
          4.6,
          4.9,
          4.9
         ],
         "xaxis": "x",
         "y": [
          39000,
          29000,
          13000
         ],
         "yaxis": "y"
        },
        {
         "customdata": [
          [
           "Healthcare Organization Operations"
          ],
          [
           "Influencer Marketing Strategy"
          ],
          [
           "Supply Chain Analytics"
          ],
          [
           "Supply Chain Logistics"
          ],
          [
           "Supply Chain Management"
          ],
          [
           "Supply Chain Operations"
          ]
         ],
         "hovertemplate": "organization=Rutgers the State University of New Jersey<br>Rating=%{x}<br>Enrollments=%{marker.size}<br>title=%{customdata[0]}<extra></extra>",
         "legendgroup": "Rutgers the State University of New Jersey",
         "marker": {
          "color": "#FF97FF",
          "size": [
           5500,
           12000,
           7900,
           66000,
           82000,
           24000
          ],
          "sizemode": "area",
          "sizeref": 8000,
          "symbol": "circle"
         },
         "mode": "markers",
         "name": "Rutgers the State University of New Jersey",
         "orientation": "v",
         "showlegend": true,
         "type": "scatter",
         "x": [
          4.6,
          4.4,
          4.7,
          4.7,
          4.7,
          4.8
         ],
         "xaxis": "x",
         "y": [
          5500,
          12000,
          7900,
          66000,
          82000,
          24000
         ],
         "yaxis": "y"
        },
        {
         "customdata": [
          [
           "Hotel Management: Distribution, Revenue and Demand Management"
          ],
          [
           "L'excellence opérationnelle en pratique"
          ],
          [
           "L'impact investing, la finance qui change le monde"
          ],
          [
           "Les Fondamentaux de la Négociation"
          ],
          [
           "Negotiation, Mediation and Conflict Resolution"
          ],
          [
           "Reporting extra-financier et stratégie RSE"
          ],
          [
           "Réussir le Changement"
          ],
          [
           "Strategic Business Analytics"
          ]
         ],
         "hovertemplate": "organization=ESSEC Business School<br>Rating=%{x}<br>Enrollments=%{marker.size}<br>title=%{customdata[0]}<extra></extra>",
         "legendgroup": "ESSEC Business School",
         "marker": {
          "color": "#FECB52",
          "size": [
           28000,
           8000,
           6300,
           10000,
           22000,
           5200,
           33000,
           60000
          ],
          "sizemode": "area",
          "sizeref": 8000,
          "symbol": "circle"
         },
         "mode": "markers",
         "name": "ESSEC Business School",
         "orientation": "v",
         "showlegend": true,
         "type": "scatter",
         "x": [
          4.6,
          4.7,
          4.6,
          4.7,
          4.7,
          4.7,
          4.5,
          4.3
         ],
         "xaxis": "x",
         "y": [
          28000,
          8000,
          6300,
          10000,
          22000,
          5200,
          33000,
          60000
         ],
         "yaxis": "y"
        },
        {
         "customdata": [
          [
           "How To Create a Website in a Weekend! (Project-Centered Course)"
          ],
          [
           "International Cyber Conflicts"
          ],
          [
           "Practical Time Series Analysis"
          ],
          [
           "Solar Energy Basics"
          ]
         ],
         "hovertemplate": "organization=The State University of New York<br>Rating=%{x}<br>Enrollments=%{marker.size}<br>title=%{customdata[0]}<extra></extra>",
         "legendgroup": "The State University of New York",
         "marker": {
          "color": "#636efa",
          "size": [
           140000,
           25000,
           39000,
           17000
          ],
          "sizemode": "area",
          "sizeref": 8000,
          "symbol": "circle"
         },
         "mode": "markers",
         "name": "The State University of New York",
         "orientation": "v",
         "showlegend": true,
         "type": "scatter",
         "x": [
          3.3,
          4.4,
          4.6,
          4.8
         ],
         "xaxis": "x",
         "y": [
          140000,
          25000,
          39000,
          17000
         ],
         "yaxis": "y"
        },
        {
         "customdata": [
          [
           "Implementing RPA with Cognitive Automation and Analytics"
          ]
         ],
         "hovertemplate": "organization=Automation Anywhere<br>Rating=%{x}<br>Enrollments=%{marker.size}<br>title=%{customdata[0]}<extra></extra>",
         "legendgroup": "Automation Anywhere",
         "marker": {
          "color": "#EF553B",
          "size": [
           2200
          ],
          "sizemode": "area",
          "sizeref": 8000,
          "symbol": "circle"
         },
         "mode": "markers",
         "name": "Automation Anywhere",
         "orientation": "v",
         "showlegend": true,
         "type": "scatter",
         "x": [
          4.6
         ],
         "xaxis": "x",
         "y": [
          2200
         ],
         "yaxis": "y"
        },
        {
         "customdata": [
          [
           "Improving Leadership & Governance in Nonprofit Organizations"
          ]
         ],
         "hovertemplate": "organization=Luther College at the University of Regina<br>Rating=%{x}<br>Enrollments=%{marker.size}<br>title=%{customdata[0]}<extra></extra>",
         "legendgroup": "Luther College at the University of Regina",
         "marker": {
          "color": "#00cc96",
          "size": [
           18000
          ],
          "sizemode": "area",
          "sizeref": 8000,
          "symbol": "circle"
         },
         "mode": "markers",
         "name": "Luther College at the University of Regina",
         "orientation": "v",
         "showlegend": true,
         "type": "scatter",
         "x": [
          4.4
         ],
         "xaxis": "x",
         "y": [
          18000
         ],
         "yaxis": "y"
        },
        {
         "customdata": [
          [
           "Information Security: Context and Introduction"
          ]
         ],
         "hovertemplate": "organization=Royal Holloway, University of London<br>Rating=%{x}<br>Enrollments=%{marker.size}<br>title=%{customdata[0]}<extra></extra>",
         "legendgroup": "Royal Holloway, University of London",
         "marker": {
          "color": "#ab63fa",
          "size": [
           32000
          ],
          "sizemode": "area",
          "sizeref": 8000,
          "symbol": "circle"
         },
         "mode": "markers",
         "name": "Royal Holloway, University of London",
         "orientation": "v",
         "showlegend": true,
         "type": "scatter",
         "x": [
          4.6
         ],
         "xaxis": "x",
         "y": [
          32000
         ],
         "yaxis": "y"
        },
        {
         "customdata": [
          [
           "Intercultural Management"
          ]
         ],
         "hovertemplate": "organization=ESCP Business School<br>Rating=%{x}<br>Enrollments=%{marker.size}<br>title=%{customdata[0]}<extra></extra>",
         "legendgroup": "ESCP Business School",
         "marker": {
          "color": "#FFA15A",
          "size": [
           6500
          ],
          "sizemode": "area",
          "sizeref": 8000,
          "symbol": "circle"
         },
         "mode": "markers",
         "name": "ESCP Business School",
         "orientation": "v",
         "showlegend": true,
         "type": "scatter",
         "x": [
          4.6
         ],
         "xaxis": "x",
         "y": [
          6500
         ],
         "yaxis": "y"
        },
        {
         "customdata": [
          [
           "International Business Essentials"
          ],
          [
           "Machine Learning for All"
          ],
          [
           "Probability and Statistics: To p or not to p?"
          ]
         ],
         "hovertemplate": "organization=University of London<br>Rating=%{x}<br>Enrollments=%{marker.size}<br>title=%{customdata[0]}<extra></extra>",
         "legendgroup": "University of London",
         "marker": {
          "color": "#19d3f3",
          "size": [
           22000,
           19000,
           36000
          ],
          "sizemode": "area",
          "sizeref": 8000,
          "symbol": "circle"
         },
         "mode": "markers",
         "name": "University of London",
         "orientation": "v",
         "showlegend": true,
         "type": "scatter",
         "x": [
          4.5,
          4.6,
          4.6
         ],
         "xaxis": "x",
         "y": [
          22000,
          19000,
          36000
         ],
         "yaxis": "y"
        },
        {
         "customdata": [
          [
           "International Humanitarian Law in Theory and Practice"
          ]
         ],
         "hovertemplate": "organization=Kalshoven-Gieskes Forum<br>Rating=%{x}<br>Enrollments=%{marker.size}<br>title=%{customdata[0]}<extra></extra>",
         "legendgroup": "Kalshoven-Gieskes Forum",
         "marker": {
          "color": "#FF6692",
          "size": [
           22000
          ],
          "sizemode": "area",
          "sizeref": 8000,
          "symbol": "circle"
         },
         "mode": "markers",
         "name": "Kalshoven-Gieskes Forum",
         "orientation": "v",
         "showlegend": true,
         "type": "scatter",
         "x": [
          4.8
         ],
         "xaxis": "x",
         "y": [
          22000
         ],
         "yaxis": "y"
        },
        {
         "customdata": [
          [
           "Internet Giants: The Law and Economics of Media Platforms"
          ],
          [
           "Understanding the Brain: The Neurobiology of Everyday Life"
          ]
         ],
         "hovertemplate": "organization=The University of Chicago<br>Rating=%{x}<br>Enrollments=%{marker.size}<br>title=%{customdata[0]}<extra></extra>",
         "legendgroup": "The University of Chicago",
         "marker": {
          "color": "#B6E880",
          "size": [
           38000,
           130000
          ],
          "sizemode": "area",
          "sizeref": 8000,
          "symbol": "circle"
         },
         "mode": "markers",
         "name": "The University of Chicago",
         "orientation": "v",
         "showlegend": true,
         "type": "scatter",
         "x": [
          4.8,
          4.9
         ],
         "xaxis": "x",
         "y": [
          38000,
          130000
         ],
         "yaxis": "y"
        },
        {
         "customdata": [
          [
           "Introduction to Computer Programming"
          ],
          [
           "Introduction to Computer Science and Programming"
          ],
          [
           "Responsive Website Development and Design"
          ],
          [
           "Virtual Reality"
          ]
         ],
         "hovertemplate": "organization=Goldsmiths, University of London<br>Rating=%{x}<br>Enrollments=%{marker.size}<br>title=%{customdata[0]}<extra></extra>",
         "legendgroup": "Goldsmiths, University of London",
         "marker": {
          "color": "#FF97FF",
          "size": [
           20000,
           32000,
           170000,
           37000
          ],
          "sizemode": "area",
          "sizeref": 8000,
          "symbol": "circle"
         },
         "mode": "markers",
         "name": "Goldsmiths, University of London",
         "orientation": "v",
         "showlegend": true,
         "type": "scatter",
         "x": [
          4.3,
          4.3,
          4.5,
          4.7
         ],
         "xaxis": "x",
         "y": [
          20000,
          32000,
          170000,
          37000
         ],
         "yaxis": "y"
        },
        {
         "customdata": [
          [
           "Introduction to Forensic Science"
          ]
         ],
         "hovertemplate": "organization=Nanyang Technological University, Singapore<br>Rating=%{x}<br>Enrollments=%{marker.size}<br>title=%{customdata[0]}<extra></extra>",
         "legendgroup": "Nanyang Technological University, Singapore",
         "marker": {
          "color": "#FECB52",
          "size": [
           47000
          ],
          "sizemode": "area",
          "sizeref": 8000,
          "symbol": "circle"
         },
         "mode": "markers",
         "name": "Nanyang Technological University, Singapore",
         "orientation": "v",
         "showlegend": true,
         "type": "scatter",
         "x": [
          4.9
         ],
         "xaxis": "x",
         "y": [
          47000
         ],
         "yaxis": "y"
        },
        {
         "customdata": [
          [
           "Introduction to Systems Engineering"
          ],
          [
           "Learning to Teach Online"
          ],
          [
           "Transmedia Storytelling: Narrative worlds, emerging technologies, and global audiences"
          ]
         ],
         "hovertemplate": "organization=UNSW Sydney (The University of New South Wales)<br>Rating=%{x}<br>Enrollments=%{marker.size}<br>title=%{customdata[0]}<extra></extra>",
         "legendgroup": "UNSW Sydney (The University of New South Wales)",
         "marker": {
          "color": "#636efa",
          "size": [
           33000,
           68000,
           45000
          ],
          "sizemode": "area",
          "sizeref": 8000,
          "symbol": "circle"
         },
         "mode": "markers",
         "name": "UNSW Sydney (The University of New South Wales)",
         "orientation": "v",
         "showlegend": true,
         "type": "scatter",
         "x": [
          4.7,
          4.7,
          4.8
         ],
         "xaxis": "x",
         "y": [
          33000,
          68000,
          45000
         ],
         "yaxis": "y"
        },
        {
         "customdata": [
          [
           "Introduction to Trading, Machine Learning & GCP"
          ],
          [
           "Supply Chain Finance and Blockchain Technology"
          ]
         ],
         "hovertemplate": "organization=New York Institute of Finance<br>Rating=%{x}<br>Enrollments=%{marker.size}<br>title=%{customdata[0]}<extra></extra>",
         "legendgroup": "New York Institute of Finance",
         "marker": {
          "color": "#EF553B",
          "size": [
           13000,
           4900
          ],
          "sizemode": "area",
          "sizeref": 8000,
          "symbol": "circle"
         },
         "mode": "markers",
         "name": "New York Institute of Finance",
         "orientation": "v",
         "showlegend": true,
         "type": "scatter",
         "x": [
          4,
          4.6
         ],
         "xaxis": "x",
         "y": [
          13000,
          4900
         ],
         "yaxis": "y"
        },
        {
         "customdata": [
          [
           "Introdução aos Princípios e Práticas da Gestão De Projetos"
          ],
          [
           "Introdução à Ciência da Computação com Python Parte 1"
          ],
          [
           "Marketing Digital"
          ]
         ],
         "hovertemplate": "organization=Universidade de São Paulo<br>Rating=%{x}<br>Enrollments=%{marker.size}<br>title=%{customdata[0]}<extra></extra>",
         "legendgroup": "Universidade de São Paulo",
         "marker": {
          "color": "#00cc96",
          "size": [
           4500,
           120000,
           81000
          ],
          "sizemode": "area",
          "sizeref": 8000,
          "symbol": "circle"
         },
         "mode": "markers",
         "name": "Universidade de São Paulo",
         "orientation": "v",
         "showlegend": true,
         "type": "scatter",
         "x": [
          4.9,
          4.9,
          4.8
         ],
         "xaxis": "x",
         "y": [
          4500,
          120000,
          81000
         ],
         "yaxis": "y"
        },
        {
         "customdata": [
          [
           "Japanese for beginners 1"
          ],
          [
           "Neurolinguistics"
          ],
          [
           "Russian Alphabet"
          ],
          [
           "Russian for beginners А1. Русский язык: A1"
          ],
          [
           "Искусство ведения бизнеса"
          ],
          [
           "Психолингвистика (Psycholinguistics)"
          ],
          [
           "Русский как иностранный"
          ]
         ],
         "hovertemplate": "organization=Saint Petersburg State University<br>Rating=%{x}<br>Enrollments=%{marker.size}<br>title=%{customdata[0]}<extra></extra>",
         "legendgroup": "Saint Petersburg State University",
         "marker": {
          "color": "#ab63fa",
          "size": [
           4400,
           41000,
           3200,
           7000,
           14000,
           21000,
           9800
          ],
          "sizemode": "area",
          "sizeref": 8000,
          "symbol": "circle"
         },
         "mode": "markers",
         "name": "Saint Petersburg State University",
         "orientation": "v",
         "showlegend": true,
         "type": "scatter",
         "x": [
          4.6,
          4.7,
          4.7,
          4.7,
          4.6,
          4.8,
          4.6
         ],
         "xaxis": "x",
         "y": [
          4400,
          41000,
          3200,
          7000,
          14000,
          21000,
          9800
         ],
         "yaxis": "y"
        },
        {
         "customdata": [
          [
           "Kotlin for Java Developers"
          ]
         ],
         "hovertemplate": "organization=JetBrains<br>Rating=%{x}<br>Enrollments=%{marker.size}<br>title=%{customdata[0]}<extra></extra>",
         "legendgroup": "JetBrains",
         "marker": {
          "color": "#FFA15A",
          "size": [
           37000
          ],
          "sizemode": "area",
          "sizeref": 8000,
          "symbol": "circle"
         },
         "mode": "markers",
         "name": "JetBrains",
         "orientation": "v",
         "showlegend": true,
         "type": "scatter",
         "x": [
          4.7
         ],
         "xaxis": "x",
         "y": [
          37000
         ],
         "yaxis": "y"
        },
        {
         "customdata": [
          [
           "Learn English"
          ]
         ],
         "hovertemplate": "organization=Tsinghua University<br>Rating=%{x}<br>Enrollments=%{marker.size}<br>title=%{customdata[0]}<extra></extra>",
         "legendgroup": "Tsinghua University",
         "marker": {
          "color": "#19d3f3",
          "size": [
           22000
          ],
          "sizemode": "area",
          "sizeref": 8000,
          "symbol": "circle"
         },
         "mode": "markers",
         "name": "Tsinghua University",
         "orientation": "v",
         "showlegend": true,
         "type": "scatter",
         "x": [
          4.3
         ],
         "xaxis": "x",
         "y": [
          22000
         ],
         "yaxis": "y"
        },
        {
         "customdata": [
          [
           "Learn Mandarin Chinese"
          ]
         ],
         "hovertemplate": "organization=Shanghai Jiao Tong University<br>Rating=%{x}<br>Enrollments=%{marker.size}<br>title=%{customdata[0]}<extra></extra>",
         "legendgroup": "Shanghai Jiao Tong University",
         "marker": {
          "color": "#FF6692",
          "size": [
           39000
          ],
          "sizemode": "area",
          "sizeref": 8000,
          "symbol": "circle"
         },
         "mode": "markers",
         "name": "Shanghai Jiao Tong University",
         "orientation": "v",
         "showlegend": true,
         "type": "scatter",
         "x": [
          4.8
         ],
         "xaxis": "x",
         "y": [
          39000
         ],
         "yaxis": "y"
        },
        {
         "customdata": [
          [
           "Magic in the Middle Ages"
          ]
         ],
         "hovertemplate": "organization=Universitat de Barcelona<br>Rating=%{x}<br>Enrollments=%{marker.size}<br>title=%{customdata[0]}<extra></extra>",
         "legendgroup": "Universitat de Barcelona",
         "marker": {
          "color": "#B6E880",
          "size": [
           78000
          ],
          "sizemode": "area",
          "sizeref": 8000,
          "symbol": "circle"
         },
         "mode": "markers",
         "name": "Universitat de Barcelona",
         "orientation": "v",
         "showlegend": true,
         "type": "scatter",
         "x": [
          4.6
         ],
         "xaxis": "x",
         "y": [
          78000
         ],
         "yaxis": "y"
        },
        {
         "customdata": [
          [
           "Making Architecture"
          ]
         ],
         "hovertemplate": "organization=IE School of Architecture & Design<br>Rating=%{x}<br>Enrollments=%{marker.size}<br>title=%{customdata[0]}<extra></extra>",
         "legendgroup": "IE School of Architecture & Design",
         "marker": {
          "color": "#FF97FF",
          "size": [
           43000
          ],
          "sizemode": "area",
          "sizeref": 8000,
          "symbol": "circle"
         },
         "mode": "markers",
         "name": "IE School of Architecture & Design",
         "orientation": "v",
         "showlegend": true,
         "type": "scatter",
         "x": [
          4.7
         ],
         "xaxis": "x",
         "y": [
          43000
         ],
         "yaxis": "y"
        },
        {
         "customdata": [
          [
           "Mindshift: Break Through Obstacles to Learning and Discover Your Hidden Potential"
          ]
         ],
         "hovertemplate": "organization=McMaster University<br>Rating=%{x}<br>Enrollments=%{marker.size}<br>title=%{customdata[0]}<extra></extra>",
         "legendgroup": "McMaster University",
         "marker": {
          "color": "#FECB52",
          "size": [
           230000
          ],
          "sizemode": "area",
          "sizeref": 8000,
          "symbol": "circle"
         },
         "mode": "markers",
         "name": "McMaster University",
         "orientation": "v",
         "showlegend": true,
         "type": "scatter",
         "x": [
          4.8
         ],
         "xaxis": "x",
         "y": [
          230000
         ],
         "yaxis": "y"
        },
        {
         "customdata": [
          [
           "Modern Big Data Analysis with SQL"
          ]
         ],
         "hovertemplate": "organization=Cloudera<br>Rating=%{x}<br>Enrollments=%{marker.size}<br>title=%{customdata[0]}<extra></extra>",
         "legendgroup": "Cloudera",
         "marker": {
          "color": "#636efa",
          "size": [
           14000
          ],
          "sizemode": "area",
          "sizeref": 8000,
          "symbol": "circle"
         },
         "mode": "markers",
         "name": "Cloudera",
         "orientation": "v",
         "showlegend": true,
         "type": "scatter",
         "x": [
          4.8
         ],
         "xaxis": "x",
         "y": [
          14000
         ],
         "yaxis": "y"
        },
        {
         "customdata": [
          [
           "Networking and Security Architecture with VMware NSX"
          ]
         ],
         "hovertemplate": "organization=VMware<br>Rating=%{x}<br>Enrollments=%{marker.size}<br>title=%{customdata[0]}<extra></extra>",
         "legendgroup": "VMware",
         "marker": {
          "color": "#EF553B",
          "size": [
           17000
          ],
          "sizemode": "area",
          "sizeref": 8000,
          "symbol": "circle"
         },
         "mode": "markers",
         "name": "VMware",
         "orientation": "v",
         "showlegend": true,
         "type": "scatter",
         "x": [
          4.8
         ],
         "xaxis": "x",
         "y": [
          17000
         ],
         "yaxis": "y"
        },
        {
         "customdata": [
          [
           "Open Source Software Development, Linux and Git"
          ]
         ],
         "hovertemplate": "organization=The Linux Foundation<br>Rating=%{x}<br>Enrollments=%{marker.size}<br>title=%{customdata[0]}<extra></extra>",
         "legendgroup": "The Linux Foundation",
         "marker": {
          "color": "#00cc96",
          "size": [
           13000
          ],
          "sizemode": "area",
          "sizeref": 8000,
          "symbol": "circle"
         },
         "mode": "markers",
         "name": "The Linux Foundation",
         "orientation": "v",
         "showlegend": true,
         "type": "scatter",
         "x": [
          4.4
         ],
         "xaxis": "x",
         "y": [
          13000
         ],
         "yaxis": "y"
        },
        {
         "customdata": [
          [
           "Palo Alto Networks Cybersecurity"
          ]
         ],
         "hovertemplate": "organization=Palo Alto Networks<br>Rating=%{x}<br>Enrollments=%{marker.size}<br>title=%{customdata[0]}<extra></extra>",
         "legendgroup": "Palo Alto Networks",
         "marker": {
          "color": "#ab63fa",
          "size": [
           9100
          ],
          "sizemode": "area",
          "sizeref": 8000,
          "symbol": "circle"
         },
         "mode": "markers",
         "name": "Palo Alto Networks",
         "orientation": "v",
         "showlegend": true,
         "type": "scatter",
         "x": [
          4.6
         ],
         "xaxis": "x",
         "y": [
          9100
         ],
         "yaxis": "y"
        },
        {
         "customdata": [
          [
           "Practical Data Science with MATLAB"
          ]
         ],
         "hovertemplate": "organization=MathWorks<br>Rating=%{x}<br>Enrollments=%{marker.size}<br>title=%{customdata[0]}<extra></extra>",
         "legendgroup": "MathWorks",
         "marker": {
          "color": "#FFA15A",
          "size": [
           10000
          ],
          "sizemode": "area",
          "sizeref": 8000,
          "symbol": "circle"
         },
         "mode": "markers",
         "name": "MathWorks",
         "orientation": "v",
         "showlegend": true,
         "type": "scatter",
         "x": [
          4.7
         ],
         "xaxis": "x",
         "y": [
          10000
         ],
         "yaxis": "y"
        },
        {
         "customdata": [
          [
           "Presentation Skills: Speechwriting, Slides and Delivery"
          ],
          [
           "Искусство разработки на современном C++"
          ],
          [
           "Математика и Python для анализа данных"
          ],
          [
           "Машинное обучение и анализ данных"
          ],
          [
           "Основы разработки на C++: белый пояс"
          ],
          [
           "Разработка интерфейсов: вёрстка и JavaScript"
          ]
         ],
         "hovertemplate": "organization=E-Learning Development Fund<br>Rating=%{x}<br>Enrollments=%{marker.size}<br>title=%{customdata[0]}<extra></extra>",
         "legendgroup": "E-Learning Development Fund",
         "marker": {
          "color": "#19d3f3",
          "size": [
           47000,
           68000,
           67000,
           77000,
           41000,
           30000
          ],
          "sizemode": "area",
          "sizeref": 8000,
          "symbol": "circle"
         },
         "mode": "markers",
         "name": "E-Learning Development Fund",
         "orientation": "v",
         "showlegend": true,
         "type": "scatter",
         "x": [
          4.6,
          4.9,
          4.8,
          4.7,
          4.9,
          4.5
         ],
         "xaxis": "x",
         "y": [
          47000,
          68000,
          67000,
          77000,
          41000,
          30000
         ],
         "yaxis": "y"
        },
        {
         "customdata": [
          [
           "Pricing Strategy Optimization"
          ]
         ],
         "hovertemplate": "organization=BCG<br>Rating=%{x}<br>Enrollments=%{marker.size}<br>title=%{customdata[0]}<extra></extra>",
         "legendgroup": "BCG",
         "marker": {
          "color": "#FF6692",
          "size": [
           20000
          ],
          "sizemode": "area",
          "sizeref": 8000,
          "symbol": "circle"
         },
         "mode": "markers",
         "name": "BCG",
         "orientation": "v",
         "showlegend": true,
         "type": "scatter",
         "x": [
          4.8
         ],
         "xaxis": "x",
         "y": [
          20000
         ],
         "yaxis": "y"
        },
        {
         "customdata": [
          [
           "Process Mining: Data science in Action"
          ]
         ],
         "hovertemplate": "organization=Eindhoven University of Technology<br>Rating=%{x}<br>Enrollments=%{marker.size}<br>title=%{customdata[0]}<extra></extra>",
         "legendgroup": "Eindhoven University of Technology",
         "marker": {
          "color": "#B6E880",
          "size": [
           39000
          ],
          "sizemode": "area",
          "sizeref": 8000,
          "symbol": "circle"
         },
         "mode": "markers",
         "name": "Eindhoven University of Technology",
         "orientation": "v",
         "showlegend": true,
         "type": "scatter",
         "x": [
          4.8
         ],
         "xaxis": "x",
         "y": [
          39000
         ],
         "yaxis": "y"
        },
        {
         "customdata": [
          [
           "Revisão Sistemática e Meta-análise"
          ]
         ],
         "hovertemplate": "organization=Universidade Estadual de Campinas<br>Rating=%{x}<br>Enrollments=%{marker.size}<br>title=%{customdata[0]}<extra></extra>",
         "legendgroup": "Universidade Estadual de Campinas",
         "marker": {
          "color": "#FF97FF",
          "size": [
           17000
          ],
          "sizemode": "area",
          "sizeref": 8000,
          "symbol": "circle"
         },
         "mode": "markers",
         "name": "Universidade Estadual de Campinas",
         "orientation": "v",
         "showlegend": true,
         "type": "scatter",
         "x": [
          4.9
         ],
         "xaxis": "x",
         "y": [
          17000
         ],
         "yaxis": "y"
        },
        {
         "customdata": [
          [
           "Sales Training for High Performing Teams"
          ]
         ],
         "hovertemplate": "organization=HubSpot Academy<br>Rating=%{x}<br>Enrollments=%{marker.size}<br>title=%{customdata[0]}<extra></extra>",
         "legendgroup": "HubSpot Academy",
         "marker": {
          "color": "#FECB52",
          "size": [
           16000
          ],
          "sizemode": "area",
          "sizeref": 8000,
          "symbol": "circle"
         },
         "mode": "markers",
         "name": "HubSpot Academy",
         "orientation": "v",
         "showlegend": true,
         "type": "scatter",
         "x": [
          4.7
         ],
         "xaxis": "x",
         "y": [
          16000
         ],
         "yaxis": "y"
        },
        {
         "customdata": [
          [
           "Soporte de Tecnologías de la Información de Google"
          ]
         ],
         "hovertemplate": "organization=Crece con Google<br>Rating=%{x}<br>Enrollments=%{marker.size}<br>title=%{customdata[0]}<extra></extra>",
         "legendgroup": "Crece con Google",
         "marker": {
          "color": "#636efa",
          "size": [
           8800
          ],
          "sizemode": "area",
          "sizeref": 8000,
          "symbol": "circle"
         },
         "mode": "markers",
         "name": "Crece con Google",
         "orientation": "v",
         "showlegend": true,
         "type": "scatter",
         "x": [
          4.9
         ],
         "xaxis": "x",
         "y": [
          8800
         ],
         "yaxis": "y"
        },
        {
         "customdata": [
          [
           "Strategic Sales Management"
          ]
         ],
         "hovertemplate": "organization=Fundação Instituto de Administração<br>Rating=%{x}<br>Enrollments=%{marker.size}<br>title=%{customdata[0]}<extra></extra>",
         "legendgroup": "Fundação Instituto de Administração",
         "marker": {
          "color": "#EF553B",
          "size": [
           9200
          ],
          "sizemode": "area",
          "sizeref": 8000,
          "symbol": "circle"
         },
         "mode": "markers",
         "name": "Fundação Instituto de Administração",
         "orientation": "v",
         "showlegend": true,
         "type": "scatter",
         "x": [
          4.5
         ],
         "xaxis": "x",
         "y": [
          9200
         ],
         "yaxis": "y"
        },
        {
         "customdata": [
          [
           "Supporting children with difficulties in reading and writing"
          ],
          [
           "What future for education?"
          ]
         ],
         "hovertemplate": "organization=UCL Institute of Education<br>Rating=%{x}<br>Enrollments=%{marker.size}<br>title=%{customdata[0]}<extra></extra>",
         "legendgroup": "UCL Institute of Education",
         "marker": {
          "color": "#00cc96",
          "size": [
           50000,
           35000
          ],
          "sizemode": "area",
          "sizeref": 8000,
          "symbol": "circle"
         },
         "mode": "markers",
         "name": "UCL Institute of Education",
         "orientation": "v",
         "showlegend": true,
         "type": "scatter",
         "x": [
          4.8,
          4.7
         ],
         "xaxis": "x",
         "y": [
          50000,
          35000
         ],
         "yaxis": "y"
        },
        {
         "customdata": [
          [
           "Sustainable Tourism – promoting environmental public health"
          ],
          [
           "The Sustainable Development Goals – A global, transdisciplinary vision for the future"
          ]
         ],
         "hovertemplate": "organization=University of Copenhagen<br>Rating=%{x}<br>Enrollments=%{marker.size}<br>title=%{customdata[0]}<extra></extra>",
         "legendgroup": "University of Copenhagen",
         "marker": {
          "color": "#ab63fa",
          "size": [
           9400,
           26000
          ],
          "sizemode": "area",
          "sizeref": 8000,
          "symbol": "circle"
         },
         "mode": "markers",
         "name": "University of Copenhagen",
         "orientation": "v",
         "showlegend": true,
         "type": "scatter",
         "x": [
          4.6,
          4.8
         ],
         "xaxis": "x",
         "y": [
          9400,
          26000
         ],
         "yaxis": "y"
        },
        {
         "customdata": [
          [
           "Systems Biology and Biotechnology"
          ]
         ],
         "hovertemplate": "organization=Icahn School of Medicine at Mount Sinai<br>Rating=%{x}<br>Enrollments=%{marker.size}<br>title=%{customdata[0]}<extra></extra>",
         "legendgroup": "Icahn School of Medicine at Mount Sinai",
         "marker": {
          "color": "#FFA15A",
          "size": [
           48000
          ],
          "sizemode": "area",
          "sizeref": 8000,
          "symbol": "circle"
         },
         "mode": "markers",
         "name": "Icahn School of Medicine at Mount Sinai",
         "orientation": "v",
         "showlegend": true,
         "type": "scatter",
         "x": [
          4.4
         ],
         "xaxis": "x",
         "y": [
          48000
         ],
         "yaxis": "y"
        },
        {
         "customdata": [
          [
           "Teaching Character and Creating Positive Classrooms"
          ]
         ],
         "hovertemplate": "organization=Relay Graduate School of Education<br>Rating=%{x}<br>Enrollments=%{marker.size}<br>title=%{customdata[0]}<extra></extra>",
         "legendgroup": "Relay Graduate School of Education",
         "marker": {
          "color": "#19d3f3",
          "size": [
           53000
          ],
          "sizemode": "area",
          "sizeref": 8000,
          "symbol": "circle"
         },
         "mode": "markers",
         "name": "Relay Graduate School of Education",
         "orientation": "v",
         "showlegend": true,
         "type": "scatter",
         "x": [
          4.8
         ],
         "xaxis": "x",
         "y": [
          53000
         ],
         "yaxis": "y"
        },
        {
         "customdata": [
          [
           "The Manager's Toolkit: A Practical Guide to Managing People at Work"
          ]
         ],
         "hovertemplate": "organization=Birkbeck, University of London<br>Rating=%{x}<br>Enrollments=%{marker.size}<br>title=%{customdata[0]}<extra></extra>",
         "legendgroup": "Birkbeck, University of London",
         "marker": {
          "color": "#FF6692",
          "size": [
           47000
          ],
          "sizemode": "area",
          "sizeref": 8000,
          "symbol": "circle"
         },
         "mode": "markers",
         "name": "Birkbeck, University of London",
         "orientation": "v",
         "showlegend": true,
         "type": "scatter",
         "x": [
          4.6
         ],
         "xaxis": "x",
         "y": [
          47000
         ],
         "yaxis": "y"
        },
        {
         "customdata": [
          [
           "The hidden value – Lean in manufacturing and services"
          ]
         ],
         "hovertemplate": "organization=École des Ponts ParisTech<br>Rating=%{x}<br>Enrollments=%{marker.size}<br>title=%{customdata[0]}<extra></extra>",
         "legendgroup": "École des Ponts ParisTech",
         "marker": {
          "color": "#B6E880",
          "size": [
           14000
          ],
          "sizemode": "area",
          "sizeref": 8000,
          "symbol": "circle"
         },
         "mode": "markers",
         "name": "École des Ponts ParisTech",
         "orientation": "v",
         "showlegend": true,
         "type": "scatter",
         "x": [
          4.7
         ],
         "xaxis": "x",
         "y": [
          14000
         ],
         "yaxis": "y"
        },
        {
         "customdata": [
          [
           "Understanding Modern Finance"
          ]
         ],
         "hovertemplate": "organization=American Institute of Business and Economics<br>Rating=%{x}<br>Enrollments=%{marker.size}<br>title=%{customdata[0]}<extra></extra>",
         "legendgroup": "American Institute of Business and Economics",
         "marker": {
          "color": "#FF97FF",
          "size": [
           11000
          ],
          "sizemode": "area",
          "sizeref": 8000,
          "symbol": "circle"
         },
         "mode": "markers",
         "name": "American Institute of Business and Economics",
         "orientation": "v",
         "showlegend": true,
         "type": "scatter",
         "x": [
          4.4
         ],
         "xaxis": "x",
         "y": [
          11000
         ],
         "yaxis": "y"
        },
        {
         "customdata": [
          [
           "Understanding Plants - Part I: What a Plant Knows"
          ]
         ],
         "hovertemplate": "organization=Tel Aviv University<br>Rating=%{x}<br>Enrollments=%{marker.size}<br>title=%{customdata[0]}<extra></extra>",
         "legendgroup": "Tel Aviv University",
         "marker": {
          "color": "#FECB52",
          "size": [
           49000
          ],
          "sizemode": "area",
          "sizeref": 8000,
          "symbol": "circle"
         },
         "mode": "markers",
         "name": "Tel Aviv University",
         "orientation": "v",
         "showlegend": true,
         "type": "scatter",
         "x": [
          4.8
         ],
         "xaxis": "x",
         "y": [
          49000
         ],
         "yaxis": "y"
        },
        {
         "customdata": [
          [
           "Unity Certified Programmer Exam Preparation"
          ],
          [
           "Unity XR: How to Build AR and VR Apps"
          ]
         ],
         "hovertemplate": "organization=Unity<br>Rating=%{x}<br>Enrollments=%{marker.size}<br>title=%{customdata[0]}<extra></extra>",
         "legendgroup": "Unity",
         "marker": {
          "color": "#636efa",
          "size": [
           6100,
           12000
          ],
          "sizemode": "area",
          "sizeref": 8000,
          "symbol": "circle"
         },
         "mode": "markers",
         "name": "Unity",
         "orientation": "v",
         "showlegend": true,
         "type": "scatter",
         "x": [
          4.5,
          4.2
         ],
         "xaxis": "x",
         "y": [
          6100,
          12000
         ],
         "yaxis": "y"
        },
        {
         "customdata": [
          [
           "University Teaching"
          ]
         ],
         "hovertemplate": "organization=The University of Hong Kong<br>Rating=%{x}<br>Enrollments=%{marker.size}<br>title=%{customdata[0]}<extra></extra>",
         "legendgroup": "The University of Hong Kong",
         "marker": {
          "color": "#EF553B",
          "size": [
           9500
          ],
          "sizemode": "area",
          "sizeref": 8000,
          "symbol": "circle"
         },
         "mode": "markers",
         "name": "The University of Hong Kong",
         "orientation": "v",
         "showlegend": true,
         "type": "scatter",
         "x": [
          4.8
         ],
         "xaxis": "x",
         "y": [
          9500
         ],
         "yaxis": "y"
        },
        {
         "customdata": [
          [
           "Étudier en France: French Intermediate course B1-B2"
          ]
         ],
         "hovertemplate": "organization=École Polytechnique<br>Rating=%{x}<br>Enrollments=%{marker.size}<br>title=%{customdata[0]}<extra></extra>",
         "legendgroup": "École Polytechnique",
         "marker": {
          "color": "#00cc96",
          "size": [
           190000
          ],
          "sizemode": "area",
          "sizeref": 8000,
          "symbol": "circle"
         },
         "mode": "markers",
         "name": "École Polytechnique",
         "orientation": "v",
         "showlegend": true,
         "type": "scatter",
         "x": [
          4.8
         ],
         "xaxis": "x",
         "y": [
          190000
         ],
         "yaxis": "y"
        },
        {
         "customdata": [
          [
           "Программирование на Python"
          ]
         ],
         "hovertemplate": "organization=Mail.Ru Group<br>Rating=%{x}<br>Enrollments=%{marker.size}<br>title=%{customdata[0]}<extra></extra>",
         "legendgroup": "Mail.Ru Group",
         "marker": {
          "color": "#ab63fa",
          "size": [
           52000
          ],
          "sizemode": "area",
          "sizeref": 8000,
          "symbol": "circle"
         },
         "mode": "markers",
         "name": "Mail.Ru Group",
         "orientation": "v",
         "showlegend": true,
         "type": "scatter",
         "x": [
          4.5
         ],
         "xaxis": "x",
         "y": [
          52000
         ],
         "yaxis": "y"
        }
       ],
       "layout": {
        "legend": {
         "itemsizing": "constant",
         "title": {
          "text": "organization"
         },
         "tracegroupgap": 0
        },
        "template": {
         "data": {
          "bar": [
           {
            "error_x": {
             "color": "#2a3f5f"
            },
            "error_y": {
             "color": "#2a3f5f"
            },
            "marker": {
             "line": {
              "color": "#E5ECF6",
              "width": 0.5
             },
             "pattern": {
              "fillmode": "overlay",
              "size": 10,
              "solidity": 0.2
             }
            },
            "type": "bar"
           }
          ],
          "barpolar": [
           {
            "marker": {
             "line": {
              "color": "#E5ECF6",
              "width": 0.5
             },
             "pattern": {
              "fillmode": "overlay",
              "size": 10,
              "solidity": 0.2
             }
            },
            "type": "barpolar"
           }
          ],
          "carpet": [
           {
            "aaxis": {
             "endlinecolor": "#2a3f5f",
             "gridcolor": "white",
             "linecolor": "white",
             "minorgridcolor": "white",
             "startlinecolor": "#2a3f5f"
            },
            "baxis": {
             "endlinecolor": "#2a3f5f",
             "gridcolor": "white",
             "linecolor": "white",
             "minorgridcolor": "white",
             "startlinecolor": "#2a3f5f"
            },
            "type": "carpet"
           }
          ],
          "choropleth": [
           {
            "colorbar": {
             "outlinewidth": 0,
             "ticks": ""
            },
            "type": "choropleth"
           }
          ],
          "contour": [
           {
            "colorbar": {
             "outlinewidth": 0,
             "ticks": ""
            },
            "colorscale": [
             [
              0,
              "#0d0887"
             ],
             [
              0.1111111111111111,
              "#46039f"
             ],
             [
              0.2222222222222222,
              "#7201a8"
             ],
             [
              0.3333333333333333,
              "#9c179e"
             ],
             [
              0.4444444444444444,
              "#bd3786"
             ],
             [
              0.5555555555555556,
              "#d8576b"
             ],
             [
              0.6666666666666666,
              "#ed7953"
             ],
             [
              0.7777777777777778,
              "#fb9f3a"
             ],
             [
              0.8888888888888888,
              "#fdca26"
             ],
             [
              1,
              "#f0f921"
             ]
            ],
            "type": "contour"
           }
          ],
          "contourcarpet": [
           {
            "colorbar": {
             "outlinewidth": 0,
             "ticks": ""
            },
            "type": "contourcarpet"
           }
          ],
          "heatmap": [
           {
            "colorbar": {
             "outlinewidth": 0,
             "ticks": ""
            },
            "colorscale": [
             [
              0,
              "#0d0887"
             ],
             [
              0.1111111111111111,
              "#46039f"
             ],
             [
              0.2222222222222222,
              "#7201a8"
             ],
             [
              0.3333333333333333,
              "#9c179e"
             ],
             [
              0.4444444444444444,
              "#bd3786"
             ],
             [
              0.5555555555555556,
              "#d8576b"
             ],
             [
              0.6666666666666666,
              "#ed7953"
             ],
             [
              0.7777777777777778,
              "#fb9f3a"
             ],
             [
              0.8888888888888888,
              "#fdca26"
             ],
             [
              1,
              "#f0f921"
             ]
            ],
            "type": "heatmap"
           }
          ],
          "heatmapgl": [
           {
            "colorbar": {
             "outlinewidth": 0,
             "ticks": ""
            },
            "colorscale": [
             [
              0,
              "#0d0887"
             ],
             [
              0.1111111111111111,
              "#46039f"
             ],
             [
              0.2222222222222222,
              "#7201a8"
             ],
             [
              0.3333333333333333,
              "#9c179e"
             ],
             [
              0.4444444444444444,
              "#bd3786"
             ],
             [
              0.5555555555555556,
              "#d8576b"
             ],
             [
              0.6666666666666666,
              "#ed7953"
             ],
             [
              0.7777777777777778,
              "#fb9f3a"
             ],
             [
              0.8888888888888888,
              "#fdca26"
             ],
             [
              1,
              "#f0f921"
             ]
            ],
            "type": "heatmapgl"
           }
          ],
          "histogram": [
           {
            "marker": {
             "pattern": {
              "fillmode": "overlay",
              "size": 10,
              "solidity": 0.2
             }
            },
            "type": "histogram"
           }
          ],
          "histogram2d": [
           {
            "colorbar": {
             "outlinewidth": 0,
             "ticks": ""
            },
            "colorscale": [
             [
              0,
              "#0d0887"
             ],
             [
              0.1111111111111111,
              "#46039f"
             ],
             [
              0.2222222222222222,
              "#7201a8"
             ],
             [
              0.3333333333333333,
              "#9c179e"
             ],
             [
              0.4444444444444444,
              "#bd3786"
             ],
             [
              0.5555555555555556,
              "#d8576b"
             ],
             [
              0.6666666666666666,
              "#ed7953"
             ],
             [
              0.7777777777777778,
              "#fb9f3a"
             ],
             [
              0.8888888888888888,
              "#fdca26"
             ],
             [
              1,
              "#f0f921"
             ]
            ],
            "type": "histogram2d"
           }
          ],
          "histogram2dcontour": [
           {
            "colorbar": {
             "outlinewidth": 0,
             "ticks": ""
            },
            "colorscale": [
             [
              0,
              "#0d0887"
             ],
             [
              0.1111111111111111,
              "#46039f"
             ],
             [
              0.2222222222222222,
              "#7201a8"
             ],
             [
              0.3333333333333333,
              "#9c179e"
             ],
             [
              0.4444444444444444,
              "#bd3786"
             ],
             [
              0.5555555555555556,
              "#d8576b"
             ],
             [
              0.6666666666666666,
              "#ed7953"
             ],
             [
              0.7777777777777778,
              "#fb9f3a"
             ],
             [
              0.8888888888888888,
              "#fdca26"
             ],
             [
              1,
              "#f0f921"
             ]
            ],
            "type": "histogram2dcontour"
           }
          ],
          "mesh3d": [
           {
            "colorbar": {
             "outlinewidth": 0,
             "ticks": ""
            },
            "type": "mesh3d"
           }
          ],
          "parcoords": [
           {
            "line": {
             "colorbar": {
              "outlinewidth": 0,
              "ticks": ""
             }
            },
            "type": "parcoords"
           }
          ],
          "pie": [
           {
            "automargin": true,
            "type": "pie"
           }
          ],
          "scatter": [
           {
            "fillpattern": {
             "fillmode": "overlay",
             "size": 10,
             "solidity": 0.2
            },
            "type": "scatter"
           }
          ],
          "scatter3d": [
           {
            "line": {
             "colorbar": {
              "outlinewidth": 0,
              "ticks": ""
             }
            },
            "marker": {
             "colorbar": {
              "outlinewidth": 0,
              "ticks": ""
             }
            },
            "type": "scatter3d"
           }
          ],
          "scattercarpet": [
           {
            "marker": {
             "colorbar": {
              "outlinewidth": 0,
              "ticks": ""
             }
            },
            "type": "scattercarpet"
           }
          ],
          "scattergeo": [
           {
            "marker": {
             "colorbar": {
              "outlinewidth": 0,
              "ticks": ""
             }
            },
            "type": "scattergeo"
           }
          ],
          "scattergl": [
           {
            "marker": {
             "colorbar": {
              "outlinewidth": 0,
              "ticks": ""
             }
            },
            "type": "scattergl"
           }
          ],
          "scattermapbox": [
           {
            "marker": {
             "colorbar": {
              "outlinewidth": 0,
              "ticks": ""
             }
            },
            "type": "scattermapbox"
           }
          ],
          "scatterpolar": [
           {
            "marker": {
             "colorbar": {
              "outlinewidth": 0,
              "ticks": ""
             }
            },
            "type": "scatterpolar"
           }
          ],
          "scatterpolargl": [
           {
            "marker": {
             "colorbar": {
              "outlinewidth": 0,
              "ticks": ""
             }
            },
            "type": "scatterpolargl"
           }
          ],
          "scatterternary": [
           {
            "marker": {
             "colorbar": {
              "outlinewidth": 0,
              "ticks": ""
             }
            },
            "type": "scatterternary"
           }
          ],
          "surface": [
           {
            "colorbar": {
             "outlinewidth": 0,
             "ticks": ""
            },
            "colorscale": [
             [
              0,
              "#0d0887"
             ],
             [
              0.1111111111111111,
              "#46039f"
             ],
             [
              0.2222222222222222,
              "#7201a8"
             ],
             [
              0.3333333333333333,
              "#9c179e"
             ],
             [
              0.4444444444444444,
              "#bd3786"
             ],
             [
              0.5555555555555556,
              "#d8576b"
             ],
             [
              0.6666666666666666,
              "#ed7953"
             ],
             [
              0.7777777777777778,
              "#fb9f3a"
             ],
             [
              0.8888888888888888,
              "#fdca26"
             ],
             [
              1,
              "#f0f921"
             ]
            ],
            "type": "surface"
           }
          ],
          "table": [
           {
            "cells": {
             "fill": {
              "color": "#EBF0F8"
             },
             "line": {
              "color": "white"
             }
            },
            "header": {
             "fill": {
              "color": "#C8D4E3"
             },
             "line": {
              "color": "white"
             }
            },
            "type": "table"
           }
          ]
         },
         "layout": {
          "annotationdefaults": {
           "arrowcolor": "#2a3f5f",
           "arrowhead": 0,
           "arrowwidth": 1
          },
          "autotypenumbers": "strict",
          "coloraxis": {
           "colorbar": {
            "outlinewidth": 0,
            "ticks": ""
           }
          },
          "colorscale": {
           "diverging": [
            [
             0,
             "#8e0152"
            ],
            [
             0.1,
             "#c51b7d"
            ],
            [
             0.2,
             "#de77ae"
            ],
            [
             0.3,
             "#f1b6da"
            ],
            [
             0.4,
             "#fde0ef"
            ],
            [
             0.5,
             "#f7f7f7"
            ],
            [
             0.6,
             "#e6f5d0"
            ],
            [
             0.7,
             "#b8e186"
            ],
            [
             0.8,
             "#7fbc41"
            ],
            [
             0.9,
             "#4d9221"
            ],
            [
             1,
             "#276419"
            ]
           ],
           "sequential": [
            [
             0,
             "#0d0887"
            ],
            [
             0.1111111111111111,
             "#46039f"
            ],
            [
             0.2222222222222222,
             "#7201a8"
            ],
            [
             0.3333333333333333,
             "#9c179e"
            ],
            [
             0.4444444444444444,
             "#bd3786"
            ],
            [
             0.5555555555555556,
             "#d8576b"
            ],
            [
             0.6666666666666666,
             "#ed7953"
            ],
            [
             0.7777777777777778,
             "#fb9f3a"
            ],
            [
             0.8888888888888888,
             "#fdca26"
            ],
            [
             1,
             "#f0f921"
            ]
           ],
           "sequentialminus": [
            [
             0,
             "#0d0887"
            ],
            [
             0.1111111111111111,
             "#46039f"
            ],
            [
             0.2222222222222222,
             "#7201a8"
            ],
            [
             0.3333333333333333,
             "#9c179e"
            ],
            [
             0.4444444444444444,
             "#bd3786"
            ],
            [
             0.5555555555555556,
             "#d8576b"
            ],
            [
             0.6666666666666666,
             "#ed7953"
            ],
            [
             0.7777777777777778,
             "#fb9f3a"
            ],
            [
             0.8888888888888888,
             "#fdca26"
            ],
            [
             1,
             "#f0f921"
            ]
           ]
          },
          "colorway": [
           "#636efa",
           "#EF553B",
           "#00cc96",
           "#ab63fa",
           "#FFA15A",
           "#19d3f3",
           "#FF6692",
           "#B6E880",
           "#FF97FF",
           "#FECB52"
          ],
          "font": {
           "color": "#2a3f5f"
          },
          "geo": {
           "bgcolor": "white",
           "lakecolor": "white",
           "landcolor": "#E5ECF6",
           "showlakes": true,
           "showland": true,
           "subunitcolor": "white"
          },
          "hoverlabel": {
           "align": "left"
          },
          "hovermode": "closest",
          "mapbox": {
           "style": "light"
          },
          "paper_bgcolor": "white",
          "plot_bgcolor": "#E5ECF6",
          "polar": {
           "angularaxis": {
            "gridcolor": "white",
            "linecolor": "white",
            "ticks": ""
           },
           "bgcolor": "#E5ECF6",
           "radialaxis": {
            "gridcolor": "white",
            "linecolor": "white",
            "ticks": ""
           }
          },
          "scene": {
           "xaxis": {
            "backgroundcolor": "#E5ECF6",
            "gridcolor": "white",
            "gridwidth": 2,
            "linecolor": "white",
            "showbackground": true,
            "ticks": "",
            "zerolinecolor": "white"
           },
           "yaxis": {
            "backgroundcolor": "#E5ECF6",
            "gridcolor": "white",
            "gridwidth": 2,
            "linecolor": "white",
            "showbackground": true,
            "ticks": "",
            "zerolinecolor": "white"
           },
           "zaxis": {
            "backgroundcolor": "#E5ECF6",
            "gridcolor": "white",
            "gridwidth": 2,
            "linecolor": "white",
            "showbackground": true,
            "ticks": "",
            "zerolinecolor": "white"
           }
          },
          "shapedefaults": {
           "line": {
            "color": "#2a3f5f"
           }
          },
          "ternary": {
           "aaxis": {
            "gridcolor": "white",
            "linecolor": "white",
            "ticks": ""
           },
           "baxis": {
            "gridcolor": "white",
            "linecolor": "white",
            "ticks": ""
           },
           "bgcolor": "#E5ECF6",
           "caxis": {
            "gridcolor": "white",
            "linecolor": "white",
            "ticks": ""
           }
          },
          "title": {
           "x": 0.05
          },
          "xaxis": {
           "automargin": true,
           "gridcolor": "white",
           "linecolor": "white",
           "ticks": "",
           "title": {
            "standoff": 15
           },
           "zerolinecolor": "white",
           "zerolinewidth": 2
          },
          "yaxis": {
           "automargin": true,
           "gridcolor": "white",
           "linecolor": "white",
           "ticks": "",
           "title": {
            "standoff": 15
           },
           "zerolinecolor": "white",
           "zerolinewidth": 2
          }
         }
        },
        "title": {
         "text": "Course Ratings vs Enrollment by Organization"
        },
        "xaxis": {
         "anchor": "y",
         "domain": [
          0,
          1
         ],
         "title": {
          "text": "Rating"
         }
        },
        "yaxis": {
         "anchor": "x",
         "domain": [
          0,
          1
         ],
         "title": {
          "text": "Enrollments"
         }
        }
       }
      }
     },
     "metadata": {},
     "output_type": "display_data"
    }
   ],
   "source": [
    "organization_count = data['organization'].value_counts().head(10)\n",
    "\n",
    "plt.figure(figsize=(10, 6))\n",
    "sns.barplot(x=organization_count.values, y=organization_count.index, palette=\"viridis\")\n",
    "plt.title(\"Top 10 Organizations by Number of Courses\", fontsize=14, fontweight='bold')\n",
    "plt.xlabel(\"Number of Courses\", fontsize=12)\n",
    "plt.ylabel(\"Organization\", fontsize=12)\n",
    "plt.tight_layout()\n",
    "plt.show()\n",
    "\n",
    "# Scatter plot of ratings vs enrollments by organization\n",
    "fig = px.scatter(data, x='rating', y='students_enrolled',\n",
    "                 color='organization', \n",
    "                 size='students_enrolled',\n",
    "                 title='Course Ratings vs Enrollment by Organization',\n",
    "                 labels={'rating': 'Rating', 'students_enrolled': 'Enrollments'},\n",
    "                 hover_data=['title'])\n",
    "fig.show()"
   ]
  },
  {
   "cell_type": "code",
   "execution_count": 20,
   "metadata": {},
   "outputs": [
    {
     "data": {
      "text/html": [
       "<div>\n",
       "<style scoped>\n",
       "    .dataframe tbody tr th:only-of-type {\n",
       "        vertical-align: middle;\n",
       "    }\n",
       "\n",
       "    .dataframe tbody tr th {\n",
       "        vertical-align: top;\n",
       "    }\n",
       "\n",
       "    .dataframe thead th {\n",
       "        text-align: right;\n",
       "    }\n",
       "</style>\n",
       "<table border=\"1\" class=\"dataframe\">\n",
       "  <thead>\n",
       "    <tr style=\"text-align: right;\">\n",
       "      <th></th>\n",
       "      <th>students_enrolled</th>\n",
       "      <th>rating</th>\n",
       "    </tr>\n",
       "    <tr>\n",
       "      <th>organization</th>\n",
       "      <th></th>\n",
       "      <th></th>\n",
       "    </tr>\n",
       "  </thead>\n",
       "  <tbody>\n",
       "    <tr>\n",
       "      <th>Stanford University</th>\n",
       "      <td>303375.000000</td>\n",
       "      <td>4.768750</td>\n",
       "    </tr>\n",
       "    <tr>\n",
       "      <th>Yale University</th>\n",
       "      <td>232470.588235</td>\n",
       "      <td>4.817647</td>\n",
       "    </tr>\n",
       "    <tr>\n",
       "      <th>McMaster University</th>\n",
       "      <td>230000.000000</td>\n",
       "      <td>4.800000</td>\n",
       "    </tr>\n",
       "    <tr>\n",
       "      <th>Google - Spectrum Sharing</th>\n",
       "      <td>210000.000000</td>\n",
       "      <td>4.900000</td>\n",
       "    </tr>\n",
       "    <tr>\n",
       "      <th>Ludwig-Maximilians-Universität München (LMU)</th>\n",
       "      <td>192500.000000</td>\n",
       "      <td>4.750000</td>\n",
       "    </tr>\n",
       "    <tr>\n",
       "      <th>École Polytechnique</th>\n",
       "      <td>190000.000000</td>\n",
       "      <td>4.800000</td>\n",
       "    </tr>\n",
       "    <tr>\n",
       "      <th>University of Michigan</th>\n",
       "      <td>181407.317073</td>\n",
       "      <td>4.729268</td>\n",
       "    </tr>\n",
       "    <tr>\n",
       "      <th>Georgia Institute of Technology</th>\n",
       "      <td>181300.000000</td>\n",
       "      <td>4.660000</td>\n",
       "    </tr>\n",
       "    <tr>\n",
       "      <th>deeplearning.ai</th>\n",
       "      <td>178962.500000</td>\n",
       "      <td>4.743750</td>\n",
       "    </tr>\n",
       "    <tr>\n",
       "      <th>University of Washington</th>\n",
       "      <td>167400.000000</td>\n",
       "      <td>4.660000</td>\n",
       "    </tr>\n",
       "  </tbody>\n",
       "</table>\n",
       "</div>"
      ],
      "text/plain": [
       "                                              students_enrolled    rating\n",
       "organization                                                             \n",
       "Stanford University                               303375.000000  4.768750\n",
       "Yale University                                   232470.588235  4.817647\n",
       "McMaster University                               230000.000000  4.800000\n",
       "Google - Spectrum Sharing                         210000.000000  4.900000\n",
       "Ludwig-Maximilians-Universität München (LMU)      192500.000000  4.750000\n",
       "École Polytechnique                               190000.000000  4.800000\n",
       "University of Michigan                            181407.317073  4.729268\n",
       "Georgia Institute of Technology                   181300.000000  4.660000\n",
       "deeplearning.ai                                   178962.500000  4.743750\n",
       "University of Washington                          167400.000000  4.660000"
      ]
     },
     "execution_count": 20,
     "metadata": {},
     "output_type": "execute_result"
    }
   ],
   "source": [
    "data.groupby('organization')[[\"students_enrolled\", 'rating']].mean().sort_values(by=\"students_enrolled\", ascending=False)[:10]"
   ]
  },
  {
   "cell_type": "code",
   "execution_count": 21,
   "metadata": {},
   "outputs": [
    {
     "data": {
      "image/png": "[encoded data removed]",
      "text/plain": [
       "<Figure size 1200x800 with 1 Axes>"
      ]
     },
     "metadata": {},
     "output_type": "display_data"
    }
   ],
   "source": [
    "top_enrolled_org = data.groupby('organization')[[\"students_enrolled\", 'rating']].mean().sort_values(by=\"students_enrolled\", ascending=False)[:10]\n",
    "\n",
    "plt.figure(figsize=(12, 8))\n",
    "\n",
    "sns.barplot(data=top_enrolled_org, x=top_enrolled_org.students_enrolled, y=top_enrolled_org.index, palette=\"viridis\")\n",
    "plt.title(\"Top 10 Organizations by Average Student Enrollment\")\n",
    "plt.xlabel(\"Number of Students Enrolled\")\n",
    "plt.ylabel(\"Course Organization\")\n",
    "plt.show()"
   ]
  },
  {
   "cell_type": "markdown",
   "metadata": {},
   "source": [
    "From the plots above, we can see that the quantity of the courses by the organization does not necessarily drive engagement or enrollment. Rather, we see a positive correlation between `course_rating` and `course_students_enrolled`.\n",
    "- Higher-rated courses (closer to 5 on the x-axis) tend to have more enrollments, as represented by larger bubble sizes and higher y-axis values.\n",
    "\n",
    "- There are a few courses with very high enrollments (e.g., over 2 million) regardless of ratings. These outliers likely represent courses with widespread appeal, excellent marketing, or popular topics.\n",
    "\n",
    "- Standford University, represented by the purple marker, dominate in terms of enrollment. This could reflect their brand value, course popularity, or larger course catalogs.\n",
    "\n",
    "- Multiple organizations have offerings in the high-rating zone (4.5 and above), but the size of their bubbles (enrollment numbers) varies. This could indicate differences in marketing, reach, or the type of learners they attract.\n",
    "***\n",
    "### 2.What are the most common certification types offered, and how do they influence enrollment numbers?"
   ]
  },
  {
   "cell_type": "code",
   "execution_count": 22,
   "metadata": {},
   "outputs": [
    {
     "data": {
      "image/png": "[encoded data removed]",
      "text/plain": [
       "<Figure size 1800x600 with 2 Axes>"
      ]
     },
     "metadata": {},
     "output_type": "display_data"
    }
   ],
   "source": [
    "certification_count = data['certificate_type'].value_counts()\n",
    "\n",
    "fig, axes = plt.subplots(1, 2, figsize=(18, 6), constrained_layout=True)\n",
    "\n",
    "sns.barplot(x=certification_count.index, y=certification_count.values, palette=\"viridis\", ax=axes[0])\n",
    "axes[0].set_title(\"Distribution of Certification Types\", fontsize=14, fontweight='bold')\n",
    "axes[0].set_xlabel(\"Certification Type\", fontsize=12)\n",
    "axes[0].set_ylabel(\"Number of Courses\", fontsize=12)\n",
    "\n",
    "sns.boxplot(data=data, x='certificate_type', y='students_enrolled', palette=\"viridis\", ax=axes[1])\n",
    "axes[1].set_title(\"Enrollments by Certification Type\", fontsize=14, fontweight='bold')\n",
    "axes[1].set_xlabel(\"Certification Type\", fontsize=12)\n",
    "axes[1].set_ylabel(\"Enrollments\", fontsize=12)\n",
    "\n",
    "plt.show()"
   ]
  },
  {
   "cell_type": "markdown",
   "metadata": {},
   "source": [
    "From the first bar plot, we can see that the `COURSE` category has the hightest number of courses with a little below 600, followed by `SPECIALIZATION` and `PROFESSIONAL CERTIFICATE` havivg the least number of courses. However, we see that this high number of courses does not really influence engagement except in some few exceptional cases.\n",
    "\n",
    "- Professional Certificate courses tend to have higher enrollments overall, as indicated by the higher median and interquartile range (IQR) compared to the other two certification types. This suggests that Professional Certificate programs are particularly popular, likely due to their perceived career value or comprehensiveness.\n",
    "\n",
    "- Specialization and Course types have similar enrollment distributions, but their medians are noticeably lower than Professional Certificates. These certification types seem to cater to smaller or more specific audiences.\n",
    "\n",
    "- Significant outliers are visible particularly in Specialization and Course types, where some courses have exceptionally high enrollments. This may indicate a few extremely popular courses in these categories driving a lot of attention, potentially due to their content, instructors, or topics.\n",
    "\n",
    "- Despite the outliers, Professional Certificates show a more consistent trend of attracting higher enrollments, while Specialization and Course types appear to attract smaller but still substantial audiences on average.\n",
    "***\n",
    "### 3. How does the difficulty level of courses vary across organizations, and which difficulty level attracts the most learners?\n",
    "\n"
   ]
  },
  {
   "cell_type": "code",
   "execution_count": 23,
   "metadata": {},
   "outputs": [
    {
     "data": {
      "text/html": [
       "<div>\n",
       "<style scoped>\n",
       "    .dataframe tbody tr th:only-of-type {\n",
       "        vertical-align: middle;\n",
       "    }\n",
       "\n",
       "    .dataframe tbody tr th {\n",
       "        vertical-align: top;\n",
       "    }\n",
       "\n",
       "    .dataframe thead th {\n",
       "        text-align: right;\n",
       "    }\n",
       "</style>\n",
       "<table border=\"1\" class=\"dataframe\">\n",
       "  <thead>\n",
       "    <tr style=\"text-align: right;\">\n",
       "      <th></th>\n",
       "      <th>title</th>\n",
       "      <th>organization</th>\n",
       "      <th>certificate_type</th>\n",
       "      <th>rating</th>\n",
       "      <th>difficulty</th>\n",
       "      <th>students_enrolled</th>\n",
       "      <th>organization_type</th>\n",
       "    </tr>\n",
       "  </thead>\n",
       "  <tbody>\n",
       "    <tr>\n",
       "      <th>508</th>\n",
       "      <td>Anatomy: Musculoskeletal and Integumentary Sys...</td>\n",
       "      <td>University of Michigan</td>\n",
       "      <td>COURSE</td>\n",
       "      <td>4.8</td>\n",
       "      <td>Beginner</td>\n",
       "      <td>20000</td>\n",
       "      <td>Academic</td>\n",
       "    </tr>\n",
       "    <tr>\n",
       "      <th>287</th>\n",
       "      <td>Greek and Roman Mythology</td>\n",
       "      <td>University of Pennsylvania</td>\n",
       "      <td>COURSE</td>\n",
       "      <td>4.8</td>\n",
       "      <td>Mixed</td>\n",
       "      <td>260000</td>\n",
       "      <td>Academic</td>\n",
       "    </tr>\n",
       "    <tr>\n",
       "      <th>185</th>\n",
       "      <td>Vital Signs: Understanding What the Body Is Te...</td>\n",
       "      <td>University of Pennsylvania</td>\n",
       "      <td>COURSE</td>\n",
       "      <td>4.8</td>\n",
       "      <td>Mixed</td>\n",
       "      <td>190000</td>\n",
       "      <td>Academic</td>\n",
       "    </tr>\n",
       "    <tr>\n",
       "      <th>808</th>\n",
       "      <td>Preparing for the Google Cloud Associate Cloud...</td>\n",
       "      <td>Google Cloud</td>\n",
       "      <td>COURSE</td>\n",
       "      <td>4.7</td>\n",
       "      <td>Beginner</td>\n",
       "      <td>22000</td>\n",
       "      <td>Tech Giant</td>\n",
       "    </tr>\n",
       "    <tr>\n",
       "      <th>800</th>\n",
       "      <td>Cómo hablar bien en público</td>\n",
       "      <td>Universitat Autònoma de Barcelona</td>\n",
       "      <td>COURSE</td>\n",
       "      <td>4.8</td>\n",
       "      <td>Beginner</td>\n",
       "      <td>55000</td>\n",
       "      <td>Other</td>\n",
       "    </tr>\n",
       "    <tr>\n",
       "      <th>745</th>\n",
       "      <td>Introduction to Electronics</td>\n",
       "      <td>Georgia Institute of Technology</td>\n",
       "      <td>COURSE</td>\n",
       "      <td>4.7</td>\n",
       "      <td>Mixed</td>\n",
       "      <td>110000</td>\n",
       "      <td>Academic</td>\n",
       "    </tr>\n",
       "    <tr>\n",
       "      <th>322</th>\n",
       "      <td>American Contract Law I</td>\n",
       "      <td>Yale University</td>\n",
       "      <td>COURSE</td>\n",
       "      <td>4.9</td>\n",
       "      <td>Beginner</td>\n",
       "      <td>18000</td>\n",
       "      <td>Academic</td>\n",
       "    </tr>\n",
       "    <tr>\n",
       "      <th>523</th>\n",
       "      <td>Modernizing Data Lakes and Data Warehouses wit...</td>\n",
       "      <td>Google Cloud</td>\n",
       "      <td>COURSE</td>\n",
       "      <td>4.7</td>\n",
       "      <td>Intermediate</td>\n",
       "      <td>9100</td>\n",
       "      <td>Tech Giant</td>\n",
       "    </tr>\n",
       "    <tr>\n",
       "      <th>603</th>\n",
       "      <td>Using Python to Interact with the Operating Sy...</td>\n",
       "      <td>Google</td>\n",
       "      <td>COURSE</td>\n",
       "      <td>4.7</td>\n",
       "      <td>Beginner</td>\n",
       "      <td>19000</td>\n",
       "      <td>Tech Giant</td>\n",
       "    </tr>\n",
       "    <tr>\n",
       "      <th>566</th>\n",
       "      <td>Customer Segmentation and Prospecting</td>\n",
       "      <td>Northwestern University</td>\n",
       "      <td>COURSE</td>\n",
       "      <td>4.7</td>\n",
       "      <td>Beginner</td>\n",
       "      <td>18000</td>\n",
       "      <td>Academic</td>\n",
       "    </tr>\n",
       "  </tbody>\n",
       "</table>\n",
       "</div>"
      ],
      "text/plain": [
       "                                                 title  \\\n",
       "508  Anatomy: Musculoskeletal and Integumentary Sys...   \n",
       "287                          Greek and Roman Mythology   \n",
       "185  Vital Signs: Understanding What the Body Is Te...   \n",
       "808  Preparing for the Google Cloud Associate Cloud...   \n",
       "800                        Cómo hablar bien en público   \n",
       "745                        Introduction to Electronics   \n",
       "322                            American Contract Law I   \n",
       "523  Modernizing Data Lakes and Data Warehouses wit...   \n",
       "603  Using Python to Interact with the Operating Sy...   \n",
       "566              Customer Segmentation and Prospecting   \n",
       "\n",
       "                          organization certificate_type  rating    difficulty  \\\n",
       "508             University of Michigan           COURSE     4.8      Beginner   \n",
       "287         University of Pennsylvania           COURSE     4.8         Mixed   \n",
       "185         University of Pennsylvania           COURSE     4.8         Mixed   \n",
       "808                       Google Cloud           COURSE     4.7      Beginner   \n",
       "800  Universitat Autònoma de Barcelona           COURSE     4.8      Beginner   \n",
       "745    Georgia Institute of Technology           COURSE     4.7         Mixed   \n",
       "322                    Yale University           COURSE     4.9      Beginner   \n",
       "523                       Google Cloud           COURSE     4.7  Intermediate   \n",
       "603                             Google           COURSE     4.7      Beginner   \n",
       "566            Northwestern University           COURSE     4.7      Beginner   \n",
       "\n",
       "     students_enrolled organization_type  \n",
       "508              20000          Academic  \n",
       "287             260000          Academic  \n",
       "185             190000          Academic  \n",
       "808              22000        Tech Giant  \n",
       "800              55000             Other  \n",
       "745             110000          Academic  \n",
       "322              18000          Academic  \n",
       "523               9100        Tech Giant  \n",
       "603              19000        Tech Giant  \n",
       "566              18000          Academic  "
      ]
     },
     "execution_count": 23,
     "metadata": {},
     "output_type": "execute_result"
    }
   ],
   "source": [
    "def categorize_organization(org_name):\n",
    "    org_name = org_name.lower() \n",
    "\n",
    "    if any(keyword in org_name for keyword in ['university', 'universidad', 'school', 'institute', 'college']):\n",
    "        return 'Academic'\n",
    "\n",
    "    elif any(keyword in org_name for keyword in ['ibm', 'amazon', 'google', 'microsoft', 'cloud']):\n",
    "        return 'Tech Giant'\n",
    "\n",
    "    else:\n",
    "        return 'Other'\n",
    "\n",
    "data['organization_type'] = data['organization'].apply(categorize_organization)\n",
    "\n",
    "data.sample(10)\n"
   ]
  },
  {
   "cell_type": "code",
   "execution_count": 24,
   "metadata": {},
   "outputs": [
    {
     "name": "stdout",
     "output_type": "stream",
     "text": [
      "organization_type\n",
      "Academic      4.7\n",
      "Other         4.7\n",
      "Tech Giant    4.6\n",
      "Name: rating, dtype: float64\n"
     ]
    },
    {
     "data": {
      "image/png": "[encoded data removed]",
      "text/plain": [
       "<Figure size 800x600 with 1 Axes>"
      ]
     },
     "metadata": {},
     "output_type": "display_data"
    }
   ],
   "source": [
    "\n",
    "enrollment_by_type = data.groupby('organization_type')['students_enrolled'].mean()\n",
    "ratings_by_type = data.groupby('organization_type')['rating'].median()\n",
    "\n",
    "print(ratings_by_type)\n",
    "\n",
    "plt.figure(figsize=(8, 6))\n",
    "sns.barplot(x=enrollment_by_type.index, y=enrollment_by_type.values, palette=\"pastel\")\n",
    "plt.title(\"Enrollment by Organization Type\")\n",
    "plt.ylabel(\"Enrollments\")\n",
    "plt.xlabel(\"Organization Type\")\n",
    "plt.show()\n"
   ]
  },
  {
   "cell_type": "code",
   "execution_count": 25,
   "metadata": {},
   "outputs": [
    {
     "data": {
      "image/png": "[encoded data removed]",
      "text/plain": [
       "<Figure size 1800x600 with 3 Axes>"
      ]
     },
     "metadata": {},
     "output_type": "display_data"
    }
   ],
   "source": [
    "difficulty_count = data['difficulty'].value_counts()\n",
    "\n",
    "fig, axes = plt.subplots(1, 3, figsize=(18, 6), constrained_layout=True)\n",
    "\n",
    "sns.barplot(x=difficulty_count.index, y=difficulty_count.values, palette=\"viridis\", ax=axes[0])\n",
    "axes[0].set_title(\"Distribution of Course Difficulty Levels\", fontsize=14, fontweight='bold')\n",
    "axes[0].set_xlabel(\"Difficulty Level\", fontsize=12)\n",
    "axes[0].set_ylabel(\"Number of Courses\", fontsize=12)\n",
    "\n",
    "sns.boxplot(data=data, x='difficulty', y='students_enrolled', palette=\"viridis\", ax=axes[1])\n",
    "axes[1].set_title(\"Enrollments by Difficulty Level\", fontsize=14, fontweight='bold')\n",
    "axes[1].set_xlabel(\"Difficulty Level\", fontsize=12)\n",
    "axes[1].set_ylabel(\"Enrollments\", fontsize=12)\n",
    "\n",
    "sns.boxplot(data=data, x='organization_type', y='students_enrolled', palette=\"viridis\", ax=axes[2])\n",
    "axes[2].set_title(\"Enrollments by Organization Type\", fontsize=14, fontweight='bold')\n",
    "axes[2].set_xlabel(\"Organization Type\", fontsize=12)\n",
    "axes[2].set_ylabel(\"Enrollments\", fontsize=12)\n",
    "\n",
    "plt.show()\n",
    "\n",
    "    "
   ]
  },
  {
   "cell_type": "markdown",
   "metadata": {},
   "source": [
    "Here we see that the `Biginner` difficulty level has the most number of courses, while the `Advance` category has the least. the `Intermediate and Mixed` categories have almost the same amout of courses.\n",
    "\n",
    "- Beginner-level courses have the largest median enrollment compared to other difficulty levels, indicating that they attract the most learners. This is expected as beginner courses are often entry points for many learners who are just starting out.\n",
    "\n",
    "- Intermediate and Mixed-level courses show similar enrollment patterns with slightly lower medians compared to beginner courses. These courses cater to learners with some prior knowledge, thus appealing to a smaller but significant group.\n",
    "\n",
    "- Advanced courses have the lowest median enrollment and the narrowest interquartile range, indicating that they attract fewer students. This suggests that only a small, specialized audience opts for advanced-level courses.\n",
    "\n",
    "- All difficulty levels show extreme outliers, with some courses attracting enrollments in the millions. These outliers indicate specific highly popular courses, regardless of their difficulty level. Beginner-level courses seem to have the most prominent outliers. \n",
    "***\n",
    "\n",
    "### 4. What is the distribution of course ratings, and which factors appear to correlate with higher ratings?"
   ]
  },
  {
   "cell_type": "code",
   "execution_count": 26,
   "metadata": {},
   "outputs": [
    {
     "data": {
      "image/png": "[encoded data removed]",
      "text/plain": [
       "<Figure size 1800x600 with 2 Axes>"
      ]
     },
     "metadata": {},
     "output_type": "display_data"
    }
   ],
   "source": [
    "fig, axes = plt.subplots(1, 2, figsize=(18, 6), constrained_layout=True)\n",
    "\n",
    "sns.histplot(data['rating'], kde=True, bins=20, color='skyblue', ax=axes[0])\n",
    "axes[0].set_title(\"Distribution of Course Ratings\", fontsize=14, fontweight='bold')\n",
    "axes[0].set_xlabel(\"Course Rating\", fontsize=12)\n",
    "axes[0].set_ylabel(\"Frequency\", fontsize=12)\n",
    "\n",
    "sns.violinplot(data=data, x='difficulty', y='rating', palette=\"Set2\", ax=axes[1])\n",
    "axes[1].set_title(\"Ratings Distribution by Course Difficulty\", fontsize=14, fontweight='bold')\n",
    "axes[1].set_xlabel(\"Difficulty Level\", fontsize=12)\n",
    "axes[1].set_ylabel(\"Rating\", fontsize=12)\n",
    "\n",
    "plt.show()"
   ]
  },
  {
   "cell_type": "markdown",
   "metadata": {},
   "source": [
    "The histogram shows that the distribution of course ratings is right-skewed, with the majority of ratings clustering in the range of 4.5 to 5. This indicates that most courses are highly rated.\n",
    "\n",
    "- There are distinct peaks near 4.6 and 4.8, suggesting that these are common ratings, possibly reflecting consistently high-quality courses or user bias toward giving favorable reviews.\n",
    "\n",
    "- Ratings below 4.0 are rare, indicating that poorly rated courses are either uncommon or less likely to remain on the platform.\n",
    "\n",
    "- Despite the high concentration around 4.5 to 5.0, there is some variation, with ratings ranging as low as 3.3. However, these lower-rated courses represent a small fraction of the dataset.\n",
    "\n",
    "The distribution for Beginner-level courses is tightly concentrated around a high median rating (approximately 4.7). This suggests that beginner-level courses are generally well-received, possibly due to their accessibility and simplicity in meeting learner expectations.\n",
    "\n",
    "Intermediate courses exhibit a wider range of ratings, with some courses rated as low as 3.5. While the median remains high (approximately 4.7), this variability indicates mixed feedback. This may reflect diverse audience expectations or varying course quality within this category.\n",
    "\n",
    "Courses labeled as Mixed difficulty have highest median rating (approximately 4.8) and the widest distribution, ranging from around 3.2 to 5. This could indicate that these courses attract learners with different skill levels, leading to varying experiences and ratings.\n",
    "\n",
    "While Advanced courses also show high ratings (approximately 4.7), the median appears slightly lower than that of Beginner or Intermediate courses. The smaller but noticeable spread suggests that advanced courses may pose challenges for learners, which could impact feedback.\n",
    "\n",
    "Courses with lower difficulty (Beginner) tend to have higher and more consistent ratings, while higher difficulty courses (Intermediate, Mixed) show greater variability and slightly lower ratings.\n",
    "\n",
    "- Also, courses with difficulty level of `Mixed` have highest median rating of 4.8 compared to the `Intermediate`, `Advanced` and `Beginner` which all have a median rating of 4.7.\n",
    "***\n",
    "### 5. Are there patterns in the number of students enrolled per course, and how does this relate to ratings or certification types?"
   ]
  },
  {
   "cell_type": "code",
   "execution_count": null,
   "metadata": {},
   "outputs": [
    {
     "data": {
      "application/vnd.plotly.v1+json": {
       "config": {
        "plotlyServerURL": "https://plot.ly"
       },
       "data": [
        {
         "customdata": [
          [
           "(ISC)² Systems Security Certified Practitioner (SSCP)"
          ],
          [
           "AI Foundations for Everyone"
          ],
          [
           "AI for Medicine"
          ],
          [
           "AWS Fundamentals"
          ],
          [
           "Academic English: Writing"
          ],
          [
           "Accelerated Computer Science Fundamentals"
          ],
          [
           "Achieving Personal and Professional Success"
          ],
          [
           "Advanced Business Analytics"
          ],
          [
           "Advanced Data Science with IBM"
          ],
          [
           "Advanced Machine Learning"
          ],
          [
           "Advanced Machine Learning with TensorFlow on Google Cloud Platform"
          ],
          [
           "Agile Development"
          ],
          [
           "Algorithms"
          ],
          [
           "Algorithms for Battery Management Systems"
          ],
          [
           "An Introduction to Programming the Internet of Things (IOT)"
          ],
          [
           "Analysing: Numeric and digital literacies"
          ],
          [
           "Anatomy"
          ],
          [
           "Android App Development"
          ],
          [
           "Applied Data Science"
          ],
          [
           "Applied Data Science with Python"
          ],
          [
           "Aprende a programar con Python"
          ],
          [
           "Architecting with Google Cloud Platform 日本語版"
          ],
          [
           "Architecting with Google Compute Engine"
          ],
          [
           "Architecting with Google Kubernetes Engine 日本語版"
          ],
          [
           "Autodesk CAD/CAM for Manufacturing"
          ],
          [
           "Autodesk CAD/CAM/CAE for Mechanical Engineering"
          ],
          [
           "Become a Journalist: Report the News!"
          ],
          [
           "Become a Sustainable Business Change Agent"
          ],
          [
           "Big Data – Introducción al uso práctico de datos masivos"
          ],
          [
           "Biostatistics in Public Health"
          ],
          [
           "Blockchain"
          ],
          [
           "Blockchain Revolution"
          ],
          [
           "Blockchain Revolution in Financial Services"
          ],
          [
           "Branding: The Creative Journey"
          ],
          [
           "Business Analytics"
          ],
          [
           "Business English"
          ],
          [
           "Business English Communication Skills"
          ],
          [
           "Business Foundations"
          ],
          [
           "Business Statistics and Analysis"
          ],
          [
           "Business Strategies for A Better World"
          ],
          [
           "Business Strategy"
          ],
          [
           "Business Technology Management"
          ],
          [
           "Business and Financial Modeling"
          ],
          [
           "C# Programming for Unity Game Development"
          ],
          [
           "Career Success"
          ],
          [
           "Cisco Networking Basics"
          ],
          [
           "Claves de la Dirección de Empresas"
          ],
          [
           "Climate Change and Health: From Science to Action"
          ],
          [
           "Cloud Computing"
          ],
          [
           "Coaching Skills for Managers"
          ],
          [
           "Communication Skills for Engineers"
          ],
          [
           "Competitive Strategy and Organization Design"
          ],
          [
           "Computational Social Science"
          ],
          [
           "Computer Security and Systems Management"
          ],
          [
           "Conflict Management"
          ],
          [
           "Construction Management"
          ],
          [
           "Content Strategy for Professionals"
          ],
          [
           "Creative Writing"
          ],
          [
           "Creatividad, diseño e innovación: Técnicas y herramientas"
          ],
          [
           "Culture-Driven Team Building"
          ],
          [
           "Cybersecurity"
          ],
          [
           "Cybersecurity for Business"
          ],
          [
           "Data Analysis and Interpretation"
          ],
          [
           "Data Analysis and Presentation Skills: the PwC Approach"
          ],
          [
           "Data Engineering on Google Cloud Platform 日本語版"
          ],
          [
           "Data Engineering, Big Data, and Machine Learning on GCP"
          ],
          [
           "Data Mining"
          ],
          [
           "Data Science"
          ],
          [
           "Data Science: Foundations using R"
          ],
          [
           "Data Science: Statistics and Machine Learning"
          ],
          [
           "Data Visualization with Tableau"
          ],
          [
           "Data Warehousing for Business Intelligence"
          ],
          [
           "Deep Learning"
          ],
          [
           "Developing APIs with Google Cloud's Apigee API Platform"
          ],
          [
           "Developing Applications with Google Cloud Platform"
          ],
          [
           "Developing Applications with Google Cloud Platform 日本語版"
          ],
          [
           "Developing Industrial Internet of Things"
          ],
          [
           "Developing Your Musicianship"
          ],
          [
           "Digital Advertising Strategy"
          ],
          [
           "Digital Manufacturing & Design Technology"
          ],
          [
           "Digital Marketing"
          ],
          [
           "Digital Product Management"
          ],
          [
           "Diseño Instruccional: Aprendizaje activo y Pedagogía digital"
          ],
          [
           "Dynamic Public Speaking"
          ],
          [
           "Electronic Music Production"
          ],
          [
           "Emerging Technologies: From Smartphones to IoT to Big Data"
          ],
          [
           "Energy Production, Distribution & Safety"
          ],
          [
           "English for Research Publication Purposes"
          ],
          [
           "Entrepreneurial Finance: Strategy and Innovation"
          ],
          [
           "Entrepreneurship"
          ],
          [
           "Entrepreneurship: Launching an Innovative Business"
          ],
          [
           "Epidemiology for Public Health"
          ],
          [
           "Epidemiology in Public Health Practice"
          ],
          [
           "Esports"
          ],
          [
           "Essentials of Corporate Finance"
          ],
          [
           "Evaluación educativa"
          ],
          [
           "Excel Skills for Business"
          ],
          [
           "Excel to MySQL: Analytic Techniques for Business"
          ],
          [
           "Excel/VBA for Creative Problem Solving"
          ],
          [
           "Executive Data Science"
          ],
          [
           "FinTech: Finance Industry Transformation and Regulation"
          ],
          [
           "Finance & Quantitative Modeling for Analysts"
          ],
          [
           "Financial Management"
          ],
          [
           "Financial Markets and Investment Strategy"
          ],
          [
           "Financial Reporting"
          ],
          [
           "Financial Technology (Fintech) Innovations"
          ],
          [
           "Finanzas corporativas"
          ],
          [
           "Fintech: Foundations & Applications of Financial Technology"
          ],
          [
           "Foundational Finance for Strategic Decision Making"
          ],
          [
           "Foundations of Global Health"
          ],
          [
           "Foundations of Management"
          ],
          [
           "Foundations of Marketing Analytics"
          ],
          [
           "Foundations of Positive Psychology"
          ],
          [
           "Foundations of Public Health Practice"
          ],
          [
           "From Data to Insights with Google Cloud Platform"
          ],
          [
           "Full Stack Web and Multiplatform Mobile App Development"
          ],
          [
           "Full-Stack Web Development with React"
          ],
          [
           "Functional Programming in Scala"
          ],
          [
           "Fundamentals of Accounting"
          ],
          [
           "Fundamentals of Computing"
          ],
          [
           "Fundamentals of Immunology"
          ],
          [
           "Fundamentos Empresariales"
          ],
          [
           "Fundamentos Estratégicos Empresariales"
          ],
          [
           "Fundraising and Development"
          ],
          [
           "Futures Thinking"
          ],
          [
           "G Suite Administration"
          ],
          [
           "GIS, Mapping, and Spatial Analysis"
          ],
          [
           "Game Design and Development"
          ],
          [
           "Genomic Data Science"
          ],
          [
           "Geographic Information Systems  (GIS)"
          ],
          [
           "Globalization, Economic Growth and Stability"
          ],
          [
           "Good with Words: Writing and Editing"
          ],
          [
           "Graphic Design Elements for Non-Designers"
          ],
          [
           "Habilidades Gerenciales"
          ],
          [
           "Health Informatics"
          ],
          [
           "Health Information Literacy for Data Analytics"
          ],
          [
           "Healthcare Law"
          ],
          [
           "Healthcare Marketplace"
          ],
          [
           "Healthcare Organization Operations"
          ],
          [
           "Homeland Security and Cybersecurity"
          ],
          [
           "Hotel Management: Distribution, Revenue and Demand Management"
          ],
          [
           "How to Start Your Own Business"
          ],
          [
           "Human Resource Management: HR for People Managers"
          ],
          [
           "IBM AI Enterprise Workflow"
          ],
          [
           "IT Fundamentals for Cybersecurity"
          ],
          [
           "Implementación del Marketing Mix"
          ],
          [
           "Implementing RPA with Cognitive Automation and Analytics"
          ],
          [
           "Improve Your English Communication Skills"
          ],
          [
           "Improving Leadership & Governance in Nonprofit Organizations"
          ],
          [
           "Infectious Disease Modelling"
          ],
          [
           "Influencing: Storytelling, Change Management and Governance"
          ],
          [
           "Information Visualization"
          ],
          [
           "Information​ ​Systems"
          ],
          [
           "Innovation: From Creativity to Entrepreneurship"
          ],
          [
           "Inspirational Leadership: Leading with Sense"
          ],
          [
           "Inspired Leadership"
          ],
          [
           "Integrative Health and Medicine"
          ],
          [
           "Intellectual Property Law"
          ],
          [
           "Interaction Design"
          ],
          [
           "International Business Essentials"
          ],
          [
           "International Marketing & Cross Industry Growth"
          ],
          [
           "Interviewing and Resume Writing in English"
          ],
          [
           "Introduction to Computer Science and Programming"
          ],
          [
           "Introduction to Cyber Security"
          ],
          [
           "Introduction to Data Science"
          ],
          [
           "Introduction to Discrete Mathematics for Computer Science"
          ],
          [
           "Introduction to Programming in C"
          ],
          [
           "Introduction to Scripting in Python"
          ],
          [
           "Introdução aos Princípios e Práticas da Gestão De Projetos"
          ],
          [
           "Investment Management"
          ],
          [
           "Investment Management with Python and Machine Learning"
          ],
          [
           "Investment and Portfolio Management"
          ],
          [
           "Java Programming and Software Engineering Fundamentals"
          ],
          [
           "L'impact investing, la finance qui change le monde"
          ],
          [
           "Leadership Development for Engineers"
          ],
          [
           "Leading People and Teams"
          ],
          [
           "Leading: Human Resource Management and Leadership"
          ],
          [
           "Learn Chinese: HSK Test Preparation"
          ],
          [
           "Learn English"
          ],
          [
           "Learn English: Advanced Academic Speaking and Listening"
          ],
          [
           "Learn English: Advanced Grammar and Punctuation"
          ],
          [
           "Learn English: Intermediate Grammar"
          ],
          [
           "Learn Mandarin Chinese"
          ],
          [
           "Learn SQL Basics for Data Science"
          ],
          [
           "Learn Spanish: Basic Spanish Vocabulary"
          ],
          [
           "Liderazgo efectivo para el siglo XXI"
          ],
          [
           "Machine Learning"
          ],
          [
           "Machine Learning and Reinforcement Learning in Finance"
          ],
          [
           "Machine Learning for Trading"
          ],
          [
           "Machine Learning with TensorFlow on Google Cloud Platform"
          ],
          [
           "Managerial Economics and Business Analysis"
          ],
          [
           "Managing Innovation and Design Thinking"
          ],
          [
           "Market Research"
          ],
          [
           "Marketing Digital"
          ],
          [
           "Marketing Mix Implementation"
          ],
          [
           "Marketing Strategy"
          ],
          [
           "Marketing con Redes Sociales"
          ],
          [
           "Mastering Software Development in R"
          ],
          [
           "Mathematics for Data Science"
          ],
          [
           "Mathematics for Machine Learning"
          ],
          [
           "Medical Cannabis: The Health Effects of THC and CBD"
          ],
          [
           "Memoir and Personal Essay: Write About Yourself"
          ],
          [
           "Methods and Statistics in Social Sciences"
          ],
          [
           "Modern Big Data Analysis with SQL"
          ],
          [
           "Modern Robotics:  Mechanics, Planning, and Control"
          ],
          [
           "Music Business"
          ],
          [
           "Music Production"
          ],
          [
           "Negotiation, Mediation and Conflict Resolution"
          ],
          [
           "Networking in Google Cloud"
          ],
          [
           "Newborn Baby Care"
          ],
          [
           "Object Oriented Java Programming: Data Structures and Beyond"
          ],
          [
           "Object Oriented Programming in Java"
          ],
          [
           "Open Source Software Development, Linux and Git"
          ],
          [
           "Optical Engineering"
          ],
          [
           "Organizational Leadership"
          ],
          [
           "Palliative Care: It's Not Just Hospice Anymore"
          ],
          [
           "Palo Alto Networks Cybersecurity"
          ],
          [
           "Parallel, Concurrent, and Distributed Programming in Java"
          ],
          [
           "Patient Safety"
          ],
          [
           "Photography Basics and Beyond: From Smartphone to DSLR"
          ],
          [
           "Plant Bioinformatic Methods"
          ],
          [
           "Power Electronics"
          ],
          [
           "Practical Data Science with MATLAB"
          ],
          [
           "Presentation Skills: Speechwriting, Slides and Delivery"
          ],
          [
           "Pricing Strategy Optimization"
          ],
          [
           "Programming with Google Go"
          ],
          [
           "Project Management & Other Tools for Career Development"
          ],
          [
           "Project Management Principles and Practices"
          ],
          [
           "Python for Everybody"
          ],
          [
           "Recommender Systems"
          ],
          [
           "Reinforcement Learning"
          ],
          [
           "Requirements Engineering: Secure Software  Specifications"
          ],
          [
           "Responsive Website Development and Design"
          ],
          [
           "Robotics"
          ],
          [
           "Russian for beginners А1. Русский язык: A1"
          ],
          [
           "Sales Operations/Management"
          ],
          [
           "Sales Training for High Performing Teams"
          ],
          [
           "School Health for Children and Adolescents"
          ],
          [
           "Secure Coding Practices"
          ],
          [
           "Security in Google Cloud Platform"
          ],
          [
           "Self-Driving Cars"
          ],
          [
           "Six Sigma Green Belt"
          ],
          [
           "Social Entrepreneurship"
          ],
          [
           "Social Media Marketing"
          ],
          [
           "Social Policy for Social Services & Health Practitioners"
          ],
          [
           "Software Design and Architecture"
          ],
          [
           "Software Development Lifecycle"
          ],
          [
           "Software Product Management"
          ],
          [
           "Spacecraft Dynamics and Control"
          ],
          [
           "Statistical Analysis with R for Public Health"
          ],
          [
           "Statistics with Python"
          ],
          [
           "Statistics with R"
          ],
          [
           "Strategic Business Analytics"
          ],
          [
           "Strategic Leadership and Management"
          ],
          [
           "Strategic Management and Innovation"
          ],
          [
           "Strategic Sales Management"
          ],
          [
           "Strategising: Management for Global Competitive Advantage"
          ],
          [
           "Supply Chain Finance and Blockchain Technology"
          ],
          [
           "Supply Chain Management"
          ],
          [
           "Survey Data Collection and Analytics"
          ],
          [
           "Swift 5 iOS Application Developer"
          ],
          [
           "Systems Biology and Biotechnology"
          ],
          [
           "TESOL Certificate, Part 1: Teach English Now!"
          ],
          [
           "TESOL Certificate, Part 2: Teach English Now!"
          ],
          [
           "TensorFlow in Practice"
          ],
          [
           "TensorFlow: Data and Deployment"
          ],
          [
           "The Art of Sales: Mastering the Selling Process"
          ],
          [
           "The Business of Health Care"
          ],
          [
           "The Business of Music Production"
          ],
          [
           "The DIY Musician"
          ],
          [
           "The Pronunciation of American English"
          ],
          [
           "The Singer Songwriter"
          ],
          [
           "The Teacher and Social and Emotional Learning (SEL)"
          ],
          [
           "Trading Strategies in Emerging Markets"
          ],
          [
           "U.S. Federal Taxation"
          ],
          [
           "UI / UX Design"
          ],
          [
           "Understanding Modern Finance"
          ],
          [
           "Unity Certified Programmer Exam Preparation"
          ],
          [
           "Unity XR: How to Build AR and VR Apps"
          ],
          [
           "User Experience Research and Design"
          ],
          [
           "User Interface Design"
          ],
          [
           "Value Chain Management"
          ],
          [
           "Virtual Reality"
          ],
          [
           "Virtual Teacher"
          ],
          [
           "Web Applications for Everybody"
          ],
          [
           "Web Design for Everybody: Basics of Web Development & Coding"
          ],
          [
           "iOS App Development with Swift"
          ],
          [
           "Éxito Profesional"
          ],
          [
           "Искусство ведения бизнеса"
          ],
          [
           "Искусство разработки на современном C++"
          ],
          [
           "Корпоративные финансы и стоимость компании"
          ],
          [
           "Машинное обучение и анализ данных"
          ],
          [
           "Основы Digital Маркетинга"
          ],
          [
           "Программирование на Python"
          ],
          [
           "Разработка интерфейсов: вёрстка и JavaScript"
          ],
          [
           "Русский как иностранный"
          ],
          [
           "Финансовые инструменты для частного инвестора"
          ]
         ],
         "hovertemplate": "certificate_type=SPECIALIZATION<br>Rating=%{x}<br>Enrollments=%{marker.size}<br>title=%{customdata[0]}<extra></extra>",
         "legendgroup": "SPECIALIZATION",
         "marker": {
          "color": "#636efa",
          "size": [
           5300,
           61000,
           13000,
           130000,
           540000,
           22000,
           110000,
           78000,
           320000,
           190000,
           35000,
           94000,
           150000,
           14000,
           270000,
           7900,
           30000,
           120000,
           220000,
           480000,
           6600,
           4200,
           310000,
           3900,
           7300,
           9200,
           28000,
           4200,
           8800,
           14000,
           68000,
           21000,
           1600,
           26000,
           280000,
           38000,
           120000,
           510000,
           110000,
           24000,
           89000,
           67000,
           160000,
           36000,
           790000,
           57000,
           51000,
           4800,
           110000,
           37000,
           15000,
           350000,
           5800,
           27000,
           66000,
           61000,
           27000,
           140000,
           150000,
           17000,
           99000,
           23000,
           100000,
           220000,
           3000,
           120000,
           140000,
           830000,
           740000,
           210000,
           96000,
           140000,
           690000,
           16000,
           300000,
           4000,
           8000,
           54000,
           9000,
           37000,
           380000,
           140000,
           4000,
           110000,
           110000,
           17000,
           37000,
           42000,
           7900,
           110000,
           69000,
           6400,
           31000,
           1800,
           54000,
           13000,
           240000,
           490000,
           56000,
           170000,
           13000,
           260000,
           76000,
           60000,
           12000,
           6500,
           30000,
           20000,
           14000,
           31000,
           64000,
           27000,
           89000,
           3200,
           26000,
           150000,
           140000,
           220000,
           39000,
           200000,
           20000,
           25000,
           56000,
           4900,
           9400,
           10000,
           140000,
           100000,
           80000,
           97000,
           44000,
           3800,
           10000,
           43000,
           8100,
           5400,
           1700,
           36000,
           5500,
           5500,
           28000,
           34000,
           98000,
           3500,
           35000,
           23000,
           2200,
           610000,
           18000,
           1600,
           22000,
           10000,
           16000,
           25000,
           72000,
           97000,
           14000,
           8700,
           150000,
           22000,
           26000,
           66000,
           32000,
           32000,
           310000,
           75000,
           82000,
           49000,
           4500,
           99000,
           14000,
           49000,
           380000,
           6300,
           17000,
           220000,
           16000,
           43000,
           22000,
           78000,
           52000,
           120000,
           39000,
           160000,
           80000,
           23000,
           290000,
           29000,
           15000,
           72000,
           55000,
           23000,
           22000,
           39000,
           93000,
           57000,
           60000,
           52000,
           12000,
           150000,
           4800,
           13000,
           260000,
           14000,
           21000,
           42000,
           70000,
           22000,
           290000,
           5300,
           250000,
           330000,
           13000,
           6200,
           92000,
           3200,
           9100,
           30000,
           8800,
           160000,
           83000,
           67000,
           10000,
           47000,
           20000,
           18000,
           440000,
           230000,
           1500000,
           29000,
           23000,
           7200,
           170000,
           120000,
           7000,
           5600,
           16000,
           9100,
           6400,
           300000,
           39000,
           18000,
           13000,
           130000,
           4200,
           60000,
           34000,
           110000,
           12000,
           16000,
           34000,
           220000,
           60000,
           100000,
           68000,
           9200,
           30000,
           4900,
           82000,
           45000,
           3900,
           48000,
           100000,
           62000,
           170000,
           12000,
           23000,
           22000,
           84000,
           120000,
           1700,
           320000,
           5200,
           68000,
           12000,
           68000,
           11000,
           6100,
           12000,
           23000,
           43000,
           63000,
           37000,
           23000,
           120000,
           280000,
           76000,
           69000,
           14000,
           68000,
           16000,
           77000,
           19000,
           52000,
           30000,
           9800,
           38000
          ],
          "sizemode": "area",
          "sizeref": 8000,
          "symbol": "circle"
         },
         "mode": "markers",
         "name": "SPECIALIZATION",
         "orientation": "v",
         "showlegend": true,
         "type": "scatter",
         "x": [
          4.7,
          4.7,
          4.7,
          4.6,
          4.7,
          4.7,
          4.7,
          4.5,
          4.4,
          4.5,
          4.5,
          4.7,
          4.8,
          4.8,
          4.6,
          4.6,
          4.8,
          4.5,
          4.6,
          4.5,
          4.2,
          4.5,
          4.7,
          4.5,
          4.8,
          4.8,
          4.7,
          4.7,
          4.5,
          4.8,
          4.6,
          4.7,
          4.6,
          4.6,
          4.6,
          4.7,
          4.7,
          4.7,
          4.7,
          4.7,
          4.7,
          4.5,
          4.5,
          4.7,
          4.4,
          4.7,
          4.8,
          4.6,
          4.4,
          4.7,
          4.7,
          4.7,
          4.6,
          4.6,
          4.3,
          4.7,
          4.5,
          4.6,
          4.7,
          4.6,
          4.5,
          4.6,
          4.4,
          4.6,
          4.4,
          4.6,
          4.4,
          4.5,
          4.6,
          4.4,
          4.5,
          4.5,
          4.8,
          4.6,
          4.7,
          4.8,
          4.6,
          4.8,
          4.4,
          4.6,
          4.6,
          4.7,
          4.6,
          4.7,
          4.8,
          4.6,
          4.7,
          4.6,
          4.5,
          4.8,
          4.6,
          4.7,
          4.7,
          4.5,
          4.6,
          4.8,
          4.9,
          4.6,
          4.8,
          4.5,
          4.6,
          4.5,
          4.7,
          4.5,
          4.8,
          4.7,
          4.6,
          4.6,
          4.8,
          4.7,
          4.8,
          4.2,
          4.8,
          4.8,
          4.6,
          4.7,
          4.7,
          4.7,
          4.6,
          4.8,
          4.7,
          4.6,
          4.6,
          4.6,
          4.8,
          4.7,
          4.8,
          4.7,
          4.4,
          4.8,
          4.8,
          4.6,
          4.7,
          4.7,
          4.5,
          4.5,
          4.7,
          4.4,
          4.6,
          4.7,
          4.6,
          4.1,
          4.7,
          4.4,
          4.5,
          4.7,
          4.6,
          4.7,
          4.4,
          5,
          4.8,
          4.6,
          4.7,
          4.8,
          4.5,
          4.7,
          4.8,
          4.8,
          4.5,
          4.5,
          4.6,
          4.6,
          4.3,
          4.7,
          4.6,
          4.4,
          4.7,
          4.7,
          4.9,
          4.7,
          4.6,
          4.5,
          4.6,
          4.6,
          4.7,
          4.7,
          4.8,
          4.8,
          4.3,
          4.5,
          4.8,
          4.7,
          4.8,
          4.6,
          4.6,
          4.8,
          4.6,
          3.7,
          3.9,
          4.5,
          4.7,
          4.7,
          4.5,
          4.7,
          4.6,
          4.4,
          4.4,
          4.3,
          4.5,
          4.6,
          4.8,
          4.3,
          4.6,
          4.8,
          4.7,
          4.8,
          4.8,
          4.7,
          4.7,
          4.8,
          4.7,
          4.6,
          4.4,
          4.2,
          4.7,
          4.8,
          4.6,
          4.5,
          4.8,
          4.7,
          4.7,
          4.8,
          4.7,
          4.6,
          4.8,
          4.6,
          4.6,
          4.7,
          4.8,
          4.3,
          4.7,
          4.6,
          4.5,
          4.4,
          4.7,
          4.4,
          4.7,
          4.8,
          4.4,
          4.7,
          4.7,
          4.7,
          4.6,
          4.6,
          4.8,
          4.6,
          4.6,
          4.6,
          4.8,
          4.7,
          4.6,
          4.7,
          4.3,
          4.7,
          4.7,
          4.5,
          4.8,
          4.6,
          4.7,
          4.3,
          4.5,
          4.4,
          4.9,
          4.9,
          4.7,
          4.5,
          4.7,
          4.6,
          4.8,
          4.8,
          4.6,
          4.8,
          4.7,
          4.3,
          4.8,
          4.7,
          4.4,
          4.5,
          4.2,
          4.8,
          4.6,
          4.7,
          4.7,
          4.3,
          4.8,
          4.7,
          3.9,
          4.5,
          4.6,
          4.9,
          4.5,
          4.7,
          4.5,
          4.5,
          4.5,
          4.6,
          4.7
         ],
         "xaxis": "x",
         "y": [
          5300,
          61000,
          13000,
          130000,
          540000,
          22000,
          110000,
          78000,
          320000,
          190000,
          35000,
          94000,
          150000,
          14000,
          270000,
          7900,
          30000,
          120000,
          220000,
          480000,
          6600,
          4200,
          310000,
          3900,
          7300,
          9200,
          28000,
          4200,
          8800,
          14000,
          68000,
          21000,
          1600,
          26000,
          280000,
          38000,
          120000,
          510000,
          110000,
          24000,
          89000,
          67000,
          160000,
          36000,
          790000,
          57000,
          51000,
          4800,
          110000,
          37000,
          15000,
          350000,
          5800,
          27000,
          66000,
          61000,
          27000,
          140000,
          150000,
          17000,
          99000,
          23000,
          100000,
          220000,
          3000,
          120000,
          140000,
          830000,
          740000,
          210000,
          96000,
          140000,
          690000,
          16000,
          300000,
          4000,
          8000,
          54000,
          9000,
          37000,
          380000,
          140000,
          4000,
          110000,
          110000,
          17000,
          37000,
          42000,
          7900,
          110000,
          69000,
          6400,
          31000,
          1800,
          54000,
          13000,
          240000,
          490000,
          56000,
          170000,
          13000,
          260000,
          76000,
          60000,
          12000,
          6500,
          30000,
          20000,
          14000,
          31000,
          64000,
          27000,
          89000,
          3200,
          26000,
          150000,
          140000,
          220000,
          39000,
          200000,
          20000,
          25000,
          56000,
          4900,
          9400,
          10000,
          140000,
          100000,
          80000,
          97000,
          44000,
          3800,
          10000,
          43000,
          8100,
          5400,
          1700,
          36000,
          5500,
          5500,
          28000,
          34000,
          98000,
          3500,
          35000,
          23000,
          2200,
          610000,
          18000,
          1600,
          22000,
          10000,
          16000,
          25000,
          72000,
          97000,
          14000,
          8700,
          150000,
          22000,
          26000,
          66000,
          32000,
          32000,
          310000,
          75000,
          82000,
          49000,
          4500,
          99000,
          14000,
          49000,
          380000,
          6300,
          17000,
          220000,
          16000,
          43000,
          22000,
          78000,
          52000,
          120000,
          39000,
          160000,
          80000,
          23000,
          290000,
          29000,
          15000,
          72000,
          55000,
          23000,
          22000,
          39000,
          93000,
          57000,
          60000,
          52000,
          12000,
          150000,
          4800,
          13000,
          260000,
          14000,
          21000,
          42000,
          70000,
          22000,
          290000,
          5300,
          250000,
          330000,
          13000,
          6200,
          92000,
          3200,
          9100,
          30000,
          8800,
          160000,
          83000,
          67000,
          10000,
          47000,
          20000,
          18000,
          440000,
          230000,
          1500000,
          29000,
          23000,
          7200,
          170000,
          120000,
          7000,
          5600,
          16000,
          9100,
          6400,
          300000,
          39000,
          18000,
          13000,
          130000,
          4200,
          60000,
          34000,
          110000,
          12000,
          16000,
          34000,
          220000,
          60000,
          100000,
          68000,
          9200,
          30000,
          4900,
          82000,
          45000,
          3900,
          48000,
          100000,
          62000,
          170000,
          12000,
          23000,
          22000,
          84000,
          120000,
          1700,
          320000,
          5200,
          68000,
          12000,
          68000,
          11000,
          6100,
          12000,
          23000,
          43000,
          63000,
          37000,
          23000,
          120000,
          280000,
          76000,
          69000,
          14000,
          68000,
          16000,
          77000,
          19000,
          52000,
          30000,
          9800,
          38000
         ],
         "yaxis": "y"
        },
        {
         "customdata": [
          [
           "A Crash Course in Causality:  Inferring Causal Effects from Observational Data"
          ],
          [
           "A Crash Course in Data Science"
          ],
          [
           "A Law Student's Toolkit"
          ],
          [
           "A Life of Happiness and Fulfillment"
          ],
          [
           "ADHD: Everyday Strategies for Elementary Students"
          ],
          [
           "AI For Everyone"
          ],
          [
           "AI For Medical Treatment"
          ],
          [
           "AI for Medical Diagnosis"
          ],
          [
           "AI for Medical Prognosis"
          ],
          [
           "AWS Fundamentals: Addressing Security Risk"
          ],
          [
           "AWS Fundamentals: Building Serverless Applications"
          ],
          [
           "AWS Fundamentals: Going Cloud-Native"
          ],
          [
           "AWS Fundamentals: Migrating to the Cloud"
          ],
          [
           "Aboriginal Worldviews and Education"
          ],
          [
           "Access Controls"
          ],
          [
           "Accounting Analytics"
          ],
          [
           "Accounting for Decision Making"
          ],
          [
           "Actualización en el manejo del paciente con diabetes mellitus tipo 2"
          ],
          [
           "Addiction Treatment: Clinical Skills for Healthcare Providers"
          ],
          [
           "Advanced Valuation and Strategy - M&A, Private Equity, and Venture Capital"
          ],
          [
           "Advertising and Society"
          ],
          [
           "Age of Cathedrals"
          ],
          [
           "Agile Meets Design Thinking"
          ],
          [
           "Agile with Atlassian Jira"
          ],
          [
           "Agile и Scrum в работе над проектами и продуктами"
          ],
          [
           "Algorithmic Toolbox"
          ],
          [
           "American Contract Law I"
          ],
          [
           "An Introduction to American Law"
          ],
          [
           "An Introduction to Consumer Neuroscience & Neuromarketing"
          ],
          [
           "Anatomy of the Chest, Abdomen, and Pelvis"
          ],
          [
           "Anatomy: Musculoskeletal and Integumentary Systems"
          ],
          [
           "Ancient Philosophy: Aristotle and His Successors"
          ],
          [
           "Animal Behaviour and Welfare"
          ],
          [
           "Antibiotic Stewardship"
          ],
          [
           "Anticorrupción: Introducción a conceptos y perspectiva práctica"
          ],
          [
           "Antimicrobial resistance - theory and methods"
          ],
          [
           "Applied Data Science Capstone"
          ],
          [
           "Applied Machine Learning in Python"
          ],
          [
           "Applied Plotting, Charting & Data Representation in Python"
          ],
          [
           "Aprender"
          ],
          [
           "Aprendiendo a aprender: Poderosas herramientas mentales con las que podrás dominar temas difíciles (Learning How to Learn)"
          ],
          [
           "Art & Activity: Interactive Strategies for Engaging with Art"
          ],
          [
           "Art & Ideas: Teaching with Themes"
          ],
          [
           "Arts and Culture Strategy"
          ],
          [
           "Arts and Heritage Management"
          ],
          [
           "Aspectos básicos de la planificación y la gestión de proyectos"
          ],
          [
           "Astrobiology and the Search for Extraterrestrial Life"
          ],
          [
           "Atención Primaria en Salud: El desafío de las Enfermedades no Transmisibles"
          ],
          [
           "Autism Spectrum Disorder"
          ],
          [
           "Autodesk Certified Professional: AutoCAD for Design and Drafting Exam Prep"
          ],
          [
           "Autodesk Certified Professional: Revit for Architectural Design Exam Prep"
          ],
          [
           "BIM Fundamentals for Engineers"
          ],
          [
           "Basic Statistics"
          ],
          [
           "Bayesian Statistics: From Concept to Data Analysis"
          ],
          [
           "Bayesian Statistics: Techniques and Models"
          ],
          [
           "Become a CBRS Certified Professional Installer by Google"
          ],
          [
           "Becoming a Sports Agent"
          ],
          [
           "Becoming a changemaker: Introduction to Social Innovation"
          ],
          [
           "Behavioral Finance"
          ],
          [
           "Beyond the Sustainable Development Goals (SDGs): Addressing Sustainability and Development"
          ],
          [
           "Biohacking Your Brain's Health"
          ],
          [
           "Biology Meets Programming: Bioinformatics for Beginners"
          ],
          [
           "Blended Language Learning: Design and Practice for Teachers"
          ],
          [
           "Blockchain: Foundations and Use Cases"
          ],
          [
           "Boosting Creativity for Innovation"
          ],
          [
           "Brand Management: Aligning Business, Brand and Behaviour"
          ],
          [
           "Budgeting and Scheduling Projects"
          ],
          [
           "Bugs 101: Insect-Human Interactions"
          ],
          [
           "Build a Modern Computer from First Principles: From Nand to Tetris (Project-Centered Course)"
          ],
          [
           "Building Batch Data Pipelines on GCP"
          ],
          [
           "Building Conversational Experiences with Dialogflow"
          ],
          [
           "Building Resilient Streaming Analytics Systems on GCP"
          ],
          [
           "Building Scalable Java Microservices with Spring Boot and Spring Cloud"
          ],
          [
           "Building Your Leadership Skills"
          ],
          [
           "Business English: Networking"
          ],
          [
           "Business Model Innovation"
          ],
          [
           "Business Transformation with Google Cloud"
          ],
          [
           "Business Writing"
          ],
          [
           "C for Everyone: Programming Fundamentals"
          ],
          [
           "COVID-19 Contact Tracing"
          ],
          [
           "COVID-19: What You Need to Know (CME Eligible)"
          ],
          [
           "Cameras, Exposure, and Photography"
          ],
          [
           "Camino a la Excelencia en Gestión de Proyectos"
          ],
          [
           "Capstone: Retrieving, Processing, and Visualizing Data with Python"
          ],
          [
           "Challenging Forensic Science: How Science Should Speak to Court"
          ],
          [
           "Chemicals and Health"
          ],
          [
           "Chicken Behaviour and Welfare"
          ],
          [
           "Child Nutrition and Cooking"
          ],
          [
           "Chinese for HSK 1"
          ],
          [
           "Classical Sociological Theory"
          ],
          [
           "Clinical Terminology for International and U.S. Students"
          ],
          [
           "Cloud Computing Basics (Cloud 101)"
          ],
          [
           "Code Yourself! An Introduction to Programming"
          ],
          [
           "Communication Strategies for a Virtual Age"
          ],
          [
           "Compassionate Leadership Through Service Learning with Jane Goodall and Roots & Shoots"
          ],
          [
           "Competencias digitales. Herramientas de ofimática (Microsoft Word, Excel, Power Point)"
          ],
          [
           "Computational Thinking for Problem Solving"
          ],
          [
           "Construction Cost Estimating and Cost Control"
          ],
          [
           "Construction Project Management"
          ],
          [
           "Construction Scheduling"
          ],
          [
           "Contabilidad para no contadores"
          ],
          [
           "Continuous Delivery & DevOps"
          ],
          [
           "Control of Mobile Robots"
          ],
          [
           "Convolutional Neural Networks"
          ],
          [
           "Convolutional Neural Networks in TensorFlow"
          ],
          [
           "Corporate & Commercial Law I: Contracts & Employment Law"
          ],
          [
           "Corporate Finance Essentials"
          ],
          [
           "Corporate Strategy"
          ],
          [
           "Corporate Sustainability. Understanding and Seizing the Strategic Opportunity"
          ],
          [
           "Corrección, estilo y  variaciones de la lengua española"
          ],
          [
           "Cost and Economics in Pricing Strategy"
          ],
          [
           "Costos para los Negocios"
          ],
          [
           "Crash Course on Python"
          ],
          [
           "Creative Problem Solving"
          ],
          [
           "Creative Writing: The Craft of Plot"
          ],
          [
           "Cuidado de heridas en el ámbito hospitalario"
          ],
          [
           "Cuidados y procedimientos generales en la atención del recién nacido"
          ],
          [
           "Curanderismo: Traditional Healing Using Plants"
          ],
          [
           "Customer Segmentation and Prospecting"
          ],
          [
           "Cybersecurity and Its Ten Domains"
          ],
          [
           "Cómo hablar bien en público"
          ],
          [
           "Dairy Production and Management"
          ],
          [
           "Data Analysis with Python"
          ],
          [
           "Data Analytics for Lean Six Sigma"
          ],
          [
           "Data Collection and Processing with Python"
          ],
          [
           "Data Management for Clinical Research"
          ],
          [
           "Data Science Math Skills"
          ],
          [
           "Data Science Methodology"
          ],
          [
           "Data Visualization and Communication with Tableau"
          ],
          [
           "Data Visualization with Advanced Excel"
          ],
          [
           "Data Visualization with Python"
          ],
          [
           "Data and Health Indicators in Public Health Practice"
          ],
          [
           "Data-driven Decision Making"
          ],
          [
           "Databases and SQL for Data Science"
          ],
          [
           "De-Mystifying Mindfulness"
          ],
          [
           "Decision-Making and Scenarios"
          ],
          [
           "Democracia y decisiones públicas. Introducción al análisis de políticas públicas"
          ],
          [
           "Dentistry 101"
          ],
          [
           "Dermatology: Trip to skin"
          ],
          [
           "Design Thinking for Innovation"
          ],
          [
           "Design Thinking for the Greater Good: Innovation in the Social Sector"
          ],
          [
           "Design and Interpretation of Clinical Trials"
          ],
          [
           "Design and Make Infographics (Project-Centered Course)"
          ],
          [
           "Design-Led Strategy: Design thinking for business strategy and entrepreneurship"
          ],
          [
           "Developing Your Musicianship"
          ],
          [
           "Devenir entrepreneur du changement"
          ],
          [
           "Digital Business Models"
          ],
          [
           "Digital Media and Marketing Strategies"
          ],
          [
           "Digital Product Management: Modern Fundamentals"
          ],
          [
           "Dino 101: Dinosaur Paleobiology"
          ],
          [
           "Discrete Optimization"
          ],
          [
           "Diseño y Creación de un Emprendimiento Social"
          ],
          [
           "Divide and Conquer, Sorting and Searching, and Randomized Algorithms"
          ],
          [
           "Dog Emotion and Cognition"
          ],
          [
           "Driving business towards the Sustainable Development Goals"
          ],
          [
           "Drug Commercialization"
          ],
          [
           "Drug Discovery"
          ],
          [
           "EMT Foundations"
          ],
          [
           "Ecology: Ecosystem Dynamics and Conservation"
          ],
          [
           "Econometrics: Methods and Applications"
          ],
          [
           "Economics of Money and Banking"
          ],
          [
           "Ecosystem Services: a Method for Sustainable Development"
          ],
          [
           "Effective Compliance Programs"
          ],
          [
           "Egiptología (Egyptology)"
          ],
          [
           "El Abogado del Futuro: Legaltech y la Transformación Digital del Derecho"
          ],
          [
           "Elastic Google Cloud Infrastructure: Scaling and Automation"
          ],
          [
           "Electric Industry Operations and Markets"
          ],
          [
           "Engineering Health: Introduction to Yoga and Physiology"
          ],
          [
           "Engineering Project Management: Initiating and Planning"
          ],
          [
           "English Composition I"
          ],
          [
           "English for Business and Entrepreneurship"
          ],
          [
           "English for Career Development"
          ],
          [
           "English for Journalism"
          ],
          [
           "English for Science, Technology, Engineering, and Mathematics"
          ],
          [
           "Enterprise Architecture"
          ],
          [
           "Entrepreneurship 1: Developing the Opportunity"
          ],
          [
           "Entrepreneurship 2: Launching your Start-Up"
          ],
          [
           "Entrepreneurship 3: Growth Strategies"
          ],
          [
           "Entrepreneurship Strategy: From Ideation to Exit"
          ],
          [
           "Epidemics - the Dynamics of Infectious Diseases"
          ],
          [
           "Epidemics, Pandemics and Outbreaks"
          ],
          [
           "Epidemiology: The Basic Science of Public Health"
          ],
          [
           "Epigenetic Control of Gene Expression"
          ],
          [
           "Equine Welfare and Management"
          ],
          [
           "Essential Epidemiologic Tools for Public Health Practice"
          ],
          [
           "Essential Google Cloud Infrastructure: Core Services"
          ],
          [
           "Essential Google Cloud Infrastructure: Foundation"
          ],
          [
           "Essentials in Clinical Simulations Across the Health Professions"
          ],
          [
           "Essentials of Global Health"
          ],
          [
           "Estadística y probabilidad"
          ],
          [
           "Everyday Excel, Part 1"
          ],
          [
           "Everyday Parenting: The ABCs of Child Rearing"
          ],
          [
           "Excel Skills for Business: Advanced"
          ],
          [
           "Excel Skills for Business: Essentials"
          ],
          [
           "Excel Skills for Business: Intermediate I"
          ],
          [
           "Excel Skills for Business: Intermediate II"
          ],
          [
           "Excel/VBA for Creative Problem Solving, Part 1"
          ],
          [
           "Explorando la Energía Sustentable"
          ],
          [
           "Fashion as Design"
          ],
          [
           "Feminism and Social Justice"
          ],
          [
           "FinTech Law and Policy"
          ],
          [
           "FinTech: Foundations, Payments, and Regulations"
          ],
          [
           "Finance for Non-Finance Professionals"
          ],
          [
           "Finance for Non-Financial Managers"
          ],
          [
           "Financial Accounting Fundamentals"
          ],
          [
           "Financial Acumen for Non-Financial Managers"
          ],
          [
           "Financial Engineering and Risk Management Part I"
          ],
          [
           "Financial Markets"
          ],
          [
           "Financing and Investing in Infrastructure"
          ],
          [
           "Finanzas personales"
          ],
          [
           "Finding Purpose and Meaning In Life: Living for What Matters Most"
          ],
          [
           "First Step Korean"
          ],
          [
           "Food & Beverage Management"
          ],
          [
           "Forensic Accounting and Fraud Examination"
          ],
          [
           "Formulación y evaluación de proyectos complejos"
          ],
          [
           "Foundations of Business Strategy"
          ],
          [
           "Foundations of Everyday Leadership"
          ],
          [
           "From the Big Bang to Dark Energy"
          ],
          [
           "Front-End Web Development with React"
          ],
          [
           "Front-End Web UI Frameworks and Tools: Bootstrap 4"
          ],
          [
           "Functional Programming Principles in Scala"
          ],
          [
           "Fundamental Neuroscience for Neuroimaging"
          ],
          [
           "Fundamentals of Engineering Exam Review"
          ],
          [
           "Fundamentals of GIS"
          ],
          [
           "Fundamentals of Graphic Design"
          ],
          [
           "Fundamentals of Immunology: Innate Immunity and B-Cell Function"
          ],
          [
           "Fundamentals of Music Theory"
          ],
          [
           "Fundamentals of Project Planning and Management"
          ],
          [
           "Fundamentals of Quantitative Modeling"
          ],
          [
           "Fundamentals of Reinforcement Learning"
          ],
          [
           "Fundamentals of Visualization with Tableau"
          ],
          [
           "Fundamentos de Excel para Negocios"
          ],
          [
           "Fundamentos de Finanzas Empresariales"
          ],
          [
           "Fundamentos de la escritura"
          ],
          [
           "Game Theory"
          ],
          [
           "Gamification"
          ],
          [
           "Gender and Sexuality: Diversity and Inclusion in the Workplace"
          ],
          [
           "Geopolitics of Europe"
          ],
          [
           "Geopolítica y gobernanza global: riesgos y oportunidades"
          ],
          [
           "Gestión de organizaciones efectivas"
          ],
          [
           "Get Interactive: Practical Teaching with Technology"
          ],
          [
           "Getting Started With Music Theory"
          ],
          [
           "Getting Started with AWS Machine Learning"
          ],
          [
           "Getting Started with Go"
          ],
          [
           "Getting Started with Google Kubernetes Engine"
          ],
          [
           "Getting Started with Google Sheets"
          ],
          [
           "Getting Started with SAS Programming"
          ],
          [
           "Global Diplomacy – Diplomacy in the Modern World"
          ],
          [
           "Global Diplomacy: the United Nations in the World"
          ],
          [
           "Global Energy and Climate Policy"
          ],
          [
           "Global Environmental Management"
          ],
          [
           "Global Financial Markets and Instruments"
          ],
          [
           "Global Financing Solutions  (by EDHEC and Société Générale)"
          ],
          [
           "Global Trends for Business and Society"
          ],
          [
           "Google Cloud Platform Big Data and Machine Learning Fundamentals"
          ],
          [
           "Google Cloud Platform Fundamentals for AWS Professionals"
          ],
          [
           "Grammar and Punctuation"
          ],
          [
           "Greek and Roman Mythology"
          ],
          [
           "Greening the Economy: Sustainable Cities"
          ],
          [
           "Guitar for Beginners"
          ],
          [
           "Gut Check: Exploring Your Microbiome"
          ],
          [
           "HTML, CSS, and Javascript for Web Developers"
          ],
          [
           "Hacia una práctica constructivista en el aula"
          ],
          [
           "Hardware Description Languages for FPGA Design"
          ],
          [
           "Healing with the Arts"
          ],
          [
           "High Performance Collaboration: Leadership, Teamwork, and Negotiation"
          ],
          [
           "How Things Work: An Introduction to Physics"
          ],
          [
           "How To Create a Website in a Weekend! (Project-Centered Course)"
          ],
          [
           "IBM Customer Engagement Specialist Professional Certificate"
          ],
          [
           "IT Security: Defense against the digital dark arts"
          ],
          [
           "Identifying, Monitoring, and Analyzing Risk and Incident Response and Recovery"
          ],
          [
           "Improving Deep Neural Networks: Hyperparameter tuning, Regularization and Optimization"
          ],
          [
           "In the Studio: Postwar Abstract Painting"
          ],
          [
           "Indigenous Canada"
          ],
          [
           "Industrial IoT on Google Cloud Platform"
          ],
          [
           "Influencer Marketing Strategy"
          ],
          [
           "Information Security: Context and Introduction"
          ],
          [
           "Initiating and Planning Projects"
          ],
          [
           "Innovation Management"
          ],
          [
           "Innovation Through Design: Think, Make, Break, Repeat"
          ],
          [
           "Inspiring and Motivating Individuals"
          ],
          [
           "Instructional Design Foundations and Applications"
          ],
          [
           "Instructional Methods in Health Professions Education"
          ],
          [
           "Intercultural Management"
          ],
          [
           "International Cyber Conflicts"
          ],
          [
           "International Humanitarian Law in Theory and Practice"
          ],
          [
           "International Law in Action: A Guide to the International Courts and Tribunals in The Hague"
          ],
          [
           "International Law in Action: the Arbitration of International Disputes"
          ],
          [
           "International Leadership and Organizational Behavior"
          ],
          [
           "International Organizations Management"
          ],
          [
           "International Security Management"
          ],
          [
           "International Women's Health and Human Rights"
          ],
          [
           "International migrations: a global issue"
          ],
          [
           "Internet Connection: How to Get Online?"
          ],
          [
           "Internet Giants: The Law and Economics of Media Platforms"
          ],
          [
           "Introducción a Data Science: Programación Estadística con R"
          ],
          [
           "Introducción a la programación en Python I: Aprendiendo a programar con Python"
          ],
          [
           "Introduction aux Droits de l’Homme"
          ],
          [
           "Introduction to Ableton Live"
          ],
          [
           "Introduction to Artificial Intelligence (AI)"
          ],
          [
           "Introduction to Big Data"
          ],
          [
           "Introduction to Blockchain Technologies"
          ],
          [
           "Introduction to Breast Cancer"
          ],
          [
           "Introduction to Business Analytics: Communicating with Data"
          ],
          [
           "Introduction to CSS3"
          ],
          [
           "Introduction to Calculus"
          ],
          [
           "Introduction to Chemistry:  Reactions and Ratios"
          ],
          [
           "Introduction to Classical Music"
          ],
          [
           "Introduction to Cloud Computing"
          ],
          [
           "Introduction to Computer Programming"
          ],
          [
           "Introduction to Corporate Finance"
          ],
          [
           "Introduction to Cyber Attacks"
          ],
          [
           "Introduction to Cybersecurity Tools & Cyber Attacks"
          ],
          [
           "Introduction to Data Analysis Using Excel"
          ],
          [
           "Introduction to Data Science in Python"
          ],
          [
           "Introduction to Dental Medicine"
          ],
          [
           "Introduction to Electronics"
          ],
          [
           "Introduction to Embedded Systems Software and Development Environments"
          ],
          [
           "Introduction to Engineering Mechanics"
          ],
          [
           "Introduction to Environmental Law and Policy"
          ],
          [
           "Introduction to Financial Accounting"
          ],
          [
           "Introduction to Forensic Science"
          ],
          [
           "Introduction to Game Development"
          ],
          [
           "Introduction to Genetics and Evolution"
          ],
          [
           "Introduction to Genomic Technologies"
          ],
          [
           "Introduction to HTML5"
          ],
          [
           "Introduction to Imagemaking"
          ],
          [
           "Introduction to Intellectual Property"
          ],
          [
           "Introduction to International Criminal Law"
          ],
          [
           "Introduction to Marketing"
          ],
          [
           "Introduction to Mathematical Thinking"
          ],
          [
           "Introduction to Operations Management"
          ],
          [
           "Introduction to Personal Branding"
          ],
          [
           "Introduction to Philosophy"
          ],
          [
           "Introduction to Portfolio Construction and Analysis with Python"
          ],
          [
           "Introduction to Probability and Data"
          ],
          [
           "Introduction to Programming with MATLAB"
          ],
          [
           "Introduction to Psychology"
          ],
          [
           "Introduction to Self-Driving Cars"
          ],
          [
           "Introduction to Spreadsheets and Models"
          ],
          [
           "Introduction to Statistics & Data Analysis in Public Health"
          ],
          [
           "Introduction to Sustainability"
          ],
          [
           "Introduction to Systematic Review and Meta-Analysis"
          ],
          [
           "Introduction to Systems Engineering"
          ],
          [
           "Introduction to TensorFlow for Artificial Intelligence, Machine Learning, and Deep Learning"
          ],
          [
           "Introduction to Thermodynamics: Transferring Energy from Here to There"
          ],
          [
           "Introduction to Trading, Machine Learning & GCP"
          ],
          [
           "Introduction to Typography"
          ],
          [
           "Introduction to User Experience Design"
          ],
          [
           "Introduction to User Experience Principles and Processes"
          ],
          [
           "Introduction to Web Development"
          ],
          [
           "Introduction to the Biology of Cancer"
          ],
          [
           "Introductory Human Physiology"
          ],
          [
           "Introdução à Ciência da Computação com Python Parte 1"
          ],
          [
           "Japanese for beginners 1"
          ],
          [
           "Java Programming: Solving Problems with Software"
          ],
          [
           "Julia Scientific Programming"
          ],
          [
           "Kotlin for Java Developers"
          ],
          [
           "L'excellence opérationnelle en pratique"
          ],
          [
           "Leadership in 21st Century Organizations"
          ],
          [
           "Leading Healthcare Quality and Safety"
          ],
          [
           "Leading for Equity, Diversity and Inclusion in Higher Education"
          ],
          [
           "Learn to Program: The Fundamentals"
          ],
          [
           "Learn to Speak Korean 1"
          ],
          [
           "Learning to Teach Online"
          ],
          [
           "Legal Tech & Startups"
          ],
          [
           "Les Fondamentaux de la Négociation"
          ],
          [
           "Linear Circuits 1: DC Analysis"
          ],
          [
           "Love as a Force for Social Justice"
          ],
          [
           "Machine Learning"
          ],
          [
           "Machine Learning Foundations: A Case Study Approach"
          ],
          [
           "Machine Learning for All"
          ],
          [
           "Machine Learning for Business Professionals"
          ],
          [
           "Machine Learning with Python"
          ],
          [
           "Magic in the Middle Ages"
          ],
          [
           "Making Architecture"
          ],
          [
           "Management of Fashion and Luxury Companies"
          ],
          [
           "Managerial Accounting Fundamentals"
          ],
          [
           "Managing Project Risks and Changes"
          ],
          [
           "Managing Social and Human Capital"
          ],
          [
           "Managing Your Health: The Role of Physical Therapy and Exercise"
          ],
          [
           "Marketing Digital"
          ],
          [
           "Marketing Gerencial"
          ],
          [
           "Marketing Verde"
          ],
          [
           "Marketing in a Digital World"
          ],
          [
           "Mastering Data Analysis in Excel"
          ],
          [
           "Mastering Final Cut Pro"
          ],
          [
           "Materials Science: 10 Things Every Engineer Should Know"
          ],
          [
           "Mathematics for Machine Learning: Linear Algebra"
          ],
          [
           "Mathematics for Machine Learning: Multivariate Calculus"
          ],
          [
           "Mathematics for Machine Learning: PCA"
          ],
          [
           "Medical Neuroscience"
          ],
          [
           "Microeconomics Principles"
          ],
          [
           "Microeconomics: The Power of Markets"
          ],
          [
           "Mindshift: Break Through Obstacles to Learning and Discover Your Hidden Potential"
          ],
          [
           "Miracles of Human Language: An Introduction to Linguistics"
          ],
          [
           "Model Thinking"
          ],
          [
           "Modeling Risk and Realities"
          ],
          [
           "Modern Art & Ideas"
          ],
          [
           "Modernizing Data Lakes and Data Warehouses with GCP"
          ],
          [
           "Moral Foundations of Politics"
          ],
          [
           "More Introduction to Financial Accounting"
          ],
          [
           "Mountains 101"
          ],
          [
           "Municipal Solid Waste Management in Developing Countries"
          ],
          [
           "Music Business Foundations"
          ],
          [
           "Nanotechnology: A Maker’s Course"
          ],
          [
           "Natural Language Processing in TensorFlow"
          ],
          [
           "Negociación exitosa: Estrategias y habilidades esenciales (en español)"
          ],
          [
           "Networking and Security Architecture with VMware NSX"
          ],
          [
           "Neural Networks and Deep Learning"
          ],
          [
           "Neurolinguistics"
          ],
          [
           "New Approaches to Countering Terror: Countering Violent Extremism"
          ],
          [
           "Nutrición y obesidad: control de sobrepeso"
          ],
          [
           "Nutrition and Lifestyle in Pregnancy"
          ],
          [
           "Object-Oriented Data Structures in C++"
          ],
          [
           "Object-Oriented Design"
          ],
          [
           "Oil & Gas Industry Operations and Markets"
          ],
          [
           "Operating Systems and You: Becoming a Power User"
          ],
          [
           "Operations Analytics"
          ],
          [
           "Osteoarchaeology: The Truth in Our Bones"
          ],
          [
           "Particle Physics: an Introduction"
          ],
          [
           "Patrocinio Deportivo"
          ],
          [
           "People Analytics"
          ],
          [
           "Perfect Tenses and Modals"
          ],
          [
           "Periodismo digital y combate a las fake news"
          ],
          [
           "Politics and Economics of International Energy"
          ],
          [
           "Positive Psychiatry and Mental Health"
          ],
          [
           "Positive Psychology"
          ],
          [
           "Positive Psychology: Applications and Interventions"
          ],
          [
           "Positive Psychology: Martin E. P. Seligman’s Visionary Science"
          ],
          [
           "Positive Psychology: Resilience Skills"
          ],
          [
           "Practical Time Series Analysis"
          ],
          [
           "Preparing for the Google Cloud Associate Cloud Engineer Exam"
          ],
          [
           "Preparing to Manage Human Resources"
          ],
          [
           "Primeros Auxilios Psicológicos (PAP)"
          ],
          [
           "Private Equity and Venture Capital"
          ],
          [
           "Probabilistic Graphical Models 1: Representation"
          ],
          [
           "Probability and Statistics: To p or not to p?"
          ],
          [
           "Process Mining: Data science in Action"
          ],
          [
           "Programming Foundations with JavaScript, HTML and CSS"
          ],
          [
           "Programming Fundamentals"
          ],
          [
           "Programming for Everybody (Getting Started with Python)"
          ],
          [
           "Project Execution"
          ],
          [
           "Project Launch"
          ],
          [
           "Psychological First Aid"
          ],
          [
           "Public Policy Challenges of the 21st Century"
          ],
          [
           "Python Basics"
          ],
          [
           "Python Classes and Inheritance"
          ],
          [
           "Python Data Structures"
          ],
          [
           "Python Functions, Files, and Dictionaries"
          ],
          [
           "Python and Statistics for Financial Analysis"
          ],
          [
           "Python for Data Science and AI"
          ],
          [
           "Quantitative Methods"
          ],
          [
           "Queering Identities: LGBTQ+ Sexuality and Gender Identity"
          ],
          [
           "R Programming"
          ],
          [
           "Ready, Set, Future! Introduction to Futures Thinking"
          ],
          [
           "Recruiting, Hiring, and Onboarding Employees"
          ],
          [
           "Renewable Energy and Green Building Entrepreneurship"
          ],
          [
           "Reporting extra-financier et stratégie RSE"
          ],
          [
           "Research Data Management and Sharing"
          ],
          [
           "Resilience in Children Exposed to Trauma, Disaster and War: Global Perspectives"
          ],
          [
           "Rethinking International Tax Law"
          ],
          [
           "Revisão Sistemática e Meta-análise"
          ],
          [
           "Roman Architecture"
          ],
          [
           "Russian Alphabet"
          ],
          [
           "Réussir le Changement"
          ],
          [
           "SQL for Data Science"
          ],
          [
           "Sample-based Learning Methods"
          ],
          [
           "Scaling Operations: Linking Strategy and Execution"
          ],
          [
           "Science of Exercise"
          ],
          [
           "Search Engine Optimization Fundamentals"
          ],
          [
           "Security & Safety Challenges in a Globalized World"
          ],
          [
           "Sequence Models"
          ],
          [
           "Sexualidad...mucho más que sexo"
          ],
          [
           "Sharpened Visions: A Poetry Workshop"
          ],
          [
           "Site Reliability Engineering: Measuring and Managing Reliability"
          ],
          [
           "Six Sigma and the Organization (Advanced)"
          ],
          [
           "Sleep: Neurobiology, Medicine, and Society"
          ],
          [
           "Smart Cities – Management of Smart Urban Infrastructures"
          ],
          [
           "Social Norms, Social Change I"
          ],
          [
           "Social Psychology"
          ],
          [
           "Social and Economic Networks:  Models and Analysis"
          ],
          [
           "Software Processes and Agile Practices"
          ],
          [
           "Solar Energy Basics"
          ],
          [
           "Songwriting: Writing the Lyrics"
          ],
          [
           "Spanish Vocabulary: Meeting People"
          ],
          [
           "Speak English Professionally: In Person, Online & On the Phone"
          ],
          [
           "Sports Marketing"
          ],
          [
           "Sports and Society"
          ],
          [
           "Stanford Introduction to Food and Health"
          ],
          [
           "Stanford's Short Course on Breastfeeding"
          ],
          [
           "Stories of Infection"
          ],
          [
           "Strategic Business Management - Microeconomics"
          ],
          [
           "Strategic Management"
          ],
          [
           "Strategy and Sustainability"
          ],
          [
           "Structuring Machine Learning Projects"
          ],
          [
           "Success"
          ],
          [
           "Successful Negotiation: Essential Strategies and Skills"
          ],
          [
           "Summary Statistics in Public Health"
          ],
          [
           "Supply Chain Analytics"
          ],
          [
           "Supply Chain Logistics"
          ],
          [
           "Supply Chain Operations"
          ],
          [
           "Supply Chain Principles"
          ],
          [
           "Supporting children with difficulties in reading and writing"
          ],
          [
           "Sustainable Tourism – promoting environmental public health"
          ],
          [
           "System Administration and IT Infrastructure Services"
          ],
          [
           "Systems Thinking In Public Health"
          ],
          [
           "Teach English Now! Foundational Principles"
          ],
          [
           "Teach English Now! Teaching Language Online"
          ],
          [
           "Teaching Character and Creating Positive Classrooms"
          ],
          [
           "Teamwork Skills: Communicating Effectively in Groups"
          ],
          [
           "Technical Support Fundamentals"
          ],
          [
           "Terrorism and Counterterrorism: Comparing Theory and Practice"
          ],
          [
           "The Addicted Brain"
          ],
          [
           "The Art of Music Production"
          ],
          [
           "The Arts and Science of Relationships: Understanding Human Needs"
          ],
          [
           "The Bits and Bytes of Computer Networking"
          ],
          [
           "The Changing Global Order"
          ],
          [
           "The Cycle: Management of Successful Arts and Cultural Organizations"
          ],
          [
           "The Data Scientist’s Toolbox"
          ],
          [
           "The Economics of Health Care Delivery"
          ],
          [
           "The Global Financial Crisis"
          ],
          [
           "The Horse Course: Introduction to Basic Care and Management"
          ],
          [
           "The Manager's Toolkit: A Practical Guide to Managing People at Work"
          ],
          [
           "The Modern World, Part One: Global History from 1760 to 1910"
          ],
          [
           "The Modern World, Part Two: Global History since 1910"
          ],
          [
           "The Oral Cavity: Portal to Health and Disease"
          ],
          [
           "The Power of Macroeconomics: Economic Principles in the Real World"
          ],
          [
           "The Power of Microeconomics: Economic Principles in the Real World"
          ],
          [
           "The Science of Gastronomy"
          ],
          [
           "The Science of Stem Cells"
          ],
          [
           "The Science of Success: What Researchers Know that You Should Know"
          ],
          [
           "The Science of Training Young Athletes"
          ],
          [
           "The Science of Well-Being"
          ],
          [
           "The Social Context of Mental Health and Illness"
          ],
          [
           "The Strategy of Content Marketing"
          ],
          [
           "The Sustainable Development Goals – A global, transdisciplinary vision for the future"
          ],
          [
           "The Technology of Music Production"
          ],
          [
           "The Truth About Cats and Dogs"
          ],
          [
           "The hidden value – Lean in manufacturing and services"
          ],
          [
           "Think Again I: How to Understand Arguments"
          ],
          [
           "Tools for Data Science"
          ],
          [
           "Transmedia Storytelling: Narrative worlds, emerging technologies, and global audiences"
          ],
          [
           "Tricky American English Pronunciation"
          ],
          [
           "Troubles du spectre de l'autisme : diagnostic"
          ],
          [
           "UX Design Fundamentals"
          ],
          [
           "Understanding Cancer Metastasis"
          ],
          [
           "Understanding Clinical Research: Behind the Statistics"
          ],
          [
           "Understanding Einstein: The Special Theory of Relativity"
          ],
          [
           "Understanding Medical Research: Your Facebook Friend is Wrong"
          ],
          [
           "Understanding Plants - Part I: What a Plant Knows"
          ],
          [
           "Understanding Research Methods"
          ],
          [
           "Understanding and Visualizing Data with Python"
          ],
          [
           "Understanding the Brain: The Neurobiology of Everyday Life"
          ],
          [
           "University Teaching"
          ],
          [
           "Unraveling the Cycling City"
          ],
          [
           "Using Databases with Python"
          ],
          [
           "Using Python to Access Web Data"
          ],
          [
           "Using Python to Interact with the Operating System"
          ],
          [
           "Version Control with Git"
          ],
          [
           "Viral Marketing and How to Craft Contagious Content"
          ],
          [
           "Vital Signs: Understanding What the Body Is Telling Us"
          ],
          [
           "Weight Management: Beyond Balancing Calories"
          ],
          [
           "What Is Contemporary Art?"
          ],
          [
           "What future for education?"
          ],
          [
           "What is Compliance?"
          ],
          [
           "What is Data Science?"
          ],
          [
           "What is Social?"
          ],
          [
           "Wine Tasting: Sensory Techniques for Wine Analysis"
          ],
          [
           "Wonders of Ancient Egypt"
          ],
          [
           "Write A Feature Length Screenplay For Film Or Television"
          ],
          [
           "Write Professional Emails in English"
          ],
          [
           "Write Your First Novel"
          ],
          [
           "Writing in the Sciences"
          ],
          [
           "e-Learning Ecologies: Innovative Approaches to Teaching and Learning for the Digital Age"
          ],
          [
           "¿Qué hacen los buenos directivos? Prioridades de la Alta Dirección"
          ],
          [
           "Étudier en France: French Intermediate course B1-B2"
          ],
          [
           "Математика и Python для анализа данных"
          ],
          [
           "Основы программирования на Python"
          ],
          [
           "Основы разработки на C++: белый пояс"
          ],
          [
           "Погружение в Python"
          ],
          [
           "Психолингвистика (Psycholinguistics)"
          ]
         ],
         "hovertemplate": "certificate_type=COURSE<br>Rating=%{x}<br>Enrollments=%{marker.size}<br>title=%{customdata[0]}<extra></extra>",
         "legendgroup": "COURSE",
         "marker": {
          "color": "#EF553B",
          "size": [
           17000,
           130000,
           91000,
           320000,
           39000,
           350000,
           2400,
           12000,
           4000,
           11000,
           27000,
           110000,
           13000,
           6600,
           2900,
           80000,
           9900,
           23000,
           9200,
           29000,
           14000,
           21000,
           69000,
           40000,
           12000,
           220000,
           18000,
           23000,
           69000,
           36000,
           20000,
           8100,
           71000,
           11000,
           11000,
           63000,
           42000,
           150000,
           97000,
           200000,
           180000,
           79000,
           31000,
           15000,
           15000,
           10000,
           66000,
           33000,
           56000,
           22000,
           9700,
           13000,
           180000,
           91000,
           29000,
           210000,
           6500,
           61000,
           55000,
           2300,
           35000,
           88000,
           1900,
           31000,
           9500,
           57000,
           84000,
           15000,
           95000,
           7300,
           22000,
           5800,
           24000,
           67000,
           77000,
           13000,
           10000,
           48000,
           31000,
           220000,
           32000,
           130000,
           340000,
           82000,
           31000,
           23000,
           19000,
           30000,
           22000,
           51000,
           32000,
           37000,
           120000,
           43000,
           6400,
           43000,
           33000,
           19000,
           43000,
           15000,
           220000,
           26000,
           49000,
           240000,
           46000,
           10000,
           56000,
           7800,
           10000,
           75000,
           15000,
           43000,
           81000,
           140000,
           120000,
           26000,
           22000,
           5500,
           18000,
           140000,
           55000,
           23000,
           110000,
           24000,
           19000,
           42000,
           140000,
           89000,
           130000,
           60000,
           66000,
           18000,
           120000,
           110000,
           150000,
           31000,
           44000,
           4500,
           8200,
           240000,
           17000,
           67000,
           97000,
           19000,
           41000,
           54000,
           21000,
           57000,
           58000,
           35000,
           40000,
           21000,
           130000,
           150000,
           5600,
           17000,
           39000,
           7100,
           18000,
           110000,
           83000,
           16000,
           3400,
           46000,
           1500,
           57000,
           12000,
           14000,
           23000,
           200000,
           230000,
           760000,
           130000,
           110000,
           2400,
           86000,
           38000,
           31000,
           20000,
           45000,
           23000,
           130000,
           35000,
           7200,
           14000,
           68000,
           83000,
           4100,
           31000,
           27000,
           11000,
           86000,
           39000,
           200000,
           76000,
           39000,
           54000,
           28000,
           180000,
           18000,
           9700,
           12000,
           69000,
           12000,
           65000,
           10000,
           100000,
           470000,
           24000,
           310000,
           36000,
           400000,
           57000,
           42000,
           4400,
           63000,
           62000,
           52000,
           45000,
           89000,
           170000,
           30000,
           49000,
           86000,
           290000,
           18000,
           180000,
           120000,
           110000,
           22000,
           81000,
           150000,
           110000,
           47000,
           260000,
           110000,
           14000,
           19000,
           34000,
           47000,
           14000,
           59000,
           73000,
           59000,
           75000,
           18000,
           22000,
           79000,
           29000,
           10000,
           22000,
           37000,
           3600,
           7600,
           120000,
           36000,
           430000,
           260000,
           56000,
           210000,
           62000,
           240000,
           62000,
           7400,
           39000,
           46000,
           170000,
           140000,
           3300,
           62000,
           1700,
           270000,
           79000,
           51000,
           34000,
           12000,
           32000,
           180000,
           40000,
           10000,
           85000,
           12000,
           9700,
           6500,
           25000,
           22000,
           36000,
           19000,
           41000,
           20000,
           2200,
           35000,
           11000,
           36000,
           38000,
           140000,
           100000,
           46000,
           60000,
           44000,
           160000,
           16000,
           27000,
           14000,
           84000,
           53000,
           46000,
           150000,
           2600,
           20000,
           130000,
           27000,
           30000,
           99000,
           390000,
           25000,
           110000,
           41000,
           150000,
           34000,
           200000,
           47000,
           79000,
           74000,
           42000,
           220000,
           54000,
           6000,
           82000,
           220000,
           270000,
           87000,
           140000,
           370000,
           11000,
           160000,
           270000,
           270000,
           39000,
           76000,
           12000,
           69000,
           67000,
           33000,
           150000,
           4100,
           13000,
           72000,
           87000,
           16000,
           76000,
           110000,
           270000,
           120000,
           4400,
           160000,
           22000,
           37000,
           8000,
           34000,
           16000,
           5900,
           180000,
           120000,
           68000,
           7200,
           10000,
           29000,
           14000,
           3200000,
           240000,
           19000,
           58000,
           120000,
           78000,
           43000,
           120000,
           11000,
           71000,
           27000,
           47000,
           81000,
           49000,
           58000,
           310000,
           280000,
           8400,
           48000,
           140000,
           51000,
           33000,
           170000,
           73000,
           34000,
           230000,
           120000,
           130000,
           36000,
           310000,
           9100,
           100000,
           40000,
           44000,
           59000,
           34000,
           21000,
           40000,
           95000,
           17000,
           630000,
           41000,
           12000,
           100000,
           35000,
           21000,
           33000,
           57000,
           76000,
           80000,
           22000,
           42000,
           12000,
           84000,
           79000,
           8900,
           34000,
           72000,
           180000,
           23000,
           50000,
           40000,
           39000,
           22000,
           68000,
           280000,
           79000,
           68000,
           36000,
           39000,
           250000,
           19000,
           1300000,
           70000,
           190000,
           190000,
           52000,
           110000,
           21000,
           420000,
           26000,
           41000,
           170000,
           69000,
           3000,
           480000,
           7700,
           35000,
           24000,
           5200,
           16000,
           15000,
           36000,
           17000,
           30000,
           3200,
           33000,
           160000,
           6800,
           12000,
           140000,
           47000,
           14000,
           14000,
           110000,
           61000,
           16000,
           15000,
           20000,
           22000,
           78000,
           220000,
           42000,
           60000,
           17000,
           68000,
           71000,
           430000,
           12000,
           16000,
           370000,
           17000,
           28000,
           9500,
           58000,
           11000,
           220000,
           38000,
           750000,
           11000,
           7900,
           66000,
           24000,
           29000,
           50000,
           9400,
           62000,
           33000,
           81000,
           8500,
           53000,
           49000,
           280000,
           90000,
           130000,
           47000,
           73000,
           130000,
           23000,
           11000,
           420000,
           7200,
           84000,
           29000,
           47000,
           130000,
           47000,
           9400,
           180000,
           120000,
           50000,
           12000,
           59000,
           13000,
           2500000,
           19000,
           100000,
           26000,
           28000,
           33000,
           14000,
           200000,
           120000,
           45000,
           110000,
           5400,
           25000,
           29000,
           78000,
           89000,
           24000,
           49000,
           120000,
           30000,
           130000,
           9500,
           3900,
           220000,
           310000,
           19000,
           40000,
           150000,
           190000,
           34000,
           120000,
           35000,
           6200,
           260000,
           94000,
           32000,
           17000,
           12000,
           270000,
           18000,
           140000,
           17000,
           25000,
           190000,
           67000,
           83000,
           41000,
           45000,
           21000
          ],
          "sizemode": "area",
          "sizeref": 8000,
          "symbol": "circle"
         },
         "mode": "markers",
         "name": "COURSE",
         "orientation": "v",
         "showlegend": true,
         "type": "scatter",
         "x": [
          4.7,
          4.5,
          4.7,
          4.8,
          4.7,
          4.8,
          4.8,
          4.7,
          4.6,
          4.3,
          4.7,
          4.7,
          4.5,
          4.7,
          4.6,
          4.5,
          4.8,
          4.8,
          4.8,
          4.7,
          4.8,
          4.7,
          4.7,
          4.7,
          4.9,
          4.7,
          4.9,
          4.8,
          4.7,
          4.8,
          4.8,
          4.8,
          4.8,
          4.5,
          4.8,
          4.6,
          4.7,
          4.6,
          4.6,
          4.8,
          4.9,
          4.8,
          4.8,
          4.6,
          4.8,
          4.9,
          4.7,
          4.8,
          4.6,
          4.7,
          4.7,
          4.6,
          4.6,
          4.8,
          4.8,
          4.9,
          4.7,
          4.8,
          4.4,
          4.6,
          4.6,
          4.4,
          4.8,
          4.7,
          4.9,
          4.9,
          4.7,
          4.9,
          4.9,
          4.5,
          4.5,
          4.6,
          4.3,
          4.5,
          4.7,
          4.7,
          4.7,
          4.8,
          4.5,
          4.9,
          4.8,
          4.7,
          4.7,
          4.6,
          4.8,
          4.7,
          4.7,
          4.7,
          4.8,
          4.8,
          4.8,
          4.5,
          4.7,
          4.8,
          4.9,
          4.7,
          4.8,
          4.7,
          4.8,
          4.8,
          4.7,
          4.6,
          4.8,
          4.9,
          4.7,
          4.8,
          4.8,
          4.8,
          4.6,
          4.6,
          4.8,
          4.8,
          4.8,
          4.3,
          4.7,
          4.8,
          4.8,
          4.6,
          4.7,
          4.2,
          4.8,
          4.8,
          4.7,
          4.8,
          4.7,
          4.7,
          4.5,
          4.6,
          4.7,
          4.8,
          4.6,
          4.7,
          4.6,
          4.7,
          4.8,
          4.6,
          4.8,
          4.7,
          4.4,
          4.6,
          4.6,
          4.7,
          4.7,
          4.6,
          4.8,
          4.7,
          4.5,
          4.4,
          4.7,
          4.5,
          4.9,
          4.9,
          4.8,
          4.6,
          4.8,
          4.7,
          4.6,
          4.8,
          4.8,
          4.7,
          4.9,
          4.7,
          4.9,
          4.9,
          5,
          4.7,
          4.8,
          4.8,
          4.7,
          4.6,
          4.8,
          4.8,
          4.8,
          4.8,
          4.4,
          4.8,
          4.8,
          4.7,
          4.8,
          4.8,
          4.7,
          4.6,
          4.8,
          4.8,
          4.7,
          4.7,
          4.7,
          4.8,
          4.8,
          4.7,
          4.8,
          4.9,
          4.7,
          4.9,
          4.9,
          4.8,
          4.8,
          4.8,
          4.8,
          4.8,
          4.8,
          4.7,
          4.8,
          4.4,
          4.8,
          4.5,
          4.6,
          4.8,
          4.8,
          4.8,
          4.7,
          4.9,
          4.8,
          4.7,
          4.9,
          4.8,
          4.8,
          4.8,
          4.7,
          4.8,
          4.8,
          4.6,
          4.7,
          4.8,
          4.8,
          4.7,
          4.6,
          4.7,
          4.6,
          4.8,
          4.5,
          4.7,
          4.8,
          4.6,
          4.6,
          4.8,
          4.7,
          4.3,
          4.8,
          4.7,
          4.7,
          4.5,
          4.5,
          4.6,
          4.5,
          4.6,
          4.9,
          4.6,
          4.7,
          4.5,
          4.6,
          4.6,
          4.6,
          4.8,
          4.6,
          4.7,
          4.7,
          4.8,
          4.6,
          4.8,
          4.7,
          4.8,
          4.8,
          4.2,
          4.6,
          4.8,
          4.8,
          3.3,
          4.8,
          4.8,
          4.9,
          4.9,
          4.9,
          4.8,
          4.5,
          4.4,
          4.6,
          4.7,
          4.6,
          4.8,
          4.8,
          4.2,
          4.6,
          4.6,
          4.4,
          4.8,
          4.8,
          4.8,
          4.8,
          4.8,
          4.5,
          4.9,
          4.6,
          4.7,
          4.8,
          4.7,
          4.4,
          4.8,
          4.8,
          4.7,
          4.6,
          4.7,
          4.9,
          4.7,
          4.8,
          4.8,
          4.8,
          4.9,
          4.6,
          4.3,
          4.6,
          4.7,
          4.5,
          4.7,
          4.5,
          4.8,
          4.7,
          4.5,
          4.7,
          4.8,
          4.7,
          4.9,
          4.8,
          4.8,
          4.6,
          4.7,
          4.5,
          4.8,
          4.8,
          4.8,
          4.8,
          4.5,
          4.4,
          4.6,
          4.8,
          4.7,
          4.8,
          4.9,
          4.8,
          4.2,
          4.7,
          4.8,
          4.8,
          4.7,
          4.7,
          4.8,
          4,
          4.8,
          4.5,
          4.8,
          4.7,
          4.8,
          4.7,
          4.9,
          4.6,
          4.6,
          4.5,
          4.7,
          4.7,
          4.7,
          4.8,
          4.7,
          4.8,
          4.9,
          4.7,
          4.5,
          4.7,
          4.6,
          4.7,
          4.9,
          4.6,
          4.6,
          4.6,
          4.7,
          4.6,
          4.7,
          4.7,
          4.9,
          4.7,
          4.5,
          4.6,
          4.8,
          4.7,
          4.8,
          4.7,
          4.2,
          4.6,
          4.7,
          4.7,
          4.7,
          4,
          4.9,
          4.9,
          4.7,
          4.8,
          4.7,
          4.8,
          4.6,
          4.7,
          4.7,
          4.8,
          4.9,
          4.9,
          4.8,
          4.9,
          4.8,
          4.6,
          4.8,
          4.8,
          4.9,
          4.7,
          4.7,
          4.8,
          4.8,
          4.7,
          4.7,
          4.8,
          4.6,
          4.7,
          4.7,
          4.5,
          4.6,
          4.5,
          4.7,
          4.9,
          4.7,
          4.8,
          4.7,
          4.8,
          4.8,
          4.6,
          4.6,
          4.7,
          4.8,
          4.8,
          4.8,
          4.7,
          4.6,
          4.8,
          4.6,
          4.7,
          4.8,
          4.2,
          4.7,
          4.8,
          4.6,
          4.8,
          4.7,
          4.9,
          4.8,
          4.4,
          4.6,
          4.7,
          4.9,
          4.6,
          4.8,
          4.7,
          4.7,
          4.7,
          4.6,
          4.8,
          4.9,
          4.9,
          4.9,
          4.7,
          4.5,
          4.6,
          4.8,
          4.5,
          4.8,
          4.7,
          4.7,
          4.8,
          4.8,
          4.7,
          4.5,
          4.7,
          4.8,
          4.6,
          4.6,
          4.7,
          4.8,
          4.7,
          4.8,
          4.8,
          4.6,
          4.6,
          4.7,
          4.8,
          4.7,
          4.7,
          4.9,
          4.7,
          4.7,
          4.6,
          4.8,
          4.8,
          4.8,
          4.8,
          4.7,
          4.7,
          4.8,
          4.6,
          4.8,
          4.6,
          4.7,
          4.9,
          4.9,
          4.4,
          4.8,
          4.8,
          4.8,
          4.8,
          4.6,
          4.8,
          4.5,
          4.7,
          4.7,
          4.8,
          4.6,
          4.8,
          4.8,
          4.9,
          4.6,
          4.8,
          4.8,
          4.9,
          4.6,
          4.7,
          4.6,
          4.7,
          4.8,
          4.9,
          4.9,
          4.6,
          4.5,
          4.8,
          4.8,
          4.7,
          4.7,
          4.6,
          4.6,
          4.8,
          4.7,
          4.9,
          4.8,
          4.8,
          4.8,
          4.9,
          4.8,
          4.8,
          4.5,
          4.7,
          4.9,
          4.8,
          4.9,
          4.8,
          4.8,
          4.7,
          4.8,
          4.7,
          4.8,
          4.7,
          4.7,
          4.7,
          4.8,
          4.7,
          4.6,
          4.7,
          4.8,
          4.9,
          4.7,
          4.4,
          4.9,
          4.5,
          4.7,
          4.8,
          4.8,
          4.6,
          4.9,
          4.7,
          4.8
         ],
         "xaxis": "x",
         "y": [
          17000,
          130000,
          91000,
          320000,
          39000,
          350000,
          2400,
          12000,
          4000,
          11000,
          27000,
          110000,
          13000,
          6600,
          2900,
          80000,
          9900,
          23000,
          9200,
          29000,
          14000,
          21000,
          69000,
          40000,
          12000,
          220000,
          18000,
          23000,
          69000,
          36000,
          20000,
          8100,
          71000,
          11000,
          11000,
          63000,
          42000,
          150000,
          97000,
          200000,
          180000,
          79000,
          31000,
          15000,
          15000,
          10000,
          66000,
          33000,
          56000,
          22000,
          9700,
          13000,
          180000,
          91000,
          29000,
          210000,
          6500,
          61000,
          55000,
          2300,
          35000,
          88000,
          1900,
          31000,
          9500,
          57000,
          84000,
          15000,
          95000,
          7300,
          22000,
          5800,
          24000,
          67000,
          77000,
          13000,
          10000,
          48000,
          31000,
          220000,
          32000,
          130000,
          340000,
          82000,
          31000,
          23000,
          19000,
          30000,
          22000,
          51000,
          32000,
          37000,
          120000,
          43000,
          6400,
          43000,
          33000,
          19000,
          43000,
          15000,
          220000,
          26000,
          49000,
          240000,
          46000,
          10000,
          56000,
          7800,
          10000,
          75000,
          15000,
          43000,
          81000,
          140000,
          120000,
          26000,
          22000,
          5500,
          18000,
          140000,
          55000,
          23000,
          110000,
          24000,
          19000,
          42000,
          140000,
          89000,
          130000,
          60000,
          66000,
          18000,
          120000,
          110000,
          150000,
          31000,
          44000,
          4500,
          8200,
          240000,
          17000,
          67000,
          97000,
          19000,
          41000,
          54000,
          21000,
          57000,
          58000,
          35000,
          40000,
          21000,
          130000,
          150000,
          5600,
          17000,
          39000,
          7100,
          18000,
          110000,
          83000,
          16000,
          3400,
          46000,
          1500,
          57000,
          12000,
          14000,
          23000,
          200000,
          230000,
          760000,
          130000,
          110000,
          2400,
          86000,
          38000,
          31000,
          20000,
          45000,
          23000,
          130000,
          35000,
          7200,
          14000,
          68000,
          83000,
          4100,
          31000,
          27000,
          11000,
          86000,
          39000,
          200000,
          76000,
          39000,
          54000,
          28000,
          180000,
          18000,
          9700,
          12000,
          69000,
          12000,
          65000,
          10000,
          100000,
          470000,
          24000,
          310000,
          36000,
          400000,
          57000,
          42000,
          4400,
          63000,
          62000,
          52000,
          45000,
          89000,
          170000,
          30000,
          49000,
          86000,
          290000,
          18000,
          180000,
          120000,
          110000,
          22000,
          81000,
          150000,
          110000,
          47000,
          260000,
          110000,
          14000,
          19000,
          34000,
          47000,
          14000,
          59000,
          73000,
          59000,
          75000,
          18000,
          22000,
          79000,
          29000,
          10000,
          22000,
          37000,
          3600,
          7600,
          120000,
          36000,
          430000,
          260000,
          56000,
          210000,
          62000,
          240000,
          62000,
          7400,
          39000,
          46000,
          170000,
          140000,
          3300,
          62000,
          1700,
          270000,
          79000,
          51000,
          34000,
          12000,
          32000,
          180000,
          40000,
          10000,
          85000,
          12000,
          9700,
          6500,
          25000,
          22000,
          36000,
          19000,
          41000,
          20000,
          2200,
          35000,
          11000,
          36000,
          38000,
          140000,
          100000,
          46000,
          60000,
          44000,
          160000,
          16000,
          27000,
          14000,
          84000,
          53000,
          46000,
          150000,
          2600,
          20000,
          130000,
          27000,
          30000,
          99000,
          390000,
          25000,
          110000,
          41000,
          150000,
          34000,
          200000,
          47000,
          79000,
          74000,
          42000,
          220000,
          54000,
          6000,
          82000,
          220000,
          270000,
          87000,
          140000,
          370000,
          11000,
          160000,
          270000,
          270000,
          39000,
          76000,
          12000,
          69000,
          67000,
          33000,
          150000,
          4100,
          13000,
          72000,
          87000,
          16000,
          76000,
          110000,
          270000,
          120000,
          4400,
          160000,
          22000,
          37000,
          8000,
          34000,
          16000,
          5900,
          180000,
          120000,
          68000,
          7200,
          10000,
          29000,
          14000,
          3200000,
          240000,
          19000,
          58000,
          120000,
          78000,
          43000,
          120000,
          11000,
          71000,
          27000,
          47000,
          81000,
          49000,
          58000,
          310000,
          280000,
          8400,
          48000,
          140000,
          51000,
          33000,
          170000,
          73000,
          34000,
          230000,
          120000,
          130000,
          36000,
          310000,
          9100,
          100000,
          40000,
          44000,
          59000,
          34000,
          21000,
          40000,
          95000,
          17000,
          630000,
          41000,
          12000,
          100000,
          35000,
          21000,
          33000,
          57000,
          76000,
          80000,
          22000,
          42000,
          12000,
          84000,
          79000,
          8900,
          34000,
          72000,
          180000,
          23000,
          50000,
          40000,
          39000,
          22000,
          68000,
          280000,
          79000,
          68000,
          36000,
          39000,
          250000,
          19000,
          1300000,
          70000,
          190000,
          190000,
          52000,
          110000,
          21000,
          420000,
          26000,
          41000,
          170000,
          69000,
          3000,
          480000,
          7700,
          35000,
          24000,
          5200,
          16000,
          15000,
          36000,
          17000,
          30000,
          3200,
          33000,
          160000,
          6800,
          12000,
          140000,
          47000,
          14000,
          14000,
          110000,
          61000,
          16000,
          15000,
          20000,
          22000,
          78000,
          220000,
          42000,
          60000,
          17000,
          68000,
          71000,
          430000,
          12000,
          16000,
          370000,
          17000,
          28000,
          9500,
          58000,
          11000,
          220000,
          38000,
          750000,
          11000,
          7900,
          66000,
          24000,
          29000,
          50000,
          9400,
          62000,
          33000,
          81000,
          8500,
          53000,
          49000,
          280000,
          90000,
          130000,
          47000,
          73000,
          130000,
          23000,
          11000,
          420000,
          7200,
          84000,
          29000,
          47000,
          130000,
          47000,
          9400,
          180000,
          120000,
          50000,
          12000,
          59000,
          13000,
          2500000,
          19000,
          100000,
          26000,
          28000,
          33000,
          14000,
          200000,
          120000,
          45000,
          110000,
          5400,
          25000,
          29000,
          78000,
          89000,
          24000,
          49000,
          120000,
          30000,
          130000,
          9500,
          3900,
          220000,
          310000,
          19000,
          40000,
          150000,
          190000,
          34000,
          120000,
          35000,
          6200,
          260000,
          94000,
          32000,
          17000,
          12000,
          270000,
          18000,
          140000,
          17000,
          25000,
          190000,
          67000,
          83000,
          41000,
          45000,
          21000
         ],
         "yaxis": "y"
        },
        {
         "customdata": [
          [
           "Arizona State University TESOL"
          ],
          [
           "Cloud Engineering with Google Cloud"
          ],
          [
           "Data Engineering with Google Cloud"
          ],
          [
           "Google IT Automation with Python"
          ],
          [
           "Google IT Support"
          ],
          [
           "IBM AI Engineering"
          ],
          [
           "IBM Applied AI"
          ],
          [
           "IBM Data Science"
          ],
          [
           "SAS Programmer"
          ],
          [
           "SAS Visual Business Analytics"
          ],
          [
           "Soporte de Tecnologías de la Información de Google"
          ],
          [
           "UCI Project Management"
          ]
         ],
         "hovertemplate": "certificate_type=PROFESSIONAL CERTIFICATE<br>Rating=%{x}<br>Enrollments=%{marker.size}<br>title=%{customdata[0]}<extra></extra>",
         "legendgroup": "PROFESSIONAL CERTIFICATE",
         "marker": {
          "color": "#00cc96",
          "size": [
           150000,
           310000,
           120000,
           93000,
           350000,
           140000,
           220000,
           480000,
           370000,
           2600,
           8800,
           44000
          ],
          "sizemode": "area",
          "sizeref": 8000,
          "symbol": "circle"
         },
         "mode": "markers",
         "name": "PROFESSIONAL CERTIFICATE",
         "orientation": "v",
         "showlegend": true,
         "type": "scatter",
         "x": [
          4.9,
          4.7,
          4.6,
          4.7,
          4.8,
          4.6,
          4.6,
          4.6,
          4.8,
          4.6,
          4.9,
          4.6
         ],
         "xaxis": "x",
         "y": [
          150000,
          310000,
          120000,
          93000,
          350000,
          140000,
          220000,
          480000,
          370000,
          2600,
          8800,
          44000
         ],
         "yaxis": "y"
        }
       ],
       "layout": {
        "legend": {
         "itemsizing": "constant",
         "title": {
          "text": "certificate_type"
         },
         "tracegroupgap": 0
        },
        "template": {
         "data": {
          "bar": [
           {
            "error_x": {
             "color": "#2a3f5f"
            },
            "error_y": {
             "color": "#2a3f5f"
            },
            "marker": {
             "line": {
              "color": "#E5ECF6",
              "width": 0.5
             },
             "pattern": {
              "fillmode": "overlay",
              "size": 10,
              "solidity": 0.2
             }
            },
            "type": "bar"
           }
          ],
          "barpolar": [
           {
            "marker": {
             "line": {
              "color": "#E5ECF6",
              "width": 0.5
             },
             "pattern": {
              "fillmode": "overlay",
              "size": 10,
              "solidity": 0.2
             }
            },
            "type": "barpolar"
           }
          ],
          "carpet": [
           {
            "aaxis": {
             "endlinecolor": "#2a3f5f",
             "gridcolor": "white",
             "linecolor": "white",
             "minorgridcolor": "white",
             "startlinecolor": "#2a3f5f"
            },
            "baxis": {
             "endlinecolor": "#2a3f5f",
             "gridcolor": "white",
             "linecolor": "white",
             "minorgridcolor": "white",
             "startlinecolor": "#2a3f5f"
            },
            "type": "carpet"
           }
          ],
          "choropleth": [
           {
            "colorbar": {
             "outlinewidth": 0,
             "ticks": ""
            },
            "type": "choropleth"
           }
          ],
          "contour": [
           {
            "colorbar": {
             "outlinewidth": 0,
             "ticks": ""
            },
            "colorscale": [
             [
              0,
              "#0d0887"
             ],
             [
              0.1111111111111111,
              "#46039f"
             ],
             [
              0.2222222222222222,
              "#7201a8"
             ],
             [
              0.3333333333333333,
              "#9c179e"
             ],
             [
              0.4444444444444444,
              "#bd3786"
             ],
             [
              0.5555555555555556,
              "#d8576b"
             ],
             [
              0.6666666666666666,
              "#ed7953"
             ],
             [
              0.7777777777777778,
              "#fb9f3a"
             ],
             [
              0.8888888888888888,
              "#fdca26"
             ],
             [
              1,
              "#f0f921"
             ]
            ],
            "type": "contour"
           }
          ],
          "contourcarpet": [
           {
            "colorbar": {
             "outlinewidth": 0,
             "ticks": ""
            },
            "type": "contourcarpet"
           }
          ],
          "heatmap": [
           {
            "colorbar": {
             "outlinewidth": 0,
             "ticks": ""
            },
            "colorscale": [
             [
              0,
              "#0d0887"
             ],
             [
              0.1111111111111111,
              "#46039f"
             ],
             [
              0.2222222222222222,
              "#7201a8"
             ],
             [
              0.3333333333333333,
              "#9c179e"
             ],
             [
              0.4444444444444444,
              "#bd3786"
             ],
             [
              0.5555555555555556,
              "#d8576b"
             ],
             [
              0.6666666666666666,
              "#ed7953"
             ],
             [
              0.7777777777777778,
              "#fb9f3a"
             ],
             [
              0.8888888888888888,
              "#fdca26"
             ],
             [
              1,
              "#f0f921"
             ]
            ],
            "type": "heatmap"
           }
          ],
          "heatmapgl": [
           {
            "colorbar": {
             "outlinewidth": 0,
             "ticks": ""
            },
            "colorscale": [
             [
              0,
              "#0d0887"
             ],
             [
              0.1111111111111111,
              "#46039f"
             ],
             [
              0.2222222222222222,
              "#7201a8"
             ],
             [
              0.3333333333333333,
              "#9c179e"
             ],
             [
              0.4444444444444444,
              "#bd3786"
             ],
             [
              0.5555555555555556,
              "#d8576b"
             ],
             [
              0.6666666666666666,
              "#ed7953"
             ],
             [
              0.7777777777777778,
              "#fb9f3a"
             ],
             [
              0.8888888888888888,
              "#fdca26"
             ],
             [
              1,
              "#f0f921"
             ]
            ],
            "type": "heatmapgl"
           }
          ],
          "histogram": [
           {
            "marker": {
             "pattern": {
              "fillmode": "overlay",
              "size": 10,
              "solidity": 0.2
             }
            },
            "type": "histogram"
           }
          ],
          "histogram2d": [
           {
            "colorbar": {
             "outlinewidth": 0,
             "ticks": ""
            },
            "colorscale": [
             [
              0,
              "#0d0887"
             ],
             [
              0.1111111111111111,
              "#46039f"
             ],
             [
              0.2222222222222222,
              "#7201a8"
             ],
             [
              0.3333333333333333,
              "#9c179e"
             ],
             [
              0.4444444444444444,
              "#bd3786"
             ],
             [
              0.5555555555555556,
              "#d8576b"
             ],
             [
              0.6666666666666666,
              "#ed7953"
             ],
             [
              0.7777777777777778,
              "#fb9f3a"
             ],
             [
              0.8888888888888888,
              "#fdca26"
             ],
             [
              1,
              "#f0f921"
             ]
            ],
            "type": "histogram2d"
           }
          ],
          "histogram2dcontour": [
           {
            "colorbar": {
             "outlinewidth": 0,
             "ticks": ""
            },
            "colorscale": [
             [
              0,
              "#0d0887"
             ],
             [
              0.1111111111111111,
              "#46039f"
             ],
             [
              0.2222222222222222,
              "#7201a8"
             ],
             [
              0.3333333333333333,
              "#9c179e"
             ],
             [
              0.4444444444444444,
              "#bd3786"
             ],
             [
              0.5555555555555556,
              "#d8576b"
             ],
             [
              0.6666666666666666,
              "#ed7953"
             ],
             [
              0.7777777777777778,
              "#fb9f3a"
             ],
             [
              0.8888888888888888,
              "#fdca26"
             ],
             [
              1,
              "#f0f921"
             ]
            ],
            "type": "histogram2dcontour"
           }
          ],
          "mesh3d": [
           {
            "colorbar": {
             "outlinewidth": 0,
             "ticks": ""
            },
            "type": "mesh3d"
           }
          ],
          "parcoords": [
           {
            "line": {
             "colorbar": {
              "outlinewidth": 0,
              "ticks": ""
             }
            },
            "type": "parcoords"
           }
          ],
          "pie": [
           {
            "automargin": true,
            "type": "pie"
           }
          ],
          "scatter": [
           {
            "fillpattern": {
             "fillmode": "overlay",
             "size": 10,
             "solidity": 0.2
            },
            "type": "scatter"
           }
          ],
          "scatter3d": [
           {
            "line": {
             "colorbar": {
              "outlinewidth": 0,
              "ticks": ""
             }
            },
            "marker": {
             "colorbar": {
              "outlinewidth": 0,
              "ticks": ""
             }
            },
            "type": "scatter3d"
           }
          ],
          "scattercarpet": [
           {
            "marker": {
             "colorbar": {
              "outlinewidth": 0,
              "ticks": ""
             }
            },
            "type": "scattercarpet"
           }
          ],
          "scattergeo": [
           {
            "marker": {
             "colorbar": {
              "outlinewidth": 0,
              "ticks": ""
             }
            },
            "type": "scattergeo"
           }
          ],
          "scattergl": [
           {
            "marker": {
             "colorbar": {
              "outlinewidth": 0,
              "ticks": ""
             }
            },
            "type": "scattergl"
           }
          ],
          "scattermapbox": [
           {
            "marker": {
             "colorbar": {
              "outlinewidth": 0,
              "ticks": ""
             }
            },
            "type": "scattermapbox"
           }
          ],
          "scatterpolar": [
           {
            "marker": {
             "colorbar": {
              "outlinewidth": 0,
              "ticks": ""
             }
            },
            "type": "scatterpolar"
           }
          ],
          "scatterpolargl": [
           {
            "marker": {
             "colorbar": {
              "outlinewidth": 0,
              "ticks": ""
             }
            },
            "type": "scatterpolargl"
           }
          ],
          "scatterternary": [
           {
            "marker": {
             "colorbar": {
              "outlinewidth": 0,
              "ticks": ""
             }
            },
            "type": "scatterternary"
           }
          ],
          "surface": [
           {
            "colorbar": {
             "outlinewidth": 0,
             "ticks": ""
            },
            "colorscale": [
             [
              0,
              "#0d0887"
             ],
             [
              0.1111111111111111,
              "#46039f"
             ],
             [
              0.2222222222222222,
              "#7201a8"
             ],
             [
              0.3333333333333333,
              "#9c179e"
             ],
             [
              0.4444444444444444,
              "#bd3786"
             ],
             [
              0.5555555555555556,
              "#d8576b"
             ],
             [
              0.6666666666666666,
              "#ed7953"
             ],
             [
              0.7777777777777778,
              "#fb9f3a"
             ],
             [
              0.8888888888888888,
              "#fdca26"
             ],
             [
              1,
              "#f0f921"
             ]
            ],
            "type": "surface"
           }
          ],
          "table": [
           {
            "cells": {
             "fill": {
              "color": "#EBF0F8"
             },
             "line": {
              "color": "white"
             }
            },
            "header": {
             "fill": {
              "color": "#C8D4E3"
             },
             "line": {
              "color": "white"
             }
            },
            "type": "table"
           }
          ]
         },
         "layout": {
          "annotationdefaults": {
           "arrowcolor": "#2a3f5f",
           "arrowhead": 0,
           "arrowwidth": 1
          },
          "autotypenumbers": "strict",
          "coloraxis": {
           "colorbar": {
            "outlinewidth": 0,
            "ticks": ""
           }
          },
          "colorscale": {
           "diverging": [
            [
             0,
             "#8e0152"
            ],
            [
             0.1,
             "#c51b7d"
            ],
            [
             0.2,
             "#de77ae"
            ],
            [
             0.3,
             "#f1b6da"
            ],
            [
             0.4,
             "#fde0ef"
            ],
            [
             0.5,
             "#f7f7f7"
            ],
            [
             0.6,
             "#e6f5d0"
            ],
            [
             0.7,
             "#b8e186"
            ],
            [
             0.8,
             "#7fbc41"
            ],
            [
             0.9,
             "#4d9221"
            ],
            [
             1,
             "#276419"
            ]
           ],
           "sequential": [
            [
             0,
             "#0d0887"
            ],
            [
             0.1111111111111111,
             "#46039f"
            ],
            [
             0.2222222222222222,
             "#7201a8"
            ],
            [
             0.3333333333333333,
             "#9c179e"
            ],
            [
             0.4444444444444444,
             "#bd3786"
            ],
            [
             0.5555555555555556,
             "#d8576b"
            ],
            [
             0.6666666666666666,
             "#ed7953"
            ],
            [
             0.7777777777777778,
             "#fb9f3a"
            ],
            [
             0.8888888888888888,
             "#fdca26"
            ],
            [
             1,
             "#f0f921"
            ]
           ],
           "sequentialminus": [
            [
             0,
             "#0d0887"
            ],
            [
             0.1111111111111111,
             "#46039f"
            ],
            [
             0.2222222222222222,
             "#7201a8"
            ],
            [
             0.3333333333333333,
             "#9c179e"
            ],
            [
             0.4444444444444444,
             "#bd3786"
            ],
            [
             0.5555555555555556,
             "#d8576b"
            ],
            [
             0.6666666666666666,
             "#ed7953"
            ],
            [
             0.7777777777777778,
             "#fb9f3a"
            ],
            [
             0.8888888888888888,
             "#fdca26"
            ],
            [
             1,
             "#f0f921"
            ]
           ]
          },
          "colorway": [
           "#636efa",
           "#EF553B",
           "#00cc96",
           "#ab63fa",
           "#FFA15A",
           "#19d3f3",
           "#FF6692",
           "#B6E880",
           "#FF97FF",
           "#FECB52"
          ],
          "font": {
           "color": "#2a3f5f"
          },
          "geo": {
           "bgcolor": "white",
           "lakecolor": "white",
           "landcolor": "#E5ECF6",
           "showlakes": true,
           "showland": true,
           "subunitcolor": "white"
          },
          "hoverlabel": {
           "align": "left"
          },
          "hovermode": "closest",
          "mapbox": {
           "style": "light"
          },
          "paper_bgcolor": "white",
          "plot_bgcolor": "#E5ECF6",
          "polar": {
           "angularaxis": {
            "gridcolor": "white",
            "linecolor": "white",
            "ticks": ""
           },
           "bgcolor": "#E5ECF6",
           "radialaxis": {
            "gridcolor": "white",
            "linecolor": "white",
            "ticks": ""
           }
          },
          "scene": {
           "xaxis": {
            "backgroundcolor": "#E5ECF6",
            "gridcolor": "white",
            "gridwidth": 2,
            "linecolor": "white",
            "showbackground": true,
            "ticks": "",
            "zerolinecolor": "white"
           },
           "yaxis": {
            "backgroundcolor": "#E5ECF6",
            "gridcolor": "white",
            "gridwidth": 2,
            "linecolor": "white",
            "showbackground": true,
            "ticks": "",
            "zerolinecolor": "white"
           },
           "zaxis": {
            "backgroundcolor": "#E5ECF6",
            "gridcolor": "white",
            "gridwidth": 2,
            "linecolor": "white",
            "showbackground": true,
            "ticks": "",
            "zerolinecolor": "white"
           }
          },
          "shapedefaults": {
           "line": {
            "color": "#2a3f5f"
           }
          },
          "ternary": {
           "aaxis": {
            "gridcolor": "white",
            "linecolor": "white",
            "ticks": ""
           },
           "baxis": {
            "gridcolor": "white",
            "linecolor": "white",
            "ticks": ""
           },
           "bgcolor": "#E5ECF6",
           "caxis": {
            "gridcolor": "white",
            "linecolor": "white",
            "ticks": ""
           }
          },
          "title": {
           "x": 0.05
          },
          "xaxis": {
           "automargin": true,
           "gridcolor": "white",
           "linecolor": "white",
           "ticks": "",
           "title": {
            "standoff": 15
           },
           "zerolinecolor": "white",
           "zerolinewidth": 2
          },
          "yaxis": {
           "automargin": true,
           "gridcolor": "white",
           "linecolor": "white",
           "ticks": "",
           "title": {
            "standoff": 15
           },
           "zerolinecolor": "white",
           "zerolinewidth": 2
          }
         }
        },
        "title": {
         "text": "Enrollments vs Ratings by Certification Type"
        },
        "width": 1700,
        "xaxis": {
         "anchor": "y",
         "domain": [
          0,
          1
         ],
         "title": {
          "text": "Rating"
         }
        },
        "yaxis": {
         "anchor": "x",
         "domain": [
          0,
          1
         ],
         "title": {
          "text": "Enrollments"
         }
        }
       }
      }
     },
     "metadata": {},
     "output_type": "display_data"
    }
   ],
   "source": [
    "fig = px.scatter(data, x='rating', y='students_enrolled',\n",
    "                 color='certificate_type',\n",
    "                 size='students_enrolled',\n",
    "                 title='Enrollments vs Ratings by Certification Type',\n",
    "                 labels={'rating': 'Rating', 'students_enrolled': 'Enrollments'},\n",
    "                 hover_data=['title'],\n",
    "                 width=1000)\n",
    "fig.show()\n"
   ]
  },
  {
   "cell_type": "markdown",
   "metadata": {},
   "source": [
    "Overall we see a positive correlation between `course_rating` and `course_students_enrolled`. Higher-rated courses (closer to 5 on the x-axis) tend to have more enrollments, as represented by larger bubble sizes and higher y-axis values.\n",
    "\n",
    "- The largest bubbles in terms of enrollment size and ratings correspond to `COURSE` certification types. This suggests that `COURSE` programs tend to draw more students, possibly due to their comprehensive nature and perceived value.\n",
    "\n",
    "A significant number of individual Courses with high ratings (closer to 5) show medium-to-high enrollments. This indicates that courses with better ratings may have broader appeal and attract more students.\n",
    "\n",
    "- The Professional Certificate certification type occupies a relatively smaller share, with ratings clustered between 4.6 and 4.9 and enrollments appearing below moderate. These certificates might cater to a small niche audience.\n",
    "\n",
    "As with most online courses, there is a visible trend where courses with higher ratings generally attract more enrollments. However, there are a few exceptions where courses with lower ratings still manage to have significant enrollments.\n",
    "\n",
    "- A large proportion of certification types are clustered around ratings of 4.4 to 5, suggesting that most offerings are positively rated, regardless of certification type.\n",
    "\n",
    "There are clear outliers (with enrollments exceeding 3 million), and most of these are associated with `COURSE`, suggesting that these programs have mass appeal.\n",
    "***\n",
    "### 6. Which topics or keywords in course titles are associated with the highest ratings or most enrollments?"
   ]
  },
  {
   "cell_type": "code",
   "execution_count": 29,
   "metadata": {},
   "outputs": [
    {
     "name": "stderr",
     "output_type": "stream",
     "text": [
      "[nltk_data] Error loading stopwords: <urlopen error [Errno 11001]\n",
      "[nltk_data]     getaddrinfo failed>\n"
     ]
    },
    {
     "data": {
      "image/png": "[encoded data removed]",
      "text/plain": [
       "<Figure size 1000x600 with 1 Axes>"
      ]
     },
     "metadata": {},
     "output_type": "display_data"
    }
   ],
   "source": [
    "nltk.download('stopwords')\n",
    "\n",
    "stop_words = set(stopwords.words('english'))\n",
    "words = [word for title in data['title'] for word in title.lower().split() if word not in stop_words]\n",
    "words = [re.sub(r'[^a-zA-Z\\s]', '', word) for word in words]\n",
    "word_counts = Counter(words).most_common(20)\n",
    "\n",
    "word_data = pd.DataFrame(word_counts, columns=['Keyword', 'Frequency'])\n",
    "\n",
    "plt.figure(figsize=(10, 6))\n",
    "sns.barplot(x='Frequency', y='Keyword', data=word_data[1:], palette=\"plasma\")\n",
    "plt.title(\"Top 20 Keywords in Course Titles\", fontsize=14, fontweight='bold')\n",
    "plt.xlabel(\"Frequency\", fontsize=12)\n",
    "plt.ylabel(\"Keyword\", fontsize=12)\n",
    "plt.tight_layout()\n",
    "plt.show()\n"
   ]
  },
  {
   "cell_type": "markdown",
   "metadata": {},
   "source": [
    "- `Introduction` is the most frequent keyword, indicating that introductory or beginner-level courses dominate. This could suggest that many learners are new to specific fields and prefer starting with foundational courses.\n",
    "\n",
    "- Keywords like `data,` `management,` `science,` `business,` `learning,` and `python` highlight a strong interest in data-related fields, business skills, and technology.\n",
    "\n",
    "- The prominence of keywords such as `data,` `python,` `machine,` `cloud,` and `development` suggests a high demand for courses related to programming, machine learning, cloud computing, and software development.\n",
    "\n",
    "- Terms like `management,` `strategy,` and `fundamentals` show that learners are also interested in building general or business-related skills beyond technical expertise.\n",
    "\n",
    "- The presence of keywords such as `health` and `design` indicates growing interest in healthcare-related fields and creative design disciplines.\n",
    "\n",
    "***\n"
   ]
  },
  {
   "cell_type": "markdown",
   "metadata": {},
   "source": [
    "## Conclusion\n",
    "\n",
    "1. Beginner-level courses dominate in both quantity and enrollment, reflecting a strong demand for accessible entry-level content. Professional Certificate programs also attract significant enrollments, suggesting that career-oriented courses with tangible outcomes (certifications) are highly valued by learners.\n",
    "\n",
    "2. Courses with higher ratings tend to attract more enrollments, highlighting the importance of course quality in driving engagement. This suggests that learners heavily rely on ratings as an indicator of course value.\n",
    "\n",
    "3. Keywords like \"data,\" \"python,\" \"machine learning,\" \"management,\" and \"strategy\" are associated with the highest enrollments and ratings. This underscores a strong learner interest in technical and business-related skills for professional growth.\n",
    "\n",
    "4. While multiple organizations provide high-quality courses, organizations with a strong brand, such as Stanford University, achieve higher enrollments. This indicates that learners often gravitate toward well-known providers when selecting courses."
   ]
  },
  {
   "cell_type": "markdown",
   "metadata": {},
   "source": [
    "## Improvements\n",
    "1. With more data points and features we can do more in-dept analysis.\n",
    "\n",
    "2. Conduct further analysis on courses with extremely high enrollments or ratings to identify specific factors driving their success, such as marketing strategies, content quality, or instructor reputation.\n",
    "\n",
    "3. Investigate how ratings and enrollments evolve over time to identify trends and patterns, such as the effect of marketing campaigns or seasonal shifts in learning interests.\n",
    "\n",
    "4. Analyze enrollments and ratings at a more granular level based on specific course topics or industries to identify niche areas with untapped potential for growth.\n",
    "\n",
    "5. Incorporate learner reviews and feedback (if available) to better understand how qualitative factors, like course delivery or content clarity, influence ratings and enrollments."
   ]
  }
 ],
 "metadata": {
  "kernelspec": {
   "display_name": "base",
   "language": "python",
   "name": "python3"
  },
  "language_info": {
   "codemirror_mode": {
    "name": "ipython",
    "version": 3
   },
   "file_extension": ".py",
   "mimetype": "text/x-python",
   "name": "python",
   "nbconvert_exporter": "python",
   "pygments_lexer": "ipython3",
   "version": "3.9.13"
  }
 },
 "nbformat": 4,
 "nbformat_minor": 2
}
